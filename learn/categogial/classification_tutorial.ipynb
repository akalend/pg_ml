{
 "cells": [
  {
   "cell_type": "markdown",
   "metadata": {},
   "source": [
    "# Solving classification problems with CatBoost"
   ]
  },
  {
   "cell_type": "markdown",
   "metadata": {},
   "source": [
    "[![Open In Colab](https://colab.research.google.com/assets/colab-badge.svg)](https://colab.research.google.com/github/catboost/tutorials/blob/master/classification/classification_tutorial.ipynb)\n",
    "\n",
    "In this tutorial we will use dataset Amazon Employee Access Challenge from [Kaggle](https://www.kaggle.com) competition for our experiments. Data can be downloaded [here](https://www.kaggle.com/c/amazon-employee-access-challenge/data)."
   ]
  },
  {
   "cell_type": "markdown",
   "metadata": {},
   "source": [
    "## Libraries installation"
   ]
  },
  {
   "cell_type": "code",
   "execution_count": 1,
   "metadata": {},
   "outputs": [],
   "source": [
    "#!pip install --user --upgrade catboost\n",
    "#!pip install --user --upgrade ipywidgets\n",
    "#!pip install shap\n",
    "#!pip install sklearn\n",
    "#!pip install --upgrade numpy\n",
    "#!jupyter nbextension enable --py widgetsnbextension"
   ]
  },
  {
   "cell_type": "code",
   "execution_count": 1,
   "metadata": {},
   "outputs": [
    {
     "name": "stdout",
     "output_type": "stream",
     "text": [
      "1.2\n",
      "Python 3.10.9\r\n"
     ]
    }
   ],
   "source": [
    "import catboost\n",
    "print(catboost.__version__)\n",
    "!python --version"
   ]
  },
  {
   "cell_type": "markdown",
   "metadata": {},
   "source": [
    "## Reading the data"
   ]
  },
  {
   "cell_type": "code",
   "execution_count": 2,
   "metadata": {},
   "outputs": [],
   "source": [
    "import pandas as pd\n",
    "import os\n",
    "import numpy as np\n",
    "np.set_printoptions(precision=4)\n",
    "import catboost\n",
    "from catboost import *\n",
    "from catboost import datasets"
   ]
  },
  {
   "cell_type": "code",
   "execution_count": 3,
   "metadata": {},
   "outputs": [],
   "source": [
    "(train_df, test_df) = catboost.datasets.amazon()"
   ]
  },
  {
   "cell_type": "code",
   "execution_count": 4,
   "metadata": {},
   "outputs": [
    {
     "data": {
      "text/html": [
       "<div>\n",
       "<style scoped>\n",
       "    .dataframe tbody tr th:only-of-type {\n",
       "        vertical-align: middle;\n",
       "    }\n",
       "\n",
       "    .dataframe tbody tr th {\n",
       "        vertical-align: top;\n",
       "    }\n",
       "\n",
       "    .dataframe thead th {\n",
       "        text-align: right;\n",
       "    }\n",
       "</style>\n",
       "<table border=\"1\" class=\"dataframe\">\n",
       "  <thead>\n",
       "    <tr style=\"text-align: right;\">\n",
       "      <th></th>\n",
       "      <th>ACTION</th>\n",
       "      <th>RESOURCE</th>\n",
       "      <th>MGR_ID</th>\n",
       "      <th>ROLE_ROLLUP_1</th>\n",
       "      <th>ROLE_ROLLUP_2</th>\n",
       "      <th>ROLE_DEPTNAME</th>\n",
       "      <th>ROLE_TITLE</th>\n",
       "      <th>ROLE_FAMILY_DESC</th>\n",
       "      <th>ROLE_FAMILY</th>\n",
       "      <th>ROLE_CODE</th>\n",
       "    </tr>\n",
       "  </thead>\n",
       "  <tbody>\n",
       "    <tr>\n",
       "      <th>0</th>\n",
       "      <td>1</td>\n",
       "      <td>39353</td>\n",
       "      <td>85475</td>\n",
       "      <td>117961</td>\n",
       "      <td>118300</td>\n",
       "      <td>123472</td>\n",
       "      <td>117905</td>\n",
       "      <td>117906</td>\n",
       "      <td>290919</td>\n",
       "      <td>117908</td>\n",
       "    </tr>\n",
       "    <tr>\n",
       "      <th>1</th>\n",
       "      <td>1</td>\n",
       "      <td>17183</td>\n",
       "      <td>1540</td>\n",
       "      <td>117961</td>\n",
       "      <td>118343</td>\n",
       "      <td>123125</td>\n",
       "      <td>118536</td>\n",
       "      <td>118536</td>\n",
       "      <td>308574</td>\n",
       "      <td>118539</td>\n",
       "    </tr>\n",
       "    <tr>\n",
       "      <th>2</th>\n",
       "      <td>1</td>\n",
       "      <td>36724</td>\n",
       "      <td>14457</td>\n",
       "      <td>118219</td>\n",
       "      <td>118220</td>\n",
       "      <td>117884</td>\n",
       "      <td>117879</td>\n",
       "      <td>267952</td>\n",
       "      <td>19721</td>\n",
       "      <td>117880</td>\n",
       "    </tr>\n",
       "    <tr>\n",
       "      <th>3</th>\n",
       "      <td>1</td>\n",
       "      <td>36135</td>\n",
       "      <td>5396</td>\n",
       "      <td>117961</td>\n",
       "      <td>118343</td>\n",
       "      <td>119993</td>\n",
       "      <td>118321</td>\n",
       "      <td>240983</td>\n",
       "      <td>290919</td>\n",
       "      <td>118322</td>\n",
       "    </tr>\n",
       "    <tr>\n",
       "      <th>4</th>\n",
       "      <td>1</td>\n",
       "      <td>42680</td>\n",
       "      <td>5905</td>\n",
       "      <td>117929</td>\n",
       "      <td>117930</td>\n",
       "      <td>119569</td>\n",
       "      <td>119323</td>\n",
       "      <td>123932</td>\n",
       "      <td>19793</td>\n",
       "      <td>119325</td>\n",
       "    </tr>\n",
       "  </tbody>\n",
       "</table>\n",
       "</div>"
      ],
      "text/plain": [
       "   ACTION  RESOURCE  MGR_ID  ROLE_ROLLUP_1  ROLE_ROLLUP_2  ROLE_DEPTNAME  \\\n",
       "0       1     39353   85475         117961         118300         123472   \n",
       "1       1     17183    1540         117961         118343         123125   \n",
       "2       1     36724   14457         118219         118220         117884   \n",
       "3       1     36135    5396         117961         118343         119993   \n",
       "4       1     42680    5905         117929         117930         119569   \n",
       "\n",
       "   ROLE_TITLE  ROLE_FAMILY_DESC  ROLE_FAMILY  ROLE_CODE  \n",
       "0      117905            117906       290919     117908  \n",
       "1      118536            118536       308574     118539  \n",
       "2      117879            267952        19721     117880  \n",
       "3      118321            240983       290919     118322  \n",
       "4      119323            123932        19793     119325  "
      ]
     },
     "execution_count": 4,
     "metadata": {},
     "output_type": "execute_result"
    }
   ],
   "source": [
    "train_df.head()"
   ]
  },
  {
   "cell_type": "markdown",
   "metadata": {},
   "source": [
    "## Preparing your data"
   ]
  },
  {
   "cell_type": "markdown",
   "metadata": {},
   "source": [
    "Label values extraction"
   ]
  },
  {
   "cell_type": "code",
   "execution_count": 5,
   "metadata": {},
   "outputs": [],
   "source": [
    "y = train_df.ACTION\n",
    "X = train_df.drop('ACTION', axis=1)"
   ]
  },
  {
   "cell_type": "markdown",
   "metadata": {},
   "source": [
    "Categorical features declaration"
   ]
  },
  {
   "cell_type": "code",
   "execution_count": 6,
   "metadata": {},
   "outputs": [
    {
     "name": "stdout",
     "output_type": "stream",
     "text": [
      "[0, 1, 2, 3, 4, 5, 6, 7, 8]\n"
     ]
    }
   ],
   "source": [
    "cat_features = list(range(0, X.shape[1]))\n",
    "print(cat_features)"
   ]
  },
  {
   "cell_type": "markdown",
   "metadata": {},
   "source": [
    "Looking on label balance in dataset"
   ]
  },
  {
   "cell_type": "code",
   "execution_count": 7,
   "metadata": {},
   "outputs": [
    {
     "name": "stdout",
     "output_type": "stream",
     "text": [
      "Labels: {0, 1}\n",
      "Zero count = 1897, One count = 30872\n"
     ]
    }
   ],
   "source": [
    "print('Labels: {}'.format(set(y)))\n",
    "print('Zero count = {}, One count = {}'.format(len(y) - sum(y), sum(y)))"
   ]
  },
  {
   "cell_type": "markdown",
   "metadata": {},
   "source": [
    "Ways to create Pool class"
   ]
  },
  {
   "cell_type": "code",
   "execution_count": 8,
   "metadata": {},
   "outputs": [],
   "source": [
    "dataset_dir = './amazon'\n",
    "if not os.path.exists(dataset_dir):\n",
    "    os.makedirs(dataset_dir)\n",
    "\n",
    "# We will be able to work with files with/without header and\n",
    "# with different separators.\n",
    "train_df.to_csv(\n",
    "    os.path.join(dataset_dir, 'train.tsv'),\n",
    "    index=False, sep='\\t', header=False\n",
    ")\n",
    "test_df.to_csv(\n",
    "    os.path.join(dataset_dir, 'test.tsv'),\n",
    "    index=False, sep='\\t', header=False\n",
    ")\n",
    "\n",
    "train_df.to_csv(\n",
    "    os.path.join(dataset_dir, 'train.csv'),\n",
    "    index=False, sep=',', header=True\n",
    ")\n",
    "test_df.to_csv(\n",
    "    os.path.join(dataset_dir, 'test.csv'),\n",
    "    index=False, sep=',', header=True\n",
    ")"
   ]
  },
  {
   "cell_type": "code",
   "execution_count": 9,
   "metadata": {},
   "outputs": [
    {
     "name": "stdout",
     "output_type": "stream",
     "text": [
      "ACTION,RESOURCE,MGR_ID,ROLE_ROLLUP_1,ROLE_ROLLUP_2,ROLE_DEPTNAME,ROLE_TITLE,ROLE_FAMILY_DESC,ROLE_FAMILY,ROLE_CODE\r\n",
      "1,39353,85475,117961,118300,123472,117905,117906,290919,117908\r\n",
      "1,17183,1540,117961,118343,123125,118536,118536,308574,118539\r\n",
      "1,36724,14457,118219,118220,117884,117879,267952,19721,117880\r\n",
      "1,36135,5396,117961,118343,119993,118321,240983,290919,118322\r\n",
      "1,42680,5905,117929,117930,119569,119323,123932,19793,119325\r\n",
      "0,45333,14561,117951,117952,118008,118568,118568,19721,118570\r\n",
      "1,25993,17227,117961,118343,123476,118980,301534,118295,118982\r\n",
      "1,19666,4209,117961,117969,118910,126820,269034,118638,126822\r\n",
      "1,31246,783,117961,118413,120584,128230,302830,4673,128231\r\n"
     ]
    }
   ],
   "source": [
    "!head amazon/train.csv"
   ]
  },
  {
   "cell_type": "code",
   "execution_count": 10,
   "metadata": {},
   "outputs": [],
   "source": [
    "from catboost.utils import create_cd\n",
    "feature_names = dict()\n",
    "for column, name in enumerate(train_df):\n",
    "    if column == 0:\n",
    "        continue\n",
    "    feature_names[column] = name\n",
    "    \n",
    "create_cd(\n",
    "    label=0, \n",
    "    cat_features=list(range(1, train_df.columns.shape[0])),\n",
    "    feature_names=feature_names,\n",
    "    output_path=os.path.join(dataset_dir, 'train.cd')\n",
    ")"
   ]
  },
  {
   "cell_type": "code",
   "execution_count": 11,
   "metadata": {},
   "outputs": [
    {
     "name": "stdout",
     "output_type": "stream",
     "text": [
      "0\tLabel\t\r\n",
      "1\tCateg\tRESOURCE\r\n",
      "2\tCateg\tMGR_ID\r\n",
      "3\tCateg\tROLE_ROLLUP_1\r\n",
      "4\tCateg\tROLE_ROLLUP_2\r\n",
      "5\tCateg\tROLE_DEPTNAME\r\n",
      "6\tCateg\tROLE_TITLE\r\n",
      "7\tCateg\tROLE_FAMILY_DESC\r\n",
      "8\tCateg\tROLE_FAMILY\r\n",
      "9\tCateg\tROLE_CODE\r\n"
     ]
    }
   ],
   "source": [
    "!cat amazon/train.cd"
   ]
  },
  {
   "cell_type": "code",
   "execution_count": 12,
   "metadata": {},
   "outputs": [
    {
     "name": "stdout",
     "output_type": "stream",
     "text": [
      "Dataset shape\n",
      "dataset 1:(32769, 9)\n",
      "dataset 2:(32769, 9)\n",
      "dataset 3:(32769, 9)\n",
      "dataset 4: (32769, 9)\n",
      "\n",
      "\n",
      "Column names\n",
      "dataset 1:\n",
      "['RESOURCE', 'MGR_ID', 'ROLE_ROLLUP_1', 'ROLE_ROLLUP_2', 'ROLE_DEPTNAME', 'ROLE_TITLE', 'ROLE_FAMILY_DESC', 'ROLE_FAMILY', 'ROLE_CODE']\n",
      "\n",
      "dataset 2:\n",
      "['RESOURCE', 'MGR_ID', 'ROLE_ROLLUP_1', 'ROLE_ROLLUP_2', 'ROLE_DEPTNAME', 'ROLE_TITLE', 'ROLE_FAMILY_DESC', 'ROLE_FAMILY', 'ROLE_CODE']\n",
      "\n",
      "dataset 3:\n",
      "['RESOURCE', 'MGR_ID', 'ROLE_ROLLUP_1', 'ROLE_ROLLUP_2', 'ROLE_DEPTNAME', 'ROLE_TITLE', 'ROLE_FAMILY_DESC', 'ROLE_FAMILY', 'ROLE_CODE']\n",
      "\n",
      "dataset 4:\n",
      "['RESOURCE', 'MGR_ID', 'ROLE_ROLLUP_1', 'ROLE_ROLLUP_2', 'ROLE_DEPTNAME', 'ROLE_TITLE', 'ROLE_FAMILY_DESC', 'ROLE_FAMILY', 'ROLE_CODE']\n"
     ]
    }
   ],
   "source": [
    "pool1 = Pool(data=X, label=y, cat_features=cat_features)\n",
    "pool2 = Pool(\n",
    "    data=os.path.join(dataset_dir, 'train.csv'), \n",
    "    delimiter=',', \n",
    "    column_description=os.path.join(dataset_dir, 'train.cd'),\n",
    "    has_header=True\n",
    ")\n",
    "pool3 = Pool(data=X, cat_features=cat_features)\n",
    "\n",
    "# Fastest way to create a Pool is to create it from numpy matrix.\n",
    "# This way should be used if you want fast predictions\n",
    "# or fastest way to load the data in python.\n",
    "\n",
    "X_prepared = X.values.astype(str).astype(object)\n",
    "# For FeaturesData class categorial features must have type str\n",
    "\n",
    "pool4 = Pool(\n",
    "    data=FeaturesData(\n",
    "        cat_feature_data=X_prepared,\n",
    "        cat_feature_names=list(X)\n",
    "    ),\n",
    "    label=y.values\n",
    ")\n",
    "\n",
    "print('Dataset shape')\n",
    "print('dataset 1:' + str(pool1.shape) +\n",
    "      '\\ndataset 2:' + str(pool2.shape) + \n",
    "      '\\ndataset 3:' + str(pool3.shape) +\n",
    "      '\\ndataset 4: ' + str(pool4.shape))\n",
    "\n",
    "print('\\n')\n",
    "print('Column names')\n",
    "print('dataset 1:')\n",
    "print(pool1.get_feature_names()) \n",
    "print('\\ndataset 2:')\n",
    "print(pool2.get_feature_names())\n",
    "print('\\ndataset 3:')\n",
    "print(pool3.get_feature_names())\n",
    "print('\\ndataset 4:')\n",
    "print(pool4.get_feature_names())"
   ]
  },
  {
   "cell_type": "markdown",
   "metadata": {},
   "source": [
    "## Split your data into train and validation"
   ]
  },
  {
   "cell_type": "code",
   "execution_count": 13,
   "metadata": {},
   "outputs": [],
   "source": [
    "from sklearn.model_selection import train_test_split\n",
    "X_train, X_validation, y_train, y_validation = train_test_split(X, y, train_size=0.8, random_state=1234)"
   ]
  },
  {
   "cell_type": "markdown",
   "metadata": {},
   "source": [
    "## Selecting the objective function"
   ]
  },
  {
   "cell_type": "markdown",
   "metadata": {},
   "source": [
    "Possible options for binary classification:\n",
    "\n",
    "`Logloss`\n",
    "\n",
    "`CrossEntropy` for probabilities in target"
   ]
  },
  {
   "cell_type": "code",
   "execution_count": 14,
   "metadata": {},
   "outputs": [
    {
     "name": "stdout",
     "output_type": "stream",
     "text": [
      "Model is fitted: True\n",
      "Model params:\n",
      "{'iterations': 5, 'learning_rate': 0.1}\n"
     ]
    }
   ],
   "source": [
    "from catboost import CatBoostClassifier\n",
    "model = CatBoostClassifier(\n",
    "    iterations=5,\n",
    "    learning_rate=0.1,\n",
    "    # loss_function='CrossEntropy'\n",
    ")\n",
    "model.fit(\n",
    "    X_train, y_train,\n",
    "    cat_features=cat_features,\n",
    "    eval_set=(X_validation, y_validation),\n",
    "    verbose=False\n",
    ")\n",
    "print('Model is fitted: ' + str(model.is_fitted()))\n",
    "print('Model params:')\n",
    "print(model.get_params())"
   ]
  },
  {
   "cell_type": "markdown",
   "metadata": {},
   "source": [
    "## Stdout of the training"
   ]
  },
  {
   "cell_type": "code",
   "execution_count": 15,
   "metadata": {
    "scrolled": false
   },
   "outputs": [
    {
     "name": "stdout",
     "output_type": "stream",
     "text": [
      "Learning rate set to 0.441257\n",
      "0:\tlearn: 0.4220777\ttest: 0.4223741\tbest: 0.4223741 (0)\ttotal: 15.3ms\tremaining: 214ms\n",
      "1:\tlearn: 0.3149660\ttest: 0.3151186\tbest: 0.3151186 (1)\ttotal: 37ms\tremaining: 241ms\n",
      "2:\tlearn: 0.2621494\ttest: 0.2629766\tbest: 0.2629766 (2)\ttotal: 49.2ms\tremaining: 197ms\n",
      "3:\tlearn: 0.2302316\ttest: 0.2302315\tbest: 0.2302315 (3)\ttotal: 73.8ms\tremaining: 203ms\n",
      "4:\tlearn: 0.2060274\ttest: 0.2019603\tbest: 0.2019603 (4)\ttotal: 88.4ms\tremaining: 177ms\n",
      "5:\tlearn: 0.1956107\ttest: 0.1894627\tbest: 0.1894627 (5)\ttotal: 97.4ms\tremaining: 146ms\n",
      "6:\tlearn: 0.1870345\ttest: 0.1790904\tbest: 0.1790904 (6)\ttotal: 110ms\tremaining: 126ms\n",
      "7:\tlearn: 0.1836943\ttest: 0.1748030\tbest: 0.1748030 (7)\ttotal: 120ms\tremaining: 105ms\n",
      "8:\tlearn: 0.1807119\ttest: 0.1707896\tbest: 0.1707896 (8)\ttotal: 136ms\tremaining: 90.4ms\n",
      "9:\tlearn: 0.1775777\ttest: 0.1662489\tbest: 0.1662489 (9)\ttotal: 149ms\tremaining: 74.4ms\n",
      "10:\tlearn: 0.1762130\ttest: 0.1654446\tbest: 0.1654446 (10)\ttotal: 170ms\tremaining: 61.7ms\n",
      "11:\tlearn: 0.1760650\ttest: 0.1653191\tbest: 0.1653191 (11)\ttotal: 175ms\tremaining: 43.8ms\n",
      "12:\tlearn: 0.1748232\ttest: 0.1642093\tbest: 0.1642093 (12)\ttotal: 192ms\tremaining: 29.5ms\n",
      "13:\tlearn: 0.1742028\ttest: 0.1638902\tbest: 0.1638902 (13)\ttotal: 209ms\tremaining: 14.9ms\n",
      "14:\tlearn: 0.1733966\ttest: 0.1627237\tbest: 0.1627237 (14)\ttotal: 224ms\tremaining: 0us\n",
      "\n",
      "bestTest = 0.162723674\n",
      "bestIteration = 14\n",
      "\n"
     ]
    },
    {
     "data": {
      "text/plain": [
       "<catboost.core.CatBoostClassifier at 0x7f4c167dead0>"
      ]
     },
     "execution_count": 15,
     "metadata": {},
     "output_type": "execute_result"
    }
   ],
   "source": [
    "from catboost import CatBoostClassifier\n",
    "model = CatBoostClassifier(\n",
    "    iterations=15,\n",
    "#     verbose=5,\n",
    ")\n",
    "model.fit(\n",
    "    X_train, y_train,\n",
    "    cat_features=cat_features,\n",
    "    eval_set=(X_validation, y_validation),\n",
    ")"
   ]
  },
  {
   "cell_type": "markdown",
   "metadata": {},
   "source": [
    "## Metrics calculation and graph plotting"
   ]
  },
  {
   "cell_type": "code",
   "execution_count": 16,
   "metadata": {},
   "outputs": [
    {
     "data": {
      "application/vnd.jupyter.widget-view+json": {
       "model_id": "2bc5fc17c17944a7a7e87f150b655af7",
       "version_major": 2,
       "version_minor": 0
      },
      "text/plain": [
       "MetricVisualizer(layout=Layout(align_self='stretch', height='500px'))"
      ]
     },
     "metadata": {},
     "output_type": "display_data"
    },
    {
     "data": {
      "text/plain": [
       "<catboost.core.CatBoostClassifier at 0x7f4bda627d00>"
      ]
     },
     "execution_count": 16,
     "metadata": {},
     "output_type": "execute_result"
    }
   ],
   "source": [
    "from catboost import CatBoostClassifier\n",
    "model = CatBoostClassifier(\n",
    "    iterations=50,\n",
    "    random_seed=63,\n",
    "    learning_rate=0.5,\n",
    "    custom_loss=['AUC', 'Accuracy']\n",
    ")\n",
    "model.fit(\n",
    "    X_train, y_train,\n",
    "    cat_features=cat_features,\n",
    "    eval_set=(X_validation, y_validation),\n",
    "    verbose=False,\n",
    "    plot=True\n",
    ")"
   ]
  },
  {
   "cell_type": "markdown",
   "metadata": {},
   "source": [
    "## Model comparison"
   ]
  },
  {
   "cell_type": "code",
   "execution_count": 17,
   "metadata": {},
   "outputs": [
    {
     "data": {
      "text/plain": [
       "<catboost.core.CatBoostClassifier at 0x7f4bda627dc0>"
      ]
     },
     "execution_count": 17,
     "metadata": {},
     "output_type": "execute_result"
    }
   ],
   "source": [
    "model1 = CatBoostClassifier(\n",
    "    learning_rate=0.7,\n",
    "    iterations=100,\n",
    "    random_seed=0,\n",
    "    train_dir='learing_rate_0.7'\n",
    ")\n",
    "\n",
    "model2 = CatBoostClassifier(\n",
    "    learning_rate=0.01,\n",
    "    iterations=100,\n",
    "    random_seed=0,\n",
    "    train_dir='learing_rate_0.01'\n",
    ")\n",
    "model1.fit(\n",
    "    X_train, y_train,\n",
    "    eval_set=(X_validation, y_validation),\n",
    "    cat_features=cat_features,\n",
    "    verbose=False\n",
    ")\n",
    "model2.fit(\n",
    "    X_train, y_train,\n",
    "    eval_set=(X_validation, y_validation),\n",
    "    cat_features=cat_features,\n",
    "    verbose=False\n",
    ")"
   ]
  },
  {
   "cell_type": "code",
   "execution_count": 18,
   "metadata": {},
   "outputs": [
    {
     "data": {
      "application/vnd.jupyter.widget-view+json": {
       "model_id": "3f512ccddf0d4ab198815399ad5583dc",
       "version_major": 2,
       "version_minor": 0
      },
      "text/plain": [
       "MetricVisualizer(layout=Layout(align_self='stretch', height='500px'))"
      ]
     },
     "metadata": {},
     "output_type": "display_data"
    }
   ],
   "source": [
    "from catboost import MetricVisualizer\n",
    "MetricVisualizer(['learing_rate_0.01', 'learing_rate_0.7']).start()"
   ]
  },
  {
   "cell_type": "markdown",
   "metadata": {},
   "source": [
    "## Best iteration"
   ]
  },
  {
   "cell_type": "code",
   "execution_count": 19,
   "metadata": {},
   "outputs": [
    {
     "data": {
      "application/vnd.jupyter.widget-view+json": {
       "model_id": "02aae0e801eb4a40a11c0e30d52a16b2",
       "version_major": 2,
       "version_minor": 0
      },
      "text/plain": [
       "MetricVisualizer(layout=Layout(align_self='stretch', height='500px'))"
      ]
     },
     "metadata": {},
     "output_type": "display_data"
    },
    {
     "data": {
      "text/plain": [
       "<catboost.core.CatBoostClassifier at 0x7f4bda627550>"
      ]
     },
     "execution_count": 19,
     "metadata": {},
     "output_type": "execute_result"
    }
   ],
   "source": [
    "from catboost import CatBoostClassifier\n",
    "model = CatBoostClassifier(\n",
    "    iterations=100,\n",
    "    random_seed=63,\n",
    "    learning_rate=0.5,\n",
    "#     use_best_model=False\n",
    ")\n",
    "model.fit(\n",
    "    X_train, y_train,\n",
    "    cat_features=cat_features,\n",
    "    eval_set=(X_validation, y_validation),\n",
    "    verbose=False,\n",
    "    plot=True\n",
    ")"
   ]
  },
  {
   "cell_type": "code",
   "execution_count": 20,
   "metadata": {},
   "outputs": [
    {
     "name": "stdout",
     "output_type": "stream",
     "text": [
      "Tree count: 82\n"
     ]
    }
   ],
   "source": [
    "print('Tree count: ' + str(model.tree_count_))"
   ]
  },
  {
   "cell_type": "markdown",
   "metadata": {},
   "source": [
    "## Cross-validation"
   ]
  },
  {
   "cell_type": "code",
   "execution_count": 21,
   "metadata": {},
   "outputs": [
    {
     "data": {
      "application/vnd.jupyter.widget-view+json": {
       "model_id": "62a462df2b444828a2ec7d8f159d7e1c",
       "version_major": 2,
       "version_minor": 0
      },
      "text/plain": [
       "MetricVisualizer(layout=Layout(align_self='stretch', height='500px'))"
      ]
     },
     "metadata": {},
     "output_type": "display_data"
    },
    {
     "name": "stdout",
     "output_type": "stream",
     "text": [
      "Training on fold [0/5]\n",
      "\n",
      "bestTest = 0.1695893693\n",
      "bestIteration = 38\n",
      "\n",
      "Training on fold [1/5]\n",
      "\n",
      "bestTest = 0.164632916\n",
      "bestIteration = 48\n",
      "\n",
      "Training on fold [2/5]\n",
      "\n",
      "bestTest = 0.1515742763\n",
      "bestIteration = 60\n",
      "\n",
      "Training on fold [3/5]\n",
      "\n",
      "bestTest = 0.1426916182\n",
      "bestIteration = 78\n",
      "\n",
      "Training on fold [4/5]\n",
      "\n",
      "bestTest = 0.1563234371\n",
      "bestIteration = 37\n",
      "\n"
     ]
    }
   ],
   "source": [
    "from catboost import cv\n",
    "\n",
    "params = {}\n",
    "params['loss_function'] = 'Logloss'\n",
    "params['iterations'] = 80\n",
    "params['custom_loss'] = 'AUC'\n",
    "params['random_seed'] = 63\n",
    "params['learning_rate'] = 0.5\n",
    "\n",
    "cv_data = cv(\n",
    "    params = params,\n",
    "    pool = Pool(X, label=y, cat_features=cat_features),\n",
    "    fold_count=5,\n",
    "    shuffle=True,\n",
    "    partition_random_seed=0,\n",
    "    plot=True,\n",
    "    stratified=False,\n",
    "    verbose=False\n",
    ")"
   ]
  },
  {
   "cell_type": "code",
   "execution_count": 23,
   "metadata": {},
   "outputs": [
    {
     "data": {
      "text/html": [
       "<div>\n",
       "<style scoped>\n",
       "    .dataframe tbody tr th:only-of-type {\n",
       "        vertical-align: middle;\n",
       "    }\n",
       "\n",
       "    .dataframe tbody tr th {\n",
       "        vertical-align: top;\n",
       "    }\n",
       "\n",
       "    .dataframe thead th {\n",
       "        text-align: right;\n",
       "    }\n",
       "</style>\n",
       "<table border=\"1\" class=\"dataframe\">\n",
       "  <thead>\n",
       "    <tr style=\"text-align: right;\">\n",
       "      <th></th>\n",
       "      <th>iterations</th>\n",
       "      <th>test-Logloss-mean</th>\n",
       "      <th>test-Logloss-std</th>\n",
       "      <th>train-Logloss-mean</th>\n",
       "      <th>train-Logloss-std</th>\n",
       "      <th>test-AUC-mean</th>\n",
       "      <th>test-AUC-std</th>\n",
       "    </tr>\n",
       "  </thead>\n",
       "  <tbody>\n",
       "    <tr>\n",
       "      <th>0</th>\n",
       "      <td>0</td>\n",
       "      <td>0.302367</td>\n",
       "      <td>0.004317</td>\n",
       "      <td>0.302196</td>\n",
       "      <td>0.004517</td>\n",
       "      <td>0.513577</td>\n",
       "      <td>0.030360</td>\n",
       "    </tr>\n",
       "    <tr>\n",
       "      <th>1</th>\n",
       "      <td>1</td>\n",
       "      <td>0.227370</td>\n",
       "      <td>0.007679</td>\n",
       "      <td>0.228497</td>\n",
       "      <td>0.005126</td>\n",
       "      <td>0.642263</td>\n",
       "      <td>0.048004</td>\n",
       "    </tr>\n",
       "    <tr>\n",
       "      <th>2</th>\n",
       "      <td>2</td>\n",
       "      <td>0.190856</td>\n",
       "      <td>0.006917</td>\n",
       "      <td>0.196796</td>\n",
       "      <td>0.003999</td>\n",
       "      <td>0.791709</td>\n",
       "      <td>0.011361</td>\n",
       "    </tr>\n",
       "    <tr>\n",
       "      <th>3</th>\n",
       "      <td>3</td>\n",
       "      <td>0.178884</td>\n",
       "      <td>0.007455</td>\n",
       "      <td>0.186682</td>\n",
       "      <td>0.003242</td>\n",
       "      <td>0.813889</td>\n",
       "      <td>0.009362</td>\n",
       "    </tr>\n",
       "    <tr>\n",
       "      <th>4</th>\n",
       "      <td>4</td>\n",
       "      <td>0.172286</td>\n",
       "      <td>0.007957</td>\n",
       "      <td>0.181380</td>\n",
       "      <td>0.002135</td>\n",
       "      <td>0.826529</td>\n",
       "      <td>0.005319</td>\n",
       "    </tr>\n",
       "  </tbody>\n",
       "</table>\n",
       "</div>"
      ],
      "text/plain": [
       "   iterations  test-Logloss-mean  test-Logloss-std  train-Logloss-mean  \\\n",
       "0           0           0.302367          0.004317            0.302196   \n",
       "1           1           0.227370          0.007679            0.228497   \n",
       "2           2           0.190856          0.006917            0.196796   \n",
       "3           3           0.178884          0.007455            0.186682   \n",
       "4           4           0.172286          0.007957            0.181380   \n",
       "\n",
       "   train-Logloss-std  test-AUC-mean  test-AUC-std  \n",
       "0           0.004517       0.513577      0.030360  \n",
       "1           0.005126       0.642263      0.048004  \n",
       "2           0.003999       0.791709      0.011361  \n",
       "3           0.003242       0.813889      0.009362  \n",
       "4           0.002135       0.826529      0.005319  "
      ]
     },
     "execution_count": 23,
     "metadata": {},
     "output_type": "execute_result"
    }
   ],
   "source": [
    "cv_data.head()"
   ]
  },
  {
   "cell_type": "code",
   "execution_count": 24,
   "metadata": {},
   "outputs": [
    {
     "name": "stdout",
     "output_type": "stream",
     "text": [
      "Best validation Logloss score, not stratified: 0.1581±0.0104 on step 52\n"
     ]
    }
   ],
   "source": [
    "best_value = np.min(cv_data['test-Logloss-mean'])\n",
    "best_iter = np.argmin(cv_data['test-Logloss-mean'])\n",
    "\n",
    "print('Best validation Logloss score, not stratified: {:.4f}±{:.4f} on step {}'.format(\n",
    "    best_value,\n",
    "    cv_data['test-Logloss-std'][best_iter],\n",
    "    best_iter)\n",
    ")"
   ]
  },
  {
   "cell_type": "code",
   "execution_count": 25,
   "metadata": {},
   "outputs": [
    {
     "data": {
      "application/vnd.jupyter.widget-view+json": {
       "model_id": "2c2ef0dd1dd44ea198450ee01f46b987",
       "version_major": 2,
       "version_minor": 0
      },
      "text/plain": [
       "MetricVisualizer(layout=Layout(align_self='stretch', height='500px'))"
      ]
     },
     "metadata": {},
     "output_type": "display_data"
    },
    {
     "name": "stdout",
     "output_type": "stream",
     "text": [
      "Training on fold [0/5]\n",
      "\n",
      "bestTest = 0.1614486451\n",
      "bestIteration = 31\n",
      "\n",
      "Training on fold [1/5]\n",
      "\n",
      "bestTest = 0.1554856763\n",
      "bestIteration = 57\n",
      "\n",
      "Training on fold [2/5]\n",
      "\n",
      "bestTest = 0.1588065247\n",
      "bestIteration = 46\n",
      "\n",
      "Training on fold [3/5]\n",
      "\n",
      "bestTest = 0.1525713791\n",
      "bestIteration = 60\n",
      "\n",
      "Training on fold [4/5]\n",
      "\n",
      "bestTest = 0.1576264978\n",
      "bestIteration = 29\n",
      "\n",
      "Best validation Logloss score, stratified: 0.1579±0.0036 on step 57\n"
     ]
    }
   ],
   "source": [
    "cv_data = cv(\n",
    "    params = params,\n",
    "    pool = Pool(X, label=y, cat_features=cat_features),\n",
    "    fold_count=5,\n",
    "    type = 'Classical',\n",
    "    shuffle=True,\n",
    "    partition_random_seed=0,\n",
    "    plot=True,\n",
    "    stratified=True,\n",
    "    verbose=False\n",
    ")\n",
    "\n",
    "best_value = np.min(cv_data['test-Logloss-mean'])\n",
    "best_iter = np.argmin(cv_data['test-Logloss-mean'])\n",
    "\n",
    "print('Best validation Logloss score, stratified: {:.4f}±{:.4f} on step {}'.format(\n",
    "    best_value,\n",
    "    cv_data['test-Logloss-std'][best_iter],\n",
    "    best_iter)\n",
    ")"
   ]
  },
  {
   "cell_type": "markdown",
   "metadata": {},
   "source": [
    "## Overfitting detector"
   ]
  },
  {
   "cell_type": "code",
   "execution_count": 26,
   "metadata": {},
   "outputs": [
    {
     "data": {
      "application/vnd.jupyter.widget-view+json": {
       "model_id": "2a974648729647e5997c08f0113eb748",
       "version_major": 2,
       "version_minor": 0
      },
      "text/plain": [
       "MetricVisualizer(layout=Layout(align_self='stretch', height='500px'))"
      ]
     },
     "metadata": {},
     "output_type": "display_data"
    },
    {
     "data": {
      "text/plain": [
       "<catboost.core.CatBoostClassifier at 0x7f4c167dcca0>"
      ]
     },
     "execution_count": 26,
     "metadata": {},
     "output_type": "execute_result"
    }
   ],
   "source": [
    "model_with_early_stop = CatBoostClassifier(\n",
    "    iterations=200,\n",
    "    random_seed=63,\n",
    "    learning_rate=0.5,\n",
    "    early_stopping_rounds=20\n",
    ")\n",
    "model_with_early_stop.fit(\n",
    "    X_train, y_train,\n",
    "    cat_features=cat_features,\n",
    "    eval_set=(X_validation, y_validation),\n",
    "    verbose=False,\n",
    "    plot=True\n",
    ")"
   ]
  },
  {
   "cell_type": "code",
   "execution_count": 27,
   "metadata": {},
   "outputs": [
    {
     "name": "stdout",
     "output_type": "stream",
     "text": [
      "30\n"
     ]
    }
   ],
   "source": [
    "print(model_with_early_stop.tree_count_)"
   ]
  },
  {
   "cell_type": "code",
   "execution_count": 28,
   "metadata": {},
   "outputs": [
    {
     "data": {
      "application/vnd.jupyter.widget-view+json": {
       "model_id": "1b13f6f284134865afd1442d7994ad61",
       "version_major": 2,
       "version_minor": 0
      },
      "text/plain": [
       "MetricVisualizer(layout=Layout(align_self='stretch', height='500px'))"
      ]
     },
     "metadata": {},
     "output_type": "display_data"
    },
    {
     "data": {
      "text/plain": [
       "<catboost.core.CatBoostClassifier at 0x7f4c0cb550c0>"
      ]
     },
     "execution_count": 28,
     "metadata": {},
     "output_type": "execute_result"
    }
   ],
   "source": [
    "model_with_early_stop = CatBoostClassifier(\n",
    "    eval_metric='AUC',\n",
    "    iterations=200,\n",
    "    random_seed=63,\n",
    "    learning_rate=0.5,\n",
    "    early_stopping_rounds=20\n",
    ")\n",
    "model_with_early_stop.fit(\n",
    "    X_train, y_train,\n",
    "    cat_features=cat_features,\n",
    "    eval_set=(X_validation, y_validation),\n",
    "    verbose=False,\n",
    "    plot=True\n",
    ")"
   ]
  },
  {
   "cell_type": "code",
   "execution_count": 29,
   "metadata": {},
   "outputs": [
    {
     "name": "stdout",
     "output_type": "stream",
     "text": [
      "30\n"
     ]
    }
   ],
   "source": [
    "print(model_with_early_stop.tree_count_)"
   ]
  },
  {
   "cell_type": "markdown",
   "metadata": {},
   "source": [
    "## Select decision boundary"
   ]
  },
  {
   "cell_type": "code",
   "execution_count": 30,
   "metadata": {},
   "outputs": [
    {
     "data": {
      "application/vnd.jupyter.widget-view+json": {
       "model_id": "95c42080f7d942a4a893fec30708718d",
       "version_major": 2,
       "version_minor": 0
      },
      "text/plain": [
       "MetricVisualizer(layout=Layout(align_self='stretch', height='500px'))"
      ]
     },
     "metadata": {},
     "output_type": "display_data"
    },
    {
     "data": {
      "text/plain": [
       "<catboost.core.CatBoostClassifier at 0x7f4c0cb54fd0>"
      ]
     },
     "execution_count": 30,
     "metadata": {},
     "output_type": "execute_result"
    }
   ],
   "source": [
    "model = CatBoostClassifier(\n",
    "    random_seed=63,\n",
    "    iterations=200,\n",
    "    learning_rate=0.03,\n",
    ")\n",
    "model.fit(\n",
    "    X_train, y_train,\n",
    "    cat_features=cat_features,\n",
    "    verbose=False,\n",
    "    plot=True\n",
    ")"
   ]
  },
  {
   "cell_type": "markdown",
   "metadata": {},
   "source": [
    "![](https://habrastorage.org/webt/y4/1q/yq/y41qyqfm9mcerp2ziys48phpjia.png)"
   ]
  },
  {
   "cell_type": "code",
   "execution_count": 31,
   "metadata": {},
   "outputs": [],
   "source": [
    "from catboost.utils import get_roc_curve\n",
    "import sklearn\n",
    "from sklearn import metrics\n",
    "\n",
    "eval_pool = Pool(X_validation, y_validation, cat_features=cat_features)\n",
    "curve = get_roc_curve(model, eval_pool)\n",
    "(fpr, tpr, thresholds) = curve\n",
    "roc_auc = sklearn.metrics.auc(fpr, tpr)"
   ]
  },
  {
   "cell_type": "code",
   "execution_count": 32,
   "metadata": {},
   "outputs": [
    {
     "data": {
      "image/png": "[encoded data removed]",
      "text/plain": [
       "<Figure size 1600x800 with 1 Axes>"
      ]
     },
     "metadata": {},
     "output_type": "display_data"
    }
   ],
   "source": [
    "import matplotlib.pyplot as plt\n",
    "\n",
    "plt.figure(figsize=(16, 8))\n",
    "lw = 2\n",
    "\n",
    "plt.plot(fpr, tpr, color='darkorange',\n",
    "         lw=lw, label='ROC curve (area = %0.2f)' % roc_auc, alpha=0.5)\n",
    "\n",
    "plt.plot([0, 1], [0, 1], color='navy', lw=lw, linestyle='--', alpha=0.5)\n",
    "\n",
    "plt.xlim([0.0, 1.0])\n",
    "plt.ylim([0.0, 1.05])\n",
    "plt.xticks(fontsize=16)\n",
    "plt.yticks(fontsize=16)\n",
    "plt.grid(True)\n",
    "plt.xlabel('False Positive Rate', fontsize=16)\n",
    "plt.ylabel('True Positive Rate', fontsize=16)\n",
    "plt.title('Receiver operating characteristic', fontsize=20)\n",
    "plt.legend(loc=\"lower right\", fontsize=16)\n",
    "plt.show()"
   ]
  },
  {
   "cell_type": "code",
   "execution_count": 33,
   "metadata": {},
   "outputs": [],
   "source": [
    "from catboost.utils import get_fpr_curve\n",
    "from catboost.utils import get_fnr_curve\n",
    "\n",
    "(thresholds, fpr) = get_fpr_curve(curve=curve)\n",
    "(thresholds, fnr) = get_fnr_curve(curve=curve)"
   ]
  },
  {
   "cell_type": "code",
   "execution_count": 34,
   "metadata": {
    "scrolled": false
   },
   "outputs": [
    {
     "data": {
      "image/png": "[encoded data removed]",
      "text/plain": [
       "<Figure size 1600x800 with 1 Axes>"
      ]
     },
     "metadata": {},
     "output_type": "display_data"
    }
   ],
   "source": [
    "plt.figure(figsize=(16, 8))\n",
    "lw = 2\n",
    "\n",
    "plt.plot(thresholds, fpr, color='blue', lw=lw, label='FPR', alpha=0.5)\n",
    "plt.plot(thresholds, fnr, color='green', lw=lw, label='FNR', alpha=0.5)\n",
    "\n",
    "plt.xlim([0.0, 1.0])\n",
    "plt.ylim([0.0, 1.05])\n",
    "plt.xticks(fontsize=16)\n",
    "plt.yticks(fontsize=16)\n",
    "plt.grid(True)\n",
    "plt.xlabel('Threshold', fontsize=16)\n",
    "plt.ylabel('Error Rate', fontsize=16)\n",
    "plt.title('FPR-FNR curves', fontsize=20)\n",
    "plt.legend(loc=\"lower left\", fontsize=16)\n",
    "plt.show()"
   ]
  },
  {
   "cell_type": "code",
   "execution_count": 35,
   "metadata": {},
   "outputs": [
    {
     "name": "stdout",
     "output_type": "stream",
     "text": [
      "0.48034745289964775\n",
      "0.9899643475743053\n"
     ]
    }
   ],
   "source": [
    "from catboost.utils import select_threshold\n",
    "\n",
    "print(select_threshold(model=model, data=eval_pool, FNR=0.01))\n",
    "print(select_threshold(model=model, data=eval_pool, FPR=0.01))"
   ]
  },
  {
   "cell_type": "markdown",
   "metadata": {},
   "source": [
    "## Snapshotting"
   ]
  },
  {
   "cell_type": "code",
   "execution_count": 36,
   "metadata": {
    "scrolled": true
   },
   "outputs": [
    {
     "name": "stdout",
     "output_type": "stream",
     "text": [
      "Learning rate set to 0.193326\n",
      "0:\tlearn: 0.5565905\ttest: 0.5566217\tbest: 0.5566217 (0)\ttotal: 19.8ms\tremaining: 1.96s\n",
      "1:\tlearn: 0.4642626\ttest: 0.4639935\tbest: 0.4639935 (1)\ttotal: 41.9ms\tremaining: 2.05s\n",
      "2:\tlearn: 0.3989148\ttest: 0.3981304\tbest: 0.3981304 (2)\ttotal: 64.5ms\tremaining: 2.08s\n",
      "3:\tlearn: 0.3516186\ttest: 0.3510286\tbest: 0.3510286 (3)\ttotal: 71.8ms\tremaining: 1.72s\n",
      "4:\tlearn: 0.3164302\ttest: 0.3161297\tbest: 0.3161297 (4)\ttotal: 90ms\tremaining: 1.71s\n",
      "5:\tlearn: 0.2906047\ttest: 0.2905494\tbest: 0.2905494 (5)\ttotal: 94.6ms\tremaining: 1.48s\n",
      "6:\tlearn: 0.2710475\ttest: 0.2708899\tbest: 0.2708899 (6)\ttotal: 102ms\tremaining: 1.36s\n",
      "7:\tlearn: 0.2538458\ttest: 0.2539798\tbest: 0.2539798 (7)\ttotal: 137ms\tremaining: 1.58s\n",
      "8:\tlearn: 0.2399269\ttest: 0.2401350\tbest: 0.2401350 (8)\ttotal: 159ms\tremaining: 1.6s\n",
      "9:\tlearn: 0.2298664\ttest: 0.2304173\tbest: 0.2304173 (9)\ttotal: 175ms\tremaining: 1.58s\n",
      "10:\tlearn: 0.2180381\ttest: 0.2161946\tbest: 0.2161946 (10)\ttotal: 197ms\tremaining: 1.59s\n",
      "11:\tlearn: 0.2089276\ttest: 0.2055572\tbest: 0.2055572 (11)\ttotal: 221ms\tremaining: 1.62s\n",
      "12:\tlearn: 0.2027605\ttest: 0.1985313\tbest: 0.1985313 (12)\ttotal: 233ms\tremaining: 1.56s\n",
      "13:\tlearn: 0.1980597\ttest: 0.1929079\tbest: 0.1929079 (13)\ttotal: 255ms\tremaining: 1.56s\n",
      "14:\tlearn: 0.1931802\ttest: 0.1869335\tbest: 0.1869335 (14)\ttotal: 273ms\tremaining: 1.55s\n",
      "15:\tlearn: 0.1899584\ttest: 0.1827767\tbest: 0.1827767 (15)\ttotal: 299ms\tremaining: 1.57s\n",
      "16:\tlearn: 0.1868109\ttest: 0.1791481\tbest: 0.1791481 (16)\ttotal: 315ms\tremaining: 1.54s\n",
      "17:\tlearn: 0.1844046\ttest: 0.1764212\tbest: 0.1764212 (17)\ttotal: 337ms\tremaining: 1.53s\n",
      "18:\tlearn: 0.1826815\ttest: 0.1739992\tbest: 0.1739992 (18)\ttotal: 356ms\tremaining: 1.51s\n",
      "19:\tlearn: 0.1813182\ttest: 0.1724242\tbest: 0.1724242 (19)\ttotal: 377ms\tremaining: 1.51s\n",
      "20:\tlearn: 0.1799044\ttest: 0.1705979\tbest: 0.1705979 (20)\ttotal: 412ms\tremaining: 1.55s\n",
      "21:\tlearn: 0.1787567\ttest: 0.1691593\tbest: 0.1691593 (21)\ttotal: 446ms\tremaining: 1.58s\n",
      "22:\tlearn: 0.1778479\ttest: 0.1679138\tbest: 0.1679138 (22)\ttotal: 487ms\tremaining: 1.63s\n",
      "23:\tlearn: 0.1769800\ttest: 0.1669261\tbest: 0.1669261 (23)\ttotal: 504ms\tremaining: 1.59s\n",
      "24:\tlearn: 0.1761963\ttest: 0.1659238\tbest: 0.1659238 (24)\ttotal: 527ms\tremaining: 1.58s\n",
      "25:\tlearn: 0.1759394\ttest: 0.1656044\tbest: 0.1656044 (25)\ttotal: 540ms\tremaining: 1.54s\n",
      "26:\tlearn: 0.1756321\ttest: 0.1651183\tbest: 0.1651183 (26)\ttotal: 552ms\tremaining: 1.49s\n",
      "27:\tlearn: 0.1753093\ttest: 0.1645482\tbest: 0.1645482 (27)\ttotal: 569ms\tremaining: 1.46s\n",
      "28:\tlearn: 0.1746490\ttest: 0.1634569\tbest: 0.1634569 (28)\ttotal: 578ms\tremaining: 1.41s\n",
      "29:\tlearn: 0.1741248\ttest: 0.1626719\tbest: 0.1626719 (29)\ttotal: 587ms\tremaining: 1.37s\n",
      "30:\tlearn: 0.1739190\ttest: 0.1624505\tbest: 0.1624505 (30)\ttotal: 600ms\tremaining: 1.33s\n",
      "31:\tlearn: 0.1737505\ttest: 0.1621577\tbest: 0.1621577 (31)\ttotal: 621ms\tremaining: 1.32s\n",
      "32:\tlearn: 0.1735156\ttest: 0.1617652\tbest: 0.1617652 (32)\ttotal: 636ms\tremaining: 1.29s\n",
      "33:\tlearn: 0.1733737\ttest: 0.1616706\tbest: 0.1616706 (33)\ttotal: 648ms\tremaining: 1.26s\n",
      "34:\tlearn: 0.1730710\ttest: 0.1615700\tbest: 0.1615700 (34)\ttotal: 658ms\tremaining: 1.22s\n",
      "35:\tlearn: 0.1726234\ttest: 0.1613597\tbest: 0.1613597 (35)\ttotal: 667ms\tremaining: 1.19s\n",
      "36:\tlearn: 0.1724223\ttest: 0.1609771\tbest: 0.1609771 (36)\ttotal: 678ms\tremaining: 1.16s\n",
      "37:\tlearn: 0.1723166\ttest: 0.1609138\tbest: 0.1609138 (37)\ttotal: 689ms\tremaining: 1.12s\n",
      "38:\tlearn: 0.1721109\ttest: 0.1607760\tbest: 0.1607760 (38)\ttotal: 700ms\tremaining: 1.09s\n",
      "39:\tlearn: 0.1718253\ttest: 0.1604844\tbest: 0.1604844 (39)\ttotal: 717ms\tremaining: 1.08s\n",
      "40:\tlearn: 0.1718135\ttest: 0.1604838\tbest: 0.1604838 (40)\ttotal: 725ms\tremaining: 1.04s\n",
      "41:\tlearn: 0.1717654\ttest: 0.1604337\tbest: 0.1604337 (41)\ttotal: 736ms\tremaining: 1.01s\n",
      "42:\tlearn: 0.1714937\ttest: 0.1602021\tbest: 0.1602021 (42)\ttotal: 747ms\tremaining: 990ms\n",
      "43:\tlearn: 0.1713759\ttest: 0.1601088\tbest: 0.1601088 (43)\ttotal: 758ms\tremaining: 965ms\n",
      "44:\tlearn: 0.1712930\ttest: 0.1601280\tbest: 0.1601088 (43)\ttotal: 772ms\tremaining: 944ms\n",
      "45:\tlearn: 0.1710363\ttest: 0.1601333\tbest: 0.1601088 (43)\ttotal: 795ms\tremaining: 933ms\n",
      "46:\tlearn: 0.1708310\ttest: 0.1598021\tbest: 0.1598021 (46)\ttotal: 811ms\tremaining: 915ms\n",
      "47:\tlearn: 0.1707415\ttest: 0.1598379\tbest: 0.1598021 (46)\ttotal: 821ms\tremaining: 889ms\n",
      "48:\tlearn: 0.1706194\ttest: 0.1597803\tbest: 0.1597803 (48)\ttotal: 835ms\tremaining: 869ms\n",
      "49:\tlearn: 0.1705094\ttest: 0.1598181\tbest: 0.1597803 (48)\ttotal: 849ms\tremaining: 849ms\n",
      "50:\tlearn: 0.1703454\ttest: 0.1596611\tbest: 0.1596611 (50)\ttotal: 863ms\tremaining: 829ms\n",
      "51:\tlearn: 0.1701364\ttest: 0.1594569\tbest: 0.1594569 (51)\ttotal: 874ms\tremaining: 807ms\n",
      "52:\tlearn: 0.1699351\ttest: 0.1594792\tbest: 0.1594569 (51)\ttotal: 886ms\tremaining: 785ms\n",
      "53:\tlearn: 0.1698191\ttest: 0.1594453\tbest: 0.1594453 (53)\ttotal: 904ms\tremaining: 770ms\n",
      "54:\tlearn: 0.1696360\ttest: 0.1594233\tbest: 0.1594233 (54)\ttotal: 923ms\tremaining: 755ms\n",
      "55:\tlearn: 0.1695476\ttest: 0.1593201\tbest: 0.1593201 (55)\ttotal: 933ms\tremaining: 733ms\n",
      "56:\tlearn: 0.1694507\ttest: 0.1593702\tbest: 0.1593201 (55)\ttotal: 946ms\tremaining: 713ms\n",
      "57:\tlearn: 0.1693879\ttest: 0.1593558\tbest: 0.1593201 (55)\ttotal: 956ms\tremaining: 692ms\n",
      "58:\tlearn: 0.1692182\ttest: 0.1593365\tbest: 0.1593201 (55)\ttotal: 966ms\tremaining: 671ms\n",
      "59:\tlearn: 0.1691692\ttest: 0.1593046\tbest: 0.1593046 (59)\ttotal: 974ms\tremaining: 649ms\n",
      "60:\tlearn: 0.1689825\ttest: 0.1590959\tbest: 0.1590959 (60)\ttotal: 995ms\tremaining: 636ms\n",
      "61:\tlearn: 0.1688233\ttest: 0.1587949\tbest: 0.1587949 (61)\ttotal: 1s\tremaining: 616ms\n",
      "62:\tlearn: 0.1687423\ttest: 0.1587121\tbest: 0.1587121 (62)\ttotal: 1.02s\tremaining: 599ms\n",
      "63:\tlearn: 0.1685821\ttest: 0.1585367\tbest: 0.1585367 (63)\ttotal: 1.05s\tremaining: 590ms\n",
      "64:\tlearn: 0.1682095\ttest: 0.1583598\tbest: 0.1583598 (64)\ttotal: 1.06s\tremaining: 571ms\n",
      "65:\tlearn: 0.1680435\ttest: 0.1581916\tbest: 0.1581916 (65)\ttotal: 1.07s\tremaining: 551ms\n",
      "66:\tlearn: 0.1678092\ttest: 0.1580685\tbest: 0.1580685 (66)\ttotal: 1.08s\tremaining: 534ms\n",
      "67:\tlearn: 0.1676905\ttest: 0.1579741\tbest: 0.1579741 (67)\ttotal: 1.1s\tremaining: 517ms\n",
      "68:\tlearn: 0.1674648\ttest: 0.1579143\tbest: 0.1579143 (68)\ttotal: 1.11s\tremaining: 498ms\n",
      "69:\tlearn: 0.1673214\ttest: 0.1579064\tbest: 0.1579064 (69)\ttotal: 1.12s\tremaining: 479ms\n",
      "70:\tlearn: 0.1672664\ttest: 0.1579522\tbest: 0.1579064 (69)\ttotal: 1.13s\tremaining: 460ms\n",
      "71:\tlearn: 0.1672555\ttest: 0.1579174\tbest: 0.1579064 (69)\ttotal: 1.14s\tremaining: 443ms\n",
      "72:\tlearn: 0.1672462\ttest: 0.1579299\tbest: 0.1579064 (69)\ttotal: 1.15s\tremaining: 425ms\n",
      "73:\tlearn: 0.1670767\ttest: 0.1578301\tbest: 0.1578301 (73)\ttotal: 1.17s\tremaining: 412ms\n",
      "74:\tlearn: 0.1670546\ttest: 0.1577969\tbest: 0.1577969 (74)\ttotal: 1.19s\tremaining: 395ms\n",
      "75:\tlearn: 0.1669987\ttest: 0.1577948\tbest: 0.1577948 (75)\ttotal: 1.2s\tremaining: 378ms\n",
      "76:\tlearn: 0.1668860\ttest: 0.1577237\tbest: 0.1577237 (76)\ttotal: 1.21s\tremaining: 362ms\n",
      "77:\tlearn: 0.1667215\ttest: 0.1576140\tbest: 0.1576140 (77)\ttotal: 1.23s\tremaining: 348ms\n",
      "78:\tlearn: 0.1667140\ttest: 0.1575968\tbest: 0.1575968 (78)\ttotal: 1.25s\tremaining: 331ms\n",
      "79:\tlearn: 0.1666534\ttest: 0.1575803\tbest: 0.1575803 (79)\ttotal: 1.25s\tremaining: 314ms\n",
      "80:\tlearn: 0.1666215\ttest: 0.1575678\tbest: 0.1575678 (80)\ttotal: 1.27s\tremaining: 298ms\n",
      "81:\tlearn: 0.1665369\ttest: 0.1576578\tbest: 0.1575678 (80)\ttotal: 1.28s\tremaining: 282ms\n",
      "82:\tlearn: 0.1664881\ttest: 0.1576933\tbest: 0.1575678 (80)\ttotal: 1.29s\tremaining: 265ms\n",
      "83:\tlearn: 0.1664809\ttest: 0.1576931\tbest: 0.1575678 (80)\ttotal: 1.3s\tremaining: 249ms\n",
      "84:\tlearn: 0.1664459\ttest: 0.1577250\tbest: 0.1575678 (80)\ttotal: 1.32s\tremaining: 233ms\n",
      "85:\tlearn: 0.1664193\ttest: 0.1577061\tbest: 0.1575678 (80)\ttotal: 1.33s\tremaining: 216ms\n",
      "86:\tlearn: 0.1663895\ttest: 0.1577540\tbest: 0.1575678 (80)\ttotal: 1.34s\tremaining: 200ms\n",
      "87:\tlearn: 0.1663837\ttest: 0.1577521\tbest: 0.1575678 (80)\ttotal: 1.35s\tremaining: 185ms\n",
      "88:\tlearn: 0.1663628\ttest: 0.1577793\tbest: 0.1575678 (80)\ttotal: 1.36s\tremaining: 169ms\n",
      "89:\tlearn: 0.1663101\ttest: 0.1577507\tbest: 0.1575678 (80)\ttotal: 1.38s\tremaining: 153ms\n",
      "90:\tlearn: 0.1662302\ttest: 0.1576135\tbest: 0.1575678 (80)\ttotal: 1.39s\tremaining: 138ms\n",
      "91:\tlearn: 0.1662257\ttest: 0.1576185\tbest: 0.1575678 (80)\ttotal: 1.4s\tremaining: 122ms\n",
      "92:\tlearn: 0.1662070\ttest: 0.1576770\tbest: 0.1575678 (80)\ttotal: 1.42s\tremaining: 107ms\n",
      "93:\tlearn: 0.1661519\ttest: 0.1576925\tbest: 0.1575678 (80)\ttotal: 1.45s\tremaining: 92.3ms\n",
      "94:\tlearn: 0.1659885\ttest: 0.1576700\tbest: 0.1575678 (80)\ttotal: 1.47s\tremaining: 77.1ms\n",
      "95:\tlearn: 0.1659752\ttest: 0.1577138\tbest: 0.1575678 (80)\ttotal: 1.48s\tremaining: 61.9ms\n",
      "96:\tlearn: 0.1658729\ttest: 0.1577104\tbest: 0.1575678 (80)\ttotal: 1.51s\tremaining: 46.7ms\n",
      "97:\tlearn: 0.1658312\ttest: 0.1577005\tbest: 0.1575678 (80)\ttotal: 1.52s\tremaining: 31.1ms\n",
      "98:\tlearn: 0.1657567\ttest: 0.1576310\tbest: 0.1575678 (80)\ttotal: 1.55s\tremaining: 15.7ms\n",
      "99:\tlearn: 0.1655047\ttest: 0.1576241\tbest: 0.1575678 (80)\ttotal: 1.57s\tremaining: 0us\n",
      "\n",
      "bestTest = 0.1575677776\n",
      "bestIteration = 80\n",
      "\n",
      "Shrink model to first 81 iterations.\n"
     ]
    },
    {
     "data": {
      "text/plain": [
       "<catboost.core.CatBoostClassifier at 0x7f4c0cb56d10>"
      ]
     },
     "execution_count": 36,
     "metadata": {},
     "output_type": "execute_result"
    }
   ],
   "source": [
    "# !rm 'catboost_info/snapshot.bkp'\n",
    "from catboost import CatBoostClassifier\n",
    "model = CatBoostClassifier(\n",
    "    iterations=100,\n",
    "    save_snapshot=True,\n",
    "    snapshot_file='snapshot.bkp',\n",
    "    snapshot_interval=1,\n",
    "    random_seed=43\n",
    ")\n",
    "model.fit(\n",
    "    X_train, y_train,\n",
    "    eval_set=(X_validation, y_validation),\n",
    "    cat_features=cat_features,\n",
    "    verbose=True\n",
    ")"
   ]
  },
  {
   "cell_type": "markdown",
   "metadata": {},
   "source": [
    "## Model predictions"
   ]
  },
  {
   "cell_type": "code",
   "execution_count": 37,
   "metadata": {},
   "outputs": [
    {
     "name": "stdout",
     "output_type": "stream",
     "text": [
      "[[0.0508 0.9492]\n",
      " [0.0181 0.9819]\n",
      " [0.0179 0.9821]\n",
      " ...\n",
      " [0.0161 0.9839]\n",
      " [0.017  0.983 ]\n",
      " [0.0236 0.9764]]\n"
     ]
    }
   ],
   "source": [
    "print(model.predict_proba(X=X_validation))"
   ]
  },
  {
   "cell_type": "code",
   "execution_count": 38,
   "metadata": {},
   "outputs": [
    {
     "name": "stdout",
     "output_type": "stream",
     "text": [
      "[1 1 1 ... 1 1 1]\n"
     ]
    }
   ],
   "source": [
    "print(model.predict(data=X_validation))"
   ]
  },
  {
   "cell_type": "code",
   "execution_count": 39,
   "metadata": {},
   "outputs": [
    {
     "name": "stdout",
     "output_type": "stream",
     "text": [
      "[2.9282 3.9947 4.0077 ... 4.1115 4.06   3.7207]\n"
     ]
    }
   ],
   "source": [
    "raw_pred = model.predict(\n",
    "    data=X_validation,\n",
    "    prediction_type='RawFormulaVal'\n",
    ")\n",
    "print(raw_pred)"
   ]
  },
  {
   "cell_type": "code",
   "execution_count": 40,
   "metadata": {},
   "outputs": [
    {
     "name": "stdout",
     "output_type": "stream",
     "text": [
      "[0.9492 0.9819 0.9821 ... 0.9839 0.983  0.9764]\n"
     ]
    }
   ],
   "source": [
    "from numpy import exp\n",
    "\n",
    "sigmoid = lambda x: 1 / (1 + exp(-x))\n",
    "\n",
    "probabilities = sigmoid(raw_pred)\n",
    "\n",
    "print(probabilities)"
   ]
  },
  {
   "cell_type": "code",
   "execution_count": 41,
   "metadata": {},
   "outputs": [
    {
     "name": "stdout",
     "output_type": "stream",
     "text": [
      "[[0.0508 0.9492]\n",
      " [0.0181 0.9819]\n",
      " [0.0179 0.9821]\n",
      " ...\n",
      " [0.0161 0.9839]\n",
      " [0.017  0.983 ]\n",
      " [0.0236 0.9764]]\n"
     ]
    }
   ],
   "source": [
    "X_prepared = X_validation.values.astype(str).astype(object)\n",
    "# For FeaturesData class categorial features must have type str\n",
    "\n",
    "fast_predictions = model.predict_proba(\n",
    "    X=FeaturesData(\n",
    "        cat_feature_data=X_prepared,\n",
    "        cat_feature_names=list(X_validation)\n",
    "    )\n",
    ")\n",
    "print(fast_predictions)"
   ]
  },
  {
   "cell_type": "markdown",
   "metadata": {},
   "source": [
    "## Staged prediction"
   ]
  },
  {
   "cell_type": "code",
   "execution_count": 42,
   "metadata": {},
   "outputs": [
    {
     "name": "stdout",
     "output_type": "stream",
     "text": [
      "Iteration 0, predictions:\n",
      "[[0.4154 0.5846]\n",
      " [0.4154 0.5846]\n",
      " [0.4154 0.5846]\n",
      " ...\n",
      " [0.4154 0.5846]\n",
      " [0.4154 0.5846]\n",
      " [0.4154 0.5846]]\n",
      "Iteration 1, predictions:\n",
      "[[0.3476 0.6524]\n",
      " [0.3476 0.6524]\n",
      " [0.3476 0.6524]\n",
      " ...\n",
      " [0.3476 0.6524]\n",
      " [0.3476 0.6524]\n",
      " [0.3476 0.6524]]\n",
      "Iteration 2, predictions:\n",
      "[[0.292  0.708 ]\n",
      " [0.292  0.708 ]\n",
      " [0.2978 0.7022]\n",
      " ...\n",
      " [0.2978 0.7022]\n",
      " [0.292  0.708 ]\n",
      " [0.2978 0.7022]]\n",
      "Iteration 3, predictions:\n",
      "[[0.2485 0.7515]\n",
      " [0.2485 0.7515]\n",
      " [0.2538 0.7462]\n",
      " ...\n",
      " [0.2538 0.7462]\n",
      " [0.2485 0.7515]\n",
      " [0.2538 0.7462]]\n",
      "Iteration 4, predictions:\n",
      "[[0.2126 0.7874]\n",
      " [0.2126 0.7874]\n",
      " [0.2173 0.7827]\n",
      " ...\n",
      " [0.2173 0.7827]\n",
      " [0.2126 0.7874]\n",
      " [0.2173 0.7827]]\n"
     ]
    }
   ],
   "source": [
    "predictions_gen = model.staged_predict_proba(\n",
    "    data=X_validation,\n",
    "    ntree_start=0, \n",
    "    ntree_end=5, \n",
    "    eval_period=1\n",
    ")\n",
    "try:\n",
    "    for iteration, predictions in enumerate(predictions_gen):\n",
    "        print('Iteration ' + str(iteration) + ', predictions:')\n",
    "        print(predictions)\n",
    "except Exception:\n",
    "    pass"
   ]
  },
  {
   "cell_type": "markdown",
   "metadata": {},
   "source": [
    "## Solving MultiClassification problem"
   ]
  },
  {
   "cell_type": "code",
   "execution_count": 43,
   "metadata": {},
   "outputs": [
    {
     "data": {
      "application/vnd.jupyter.widget-view+json": {
       "model_id": "b040ecc270df4162b490f3bc06b3fd5a",
       "version_major": 2,
       "version_minor": 0
      },
      "text/plain": [
       "MetricVisualizer(layout=Layout(align_self='stretch', height='500px'))"
      ]
     },
     "metadata": {},
     "output_type": "display_data"
    },
    {
     "data": {
      "text/plain": [
       "<catboost.core.CatBoostClassifier at 0x7f4bd8e4a410>"
      ]
     },
     "execution_count": 43,
     "metadata": {},
     "output_type": "execute_result"
    }
   ],
   "source": [
    "from catboost import CatBoostClassifier\n",
    "model = CatBoostClassifier(\n",
    "    iterations=50,\n",
    "    random_seed=43,\n",
    "    loss_function='MultiClass'\n",
    ")\n",
    "model.fit(\n",
    "    X_train, y_train,\n",
    "    cat_features=cat_features,\n",
    "    eval_set=(X_validation, y_validation),\n",
    "    verbose=False,\n",
    "    plot=True\n",
    ")"
   ]
  },
  {
   "cell_type": "markdown",
   "metadata": {},
   "source": [
    "For multiclass problems with many classes sometimes it's better to solve classification problem using ranking.\n",
    "To do that we will build a dataset with groups.\n",
    "Every group will represent one object from our initial dataset.\n",
    "But it will have one additional categorical feature - possible class value.\n",
    "Target values will be equal to 1 if the class value is equal to the correct class, and 0 otherwise.\n",
    "Thus each group will have exactly one 1 in labels, and some zeros.\n",
    "You can put all possible class values in the group or you can try setting only hard negatives if there are too many labels.\n",
    "We'll show this approach on an example of binary classification problem."
   ]
  },
  {
   "cell_type": "code",
   "execution_count": 44,
   "metadata": {},
   "outputs": [],
   "source": [
    "from copy import deepcopy\n",
    "def build_multiclass_ranking_dataset(X, y, cat_features, label_values=[0,1], start_group_id=0):\n",
    "    ranking_matrix = []\n",
    "    ranking_labels = []\n",
    "    group_ids = []\n",
    "\n",
    "    X_train_matrix = X.values\n",
    "    y_train_vector = y.values\n",
    "\n",
    "    for obj_idx in range(X.shape[0]):\n",
    "        obj = list(X_train_matrix[obj_idx])\n",
    "\n",
    "        for label in label_values:\n",
    "            obj_of_given_class = deepcopy(obj)\n",
    "            obj_of_given_class.append(label)\n",
    "            ranking_matrix.append(obj_of_given_class)\n",
    "            ranking_labels.append(float(y_train_vector[obj_idx] == label)) \n",
    "            group_ids.append(start_group_id + obj_idx)\n",
    "        \n",
    "    final_cat_features = deepcopy(cat_features)\n",
    "    final_cat_features.append(X.shape[1]) # new feature that we are adding should be categorical.\n",
    "    return Pool(ranking_matrix, ranking_labels, cat_features=final_cat_features, group_id = group_ids)"
   ]
  },
  {
   "cell_type": "code",
   "execution_count": 45,
   "metadata": {},
   "outputs": [
    {
     "data": {
      "application/vnd.jupyter.widget-view+json": {
       "model_id": "4bbfd95174354272bff74b73db23f11e",
       "version_major": 2,
       "version_minor": 0
      },
      "text/plain": [
       "MetricVisualizer(layout=Layout(align_self='stretch', height='500px'))"
      ]
     },
     "metadata": {},
     "output_type": "display_data"
    },
    {
     "data": {
      "text/plain": [
       "<catboost.core.CatBoost at 0x7f4bd9023af0>"
      ]
     },
     "execution_count": 45,
     "metadata": {},
     "output_type": "execute_result"
    }
   ],
   "source": [
    "from catboost import CatBoost\n",
    "params = {'iterations':150, 'learning_rate':0.01, 'l2_leaf_reg':30, 'random_seed':0, 'loss_function':'QuerySoftMax'}\n",
    "\n",
    "groupwise_train_pool = build_multiclass_ranking_dataset(X_train, y_train, cat_features, [0,1])\n",
    "groupwise_eval_pool = build_multiclass_ranking_dataset(X_validation, y_validation, cat_features, [0,1], X_train.shape[0])\n",
    "\n",
    "model = CatBoost(params)\n",
    "model.fit(\n",
    "    X=groupwise_train_pool,\n",
    "    verbose=False,\n",
    "    eval_set=groupwise_eval_pool,\n",
    "    plot=True\n",
    ")"
   ]
  },
  {
   "cell_type": "markdown",
   "metadata": {},
   "source": [
    "Doing predictions with ranking mode"
   ]
  },
  {
   "cell_type": "code",
   "execution_count": 46,
   "metadata": {},
   "outputs": [
    {
     "name": "stdout",
     "output_type": "stream",
     "text": [
      "Raw values: [-0.471   0.4713]\n",
      "Probabilities [0.2804 0.7196]\n"
     ]
    }
   ],
   "source": [
    "import math\n",
    "\n",
    "obj = list(X_validation.values[0])\n",
    "ratings = []\n",
    "for label in [0,1]:\n",
    "    obj_with_label = deepcopy(obj)\n",
    "    obj_with_label.append(label)\n",
    "    rating = model.predict([obj_with_label])[0]\n",
    "    ratings.append(rating)\n",
    "print('Raw values:', np.array(ratings))\n",
    "\n",
    "def soft_max(values):\n",
    "    return [math.exp(val) / sum([math.exp(val) for val in values]) for val in values]\n",
    "\n",
    "print('Probabilities', np.array(soft_max(ratings)))"
   ]
  },
  {
   "cell_type": "markdown",
   "metadata": {},
   "source": [
    "## Metric evaluation on a new dataset"
   ]
  },
  {
   "cell_type": "code",
   "execution_count": 47,
   "metadata": {},
   "outputs": [
    {
     "name": "stdout",
     "output_type": "stream",
     "text": [
      "0:\tlearn: 0.6569860\ttotal: 64.7ms\tremaining: 12.9s\n",
      "50:\tlearn: 0.1907871\ttotal: 2.85s\tremaining: 8.32s\n",
      "100:\tlearn: 0.1645125\ttotal: 5.77s\tremaining: 5.66s\n",
      "150:\tlearn: 0.1565519\ttotal: 9.75s\tremaining: 3.16s\n",
      "199:\tlearn: 0.1533854\ttotal: 13.8s\tremaining: 0us\n"
     ]
    },
    {
     "data": {
      "text/plain": [
       "<catboost.core.CatBoostClassifier at 0x7f4bd90225c0>"
      ]
     },
     "execution_count": 47,
     "metadata": {},
     "output_type": "execute_result"
    }
   ],
   "source": [
    "model = CatBoostClassifier(\n",
    "    random_seed=63,\n",
    "    iterations=200,\n",
    "    learning_rate=0.03,\n",
    ")\n",
    "model.fit(\n",
    "    X_train, y_train,\n",
    "    cat_features=cat_features,\n",
    "    verbose=50\n",
    ")"
   ]
  },
  {
   "cell_type": "code",
   "execution_count": 48,
   "metadata": {},
   "outputs": [
    {
     "data": {
      "application/vnd.jupyter.widget-view+json": {
       "model_id": "eac833eef47e4967a446cc8277d20da3",
       "version_major": 2,
       "version_minor": 0
      },
      "text/plain": [
       "MetricVisualizer(layout=Layout(align_self='stretch', height='500px'))"
      ]
     },
     "metadata": {},
     "output_type": "display_data"
    }
   ],
   "source": [
    "metrics = model.eval_metrics(\n",
    "    data=pool1,\n",
    "    metrics=['Logloss','AUC'],\n",
    "    ntree_start=0,\n",
    "    ntree_end=0,\n",
    "    eval_period=1,\n",
    "    plot=True\n",
    ")"
   ]
  },
  {
   "cell_type": "code",
   "execution_count": 49,
   "metadata": {},
   "outputs": [
    {
     "name": "stdout",
     "output_type": "stream",
     "text": [
      "AUC values:\n",
      "[0.4998 0.538  0.5504 0.5888 0.6536 0.6515 0.6476 0.648  0.7117 0.731\n",
      " 0.7277 0.7278 0.7299 0.7298 0.7275 0.7273 0.7336 0.735  0.7445 0.7606\n",
      " 0.7627 0.7627 0.7715 0.7699 0.7773 0.7824 0.7859 0.8067 0.818  0.846\n",
      " 0.8607 0.8651 0.874  0.8745 0.8797 0.8794 0.8964 0.8969 0.9042 0.9129\n",
      " 0.9154 0.916  0.9175 0.9197 0.9245 0.9253 0.9301 0.9298 0.9305 0.931\n",
      " 0.9316 0.9332 0.9333 0.9356 0.9361 0.938  0.9393 0.9392 0.9395 0.941\n",
      " 0.9417 0.9431 0.9433 0.9436 0.944  0.9452 0.9458 0.9458 0.9479 0.9492\n",
      " 0.9503 0.9509 0.9517 0.9527 0.9537 0.9541 0.955  0.9556 0.9559 0.9564\n",
      " 0.9574 0.958  0.9591 0.9598 0.9602 0.9606 0.961  0.9615 0.9621 0.9625\n",
      " 0.9629 0.9635 0.9641 0.9644 0.9646 0.965  0.9654 0.9657 0.9659 0.966\n",
      " 0.9662 0.9666 0.9668 0.9669 0.9673 0.9675 0.9677 0.9678 0.9679 0.9679\n",
      " 0.9681 0.9682 0.9682 0.9683 0.9684 0.9685 0.9686 0.9687 0.9687 0.9688\n",
      " 0.9688 0.9689 0.9689 0.9691 0.9692 0.9693 0.9693 0.9694 0.9694 0.9693\n",
      " 0.9694 0.9699 0.9704 0.9708 0.9712 0.9716 0.972  0.9721 0.9724 0.9724\n",
      " 0.9728 0.9731 0.9733 0.9736 0.9738 0.9738 0.9739 0.974  0.974  0.9742\n",
      " 0.9741 0.9744 0.9746 0.975  0.9751 0.9754 0.9756 0.9755 0.9759 0.9759\n",
      " 0.9762 0.9765 0.9765 0.9766 0.9767 0.9767 0.9768 0.9771 0.9771 0.9771\n",
      " 0.9772 0.9773 0.9775 0.9777 0.9777 0.9778 0.9779 0.9779 0.9779 0.9779\n",
      " 0.9779 0.9779 0.9779 0.9779 0.978  0.978  0.978  0.978  0.978  0.978\n",
      " 0.978  0.9783 0.9785 0.9785 0.9785 0.9785 0.9785 0.9785 0.9787 0.9788]\n"
     ]
    }
   ],
   "source": [
    "print('AUC values:')\n",
    "print(np.array(metrics['AUC']))"
   ]
  },
  {
   "cell_type": "markdown",
   "metadata": {},
   "source": [
    "\n",
    "## Feature importances"
   ]
  },
  {
   "cell_type": "code",
   "execution_count": 50,
   "metadata": {},
   "outputs": [
    {
     "data": {
      "text/html": [
       "<div>\n",
       "<style scoped>\n",
       "    .dataframe tbody tr th:only-of-type {\n",
       "        vertical-align: middle;\n",
       "    }\n",
       "\n",
       "    .dataframe tbody tr th {\n",
       "        vertical-align: top;\n",
       "    }\n",
       "\n",
       "    .dataframe thead th {\n",
       "        text-align: right;\n",
       "    }\n",
       "</style>\n",
       "<table border=\"1\" class=\"dataframe\">\n",
       "  <thead>\n",
       "    <tr style=\"text-align: right;\">\n",
       "      <th></th>\n",
       "      <th>Feature Id</th>\n",
       "      <th>Importances</th>\n",
       "    </tr>\n",
       "  </thead>\n",
       "  <tbody>\n",
       "    <tr>\n",
       "      <th>0</th>\n",
       "      <td>RESOURCE</td>\n",
       "      <td>22.311819</td>\n",
       "    </tr>\n",
       "    <tr>\n",
       "      <th>1</th>\n",
       "      <td>MGR_ID</td>\n",
       "      <td>18.121045</td>\n",
       "    </tr>\n",
       "    <tr>\n",
       "      <th>2</th>\n",
       "      <td>ROLE_DEPTNAME</td>\n",
       "      <td>14.891573</td>\n",
       "    </tr>\n",
       "    <tr>\n",
       "      <th>3</th>\n",
       "      <td>ROLE_ROLLUP_2</td>\n",
       "      <td>12.310360</td>\n",
       "    </tr>\n",
       "    <tr>\n",
       "      <th>4</th>\n",
       "      <td>ROLE_CODE</td>\n",
       "      <td>10.388989</td>\n",
       "    </tr>\n",
       "    <tr>\n",
       "      <th>5</th>\n",
       "      <td>ROLE_FAMILY_DESC</td>\n",
       "      <td>9.144182</td>\n",
       "    </tr>\n",
       "    <tr>\n",
       "      <th>6</th>\n",
       "      <td>ROLE_TITLE</td>\n",
       "      <td>6.402628</td>\n",
       "    </tr>\n",
       "    <tr>\n",
       "      <th>7</th>\n",
       "      <td>ROLE_FAMILY</td>\n",
       "      <td>4.649123</td>\n",
       "    </tr>\n",
       "    <tr>\n",
       "      <th>8</th>\n",
       "      <td>ROLE_ROLLUP_1</td>\n",
       "      <td>1.780282</td>\n",
       "    </tr>\n",
       "  </tbody>\n",
       "</table>\n",
       "</div>"
      ],
      "text/plain": [
       "         Feature Id  Importances\n",
       "0          RESOURCE    22.311819\n",
       "1            MGR_ID    18.121045\n",
       "2     ROLE_DEPTNAME    14.891573\n",
       "3     ROLE_ROLLUP_2    12.310360\n",
       "4         ROLE_CODE    10.388989\n",
       "5  ROLE_FAMILY_DESC     9.144182\n",
       "6        ROLE_TITLE     6.402628\n",
       "7       ROLE_FAMILY     4.649123\n",
       "8     ROLE_ROLLUP_1     1.780282"
      ]
     },
     "execution_count": 50,
     "metadata": {},
     "output_type": "execute_result"
    }
   ],
   "source": [
    "model.get_feature_importance(prettified=True)"
   ]
  },
  {
   "cell_type": "markdown",
   "metadata": {},
   "source": [
    "## Shap values"
   ]
  },
  {
   "cell_type": "code",
   "execution_count": 51,
   "metadata": {},
   "outputs": [
    {
     "name": "stdout",
     "output_type": "stream",
     "text": [
      "(32769, 9)\n"
     ]
    }
   ],
   "source": [
    "shap_values = model.get_feature_importance(pool1, type='ShapValues')\n",
    "expected_value = shap_values[0,-1]\n",
    "shap_values = shap_values[:,:-1]\n",
    "print(shap_values.shape)"
   ]
  },
  {
   "cell_type": "code",
   "execution_count": 52,
   "metadata": {},
   "outputs": [
    {
     "ename": "ModuleNotFoundError",
     "evalue": "No module named 'shap'",
     "output_type": "error",
     "traceback": [
      "\u001b[0;31m---------------------------------------------------------------------------\u001b[0m",
      "\u001b[0;31mModuleNotFoundError\u001b[0m                       Traceback (most recent call last)",
      "Cell \u001b[0;32mIn[52], line 1\u001b[0m\n\u001b[0;32m----> 1\u001b[0m \u001b[38;5;28;01mimport\u001b[39;00m \u001b[38;5;21;01mshap\u001b[39;00m\n\u001b[1;32m      3\u001b[0m shap\u001b[38;5;241m.\u001b[39minitjs()\n\u001b[1;32m      4\u001b[0m shap\u001b[38;5;241m.\u001b[39mforce_plot(expected_value, shap_values[\u001b[38;5;241m3\u001b[39m,:], X\u001b[38;5;241m.\u001b[39miloc[\u001b[38;5;241m3\u001b[39m,:])\n",
      "\u001b[0;31mModuleNotFoundError\u001b[0m: No module named 'shap'"
     ]
    }
   ],
   "source": [
    "import shap\n",
    "\n",
    "shap.initjs()\n",
    "shap.force_plot(expected_value, shap_values[3,:], X.iloc[3,:])"
   ]
  },
  {
   "cell_type": "code",
   "execution_count": null,
   "metadata": {},
   "outputs": [],
   "source": [
    "import shap\n",
    "\n",
    "shap.initjs()\n",
    "shap.force_plot(expected_value, shap_values[91,:], X.iloc[91,:])"
   ]
  },
  {
   "cell_type": "code",
   "execution_count": null,
   "metadata": {
    "scrolled": true
   },
   "outputs": [],
   "source": [
    "shap.summary_plot(shap_values, X)"
   ]
  },
  {
   "cell_type": "code",
   "execution_count": null,
   "metadata": {},
   "outputs": [],
   "source": [
    "X_small = X.iloc[0:200]\n",
    "shap_small = shap_values[:200]\n",
    "shap.force_plot(expected_value, shap_small, X_small)"
   ]
  },
  {
   "cell_type": "markdown",
   "metadata": {},
   "source": [
    "## Feature evaluation"
   ]
  },
  {
   "cell_type": "code",
   "execution_count": null,
   "metadata": {
    "scrolled": true
   },
   "outputs": [],
   "source": [
    "from catboost.eval.catboost_evaluation import *\n",
    "learn_params = {'iterations': 20, # 2000\n",
    "                'learning_rate': 0.5, # we set big learning_rate,\n",
    "                                      # because we have small\n",
    "                                      # #iterations\n",
    "                'random_seed': 0,\n",
    "                'verbose': False,\n",
    "                'loss_function' : 'Logloss',\n",
    "                'boosting_type': 'Plain'}\n",
    "evaluator = CatboostEvaluation('amazon/train.tsv',\n",
    "                               fold_size=10000, # <= 50% of dataset\n",
    "                               fold_count=20,\n",
    "                               column_description='amazon/train.cd',\n",
    "                               partition_random_seed=0,\n",
    "                               #working_dir=... \n",
    ")\n",
    "result = evaluator.eval_features(learn_config=learn_params,\n",
    "                                 eval_metrics=['Logloss', 'Accuracy'],\n",
    "                                 features_to_eval=[6, 7, 8])"
   ]
  },
  {
   "cell_type": "code",
   "execution_count": null,
   "metadata": {},
   "outputs": [],
   "source": [
    "from catboost.eval.evaluation_result import *\n",
    "logloss_result = result.get_metric_results('Logloss')\n",
    "logloss_result.get_baseline_comparison(\n",
    "    ScoreConfig(ScoreType.Rel, overfit_iterations_info=False)\n",
    ")"
   ]
  },
  {
   "cell_type": "markdown",
   "metadata": {},
   "source": [
    "## Saving the model"
   ]
  },
  {
   "cell_type": "code",
   "execution_count": null,
   "metadata": {},
   "outputs": [],
   "source": [
    "my_best_model = CatBoostClassifier(iterations=10)\n",
    "my_best_model.fit(\n",
    "    X_train, y_train,\n",
    "    eval_set=(X_validation, y_validation),\n",
    "    cat_features=cat_features,\n",
    "    verbose=False\n",
    ")\n",
    "my_best_model.save_model('catboost_model.bin')\n",
    "my_best_model.save_model('catboost_model.json', format='json')"
   ]
  },
  {
   "cell_type": "code",
   "execution_count": null,
   "metadata": {},
   "outputs": [],
   "source": [
    "my_best_model.load_model('catboost_model.bin')\n",
    "print(my_best_model.get_params())\n",
    "print(my_best_model.random_seed_)"
   ]
  },
  {
   "cell_type": "markdown",
   "metadata": {},
   "source": [
    "## Hyperparameter tunning"
   ]
  },
  {
   "cell_type": "markdown",
   "metadata": {},
   "source": [
    "### Training speed"
   ]
  },
  {
   "cell_type": "code",
   "execution_count": null,
   "metadata": {},
   "outputs": [],
   "source": [
    "from catboost import CatBoost\n",
    "fast_model = CatBoostClassifier(\n",
    "    random_seed=63,\n",
    "    iterations=150,\n",
    "    learning_rate=0.01,\n",
    "    boosting_type='Plain',\n",
    "    bootstrap_type='Bernoulli',\n",
    "    subsample=0.5,\n",
    "    one_hot_max_size=20,\n",
    "    rsm=0.5,\n",
    "    leaf_estimation_iterations=5,\n",
    "    max_ctr_complexity=1)\n",
    "\n",
    "fast_model.fit(\n",
    "    X_train, y_train,\n",
    "    cat_features=cat_features,\n",
    "    verbose=False,\n",
    "    plot=True\n",
    ")"
   ]
  },
  {
   "cell_type": "markdown",
   "metadata": {},
   "source": [
    "### Accuracy"
   ]
  },
  {
   "cell_type": "code",
   "execution_count": null,
   "metadata": {},
   "outputs": [],
   "source": [
    "tunned_model = CatBoostClassifier(\n",
    "    random_seed=63,\n",
    "    iterations=1000,\n",
    "    learning_rate=0.03,\n",
    "    l2_leaf_reg=3,\n",
    "    bagging_temperature=1,\n",
    "    random_strength=1,\n",
    "    one_hot_max_size=2,\n",
    "    leaf_estimation_method='Newton'\n",
    ")\n",
    "tunned_model.fit(\n",
    "    X_train, y_train,\n",
    "    cat_features=cat_features,\n",
    "    verbose=False,\n",
    "    eval_set=(X_validation, y_validation),\n",
    "    plot=True\n",
    ")"
   ]
  },
  {
   "cell_type": "markdown",
   "metadata": {},
   "source": [
    "## Training the model after parameter tunning"
   ]
  },
  {
   "cell_type": "code",
   "execution_count": null,
   "metadata": {},
   "outputs": [],
   "source": [
    "best_model = CatBoostClassifier(\n",
    "    random_seed=63,\n",
    "    iterations=int(tunned_model.tree_count_ * 1.2),\n",
    ")\n",
    "best_model.fit(\n",
    "    X, y,\n",
    "    cat_features=cat_features,\n",
    "    verbose=100\n",
    ")"
   ]
  },
  {
   "cell_type": "markdown",
   "metadata": {},
   "source": [
    "## Calculate predictions for the contest"
   ]
  },
  {
   "cell_type": "code",
   "execution_count": null,
   "metadata": {},
   "outputs": [],
   "source": [
    "X_test = test_df.drop('id', axis=1)\n",
    "test_pool = Pool(data=X_test, cat_features=cat_features)\n",
    "contest_predictions = best_model.predict_proba(test_pool)\n",
    "print('Predictoins:')\n",
    "print(contest_predictions)"
   ]
  },
  {
   "cell_type": "markdown",
   "metadata": {},
   "source": [
    "## Prepare the submission"
   ]
  },
  {
   "cell_type": "code",
   "execution_count": null,
   "metadata": {},
   "outputs": [],
   "source": [
    "f = open('submit.csv', 'w')\n",
    "f.write('Id,Action\\n')\n",
    "for idx in range(len(contest_predictions)):\n",
    "    line = str(test_df['id'][idx]) + ',' + str(contest_predictions[idx][1]) + '\\n'\n",
    "    f.write(line)\n",
    "f.close()"
   ]
  },
  {
   "cell_type": "markdown",
   "metadata": {},
   "source": [
    "Submit your solution [here](https://www.kaggle.com/c/amazon-employee-access-challenge/submit).\n",
    "Good luck!!!"
   ]
  },
  {
   "cell_type": "code",
   "execution_count": null,
   "metadata": {},
   "outputs": [],
   "source": []
  },
  {
   "cell_type": "code",
   "execution_count": null,
   "metadata": {},
   "outputs": [],
   "source": []
  },
  {
   "cell_type": "code",
   "execution_count": null,
   "metadata": {},
   "outputs": [],
   "source": []
  },
  {
   "cell_type": "code",
   "execution_count": null,
   "metadata": {},
   "outputs": [],
   "source": []
  }
 ],
 "metadata": {
  "kernelspec": {
   "display_name": "Python 3 (ipykernel)",
   "language": "python",
   "name": "python3"
  },
  "language_info": {
   "codemirror_mode": {
    "name": "ipython",
    "version": 3
   },
   "file_extension": ".py",
   "mimetype": "text/x-python",
   "name": "python",
   "nbconvert_exporter": "python",
   "pygments_lexer": "ipython3",
   "version": "3.10.9"
  },
  "widgets": {
   "state": {
    "1057714ebc614324aa3ba2cf69408966": {
     "views": [
      {
       "cell_index": 17
      }
     ]
    },
    "8381e9eed05f4a03905ae8a56d7ab4ea": {
     "views": [
      {
       "cell_index": 48
      }
     ]
    },
    "f49684e8c5c44241bfe2c7f577f5cb41": {
     "views": [
      {
       "cell_index": 53
      }
     ]
    }
   },
   "version": "1.2.0"
  }
 },
 "nbformat": 4,
 "nbformat_minor": 2
}
