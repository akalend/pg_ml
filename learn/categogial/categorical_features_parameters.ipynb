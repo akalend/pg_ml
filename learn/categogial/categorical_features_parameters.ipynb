{
 "cells": [
  {
   "cell_type": "markdown",
   "metadata": {
    "colab_type": "text",
    "id": "cqN76MY8c604"
   },
   "source": [
    "# CatBoost tutorial: Categorical features parameters\n",
    "\n",
    "*Mastering the parameters you didn't know exist*\n",
    "\n",
    "| ![cats](https://metro.co.uk/wp-content/uploads/2015/03/ad_162754294.jpg?quality=90&strip=all) | \n",
    "|:--:| \n",
    "| *Categorical feature example: cat's face shape* |\n",
    "\n",
    "\n",
    "CatBoost is an open-sourced gradient boosting library. One of the differences between CatBoost and other gradient boosting libraries is its advanced processing of the categorical features (in fact \"Cat\" in the package name stands not for a 🐱 but for \"CATegorical\").\n",
    "\n",
    "CatBoost deals with the categorical data quite well out-of-the-box. However, it also has a huge number of training parameters, which provide fine control over the categorical features preprocessing. In this tutorial, we are going to learn how to use these parameters for the greater good. The tutorial is split into the following sections:\n",
    "\n",
    "1. **Introduction: categorical features in machine learning**\n",
    "2. **Categorical features processing in CatBoost**\n",
    "3. **Experiment: How the categorical features settings affect accuracy in predicting the prices of the old cars**.\n",
    "\n",
    "# 1. Introduction: categorical features in machine learning\n",
    "**Сategorical feature** is a feature that has a discrete set of values called *categories* that are *not comparable* by < or > to each other. In real-world datasets, we quite often deal with categorical data. The cardinality of a categorical feature, i.e. the number of different values that the feature can take varies drastically among features and datasets -- from just a few to thousands and millions of distinct values. The values of a categorical feature can be distributed almost uniformly and there might be values with a frequency different by the orders of magnitude. To be used in gradient boosting categorical features need to be transformed to some form that can be handeled by a decision tree, for example to numbers. In the next section, we are going to briefly go through the most popular in machine learning methods of transforming categorical features values into numbers.\n",
    "Standard approaches to categorical features preprocessing\n",
    "* **One-hot Encoding** consists in creating a binary feature for each category. The main problem of the method is that features with huge cardinalities (such as user id for example) lead to a huge number of features.\n",
    "* **Label Encoding** maps each category, i.e. value that a categorical feature can take into a random number. Does it not make a terrible amount of sense? It does not work very well in practice either.\n",
    "* **Hash Encoding** converts string type features into a fixed dimension vector using a hash function.\n",
    "* **Frequency Encoding** consists in replacing categorical feature values with the frequency of the category in the dataset.\n",
    "* **Target Encoding** replaces the values of the categorical feature with a number that is calculated from the distribution of the target values for that particular value of the categorical variable. The most straightforward approach sometimes referred to as **Greedy Target Encoding** is to use the mean value of target on the objects belonging to the category. However, this method leads to target leakage and overfitting. One possible solution to these problems is **Holdout Target Encoding** -- one part of the training dataset is used to compute the target statistics for each category, and the training is performed on the rest of the training data. It solves the target leakage problem but requires us to sacrifice part of our precious training data. For this reason, the most popular in practice solutions are **K-Fold Target Encoding** and **Leave-One-Out Target Encoding**. The idea behind K-Fold Target Encoding is very similar to K-Fold Cross Validation -- we split the training data into several folds in each fold we replace the categorical feature values with the target statistics for the category calculated on the other folds. Leave-One-Out Target Encoding is a special case of K-Fold Encoding where K is equal to the length of training data. K-Fold Encoding and Leave-One-Out Target Encoding can also lead to overfitting. Consider the following example: in a training dataset, we have a single categorical feature with a single value and 5 objects of class 0 and 6 objects of class 1. Obviously feature that has only one possible value is useless, however, if we use Leave-One-Out Target Encoding with mean function for all the objects of class 0 the feature value will be encoded into 0.6 while for all the objects of class 1 the feature encoding value will be 0.5. This will allow a decision tree classifier to choose a split at 0.55 and achieve 100% accuracy on the training set. \n",
    "\n",
    "# 2. Categorical features processing in CatBoost\n",
    "CatBoost supports some traditional methods of categorical data preprocessing, such as One-hot Encoding and Frequency Encoding. However one of the signatures of this package is its original solution for categorical features encoding. \n",
    "\n",
    "The core idea behind CatBoost categorical features preprocessing is **Ordered Target Encoding**: a random permutation of the dataset is performed and then target encoding of some type (for example just computing mean of the target for objects of this category) is performed on each example *using only the objects that are placed before the current object*.\n",
    "\n",
    "Generally transforming categorical features to numerical features in CatBoost includes the following steps:\n",
    "\n",
    "1. **Permutation** of the training objects in random order. \n",
    "2. **Quantization** i.e. converting the target value from a floating point to an integer depending on the task type:\n",
    "    * Classification - Possible values for target value are “0” (doesn't belong to the specified target class) and “1” (belongs to the specified target class).\n",
    "    * Multiclassification - The target values are integer identifiers of target classes (starting from “0”).\n",
    "    * Regression - Quantization is performed on the label value. **The mode and number of buckets are set in the starting parameters**. All values located inside a single bucket are assigned a label value class – an integer in the range defined by the formula: <bucket ID – 1>. \n",
    "3. **Encoding** the categorical feature values. \n",
    "\n",
    "CatBoost creates four permutations of the training objects and for each permutation, a separate model is trained. Three models are used for the tree structure selection and the fourth is used to compute the leaves values of the final model that we save. At each iteration one of the three models is chosen randomly; this model is used to choose the new tree structure and to calculate the leaves values for all the four models. \n",
    "\n",
    "Using several models for tree structure selection enhances the robustness of the categorical features encoding. If in one permutation an object is close to the beginning of the dataset and the statistics for encoding are calculated on a small number of objects in the other two permutations it may be closer to the end of the dataset and many objects will be used to compute the statistics. \n",
    "\n",
    "Another important point is that **CatBoost can create new categorical features combining the existing ones**. And it will actually do so unless you explicitly tell it not to :) Treatment of the original features and the created features can be controlled separately by the settings `simple_ctr` and `combinations_ctr` respectively (we will talk about them in detail). \n",
    "    \n",
    "# 3. Categorical features parameters in practice: the old cars prices prediction\n",
    "\n",
    "![cars](https://www.ratchetandwrench.com/ext/resources/car-sales.jpg?1488213871)"
   ]
  },
  {
   "cell_type": "code",
   "execution_count": 1,
   "metadata": {
    "ExecuteTime": {
     "end_time": "2020-06-23T17:55:43.172154Z",
     "start_time": "2020-06-23T17:55:36.954445Z"
    },
    "_cell_guid": "b1076dfc-b9ad-4769-8c92-a6c4dae69d19",
    "_uuid": "8f2839f25d086af736a60e9eeb907d3b93b6e0e5",
    "colab": {
     "base_uri": "https://localhost:8080/",
     "height": 52
    },
    "colab_type": "code",
    "id": "Hb4Z2PXzc606",
    "outputId": "01d0a979-40a1-4c28-849a-6eb88baaf244"
   },
   "outputs": [],
   "source": [
    "import numpy as np\n",
    "import pandas as pd \n",
    "import seaborn as sns\n",
    "\n",
    "from sklearn.metrics import r2_score, mean_squared_error\n",
    "from sklearn.model_selection import KFold"
   ]
  },
  {
   "cell_type": "markdown",
   "metadata": {
    "colab_type": "text",
    "id": "X-4hzRZZc61C"
   },
   "source": [
    "## Dataset\n",
    "\n",
    "For the experiments in this tutorial, we are going to use https://www.kaggle.com/lepchenkov/usedcarscatalog \n",
    "\n",
    "This dataset consists of the old cars descriptions and their characteristics - both numerical, such as mileage, production year, etc and categorical, such as color, manufacturer name, model name, etc.\n",
    "\n",
    "Our goal is to solve the *regression* task, i.e. to predict the price of an old car."
   ]
  },
  {
   "cell_type": "code",
   "execution_count": 2,
   "metadata": {
    "colab": {
     "base_uri": "https://localhost:8080/",
     "height": 208
    },
    "colab_type": "code",
    "deletable": false,
    "editable": false,
    "id": "T4M5X0pYdMqw",
    "outputId": "9210ab32-21f7-4ca7-b739-92ff5d2135c4",
    "run_control": {
     "frozen": true
    }
   },
   "outputs": [
    {
     "name": "stdout",
     "output_type": "stream",
     "text": [
      "--2023-09-27 23:11:42--  https://gist.githubusercontent.com/garkavem/2613ca62c9ace338b217eccc99fe1f6f/raw/981dae5111bb2a30e20dca888a99020d5c4f5899/gistfile1.txt\n",
      "Распознаётся gist.githubusercontent.com (gist.githubusercontent.com)… 185.199.110.133, 185.199.109.133, 185.199.108.133, ...\n",
      "Подключение к gist.githubusercontent.com (gist.githubusercontent.com)|185.199.110.133|:443... соединение установлено.\n",
      "HTTP-запрос отправлен. Ожидание ответа… 200 OK\n",
      "Длина: 7542506 (7,2M) [text/plain]\n",
      "Сохранение в: ‘cars.csv’\n",
      "\n",
      "cars.csv            100%[===================>]   7,19M  4,43MB/s    за 1,6s    \n",
      "\n",
      "2023-09-27 23:11:44 (4,43 MB/s) - ‘cars.csv’ сохранён [7542506/7542506]\n",
      "\n"
     ]
    }
   ],
   "source": [
    "!wget https://gist.githubusercontent.com/garkavem/2613ca62c9ace338b217eccc99fe1f6f/raw/981dae5111bb2a30e20dca888a99020d5c4f5899/gistfile1.txt -O cars.csv"
   ]
  },
  {
   "cell_type": "code",
   "execution_count": 3,
   "metadata": {
    "ExecuteTime": {
     "end_time": "2020-06-23T17:55:43.615619Z",
     "start_time": "2020-06-23T17:55:43.178412Z"
    },
    "_cell_guid": "79c7e3d0-c299-4dcb-8224-4455121ee9b0",
    "_uuid": "d629ff2d2480ee46fbb7e2d37f6b5fab8052498a",
    "colab": {},
    "colab_type": "code",
    "id": "NPYhLsw2c61F"
   },
   "outputs": [],
   "source": [
    "df = pd.read_csv('cars.csv')"
   ]
  },
  {
   "cell_type": "code",
   "execution_count": 4,
   "metadata": {
    "ExecuteTime": {
     "end_time": "2020-06-23T17:55:43.675052Z",
     "start_time": "2020-06-23T17:55:43.616759Z"
    },
    "colab": {
     "base_uri": "https://localhost:8080/",
     "height": 444
    },
    "colab_type": "code",
    "id": "s-VgEli5c61K",
    "outputId": "eb777a7c-a338-4a7d-a7f7-5fa30f592266",
    "scrolled": false
   },
   "outputs": [
    {
     "data": {
      "text/html": [
       "<div>\n",
       "<style scoped>\n",
       "    .dataframe tbody tr th:only-of-type {\n",
       "        vertical-align: middle;\n",
       "    }\n",
       "\n",
       "    .dataframe tbody tr th {\n",
       "        vertical-align: top;\n",
       "    }\n",
       "\n",
       "    .dataframe thead th {\n",
       "        text-align: right;\n",
       "    }\n",
       "</style>\n",
       "<table border=\"1\" class=\"dataframe\">\n",
       "  <thead>\n",
       "    <tr style=\"text-align: right;\">\n",
       "      <th></th>\n",
       "      <th>manufacturer_name</th>\n",
       "      <th>model_name</th>\n",
       "      <th>transmission</th>\n",
       "      <th>color</th>\n",
       "      <th>odometer_value</th>\n",
       "      <th>year_produced</th>\n",
       "      <th>engine_fuel</th>\n",
       "      <th>engine_has_gas</th>\n",
       "      <th>engine_type</th>\n",
       "      <th>engine_capacity</th>\n",
       "      <th>...</th>\n",
       "      <th>feature_1</th>\n",
       "      <th>feature_2</th>\n",
       "      <th>feature_3</th>\n",
       "      <th>feature_4</th>\n",
       "      <th>feature_5</th>\n",
       "      <th>feature_6</th>\n",
       "      <th>feature_7</th>\n",
       "      <th>feature_8</th>\n",
       "      <th>feature_9</th>\n",
       "      <th>duration_listed</th>\n",
       "    </tr>\n",
       "  </thead>\n",
       "  <tbody>\n",
       "    <tr>\n",
       "      <th>0</th>\n",
       "      <td>Subaru</td>\n",
       "      <td>Outback</td>\n",
       "      <td>automatic</td>\n",
       "      <td>silver</td>\n",
       "      <td>190000</td>\n",
       "      <td>2010</td>\n",
       "      <td>gasoline</td>\n",
       "      <td>False</td>\n",
       "      <td>gasoline</td>\n",
       "      <td>2.5</td>\n",
       "      <td>...</td>\n",
       "      <td>True</td>\n",
       "      <td>True</td>\n",
       "      <td>True</td>\n",
       "      <td>False</td>\n",
       "      <td>True</td>\n",
       "      <td>False</td>\n",
       "      <td>True</td>\n",
       "      <td>True</td>\n",
       "      <td>True</td>\n",
       "      <td>16</td>\n",
       "    </tr>\n",
       "    <tr>\n",
       "      <th>1</th>\n",
       "      <td>Subaru</td>\n",
       "      <td>Outback</td>\n",
       "      <td>automatic</td>\n",
       "      <td>blue</td>\n",
       "      <td>290000</td>\n",
       "      <td>2002</td>\n",
       "      <td>gasoline</td>\n",
       "      <td>False</td>\n",
       "      <td>gasoline</td>\n",
       "      <td>3.0</td>\n",
       "      <td>...</td>\n",
       "      <td>True</td>\n",
       "      <td>False</td>\n",
       "      <td>False</td>\n",
       "      <td>True</td>\n",
       "      <td>True</td>\n",
       "      <td>False</td>\n",
       "      <td>False</td>\n",
       "      <td>False</td>\n",
       "      <td>True</td>\n",
       "      <td>83</td>\n",
       "    </tr>\n",
       "    <tr>\n",
       "      <th>2</th>\n",
       "      <td>Subaru</td>\n",
       "      <td>Forester</td>\n",
       "      <td>automatic</td>\n",
       "      <td>red</td>\n",
       "      <td>402000</td>\n",
       "      <td>2001</td>\n",
       "      <td>gasoline</td>\n",
       "      <td>False</td>\n",
       "      <td>gasoline</td>\n",
       "      <td>2.5</td>\n",
       "      <td>...</td>\n",
       "      <td>True</td>\n",
       "      <td>False</td>\n",
       "      <td>False</td>\n",
       "      <td>False</td>\n",
       "      <td>False</td>\n",
       "      <td>False</td>\n",
       "      <td>False</td>\n",
       "      <td>True</td>\n",
       "      <td>True</td>\n",
       "      <td>151</td>\n",
       "    </tr>\n",
       "    <tr>\n",
       "      <th>3</th>\n",
       "      <td>Subaru</td>\n",
       "      <td>Impreza</td>\n",
       "      <td>mechanical</td>\n",
       "      <td>blue</td>\n",
       "      <td>10000</td>\n",
       "      <td>1999</td>\n",
       "      <td>gasoline</td>\n",
       "      <td>False</td>\n",
       "      <td>gasoline</td>\n",
       "      <td>3.0</td>\n",
       "      <td>...</td>\n",
       "      <td>False</td>\n",
       "      <td>False</td>\n",
       "      <td>False</td>\n",
       "      <td>False</td>\n",
       "      <td>False</td>\n",
       "      <td>False</td>\n",
       "      <td>False</td>\n",
       "      <td>False</td>\n",
       "      <td>False</td>\n",
       "      <td>86</td>\n",
       "    </tr>\n",
       "    <tr>\n",
       "      <th>4</th>\n",
       "      <td>Subaru</td>\n",
       "      <td>Legacy</td>\n",
       "      <td>automatic</td>\n",
       "      <td>black</td>\n",
       "      <td>280000</td>\n",
       "      <td>2001</td>\n",
       "      <td>gasoline</td>\n",
       "      <td>False</td>\n",
       "      <td>gasoline</td>\n",
       "      <td>2.5</td>\n",
       "      <td>...</td>\n",
       "      <td>True</td>\n",
       "      <td>False</td>\n",
       "      <td>True</td>\n",
       "      <td>True</td>\n",
       "      <td>False</td>\n",
       "      <td>False</td>\n",
       "      <td>False</td>\n",
       "      <td>False</td>\n",
       "      <td>True</td>\n",
       "      <td>7</td>\n",
       "    </tr>\n",
       "    <tr>\n",
       "      <th>...</th>\n",
       "      <td>...</td>\n",
       "      <td>...</td>\n",
       "      <td>...</td>\n",
       "      <td>...</td>\n",
       "      <td>...</td>\n",
       "      <td>...</td>\n",
       "      <td>...</td>\n",
       "      <td>...</td>\n",
       "      <td>...</td>\n",
       "      <td>...</td>\n",
       "      <td>...</td>\n",
       "      <td>...</td>\n",
       "      <td>...</td>\n",
       "      <td>...</td>\n",
       "      <td>...</td>\n",
       "      <td>...</td>\n",
       "      <td>...</td>\n",
       "      <td>...</td>\n",
       "      <td>...</td>\n",
       "      <td>...</td>\n",
       "      <td>...</td>\n",
       "    </tr>\n",
       "    <tr>\n",
       "      <th>38526</th>\n",
       "      <td>Chrysler</td>\n",
       "      <td>300</td>\n",
       "      <td>automatic</td>\n",
       "      <td>silver</td>\n",
       "      <td>290000</td>\n",
       "      <td>2000</td>\n",
       "      <td>gasoline</td>\n",
       "      <td>False</td>\n",
       "      <td>gasoline</td>\n",
       "      <td>3.5</td>\n",
       "      <td>...</td>\n",
       "      <td>True</td>\n",
       "      <td>False</td>\n",
       "      <td>False</td>\n",
       "      <td>True</td>\n",
       "      <td>True</td>\n",
       "      <td>False</td>\n",
       "      <td>False</td>\n",
       "      <td>True</td>\n",
       "      <td>True</td>\n",
       "      <td>301</td>\n",
       "    </tr>\n",
       "    <tr>\n",
       "      <th>38527</th>\n",
       "      <td>Chrysler</td>\n",
       "      <td>PT Cruiser</td>\n",
       "      <td>mechanical</td>\n",
       "      <td>blue</td>\n",
       "      <td>321000</td>\n",
       "      <td>2004</td>\n",
       "      <td>diesel</td>\n",
       "      <td>False</td>\n",
       "      <td>diesel</td>\n",
       "      <td>2.2</td>\n",
       "      <td>...</td>\n",
       "      <td>True</td>\n",
       "      <td>False</td>\n",
       "      <td>False</td>\n",
       "      <td>True</td>\n",
       "      <td>True</td>\n",
       "      <td>False</td>\n",
       "      <td>False</td>\n",
       "      <td>True</td>\n",
       "      <td>True</td>\n",
       "      <td>317</td>\n",
       "    </tr>\n",
       "    <tr>\n",
       "      <th>38528</th>\n",
       "      <td>Chrysler</td>\n",
       "      <td>300</td>\n",
       "      <td>automatic</td>\n",
       "      <td>blue</td>\n",
       "      <td>777957</td>\n",
       "      <td>2000</td>\n",
       "      <td>gasoline</td>\n",
       "      <td>False</td>\n",
       "      <td>gasoline</td>\n",
       "      <td>3.5</td>\n",
       "      <td>...</td>\n",
       "      <td>True</td>\n",
       "      <td>False</td>\n",
       "      <td>False</td>\n",
       "      <td>True</td>\n",
       "      <td>True</td>\n",
       "      <td>False</td>\n",
       "      <td>False</td>\n",
       "      <td>True</td>\n",
       "      <td>True</td>\n",
       "      <td>369</td>\n",
       "    </tr>\n",
       "    <tr>\n",
       "      <th>38529</th>\n",
       "      <td>Chrysler</td>\n",
       "      <td>PT Cruiser</td>\n",
       "      <td>mechanical</td>\n",
       "      <td>black</td>\n",
       "      <td>20000</td>\n",
       "      <td>2001</td>\n",
       "      <td>gasoline</td>\n",
       "      <td>False</td>\n",
       "      <td>gasoline</td>\n",
       "      <td>2.0</td>\n",
       "      <td>...</td>\n",
       "      <td>True</td>\n",
       "      <td>False</td>\n",
       "      <td>False</td>\n",
       "      <td>False</td>\n",
       "      <td>False</td>\n",
       "      <td>False</td>\n",
       "      <td>False</td>\n",
       "      <td>False</td>\n",
       "      <td>True</td>\n",
       "      <td>490</td>\n",
       "    </tr>\n",
       "    <tr>\n",
       "      <th>38530</th>\n",
       "      <td>Chrysler</td>\n",
       "      <td>Voyager</td>\n",
       "      <td>automatic</td>\n",
       "      <td>silver</td>\n",
       "      <td>297729</td>\n",
       "      <td>2000</td>\n",
       "      <td>gasoline</td>\n",
       "      <td>False</td>\n",
       "      <td>gasoline</td>\n",
       "      <td>2.4</td>\n",
       "      <td>...</td>\n",
       "      <td>False</td>\n",
       "      <td>False</td>\n",
       "      <td>False</td>\n",
       "      <td>False</td>\n",
       "      <td>False</td>\n",
       "      <td>False</td>\n",
       "      <td>False</td>\n",
       "      <td>False</td>\n",
       "      <td>True</td>\n",
       "      <td>632</td>\n",
       "    </tr>\n",
       "  </tbody>\n",
       "</table>\n",
       "<p>38531 rows × 30 columns</p>\n",
       "</div>"
      ],
      "text/plain": [
       "      manufacturer_name  model_name transmission   color  odometer_value  \\\n",
       "0                Subaru     Outback    automatic  silver          190000   \n",
       "1                Subaru     Outback    automatic    blue          290000   \n",
       "2                Subaru    Forester    automatic     red          402000   \n",
       "3                Subaru     Impreza   mechanical    blue           10000   \n",
       "4                Subaru      Legacy    automatic   black          280000   \n",
       "...                 ...         ...          ...     ...             ...   \n",
       "38526          Chrysler         300    automatic  silver          290000   \n",
       "38527          Chrysler  PT Cruiser   mechanical    blue          321000   \n",
       "38528          Chrysler         300    automatic    blue          777957   \n",
       "38529          Chrysler  PT Cruiser   mechanical   black           20000   \n",
       "38530          Chrysler     Voyager    automatic  silver          297729   \n",
       "\n",
       "       year_produced engine_fuel  engine_has_gas engine_type  engine_capacity  \\\n",
       "0               2010    gasoline           False    gasoline              2.5   \n",
       "1               2002    gasoline           False    gasoline              3.0   \n",
       "2               2001    gasoline           False    gasoline              2.5   \n",
       "3               1999    gasoline           False    gasoline              3.0   \n",
       "4               2001    gasoline           False    gasoline              2.5   \n",
       "...              ...         ...             ...         ...              ...   \n",
       "38526           2000    gasoline           False    gasoline              3.5   \n",
       "38527           2004      diesel           False      diesel              2.2   \n",
       "38528           2000    gasoline           False    gasoline              3.5   \n",
       "38529           2001    gasoline           False    gasoline              2.0   \n",
       "38530           2000    gasoline           False    gasoline              2.4   \n",
       "\n",
       "       ... feature_1  feature_2 feature_3 feature_4  feature_5  feature_6  \\\n",
       "0      ...      True       True      True     False       True      False   \n",
       "1      ...      True      False     False      True       True      False   \n",
       "2      ...      True      False     False     False      False      False   \n",
       "3      ...     False      False     False     False      False      False   \n",
       "4      ...      True      False      True      True      False      False   \n",
       "...    ...       ...        ...       ...       ...        ...        ...   \n",
       "38526  ...      True      False     False      True       True      False   \n",
       "38527  ...      True      False     False      True       True      False   \n",
       "38528  ...      True      False     False      True       True      False   \n",
       "38529  ...      True      False     False     False      False      False   \n",
       "38530  ...     False      False     False     False      False      False   \n",
       "\n",
       "      feature_7  feature_8  feature_9  duration_listed  \n",
       "0          True       True       True               16  \n",
       "1         False      False       True               83  \n",
       "2         False       True       True              151  \n",
       "3         False      False      False               86  \n",
       "4         False      False       True                7  \n",
       "...         ...        ...        ...              ...  \n",
       "38526     False       True       True              301  \n",
       "38527     False       True       True              317  \n",
       "38528     False       True       True              369  \n",
       "38529     False      False       True              490  \n",
       "38530     False      False       True              632  \n",
       "\n",
       "[38531 rows x 30 columns]"
      ]
     },
     "execution_count": 4,
     "metadata": {},
     "output_type": "execute_result"
    }
   ],
   "source": [
    "df"
   ]
  },
  {
   "cell_type": "code",
   "execution_count": 5,
   "metadata": {
    "ExecuteTime": {
     "end_time": "2020-06-23T17:55:43.720589Z",
     "start_time": "2020-06-23T17:55:43.676598Z"
    },
    "colab": {},
    "colab_type": "code",
    "id": "1yAppm7Oc61P"
   },
   "outputs": [],
   "source": [
    "categorical_features_names = ['manufacturer_name', 'model_name', 'transmission', 'color', 'engine_fuel',\n",
    "                              'engine_type',  'body_type',  'state', 'drivetrain','location_region']"
   ]
  },
  {
   "cell_type": "markdown",
   "metadata": {
    "colab_type": "text",
    "id": "D56FPVaCc61U"
   },
   "source": [
    "Lets see how many unique values each categorical variable has:"
   ]
  },
  {
   "cell_type": "code",
   "execution_count": 6,
   "metadata": {
    "ExecuteTime": {
     "end_time": "2020-06-23T17:55:43.909313Z",
     "start_time": "2020-06-23T17:55:43.722114Z"
    },
    "colab": {
     "base_uri": "https://localhost:8080/",
     "height": 225
    },
    "colab_type": "code",
    "id": "RQGKBjHTc61V",
    "outputId": "b90ffb50-1252-4532-e1e4-55d3ea49d34b"
   },
   "outputs": [
    {
     "data": {
      "text/plain": [
       "manufacturer_name      55\n",
       "model_name           1118\n",
       "transmission            2\n",
       "color                  12\n",
       "engine_fuel             6\n",
       "engine_type             3\n",
       "body_type              12\n",
       "state                   3\n",
       "drivetrain              3\n",
       "location_region         6\n",
       "dtype: int64"
      ]
     },
     "execution_count": 6,
     "metadata": {},
     "output_type": "execute_result"
    }
   ],
   "source": [
    "df[categorical_features_names].nunique()"
   ]
  },
  {
   "cell_type": "markdown",
   "metadata": {},
   "source": [
    "Here is the target value distribution:"
   ]
  },
  {
   "cell_type": "code",
   "execution_count": 7,
   "metadata": {
    "ExecuteTime": {
     "end_time": "2020-06-23T17:55:44.556817Z",
     "start_time": "2020-06-23T17:55:43.911007Z"
    },
    "colab": {
     "base_uri": "https://localhost:8080/",
     "height": 282
    },
    "colab_type": "code",
    "id": "XsEGBMXIc61a",
    "outputId": "e04d2a52-5aa0-4e89-b309-ccbf19126c85"
   },
   "outputs": [
    {
     "name": "stderr",
     "output_type": "stream",
     "text": [
      "/tmp/ipykernel_11005/2299590214.py:1: UserWarning: \n",
      "\n",
      "`distplot` is a deprecated function and will be removed in seaborn v0.14.0.\n",
      "\n",
      "Please adapt your code to use either `displot` (a figure-level function with\n",
      "similar flexibility) or `histplot` (an axes-level function for histograms).\n",
      "\n",
      "For a guide to updating your code to use the new functions, please see\n",
      "https://gist.github.com/mwaskom/de44147ed2974457ad6372750bbe5751\n",
      "\n",
      "  sns.distplot(df.price_usd.values)\n"
     ]
    },
    {
     "data": {
      "text/plain": [
       "4800.0"
      ]
     },
     "execution_count": 7,
     "metadata": {},
     "output_type": "execute_result"
    },
    {
     "data": {
      "image/png": "[encoded data removed]",
      "text/plain": [
       "<Figure size 640x480 with 1 Axes>"
      ]
     },
     "metadata": {},
     "output_type": "display_data"
    }
   ],
   "source": [
    "sns.distplot(df.price_usd.values)\n",
    "np.median(df.price_usd.values)"
   ]
  },
  {
   "cell_type": "markdown",
   "metadata": {
    "colab_type": "text",
    "id": "nwXEuBARc61e"
   },
   "source": [
    "First, we are going to roughly estimate the number of trees and the learning rate required that are sufficient for this task. "
   ]
  },
  {
   "cell_type": "code",
   "execution_count": 9,
   "metadata": {
    "colab": {
     "base_uri": "https://localhost:8080/",
     "height": 330
    },
    "colab_type": "code",
    "deletable": false,
    "editable": false,
    "id": "eEzf0mefdojE",
    "outputId": "17ad53e2-a14d-41d1-ab1d-95918416fa52",
    "run_control": {
     "frozen": true
    }
   },
   "outputs": [
    {
     "name": "stdout",
     "output_type": "stream",
     "text": [
      "Requirement already satisfied: catboost in /home/akalend/bin/anaconda/lib/python3.10/site-packages (1.2)\n",
      "Requirement already satisfied: pandas>=0.24 in /home/akalend/bin/anaconda/lib/python3.10/site-packages (from catboost) (1.5.3)\n",
      "Requirement already satisfied: six in /home/akalend/bin/anaconda/lib/python3.10/site-packages (from catboost) (1.16.0)\n",
      "Requirement already satisfied: graphviz in /home/akalend/bin/anaconda/lib/python3.10/site-packages (from catboost) (0.20.1)\n",
      "Requirement already satisfied: numpy>=1.16.0 in /home/akalend/bin/anaconda/lib/python3.10/site-packages (from catboost) (1.23.5)\n",
      "Requirement already satisfied: matplotlib in /home/akalend/bin/anaconda/lib/python3.10/site-packages (from catboost) (3.7.0)\n",
      "Requirement already satisfied: scipy in /home/akalend/bin/anaconda/lib/python3.10/site-packages (from catboost) (1.10.0)\n",
      "Requirement already satisfied: plotly in /home/akalend/bin/anaconda/lib/python3.10/site-packages (from catboost) (5.9.0)\n",
      "Requirement already satisfied: python-dateutil>=2.8.1 in /home/akalend/bin/anaconda/lib/python3.10/site-packages (from pandas>=0.24->catboost) (2.8.2)\n",
      "Requirement already satisfied: pytz>=2020.1 in /home/akalend/bin/anaconda/lib/python3.10/site-packages (from pandas>=0.24->catboost) (2022.7)\n",
      "Requirement already satisfied: pillow>=6.2.0 in /home/akalend/bin/anaconda/lib/python3.10/site-packages (from matplotlib->catboost) (9.4.0)\n",
      "Requirement already satisfied: contourpy>=1.0.1 in /home/akalend/bin/anaconda/lib/python3.10/site-packages (from matplotlib->catboost) (1.0.5)\n",
      "Requirement already satisfied: fonttools>=4.22.0 in /home/akalend/bin/anaconda/lib/python3.10/site-packages (from matplotlib->catboost) (4.25.0)\n",
      "Requirement already satisfied: kiwisolver>=1.0.1 in /home/akalend/bin/anaconda/lib/python3.10/site-packages (from matplotlib->catboost) (1.4.4)\n",
      "Requirement already satisfied: pyparsing>=2.3.1 in /home/akalend/bin/anaconda/lib/python3.10/site-packages (from matplotlib->catboost) (3.0.9)\n",
      "Requirement already satisfied: packaging>=20.0 in /home/akalend/bin/anaconda/lib/python3.10/site-packages (from matplotlib->catboost) (22.0)\n",
      "Requirement already satisfied: cycler>=0.10 in /home/akalend/bin/anaconda/lib/python3.10/site-packages (from matplotlib->catboost) (0.11.0)\n",
      "Requirement already satisfied: tenacity>=6.2.0 in /home/akalend/bin/anaconda/lib/python3.10/site-packages (from plotly->catboost) (8.0.1)\n"
     ]
    }
   ],
   "source": [
    "!pip install catboost"
   ]
  },
  {
   "cell_type": "code",
   "execution_count": 10,
   "metadata": {
    "ExecuteTime": {
     "end_time": "2020-06-23T17:55:45.462024Z",
     "start_time": "2020-06-23T17:55:44.557875Z"
    },
    "colab": {},
    "colab_type": "code",
    "id": "bBG03cU5c61f"
   },
   "outputs": [
    {
     "name": "stderr",
     "output_type": "stream",
     "text": [
      "/tmp/ipykernel_11005/4107773597.py:5: FutureWarning: In a future version of pandas all arguments of DataFrame.drop except for the argument 'labels' will be keyword-only.\n",
      "  train_pool = Pool(df_train.drop(['price_usd'], 1),\n",
      "/tmp/ipykernel_11005/4107773597.py:8: FutureWarning: In a future version of pandas all arguments of DataFrame.drop except for the argument 'labels' will be keyword-only.\n",
      "  test_pool = Pool(df_test.drop(['price_usd'], 1),\n"
     ]
    }
   ],
   "source": [
    "from catboost import CatBoost, CatBoostRegressor, Pool\n",
    "df_ = df.sample(frac=1., random_state=0)\n",
    "df_train = df_.iloc[: 2 * len(df) // 3]\n",
    "df_test = df_.iloc[2 * len(df) // 3 :]\n",
    "train_pool = Pool(df_train.drop(['price_usd'], 1), \n",
    "                  label=df_train.price_usd,\n",
    "                  cat_features=categorical_features_names)\n",
    "test_pool = Pool(df_test.drop(['price_usd'], 1),\n",
    "                 label=df_test.price_usd,\n",
    "                 cat_features=categorical_features_names)"
   ]
  },
  {
   "cell_type": "code",
   "execution_count": 12,
   "metadata": {
    "ExecuteTime": {
     "end_time": "2020-06-21T22:08:42.562307Z",
     "start_time": "2020-06-21T22:07:45.268083Z"
    },
    "colab": {
     "base_uri": "https://localhost:8080/",
     "height": 573,
     "referenced_widgets": [
      "f686c942b28a40359ec03f9c5097d7af",
      "cd52d6b8b8dd4b79a23a44aada53f30d"
     ]
    },
    "colab_type": "code",
    "deletable": false,
    "editable": false,
    "id": "o1ffwPvfc61i",
    "outputId": "cb371a80-756b-418c-fd1c-430e9b6d7ab8",
    "run_control": {
     "frozen": true
    },
    "scrolled": false
   },
   "outputs": [
    {
     "data": {
      "application/vnd.jupyter.widget-view+json": {
       "model_id": "f1409aaed5f24acb917ebd1e54ce331d",
       "version_major": 2,
       "version_minor": 0
      },
      "text/plain": [
       "MetricVisualizer(layout=Layout(align_self='stretch', height='500px'))"
      ]
     },
     "metadata": {},
     "output_type": "display_data"
    },
    {
     "name": "stdout",
     "output_type": "stream",
     "text": [
      "0:\tlearn: 5935.7603510\ttest: 6046.0339243\tbest: 6046.0339243 (0)\ttotal: 51.7ms\tremaining: 4m 18s\n",
      "2000:\tlearn: 1052.8405096\ttest: 1684.8571308\tbest: 1684.8571308 (2000)\ttotal: 1m 10s\tremaining: 1m 46s\n",
      "4000:\tlearn: 830.0093394\ttest: 1669.1267503\tbest: 1668.7626148 (3888)\ttotal: 2m 25s\tremaining: 36.2s\n",
      "4999:\tlearn: 753.5299104\ttest: 1666.7826842\tbest: 1666.6739968 (4463)\ttotal: 3m 5s\tremaining: 0us\n",
      "\n",
      "bestTest = 1666.673997\n",
      "bestIteration = 4463\n",
      "\n",
      "Shrink model to first 4464 iterations.\n"
     ]
    },
    {
     "data": {
      "text/plain": [
       "<catboost.core.CatBoostRegressor at 0x7f3445d5c3d0>"
      ]
     },
     "execution_count": 12,
     "metadata": {},
     "output_type": "execute_result"
    }
   ],
   "source": [
    "model = CatBoostRegressor(custom_metric= ['R2', 'RMSE'], learning_rate=0.1, n_estimators=5000)\n",
    "model.fit(train_pool, eval_set=test_pool, verbose=2000, plot=True)"
   ]
  },
  {
   "cell_type": "markdown",
   "metadata": {
    "colab_type": "text",
    "id": "ETl4LEJGc61m"
   },
   "source": [
    "Now we are going to write a simple function that tests CatBoost performance on 3-fold cross-validation given the parameters and returns the full list of parameters for the last model. Optionally this function compares the model's metrics with the results of the model trained with the default categorical features parameters.\n",
    "\n",
    "We will fix the number of estimators at 4500 and the learning rate at 0.1. "
   ]
  },
  {
   "cell_type": "code",
   "execution_count": 23,
   "metadata": {
    "ExecuteTime": {
     "end_time": "2020-06-23T17:55:45.469862Z",
     "start_time": "2020-06-23T17:55:45.463271Z"
    },
    "colab": {},
    "colab_type": "code",
    "id": "Igo6TQYXc61o"
   },
   "outputs": [],
   "source": [
    "kf = KFold(n_splits=3, shuffle=True)\n",
    "DEFAULT_PARAMETERS = {'n_estimators' : 4500, 'learning_rate' : 0.1}\n",
    "DEFAULT_MODEL_METRICS = {}\n",
    "\n",
    "def score_catboost_model(catboost_parameters, update_defaults=False):\n",
    "    r2_values = []\n",
    "    rmse_values = []\n",
    "    catboost_parameters.update(DEFAULT_PARAMETERS)\n",
    "    for train_index, test_index in kf.split(df):\n",
    "        train_pool = Pool(df.iloc[train_index].drop(['price_usd'], 1),\n",
    "                          label=df.iloc[train_index].price_usd,\n",
    "                          cat_features=categorical_features_names)\n",
    "        test_pool = Pool(df.iloc[test_index].drop(['price_usd'], 1),\n",
    "                        label=df.iloc[test_index].price_usd,\n",
    "                        cat_features=categorical_features_names)\n",
    "        model = CatBoost(catboost_parameters)\n",
    "        model.fit(train_pool, verbose=False)\n",
    "        \n",
    "        r2_values.append(r2_score(df.iloc[test_index].price_usd.values, model.predict(test_pool)))\n",
    "        rmse_values.append(mean_squared_error(df.iloc[test_index].price_usd.values,\n",
    "                                              model.predict(test_pool),\n",
    "                                              squared=False)) \n",
    "    if update_defaults:\n",
    "        DEFAULT_MODEL_METRICS['R2'] = np.mean(r2_values)\n",
    "        DEFAULT_MODEL_METRICS['RMSE'] = np.mean(rmse_values)\n",
    "        print('R2 score: {:.4f}({:.4f})'.format(np.mean(r2_values), np.std(r2_values)))\n",
    "        print('RMSE score: {:.0f}({:.0f})'.format(np.mean(rmse_values), np.std(rmse_values)))  \n",
    "\n",
    "    else:\n",
    "        DEFAULT_MODEL_R2 = DEFAULT_MODEL_METRICS['R2']\n",
    "        DEFAULT_MODEL_RMSE = DEFAULT_MODEL_METRICS['RMSE']\n",
    "        r2_change = 100 * (np.mean(r2_values) - DEFAULT_MODEL_R2) / DEFAULT_MODEL_R2\n",
    "        rmse_change = 100 * (np.mean(rmse_values) - DEFAULT_MODEL_RMSE) / DEFAULT_MODEL_RMSE\n",
    "        print('R2 score: {:.4f}({:.4f}) {:+.1f}% compared to default parameters'.format(\n",
    "            np.mean(r2_values), np.std(r2_values), r2_change))\n",
    "        print('RMSE score: {:.0f}({:.0f}) {:+.1f}% compared to default parameters'.format(\n",
    "            np.mean(rmse_values), np.std(rmse_values), rmse_change))  \n",
    "        \n",
    "    return model.get_all_params()"
   ]
  },
  {
   "cell_type": "markdown",
   "metadata": {
    "colab_type": "text",
    "id": "b967rsfNc61r"
   },
   "source": [
    "# Categorical features encoding parameters in CatBoost\n",
    "\n",
    "The amount of parameters related to categorical features processing in CatBoost is overwhelming. Here is a hopefully the full list:\n",
    "* `one_hot_max_size` (int) - use one-hot encoding for all categorical features with a number of different values less than or equal to the given parameter value. No complex encoding is performed for such features. *Default for regression task is 2.*\n",
    "* `model_size_reg` (float from 0 to inf) - The model size regularization coefficient. The larger the value, the smaller the model size. Refer to the Model size regularization coefficient section for details. This regularization is needed only for models with categorical features (other models are small). Models with categorical features might weight tens of gigabytes or more if categorical features have a lot of values. If the value of the regularizer differs from zero, then the usage of categorical features or feature combinations with a lot of values has a penalty, so fewer of them are used in the resulting model. *Default value is 0.5*\n",
    "* `max_ctr_complexity` - The maximum number of features that can be combined. Each resulting combination consists of one or more categorical features and can optionally contain binary features in the following form: “numeric feature > value”. *For regression task on CPU the default value is 4.*\n",
    "* `has_time` (bool) - if `true`, the 1-st step of categorical features processing, permutation, is not performed. Useful when the objects in your dataset are ordered by time. For our dataset, we don't need it. *Default value is* `False`\n",
    "* `simple_ctr` - Quantization settings for simple categorical features. \n",
    "* `combinations_ctr` - Quantization settings for combinations of categorical features. \n",
    "* `per_feature_ctr` - Per-feature quantization settings for categorical features.\n",
    "* `counter_calc_method` determines whether to use validation dataset(provided through parameter `eval_set` of `fit` method) to estimate categories frequencies with `Counter`. By default, it is `Full` and the objects from validation dataset are used; Pass `SkipTest` value to ignore the objects from the validation set\n",
    "* `ctr_target_border_count` - The maximum number of borders to use in target quantization for categorical features that need it. *Default for regression task is 1.*\n",
    "* `ctr_leaf_count_limit` - The maximum number of leaves with categorical features. *Default value is None i.e. no limit.*\n",
    "* `store_all_simple_ctr` - If the previous parameter `ctr_leaf_count_limit` at some point gradient boosting tree can no longer make splits by categorical features. With *Default value* `False` the limitation applies both to original categorical features and the features, that CatBoost creates by combining different features. If this parameter is set to `True` only the number of splits made on combination features is limited.\n",
    "\n",
    "The three parameters `simple_ctr`, `combinations_ctr`, and `per_feature_ctr` are complex parameters that control the second and the third steps of categorical features processing. We will talk about them more in the next sections.\n",
    "\n",
    "## Default parameters\n",
    "First, we test the out-of-the-box CatBoost categorical features processing."
   ]
  },
  {
   "cell_type": "code",
   "execution_count": 24,
   "metadata": {
    "ExecuteTime": {
     "end_time": "2020-06-23T17:57:40.360326Z",
     "start_time": "2020-06-23T17:55:48.032126Z"
    },
    "colab": {},
    "colab_type": "code",
    "id": "Exe_rKz3c61r",
    "outputId": "d03f3e3d-fca5-4a18-f9b6-4d33e7fbbc79"
   },
   "outputs": [
    {
     "name": "stderr",
     "output_type": "stream",
     "text": [
      "/tmp/ipykernel_11005/3105560854.py:10: FutureWarning: In a future version of pandas all arguments of DataFrame.drop except for the argument 'labels' will be keyword-only.\n",
      "  train_pool = Pool(df.iloc[train_index].drop(['price_usd'], 1),\n",
      "/tmp/ipykernel_11005/3105560854.py:13: FutureWarning: In a future version of pandas all arguments of DataFrame.drop except for the argument 'labels' will be keyword-only.\n",
      "  test_pool = Pool(df.iloc[test_index].drop(['price_usd'], 1),\n",
      "/tmp/ipykernel_11005/3105560854.py:10: FutureWarning: In a future version of pandas all arguments of DataFrame.drop except for the argument 'labels' will be keyword-only.\n",
      "  train_pool = Pool(df.iloc[train_index].drop(['price_usd'], 1),\n",
      "/tmp/ipykernel_11005/3105560854.py:13: FutureWarning: In a future version of pandas all arguments of DataFrame.drop except for the argument 'labels' will be keyword-only.\n",
      "  test_pool = Pool(df.iloc[test_index].drop(['price_usd'], 1),\n",
      "/tmp/ipykernel_11005/3105560854.py:10: FutureWarning: In a future version of pandas all arguments of DataFrame.drop except for the argument 'labels' will be keyword-only.\n",
      "  train_pool = Pool(df.iloc[train_index].drop(['price_usd'], 1),\n",
      "/tmp/ipykernel_11005/3105560854.py:13: FutureWarning: In a future version of pandas all arguments of DataFrame.drop except for the argument 'labels' will be keyword-only.\n",
      "  test_pool = Pool(df.iloc[test_index].drop(['price_usd'], 1),\n"
     ]
    },
    {
     "name": "stdout",
     "output_type": "stream",
     "text": [
      "R2 score: 0.9343(0.0013)\n",
      "RMSE score: 1647(16)\n"
     ]
    }
   ],
   "source": [
    "last_model_params = score_catboost_model({}, True)"
   ]
  },
  {
   "cell_type": "markdown",
   "metadata": {},
   "source": [
    "We will save the metrics of the model with the default categorical features parameters for the further comparison."
   ]
  },
  {
   "cell_type": "markdown",
   "metadata": {},
   "source": [
    "## One-Hot Encoding Max Size\n",
    "The first thing we try is to make CatBoost use one-hot encoding for all our categorical features (the max categorical feature cardinality in our dataset is 1118 < 2000). The documentation says, that for the features for which one-hot encoding is used no other encodings are computed.\n",
    "\n",
    "*Default value is:*\n",
    "* N/A if training is performed on CPU in Pairwise scoring mode\n",
    "* 255 if training is performed on GPU and the selected Ctr types require target data that is not available during the training\n",
    "* 10 if training is performed in Ranking mode\n",
    "* 2 if none of the conditions above is met"
   ]
  },
  {
   "cell_type": "code",
   "execution_count": 25,
   "metadata": {
    "ExecuteTime": {
     "end_time": "2020-06-02T08:55:07.676736Z",
     "start_time": "2020-06-02T08:54:16.530868Z"
    },
    "colab": {},
    "colab_type": "code",
    "id": "IhNOKdh3c61x",
    "outputId": "870fff04-5d46-4298-a557-1db9f59a83db"
   },
   "outputs": [
    {
     "name": "stderr",
     "output_type": "stream",
     "text": [
      "/tmp/ipykernel_11005/3105560854.py:10: FutureWarning: In a future version of pandas all arguments of DataFrame.drop except for the argument 'labels' will be keyword-only.\n",
      "  train_pool = Pool(df.iloc[train_index].drop(['price_usd'], 1),\n",
      "/tmp/ipykernel_11005/3105560854.py:13: FutureWarning: In a future version of pandas all arguments of DataFrame.drop except for the argument 'labels' will be keyword-only.\n",
      "  test_pool = Pool(df.iloc[test_index].drop(['price_usd'], 1),\n",
      "/tmp/ipykernel_11005/3105560854.py:10: FutureWarning: In a future version of pandas all arguments of DataFrame.drop except for the argument 'labels' will be keyword-only.\n",
      "  train_pool = Pool(df.iloc[train_index].drop(['price_usd'], 1),\n",
      "/tmp/ipykernel_11005/3105560854.py:13: FutureWarning: In a future version of pandas all arguments of DataFrame.drop except for the argument 'labels' will be keyword-only.\n",
      "  test_pool = Pool(df.iloc[test_index].drop(['price_usd'], 1),\n",
      "/tmp/ipykernel_11005/3105560854.py:10: FutureWarning: In a future version of pandas all arguments of DataFrame.drop except for the argument 'labels' will be keyword-only.\n",
      "  train_pool = Pool(df.iloc[train_index].drop(['price_usd'], 1),\n",
      "/tmp/ipykernel_11005/3105560854.py:13: FutureWarning: In a future version of pandas all arguments of DataFrame.drop except for the argument 'labels' will be keyword-only.\n",
      "  test_pool = Pool(df.iloc[test_index].drop(['price_usd'], 1),\n"
     ]
    },
    {
     "name": "stdout",
     "output_type": "stream",
     "text": [
      "R2 score: 0.9390(0.0036) +0.5% compared to default parameters\n",
      "RMSE score: 1588(53) -3.6% compared to default parameters\n"
     ]
    }
   ],
   "source": [
    "model_params = score_catboost_model({'one_hot_max_size' : 2000})"
   ]
  },
  {
   "cell_type": "markdown",
   "metadata": {},
   "source": [
    "As can be seen on our dataset it works quite well. The main problem of one-hot encoding, however, is that it is simply impossible to use it on categorical features with really huge cardinality."
   ]
  },
  {
   "cell_type": "markdown",
   "metadata": {},
   "source": [
    "## Model Size Regularization\n",
    "*This parameter influences the model size if training data has categorical features.*\n",
    "\n",
    "*The information regarding categorical features makes a great contribution to the final size of the model. The mapping from the categorical feature value hash to some statistic values is stored for each categorical feature that is used in the model. The size of this mapping for a particular feature depends on the number of unique values that this feature takes.*\n",
    "\n",
    "*Therefore, the potential weight of a categorical feature can be taken into account in the final model when choosing a split in a tree to reduce the final size of the model. When choosing the best split, all split scores are calculated and then the split with the best score is chosen. But before choosing the split with the best score, all scores change according to the following formula:*\n",
    "\n",
    "![image](https://yastatic.net/doccenter/images/tech2.yandex.com/en/catboost/doc/freeze/PrIQQgX_sav4Z2B0aaOpJ7Dd4oM.svg)\n",
    "\n",
    "*$s^{new}$ is the new score for the split by some categorical feature or combination feature,\n",
    "$s^{old}$ is the old score for the split by the feature, $u$ is the number of unique values of the feature, $U$ is the maximum of all $u$ values among all features and $M$ is the value of the `model_size_reg` parameter.*\n",
    "\n",
    "This regularization works slightly differently on GPU: feature combinations are regularized more aggressively than on CPU. For CPU cost of a combination is equal to number of different feature values in this combinations that are present in training dataset. On GPU cost of a combination is equal to number of all possible different values of this combination. For example, if combination contains two categorical features c1 and c2, then the cost will be #categories in c1 * #categories in c2, even though many of the values from this combination might not be present in the dataset.\n",
    "\n",
    "Let us try to set model size regularization coefficient to 0 - thus we allow our model to use as many categorical features and its combinations as it wants."
   ]
  },
  {
   "cell_type": "code",
   "execution_count": 26,
   "metadata": {
    "ExecuteTime": {
     "end_time": "2020-06-02T09:00:51.105395Z",
     "start_time": "2020-06-02T08:58:55.659263Z"
    }
   },
   "outputs": [
    {
     "name": "stderr",
     "output_type": "stream",
     "text": [
      "/tmp/ipykernel_11005/3105560854.py:10: FutureWarning: In a future version of pandas all arguments of DataFrame.drop except for the argument 'labels' will be keyword-only.\n",
      "  train_pool = Pool(df.iloc[train_index].drop(['price_usd'], 1),\n",
      "/tmp/ipykernel_11005/3105560854.py:13: FutureWarning: In a future version of pandas all arguments of DataFrame.drop except for the argument 'labels' will be keyword-only.\n",
      "  test_pool = Pool(df.iloc[test_index].drop(['price_usd'], 1),\n",
      "/tmp/ipykernel_11005/3105560854.py:10: FutureWarning: In a future version of pandas all arguments of DataFrame.drop except for the argument 'labels' will be keyword-only.\n",
      "  train_pool = Pool(df.iloc[train_index].drop(['price_usd'], 1),\n",
      "/tmp/ipykernel_11005/3105560854.py:13: FutureWarning: In a future version of pandas all arguments of DataFrame.drop except for the argument 'labels' will be keyword-only.\n",
      "  test_pool = Pool(df.iloc[test_index].drop(['price_usd'], 1),\n",
      "/tmp/ipykernel_11005/3105560854.py:10: FutureWarning: In a future version of pandas all arguments of DataFrame.drop except for the argument 'labels' will be keyword-only.\n",
      "  train_pool = Pool(df.iloc[train_index].drop(['price_usd'], 1),\n",
      "/tmp/ipykernel_11005/3105560854.py:13: FutureWarning: In a future version of pandas all arguments of DataFrame.drop except for the argument 'labels' will be keyword-only.\n",
      "  test_pool = Pool(df.iloc[test_index].drop(['price_usd'], 1),\n"
     ]
    },
    {
     "name": "stdout",
     "output_type": "stream",
     "text": [
      "R2 score: 0.9344(0.0018) +0.0% compared to default parameters\n",
      "RMSE score: 1646(39) -0.0% compared to default parameters\n"
     ]
    }
   ],
   "source": [
    "model_params = score_catboost_model({'model_size_reg': 0})"
   ]
  },
  {
   "cell_type": "code",
   "execution_count": 27,
   "metadata": {
    "ExecuteTime": {
     "end_time": "2020-06-02T09:02:45.352616Z",
     "start_time": "2020-06-02T09:00:51.106176Z"
    }
   },
   "outputs": [
    {
     "name": "stderr",
     "output_type": "stream",
     "text": [
      "/tmp/ipykernel_11005/3105560854.py:10: FutureWarning: In a future version of pandas all arguments of DataFrame.drop except for the argument 'labels' will be keyword-only.\n",
      "  train_pool = Pool(df.iloc[train_index].drop(['price_usd'], 1),\n",
      "/tmp/ipykernel_11005/3105560854.py:13: FutureWarning: In a future version of pandas all arguments of DataFrame.drop except for the argument 'labels' will be keyword-only.\n",
      "  test_pool = Pool(df.iloc[test_index].drop(['price_usd'], 1),\n",
      "/tmp/ipykernel_11005/3105560854.py:10: FutureWarning: In a future version of pandas all arguments of DataFrame.drop except for the argument 'labels' will be keyword-only.\n",
      "  train_pool = Pool(df.iloc[train_index].drop(['price_usd'], 1),\n",
      "/tmp/ipykernel_11005/3105560854.py:13: FutureWarning: In a future version of pandas all arguments of DataFrame.drop except for the argument 'labels' will be keyword-only.\n",
      "  test_pool = Pool(df.iloc[test_index].drop(['price_usd'], 1),\n",
      "/tmp/ipykernel_11005/3105560854.py:10: FutureWarning: In a future version of pandas all arguments of DataFrame.drop except for the argument 'labels' will be keyword-only.\n",
      "  train_pool = Pool(df.iloc[train_index].drop(['price_usd'], 1),\n",
      "/tmp/ipykernel_11005/3105560854.py:13: FutureWarning: In a future version of pandas all arguments of DataFrame.drop except for the argument 'labels' will be keyword-only.\n",
      "  test_pool = Pool(df.iloc[test_index].drop(['price_usd'], 1),\n"
     ]
    },
    {
     "name": "stdout",
     "output_type": "stream",
     "text": [
      "R2 score: 0.9333(0.0020) -0.1% compared to default parameters\n",
      "RMSE score: 1659(33) +0.8% compared to default parameters\n"
     ]
    }
   ],
   "source": [
    "model_params = score_catboost_model({'model_size_reg': 1})"
   ]
  },
  {
   "cell_type": "markdown",
   "metadata": {},
   "source": [
    "To check how the size of the model is affected by this setting we will write a function that given parameters dict will train a model, save it in a file and return the model's weight:"
   ]
  },
  {
   "cell_type": "code",
   "execution_count": 28,
   "metadata": {
    "ExecuteTime": {
     "end_time": "2020-06-02T08:58:00.525231Z",
     "start_time": "2020-06-02T08:58:00.522800Z"
    }
   },
   "outputs": [],
   "source": [
    "from pathlib import Path\n",
    "def weight_model(catboost_parameters):\n",
    "    catboost_parameters.update(DEFAULT_PARAMETERS)\n",
    "    model = CatBoost(catboost_parameters)\n",
    "    model.fit(train_pool, verbose=False)\n",
    "    model.save_model('model_tmp')\n",
    "    model_size = Path('model_tmp').stat().st_size\n",
    "    return model_size"
   ]
  },
  {
   "cell_type": "code",
   "execution_count": 29,
   "metadata": {
    "ExecuteTime": {
     "end_time": "2020-06-02T09:03:28.666427Z",
     "start_time": "2020-06-02T09:02:45.353391Z"
    }
   },
   "outputs": [],
   "source": [
    "model_size_reg_0 = weight_model({'model_size_reg': 0})"
   ]
  },
  {
   "cell_type": "code",
   "execution_count": 30,
   "metadata": {
    "ExecuteTime": {
     "end_time": "2020-06-02T09:04:05.941004Z",
     "start_time": "2020-06-02T09:03:28.667985Z"
    }
   },
   "outputs": [],
   "source": [
    "model_size_reg_1 = weight_model({'model_size_reg': 1})"
   ]
  },
  {
   "cell_type": "code",
   "execution_count": 31,
   "metadata": {
    "ExecuteTime": {
     "end_time": "2020-06-02T09:04:05.954495Z",
     "start_time": "2020-06-02T09:04:05.948234Z"
    }
   },
   "outputs": [
    {
     "data": {
      "text/plain": [
       "12.619506931656131"
      ]
     },
     "execution_count": 31,
     "metadata": {},
     "output_type": "execute_result"
    }
   ],
   "source": [
    "model_size_reg_0/model_size_reg_1"
   ]
  },
  {
   "cell_type": "markdown",
   "metadata": {},
   "source": [
    "As we can see the model with the strong regularization is almost 13 times smaller than the model without regularization."
   ]
  },
  {
   "cell_type": "markdown",
   "metadata": {},
   "source": [
    "## Number of Features Combined\n",
    "\n",
    "**Feature combinations**: Note that any combination of several categorical features could be considered\n",
    "as a new one. For example, assume that the task is music recommendation and we have two categorical\n",
    "features: user ID and musical genre. Some user prefers, say, rock music. When we convert user ID\n",
    "and musical genre to numerical features we loose this information. A combination of two features solves this problem and gives a new powerful feature.  However, the number of combinations grows exponentially with the number of categorical features in dataset and it is not possible to consider all of them in the algorithm. When constructing a new split for the current tree, CatBoost considers combinations in a greedy way. No combinations are considered for the first split in the tree. For the next splits CatBoost combines all combinations and categorical features present in current tree with all categorical features in dataset. Combination values are converted to numbers on the fly. CatBoost also generates combinations of numerical and categorical features in the following way:  all the splits selected in the tree are considered as categorical with two values and used in\n",
    "combinations in the same way as categorical ones.\n",
    "\n",
    "*The maximum number of features that can be combined. Each resulting combination consists of one or more categorical features and can optionally contain binary features in the following form: “numeric feature > value”. For regression task on CPU the default value is 4.*\n",
    "\n",
    "Although it is not mentioned in the documentation, this parameter value has to be $\\le 15$."
   ]
  },
  {
   "cell_type": "code",
   "execution_count": 32,
   "metadata": {
    "ExecuteTime": {
     "end_time": "2020-06-02T08:57:04.740642Z",
     "start_time": "2020-06-02T08:55:07.677669Z"
    }
   },
   "outputs": [
    {
     "name": "stderr",
     "output_type": "stream",
     "text": [
      "/tmp/ipykernel_11005/3105560854.py:10: FutureWarning: In a future version of pandas all arguments of DataFrame.drop except for the argument 'labels' will be keyword-only.\n",
      "  train_pool = Pool(df.iloc[train_index].drop(['price_usd'], 1),\n",
      "/tmp/ipykernel_11005/3105560854.py:13: FutureWarning: In a future version of pandas all arguments of DataFrame.drop except for the argument 'labels' will be keyword-only.\n",
      "  test_pool = Pool(df.iloc[test_index].drop(['price_usd'], 1),\n",
      "/tmp/ipykernel_11005/3105560854.py:10: FutureWarning: In a future version of pandas all arguments of DataFrame.drop except for the argument 'labels' will be keyword-only.\n",
      "  train_pool = Pool(df.iloc[train_index].drop(['price_usd'], 1),\n",
      "/tmp/ipykernel_11005/3105560854.py:13: FutureWarning: In a future version of pandas all arguments of DataFrame.drop except for the argument 'labels' will be keyword-only.\n",
      "  test_pool = Pool(df.iloc[test_index].drop(['price_usd'], 1),\n",
      "/tmp/ipykernel_11005/3105560854.py:10: FutureWarning: In a future version of pandas all arguments of DataFrame.drop except for the argument 'labels' will be keyword-only.\n",
      "  train_pool = Pool(df.iloc[train_index].drop(['price_usd'], 1),\n",
      "/tmp/ipykernel_11005/3105560854.py:13: FutureWarning: In a future version of pandas all arguments of DataFrame.drop except for the argument 'labels' will be keyword-only.\n",
      "  test_pool = Pool(df.iloc[test_index].drop(['price_usd'], 1),\n"
     ]
    },
    {
     "name": "stdout",
     "output_type": "stream",
     "text": [
      "R2 score: 0.9337(0.0024) -0.1% compared to default parameters\n",
      "RMSE score: 1655(24) +0.5% compared to default parameters\n"
     ]
    }
   ],
   "source": [
    "model_params = score_catboost_model({'max_ctr_complexity': 6})"
   ]
  },
  {
   "cell_type": "code",
   "execution_count": 33,
   "metadata": {
    "ExecuteTime": {
     "end_time": "2020-06-02T08:58:00.521953Z",
     "start_time": "2020-06-02T08:57:04.741394Z"
    }
   },
   "outputs": [
    {
     "name": "stderr",
     "output_type": "stream",
     "text": [
      "/tmp/ipykernel_11005/3105560854.py:10: FutureWarning: In a future version of pandas all arguments of DataFrame.drop except for the argument 'labels' will be keyword-only.\n",
      "  train_pool = Pool(df.iloc[train_index].drop(['price_usd'], 1),\n",
      "/tmp/ipykernel_11005/3105560854.py:13: FutureWarning: In a future version of pandas all arguments of DataFrame.drop except for the argument 'labels' will be keyword-only.\n",
      "  test_pool = Pool(df.iloc[test_index].drop(['price_usd'], 1),\n",
      "/tmp/ipykernel_11005/3105560854.py:10: FutureWarning: In a future version of pandas all arguments of DataFrame.drop except for the argument 'labels' will be keyword-only.\n",
      "  train_pool = Pool(df.iloc[train_index].drop(['price_usd'], 1),\n",
      "/tmp/ipykernel_11005/3105560854.py:13: FutureWarning: In a future version of pandas all arguments of DataFrame.drop except for the argument 'labels' will be keyword-only.\n",
      "  test_pool = Pool(df.iloc[test_index].drop(['price_usd'], 1),\n",
      "/tmp/ipykernel_11005/3105560854.py:10: FutureWarning: In a future version of pandas all arguments of DataFrame.drop except for the argument 'labels' will be keyword-only.\n",
      "  train_pool = Pool(df.iloc[train_index].drop(['price_usd'], 1),\n",
      "/tmp/ipykernel_11005/3105560854.py:13: FutureWarning: In a future version of pandas all arguments of DataFrame.drop except for the argument 'labels' will be keyword-only.\n",
      "  test_pool = Pool(df.iloc[test_index].drop(['price_usd'], 1),\n"
     ]
    },
    {
     "name": "stdout",
     "output_type": "stream",
     "text": [
      "R2 score: 0.9282(0.0045) -0.7% compared to default parameters\n",
      "RMSE score: 1722(53) +4.5% compared to default parameters\n"
     ]
    }
   ],
   "source": [
    "model_params = score_catboost_model({'max_ctr_complexity': 0})"
   ]
  },
  {
   "cell_type": "markdown",
   "metadata": {},
   "source": [
    "As we can see on our dataset the difference in the model's accuracy is not significant. To check how the size of the model is affected we will use our function that weights a model."
   ]
  },
  {
   "cell_type": "code",
   "execution_count": 34,
   "metadata": {
    "ExecuteTime": {
     "end_time": "2020-06-02T08:58:39.105806Z",
     "start_time": "2020-06-02T08:58:00.525922Z"
    }
   },
   "outputs": [],
   "source": [
    "model_size_max_ctr_6 = weight_model({'max_ctr_complexity': 6})"
   ]
  },
  {
   "cell_type": "code",
   "execution_count": 35,
   "metadata": {
    "ExecuteTime": {
     "end_time": "2020-06-02T08:58:55.639090Z",
     "start_time": "2020-06-02T08:58:39.110323Z"
    }
   },
   "outputs": [],
   "source": [
    "model_size_max_ctr_0 = weight_model({'max_ctr_complexity': 0})"
   ]
  },
  {
   "cell_type": "code",
   "execution_count": 36,
   "metadata": {
    "ExecuteTime": {
     "end_time": "2020-06-02T08:58:55.654155Z",
     "start_time": "2020-06-02T08:58:55.643807Z"
    }
   },
   "outputs": [
    {
     "data": {
      "text/plain": [
       "6.319871391402307"
      ]
     },
     "execution_count": 36,
     "metadata": {},
     "output_type": "execute_result"
    }
   ],
   "source": [
    "model_size_max_ctr_6/model_size_max_ctr_0"
   ]
  },
  {
   "cell_type": "markdown",
   "metadata": {},
   "source": [
    "As can be seen, the model that can combine up to 6 features weights 6 times more than the model that does not combine features at all."
   ]
  },
  {
   "cell_type": "markdown",
   "metadata": {},
   "source": [
    "## Has Time\n",
    "\n",
    "With this setting on we do not perform random permutations during the Transforming categorical features to numerical. This might be useful when the objects of our dataset are already ordered by time. If a Timestamp type column is present in the input data it is used to determine the order of objects."
   ]
  },
  {
   "cell_type": "code",
   "execution_count": 37,
   "metadata": {
    "ExecuteTime": {
     "end_time": "2020-06-02T09:05:53.061073Z",
     "start_time": "2020-06-02T09:04:05.958241Z"
    }
   },
   "outputs": [
    {
     "name": "stderr",
     "output_type": "stream",
     "text": [
      "/tmp/ipykernel_11005/3105560854.py:10: FutureWarning: In a future version of pandas all arguments of DataFrame.drop except for the argument 'labels' will be keyword-only.\n",
      "  train_pool = Pool(df.iloc[train_index].drop(['price_usd'], 1),\n",
      "/tmp/ipykernel_11005/3105560854.py:13: FutureWarning: In a future version of pandas all arguments of DataFrame.drop except for the argument 'labels' will be keyword-only.\n",
      "  test_pool = Pool(df.iloc[test_index].drop(['price_usd'], 1),\n",
      "/tmp/ipykernel_11005/3105560854.py:10: FutureWarning: In a future version of pandas all arguments of DataFrame.drop except for the argument 'labels' will be keyword-only.\n",
      "  train_pool = Pool(df.iloc[train_index].drop(['price_usd'], 1),\n",
      "/tmp/ipykernel_11005/3105560854.py:13: FutureWarning: In a future version of pandas all arguments of DataFrame.drop except for the argument 'labels' will be keyword-only.\n",
      "  test_pool = Pool(df.iloc[test_index].drop(['price_usd'], 1),\n",
      "/tmp/ipykernel_11005/3105560854.py:10: FutureWarning: In a future version of pandas all arguments of DataFrame.drop except for the argument 'labels' will be keyword-only.\n",
      "  train_pool = Pool(df.iloc[train_index].drop(['price_usd'], 1),\n",
      "/tmp/ipykernel_11005/3105560854.py:13: FutureWarning: In a future version of pandas all arguments of DataFrame.drop except for the argument 'labels' will be keyword-only.\n",
      "  test_pool = Pool(df.iloc[test_index].drop(['price_usd'], 1),\n"
     ]
    },
    {
     "name": "stdout",
     "output_type": "stream",
     "text": [
      "R2 score: 0.9185(0.0025) -1.7% compared to default parameters\n",
      "RMSE score: 1835(49) +11.4% compared to default parameters\n"
     ]
    }
   ],
   "source": [
    "model_params = score_catboost_model({'has_time': True})"
   ]
  },
  {
   "cell_type": "markdown",
   "metadata": {
    "colab_type": "text",
    "id": "F6LDppeic61v"
   },
   "source": [
    "## `simple_ctr` and `combinations_ctr`\n",
    "\n",
    "Both `simple_ctr` and `combinations_ctr` are complex parameters that provide regulation of the categorical features encodings types.  While `simple_ctr` is responsible for processing the categorical features initially present in the dataset, `combinations_ctr` affects the encoding of the new features, that CatBoost creates by combining the existing features. The available methods of encodings and possible values of `simple_ctr` and `combinations_ctr` are the same, so we are not going to look at them separately. But of course, you can always tune them separately on your task! \n",
    "\n",
    "### Encodings without target quantization\n",
    "\n",
    "**Target quantization** is transforming *float* target values to *int* target values using some borders. We will first consider the target encoding methods that do not require such a transformation. \n",
    "\n",
    "#### FloatTargetMeanValue  (GPU only)\n",
    "The first option *FloatTargetMeanValue* is the most straightforward approach. Each value of the categorical variable is replaced with the mean of the target over the objects of the same category that are placed before the current object.  "
   ]
  },
  {
   "cell_type": "code",
   "execution_count": 38,
   "metadata": {
    "ExecuteTime": {
     "end_time": "2020-06-02T09:21:05.098419Z",
     "start_time": "2020-06-02T09:18:05.491698Z"
    },
    "colab": {
     "base_uri": "https://localhost:8080/",
     "height": 121
    },
    "colab_type": "code",
    "id": "X81E2XCGc612",
    "outputId": "892bc567-131b-408e-cfee-95c59c5597e5"
   },
   "outputs": [
    {
     "name": "stderr",
     "output_type": "stream",
     "text": [
      "/tmp/ipykernel_11005/3105560854.py:10: FutureWarning: In a future version of pandas all arguments of DataFrame.drop except for the argument 'labels' will be keyword-only.\n",
      "  train_pool = Pool(df.iloc[train_index].drop(['price_usd'], 1),\n",
      "/tmp/ipykernel_11005/3105560854.py:13: FutureWarning: In a future version of pandas all arguments of DataFrame.drop except for the argument 'labels' will be keyword-only.\n",
      "  test_pool = Pool(df.iloc[test_index].drop(['price_usd'], 1),\n"
     ]
    },
    {
     "ename": "CatBoostError",
     "evalue": "/src/catboost/catboost/cuda/cuda_lib/cuda_base.h:281: CUDA error 35: CUDA driver version is insufficient for CUDA runtime version",
     "output_type": "error",
     "traceback": [
      "\u001b[0;31m---------------------------------------------------------------------------\u001b[0m",
      "\u001b[0;31mCatBoostError\u001b[0m                             Traceback (most recent call last)",
      "Cell \u001b[0;32mIn[38], line 1\u001b[0m\n\u001b[0;32m----> 1\u001b[0m model_params \u001b[38;5;241m=\u001b[39m \u001b[43mscore_catboost_model\u001b[49m\u001b[43m(\u001b[49m\u001b[43m{\u001b[49m\u001b[38;5;124;43m'\u001b[39;49m\u001b[38;5;124;43msimple_ctr\u001b[39;49m\u001b[38;5;124;43m'\u001b[39;49m\u001b[43m \u001b[49m\u001b[43m:\u001b[49m\u001b[43m \u001b[49m\u001b[38;5;124;43m'\u001b[39;49m\u001b[38;5;124;43mFloatTargetMeanValue\u001b[39;49m\u001b[38;5;124;43m'\u001b[39;49m\u001b[43m,\u001b[49m\n\u001b[1;32m      2\u001b[0m \u001b[43m                                     \u001b[49m\u001b[38;5;124;43m'\u001b[39;49m\u001b[38;5;124;43mcombinations_ctr\u001b[39;49m\u001b[38;5;124;43m'\u001b[39;49m\u001b[43m \u001b[49m\u001b[43m:\u001b[49m\u001b[43m \u001b[49m\u001b[38;5;124;43m'\u001b[39;49m\u001b[38;5;124;43mFloatTargetMeanValue\u001b[39;49m\u001b[38;5;124;43m'\u001b[39;49m\u001b[43m,\u001b[49m\n\u001b[1;32m      3\u001b[0m \u001b[43m                                     \u001b[49m\u001b[38;5;124;43m'\u001b[39;49m\u001b[38;5;124;43mtask_type\u001b[39;49m\u001b[38;5;124;43m'\u001b[39;49m\u001b[43m \u001b[49m\u001b[43m:\u001b[49m\u001b[43m \u001b[49m\u001b[38;5;124;43m'\u001b[39;49m\u001b[38;5;124;43mGPU\u001b[39;49m\u001b[38;5;124;43m'\u001b[39;49m\u001b[43m}\u001b[49m\u001b[43m)\u001b[49m\n",
      "Cell \u001b[0;32mIn[23], line 17\u001b[0m, in \u001b[0;36mscore_catboost_model\u001b[0;34m(catboost_parameters, update_defaults)\u001b[0m\n\u001b[1;32m     13\u001b[0m test_pool \u001b[38;5;241m=\u001b[39m Pool(df\u001b[38;5;241m.\u001b[39miloc[test_index]\u001b[38;5;241m.\u001b[39mdrop([\u001b[38;5;124m'\u001b[39m\u001b[38;5;124mprice_usd\u001b[39m\u001b[38;5;124m'\u001b[39m], \u001b[38;5;241m1\u001b[39m),\n\u001b[1;32m     14\u001b[0m                 label\u001b[38;5;241m=\u001b[39mdf\u001b[38;5;241m.\u001b[39miloc[test_index]\u001b[38;5;241m.\u001b[39mprice_usd,\n\u001b[1;32m     15\u001b[0m                 cat_features\u001b[38;5;241m=\u001b[39mcategorical_features_names)\n\u001b[1;32m     16\u001b[0m model \u001b[38;5;241m=\u001b[39m CatBoost(catboost_parameters)\n\u001b[0;32m---> 17\u001b[0m \u001b[43mmodel\u001b[49m\u001b[38;5;241;43m.\u001b[39;49m\u001b[43mfit\u001b[49m\u001b[43m(\u001b[49m\u001b[43mtrain_pool\u001b[49m\u001b[43m,\u001b[49m\u001b[43m \u001b[49m\u001b[43mverbose\u001b[49m\u001b[38;5;241;43m=\u001b[39;49m\u001b[38;5;28;43;01mFalse\u001b[39;49;00m\u001b[43m)\u001b[49m\n\u001b[1;32m     19\u001b[0m r2_values\u001b[38;5;241m.\u001b[39mappend(r2_score(df\u001b[38;5;241m.\u001b[39miloc[test_index]\u001b[38;5;241m.\u001b[39mprice_usd\u001b[38;5;241m.\u001b[39mvalues, model\u001b[38;5;241m.\u001b[39mpredict(test_pool)))\n\u001b[1;32m     20\u001b[0m rmse_values\u001b[38;5;241m.\u001b[39mappend(mean_squared_error(df\u001b[38;5;241m.\u001b[39miloc[test_index]\u001b[38;5;241m.\u001b[39mprice_usd\u001b[38;5;241m.\u001b[39mvalues,\n\u001b[1;32m     21\u001b[0m                                       model\u001b[38;5;241m.\u001b[39mpredict(test_pool),\n\u001b[1;32m     22\u001b[0m                                       squared\u001b[38;5;241m=\u001b[39m\u001b[38;5;28;01mFalse\u001b[39;00m)) \n",
      "File \u001b[0;32m~/bin/anaconda/lib/python3.10/site-packages/catboost/core.py:2512\u001b[0m, in \u001b[0;36mCatBoost.fit\u001b[0;34m(self, X, y, cat_features, text_features, embedding_features, pairs, sample_weight, group_id, group_weight, subgroup_id, pairs_weight, baseline, use_best_model, eval_set, verbose, logging_level, plot, plot_file, column_description, verbose_eval, metric_period, silent, early_stopping_rounds, save_snapshot, snapshot_file, snapshot_interval, init_model, callbacks, log_cout, log_cerr)\u001b[0m\n\u001b[1;32m   2384\u001b[0m \u001b[38;5;28;01mdef\u001b[39;00m \u001b[38;5;21mfit\u001b[39m(\u001b[38;5;28mself\u001b[39m, X, y\u001b[38;5;241m=\u001b[39m\u001b[38;5;28;01mNone\u001b[39;00m, cat_features\u001b[38;5;241m=\u001b[39m\u001b[38;5;28;01mNone\u001b[39;00m, text_features\u001b[38;5;241m=\u001b[39m\u001b[38;5;28;01mNone\u001b[39;00m, embedding_features\u001b[38;5;241m=\u001b[39m\u001b[38;5;28;01mNone\u001b[39;00m, pairs\u001b[38;5;241m=\u001b[39m\u001b[38;5;28;01mNone\u001b[39;00m, sample_weight\u001b[38;5;241m=\u001b[39m\u001b[38;5;28;01mNone\u001b[39;00m, group_id\u001b[38;5;241m=\u001b[39m\u001b[38;5;28;01mNone\u001b[39;00m,\n\u001b[1;32m   2385\u001b[0m         group_weight\u001b[38;5;241m=\u001b[39m\u001b[38;5;28;01mNone\u001b[39;00m, subgroup_id\u001b[38;5;241m=\u001b[39m\u001b[38;5;28;01mNone\u001b[39;00m, pairs_weight\u001b[38;5;241m=\u001b[39m\u001b[38;5;28;01mNone\u001b[39;00m, baseline\u001b[38;5;241m=\u001b[39m\u001b[38;5;28;01mNone\u001b[39;00m, use_best_model\u001b[38;5;241m=\u001b[39m\u001b[38;5;28;01mNone\u001b[39;00m,\n\u001b[1;32m   2386\u001b[0m         eval_set\u001b[38;5;241m=\u001b[39m\u001b[38;5;28;01mNone\u001b[39;00m, verbose\u001b[38;5;241m=\u001b[39m\u001b[38;5;28;01mNone\u001b[39;00m, logging_level\u001b[38;5;241m=\u001b[39m\u001b[38;5;28;01mNone\u001b[39;00m, plot\u001b[38;5;241m=\u001b[39m\u001b[38;5;28;01mFalse\u001b[39;00m, plot_file\u001b[38;5;241m=\u001b[39m\u001b[38;5;28;01mNone\u001b[39;00m, column_description\u001b[38;5;241m=\u001b[39m\u001b[38;5;28;01mNone\u001b[39;00m,\n\u001b[1;32m   2387\u001b[0m         verbose_eval\u001b[38;5;241m=\u001b[39m\u001b[38;5;28;01mNone\u001b[39;00m, metric_period\u001b[38;5;241m=\u001b[39m\u001b[38;5;28;01mNone\u001b[39;00m, silent\u001b[38;5;241m=\u001b[39m\u001b[38;5;28;01mNone\u001b[39;00m, early_stopping_rounds\u001b[38;5;241m=\u001b[39m\u001b[38;5;28;01mNone\u001b[39;00m,\n\u001b[1;32m   2388\u001b[0m         save_snapshot\u001b[38;5;241m=\u001b[39m\u001b[38;5;28;01mNone\u001b[39;00m, snapshot_file\u001b[38;5;241m=\u001b[39m\u001b[38;5;28;01mNone\u001b[39;00m, snapshot_interval\u001b[38;5;241m=\u001b[39m\u001b[38;5;28;01mNone\u001b[39;00m, init_model\u001b[38;5;241m=\u001b[39m\u001b[38;5;28;01mNone\u001b[39;00m, callbacks\u001b[38;5;241m=\u001b[39m\u001b[38;5;28;01mNone\u001b[39;00m,\n\u001b[1;32m   2389\u001b[0m         log_cout\u001b[38;5;241m=\u001b[39msys\u001b[38;5;241m.\u001b[39mstdout, log_cerr\u001b[38;5;241m=\u001b[39msys\u001b[38;5;241m.\u001b[39mstderr):\n\u001b[1;32m   2390\u001b[0m     \u001b[38;5;124;03m\"\"\"\u001b[39;00m\n\u001b[1;32m   2391\u001b[0m \u001b[38;5;124;03m    Fit the CatBoost model.\u001b[39;00m\n\u001b[1;32m   2392\u001b[0m \n\u001b[0;32m   (...)\u001b[0m\n\u001b[1;32m   2510\u001b[0m \u001b[38;5;124;03m    model : CatBoost\u001b[39;00m\n\u001b[1;32m   2511\u001b[0m \u001b[38;5;124;03m    \"\"\"\u001b[39;00m\n\u001b[0;32m-> 2512\u001b[0m     \u001b[38;5;28;01mreturn\u001b[39;00m \u001b[38;5;28;43mself\u001b[39;49m\u001b[38;5;241;43m.\u001b[39;49m\u001b[43m_fit\u001b[49m\u001b[43m(\u001b[49m\u001b[43mX\u001b[49m\u001b[43m,\u001b[49m\u001b[43m \u001b[49m\u001b[43my\u001b[49m\u001b[43m,\u001b[49m\u001b[43m \u001b[49m\u001b[43mcat_features\u001b[49m\u001b[43m,\u001b[49m\u001b[43m \u001b[49m\u001b[43mtext_features\u001b[49m\u001b[43m,\u001b[49m\u001b[43m \u001b[49m\u001b[43membedding_features\u001b[49m\u001b[43m,\u001b[49m\u001b[43m \u001b[49m\u001b[43mpairs\u001b[49m\u001b[43m,\u001b[49m\u001b[43m \u001b[49m\u001b[43msample_weight\u001b[49m\u001b[43m,\u001b[49m\u001b[43m \u001b[49m\u001b[43mgroup_id\u001b[49m\u001b[43m,\u001b[49m\u001b[43m \u001b[49m\u001b[43mgroup_weight\u001b[49m\u001b[43m,\u001b[49m\u001b[43m \u001b[49m\u001b[43msubgroup_id\u001b[49m\u001b[43m,\u001b[49m\n\u001b[1;32m   2513\u001b[0m \u001b[43m                     \u001b[49m\u001b[43mpairs_weight\u001b[49m\u001b[43m,\u001b[49m\u001b[43m \u001b[49m\u001b[43mbaseline\u001b[49m\u001b[43m,\u001b[49m\u001b[43m \u001b[49m\u001b[43muse_best_model\u001b[49m\u001b[43m,\u001b[49m\u001b[43m \u001b[49m\u001b[43meval_set\u001b[49m\u001b[43m,\u001b[49m\u001b[43m \u001b[49m\u001b[43mverbose\u001b[49m\u001b[43m,\u001b[49m\u001b[43m \u001b[49m\u001b[43mlogging_level\u001b[49m\u001b[43m,\u001b[49m\u001b[43m \u001b[49m\u001b[43mplot\u001b[49m\u001b[43m,\u001b[49m\u001b[43m \u001b[49m\u001b[43mplot_file\u001b[49m\u001b[43m,\u001b[49m\n\u001b[1;32m   2514\u001b[0m \u001b[43m                     \u001b[49m\u001b[43mcolumn_description\u001b[49m\u001b[43m,\u001b[49m\u001b[43m \u001b[49m\u001b[43mverbose_eval\u001b[49m\u001b[43m,\u001b[49m\u001b[43m \u001b[49m\u001b[43mmetric_period\u001b[49m\u001b[43m,\u001b[49m\u001b[43m \u001b[49m\u001b[43msilent\u001b[49m\u001b[43m,\u001b[49m\u001b[43m \u001b[49m\u001b[43mearly_stopping_rounds\u001b[49m\u001b[43m,\u001b[49m\n\u001b[1;32m   2515\u001b[0m \u001b[43m                     \u001b[49m\u001b[43msave_snapshot\u001b[49m\u001b[43m,\u001b[49m\u001b[43m \u001b[49m\u001b[43msnapshot_file\u001b[49m\u001b[43m,\u001b[49m\u001b[43m \u001b[49m\u001b[43msnapshot_interval\u001b[49m\u001b[43m,\u001b[49m\u001b[43m \u001b[49m\u001b[43minit_model\u001b[49m\u001b[43m,\u001b[49m\u001b[43m \u001b[49m\u001b[43mcallbacks\u001b[49m\u001b[43m,\u001b[49m\u001b[43m \u001b[49m\u001b[43mlog_cout\u001b[49m\u001b[43m,\u001b[49m\u001b[43m \u001b[49m\u001b[43mlog_cerr\u001b[49m\u001b[43m)\u001b[49m\n",
      "File \u001b[0;32m~/bin/anaconda/lib/python3.10/site-packages/catboost/core.py:2357\u001b[0m, in \u001b[0;36mCatBoost._fit\u001b[0;34m(self, X, y, cat_features, text_features, embedding_features, pairs, sample_weight, group_id, group_weight, subgroup_id, pairs_weight, baseline, use_best_model, eval_set, verbose, logging_level, plot, plot_file, column_description, verbose_eval, metric_period, silent, early_stopping_rounds, save_snapshot, snapshot_file, snapshot_interval, init_model, callbacks, log_cout, log_cerr)\u001b[0m\n\u001b[1;32m   2353\u001b[0m allow_clear_pool \u001b[38;5;241m=\u001b[39m train_params[\u001b[38;5;124m\"\u001b[39m\u001b[38;5;124mallow_clear_pool\u001b[39m\u001b[38;5;124m\"\u001b[39m]\n\u001b[1;32m   2355\u001b[0m \u001b[38;5;28;01mwith\u001b[39;00m log_fixup(log_cout, log_cerr), \\\n\u001b[1;32m   2356\u001b[0m     plot_wrapper(plot, plot_file, \u001b[38;5;124m'\u001b[39m\u001b[38;5;124mTraining plots\u001b[39m\u001b[38;5;124m'\u001b[39m, [_get_train_dir(\u001b[38;5;28mself\u001b[39m\u001b[38;5;241m.\u001b[39mget_params())]):\n\u001b[0;32m-> 2357\u001b[0m     \u001b[38;5;28;43mself\u001b[39;49m\u001b[38;5;241;43m.\u001b[39;49m\u001b[43m_train\u001b[49m\u001b[43m(\u001b[49m\n\u001b[1;32m   2358\u001b[0m \u001b[43m        \u001b[49m\u001b[43mtrain_pool\u001b[49m\u001b[43m,\u001b[49m\n\u001b[1;32m   2359\u001b[0m \u001b[43m        \u001b[49m\u001b[43mtrain_params\u001b[49m\u001b[43m[\u001b[49m\u001b[38;5;124;43m\"\u001b[39;49m\u001b[38;5;124;43meval_sets\u001b[39;49m\u001b[38;5;124;43m\"\u001b[39;49m\u001b[43m]\u001b[49m\u001b[43m,\u001b[49m\n\u001b[1;32m   2360\u001b[0m \u001b[43m        \u001b[49m\u001b[43mparams\u001b[49m\u001b[43m,\u001b[49m\n\u001b[1;32m   2361\u001b[0m \u001b[43m        \u001b[49m\u001b[43mallow_clear_pool\u001b[49m\u001b[43m,\u001b[49m\n\u001b[1;32m   2362\u001b[0m \u001b[43m        \u001b[49m\u001b[43mtrain_params\u001b[49m\u001b[43m[\u001b[49m\u001b[38;5;124;43m\"\u001b[39;49m\u001b[38;5;124;43minit_model\u001b[39;49m\u001b[38;5;124;43m\"\u001b[39;49m\u001b[43m]\u001b[49m\n\u001b[1;32m   2363\u001b[0m \u001b[43m    \u001b[49m\u001b[43m)\u001b[49m\n\u001b[1;32m   2365\u001b[0m \u001b[38;5;66;03m# Have property feature_importance possibly set\u001b[39;00m\n\u001b[1;32m   2366\u001b[0m loss \u001b[38;5;241m=\u001b[39m \u001b[38;5;28mself\u001b[39m\u001b[38;5;241m.\u001b[39m_object\u001b[38;5;241m.\u001b[39m_get_loss_function_name()\n",
      "File \u001b[0;32m~/bin/anaconda/lib/python3.10/site-packages/catboost/core.py:1761\u001b[0m, in \u001b[0;36m_CatBoostBase._train\u001b[0;34m(self, train_pool, test_pool, params, allow_clear_pool, init_model)\u001b[0m\n\u001b[1;32m   1760\u001b[0m \u001b[38;5;28;01mdef\u001b[39;00m \u001b[38;5;21m_train\u001b[39m(\u001b[38;5;28mself\u001b[39m, train_pool, test_pool, params, allow_clear_pool, init_model):\n\u001b[0;32m-> 1761\u001b[0m     \u001b[38;5;28;43mself\u001b[39;49m\u001b[38;5;241;43m.\u001b[39;49m\u001b[43m_object\u001b[49m\u001b[38;5;241;43m.\u001b[39;49m\u001b[43m_train\u001b[49m\u001b[43m(\u001b[49m\u001b[43mtrain_pool\u001b[49m\u001b[43m,\u001b[49m\u001b[43m \u001b[49m\u001b[43mtest_pool\u001b[49m\u001b[43m,\u001b[49m\u001b[43m \u001b[49m\u001b[43mparams\u001b[49m\u001b[43m,\u001b[49m\u001b[43m \u001b[49m\u001b[43mallow_clear_pool\u001b[49m\u001b[43m,\u001b[49m\u001b[43m \u001b[49m\u001b[43minit_model\u001b[49m\u001b[38;5;241;43m.\u001b[39;49m\u001b[43m_object\u001b[49m\u001b[43m \u001b[49m\u001b[38;5;28;43;01mif\u001b[39;49;00m\u001b[43m \u001b[49m\u001b[43minit_model\u001b[49m\u001b[43m \u001b[49m\u001b[38;5;28;43;01melse\u001b[39;49;00m\u001b[43m \u001b[49m\u001b[38;5;28;43;01mNone\u001b[39;49;00m\u001b[43m)\u001b[49m\n\u001b[1;32m   1762\u001b[0m     \u001b[38;5;28mself\u001b[39m\u001b[38;5;241m.\u001b[39m_set_trained_model_attributes()\n",
      "File \u001b[0;32m_catboost.pyx:4624\u001b[0m, in \u001b[0;36m_catboost._CatBoost._train\u001b[0;34m()\u001b[0m\n",
      "File \u001b[0;32m_catboost.pyx:4673\u001b[0m, in \u001b[0;36m_catboost._CatBoost._train\u001b[0;34m()\u001b[0m\n",
      "\u001b[0;31mCatBoostError\u001b[0m: /src/catboost/catboost/cuda/cuda_lib/cuda_base.h:281: CUDA error 35: CUDA driver version is insufficient for CUDA runtime version"
     ]
    }
   ],
   "source": [
    "model_params = score_catboost_model({'simple_ctr' : 'FloatTargetMeanValue',\n",
    "                                     'combinations_ctr' : 'FloatTargetMeanValue',\n",
    "                                     'task_type' : 'GPU'})"
   ]
  },
  {
   "cell_type": "markdown",
   "metadata": {},
   "source": [
    "#### FeatureFreq  (GPU only)\n",
    "The second option is *FeatureFreq*. The categorical feature values are replaced with the frequencies of the category in the dataset. Again only the objects placed before the current objects are used."
   ]
  },
  {
   "cell_type": "code",
   "execution_count": null,
   "metadata": {
    "ExecuteTime": {
     "end_time": "2020-06-02T09:23:32.107048Z",
     "start_time": "2020-06-02T09:21:05.099357Z"
    },
    "colab": {
     "base_uri": "https://localhost:8080/",
     "height": 167
    },
    "colab_type": "code",
    "id": "bOB_tZ35eZgG",
    "outputId": "9702e528-8103-4717-9976-8ad8da55fa49"
   },
   "outputs": [],
   "source": [
    "model_params = score_catboost_model({'simple_ctr' : 'FeatureFreq',\n",
    "                                     'combinations_ctr' : 'FeatureFreq',\n",
    "                                     'task_type' : 'GPU'})"
   ]
  },
  {
   "cell_type": "markdown",
   "metadata": {},
   "source": [
    "#### Counter \n",
    "\n",
    "`Counter` method is very similar to the traditional Frequency Encoding described in the introduction and is defined by the following formula:\n",
    "![image](https://yastatic.net/doccenter/images/tech2.yandex.com/en/catboost/doc/freeze/Z4SLgeG9ZGNieCbVnZ_L9ow2N2g.svg)\n",
    "$curCount$ is the number of objects of the current category, $maxCount$ is the number of objects of the most frequent category and $prior$ is a number defined by the parameter `prior`."
   ]
  },
  {
   "cell_type": "code",
   "execution_count": null,
   "metadata": {
    "ExecuteTime": {
     "end_time": "2020-06-21T22:34:38.373079Z",
     "start_time": "2020-06-21T22:33:25.765365Z"
    },
    "colab": {},
    "colab_type": "code",
    "id": "P8NlO67yc61-",
    "outputId": "2b2797cb-e8b3-4233-e1e9-d12afc393970"
   },
   "outputs": [],
   "source": [
    "model_params = score_catboost_model({'simple_ctr' : 'Counter', 'combinations_ctr' : 'Counter'})"
   ]
  },
  {
   "cell_type": "markdown",
   "metadata": {},
   "source": [
    "#### `CtrBorderCount` parameter\n",
    "\n",
    "Let us say we have calculated encodings for our categorical variable. These encodings are floats and they are comparable: in case of `Counter` the larger encoding value corresponds to the more frequent category. However, if we have a large number of categories the difference between close categories encodings may be caused by noise and we do not want our model to differentiate between close categories. For this reason we transform our float encoding into int encoding $i \\in [0, l]$. By default `CtrBorderCount=15` setting means that $l=14(15-1)$. We can try to use bigger value:"
   ]
  },
  {
   "cell_type": "code",
   "execution_count": null,
   "metadata": {
    "ExecuteTime": {
     "end_time": "2020-06-21T21:52:49.853480Z",
     "start_time": "2020-06-21T21:51:32.973529Z"
    }
   },
   "outputs": [],
   "source": [
    "model_params = score_catboost_model({'combinations_ctr': \n",
    "                                     ['Counter:CtrBorderCount=40:Prior=0.5/1'],\n",
    "                                     'simple_ctr':\n",
    "                                     ['Counter:CtrBorderCount=40:Prior=0.5/1']})"
   ]
  },
  {
   "cell_type": "markdown",
   "metadata": {
    "colab_type": "text",
    "id": "XQVQ3El8c615"
   },
   "source": [
    "#### Binarized Target Mean Value\n",
    "The second method `BinarizedTargetMeanValue` is very similar to target encoding, except that instead of the sum over the exact target values we use the sum of the values of the beans. Which corresponds to the following formula:\n",
    "\n",
    "![image.png](https://yastatic.net/doccenter/images/tech2.yandex.com/en/catboost/doc/freeze/nGtSamWtCor-RZl2M0mpoIytQis.svg)\n",
    "\n",
    "where:\n",
    "* countInClass is the ratio of the sum of the label value integers for this categorical feature to the maximum label value integer ().\n",
    "* totalCount is the total number of objects that have a feature value matching the current one.\n",
    "* prior is a number (constant) defined by the starting parameters."
   ]
  },
  {
   "cell_type": "code",
   "execution_count": null,
   "metadata": {
    "ExecuteTime": {
     "end_time": "2020-06-02T09:28:00.683526Z",
     "start_time": "2020-06-02T09:26:16.218508Z"
    },
    "colab": {},
    "colab_type": "code",
    "id": "PMw_Mpyzc62P",
    "outputId": "81abf00c-17cb-4838-b761-f23685aa1bed"
   },
   "outputs": [],
   "source": [
    "model_params = score_catboost_model({'combinations_ctr': 'BinarizedTargetMeanValue',\n",
    "                                     'simple_ctr': 'BinarizedTargetMeanValue'})"
   ]
  },
  {
   "cell_type": "code",
   "execution_count": null,
   "metadata": {
    "ExecuteTime": {
     "end_time": "2020-06-02T09:28:00.686820Z",
     "start_time": "2020-06-02T09:28:00.684337Z"
    }
   },
   "outputs": [],
   "source": [
    "{k:v for k, v in model_params.items() if k in ctr_parameters}"
   ]
  },
  {
   "cell_type": "markdown",
   "metadata": {},
   "source": [
    "While using the `BinarizedTargetMeanValue` method we can also finetune `Prior` and `CtrBorderCount`(the number of borders for quantization the category feature encoding). By default `CtrBorderCount`=15 and 0, 0.5 and 1 `Prior` values are used to build three different encodings."
   ]
  },
  {
   "cell_type": "markdown",
   "metadata": {},
   "source": [
    "## Encodings with Target Quantization\n",
    "### Buckets and Borders\n",
    "![buckets](https://www.rowles.com/wp-content/uploads/2018/08/Buck-Market-Volatility-with-a-Retirement-Bucket-Plan.jpg)\n",
    "\n",
    "Now we proceed to the settings of the encodings methods that require target quantization. The first choice is `Borders` vs. `Buckets`. The difference between the two is pretty simple. Both are described by the following formula:\n",
    "\n",
    "for $i \\in [0, k-1]$ in case of `Borders` and for $i \\in [0, k-1]$ in case of `Buckets`:\n",
    "![image](https://yastatic.net/doccenter/images/tech2.yandex.com/en/catboost/doc/freeze/9hfDLAnZOo6IprYl3Tv6QFw7xuE.svg) \n",
    "\n",
    "where $k$ is the number of borders regulated by parameter `TargetBorderCount`, $totalCount$ is the number of objects of the same category. $prior$ is defined by the parameter $prior$. The only difference is that for `Borders` $countInClass$ is the number of the objects of the category with the discretized target value **greater** than $i$ while for `Buckets` $countInClass$ is the number of the objects of the category with the discretized target value **equal** to $i$. \n",
    "\n",
    "![image](https://sun6-16.userapi.com/wzD0SkCNkHeSm_-TaacaiDah70BWTLYwmelnvA/iqB4vlhLdDE.jpg)\n",
    "\n",
    "Let us see a small example: we have objects of two categories shown as suns and moons. We will compute the categorical feature encodings in case of borders and buckets."
   ]
  },
  {
   "cell_type": "markdown",
   "metadata": {},
   "source": [
    "Borders:\n",
    "We have two borders(which corresponds to `TargetBorderCount=2`), so we need to calculate 2 encodings. Let us say our Prior is 0.5\n",
    "* Border k=0: there are 2 objects of category sun and 4 objects of category moon with target values greater than the border. In total there are 3 suns and 5 moons. So our encodings are:\n",
    "\n",
    "$encoding^{0}_{sun} = \\frac{2 + 0.5}{3} = 0.83 $ and $encoding^{0}_{moon} = \\frac{4 + 0.5}{5} = 0.9 $\n",
    "\n",
    "* Border k=1:\n",
    "\n",
    "$ encoding^{1}_{sun} = \\frac{0 + 0.5}{3} = 0.17 $ and $ encoding^{1}_{moon} = \\frac{3 + 0.5}{5} = 0.7 $\n",
    "\n",
    "Buckets:\n",
    "$i \\in [0, k]$ creates $k+1$ buckets. So the same value of `TargetBorderCount=2` creates more features from each categorical feature if we choose `Buckets`. \n",
    "* Bucket k=0: there is 1 object of category sun and 1 object of category moon with target values within Bucket k=0. In total there are 3 suns and 5 moons. So our encodings are:\n",
    "\n",
    "$encoding^{0}_{sun} = \\frac{1 + 0.5}{3} = 0.5 $ and $encoding^{0}_{moon} = \\frac{1 + 0.5}{5} = 0.3 $\n",
    "\n",
    "* Bucket k=1:\n",
    "\n",
    "$ encoding^{1}_{sun} = \\frac{2 + 0.5}{3} = 0.83 $ and $ encoding^{1}_{moon} = \\frac{1 + 0.5}{5} = 0.3 $\n",
    "\n",
    "* Bucket k=2:\n",
    "\n",
    "$ encoding^{1}_{sun} = \\frac{0 + 0.5}{3} = 0.17 $ and $ encoding^{1}_{moon} = \\frac{3 + 0.5}{5} = 0.7 $\n"
   ]
  },
  {
   "cell_type": "markdown",
   "metadata": {},
   "source": [
    "| Categorical feature value   | Borders features  |   | Buckets features |   | |\n",
    "|---|---|---|---|---|--|\n",
    "| |   |   |   |   | |\n",
    "| sun  | 0.83  |  0.17 |  0.5 | 0.83  |  0.17 |\n",
    "|  moon   | 0.9  |  0.7 | 0.3  |  0.3 |  0.7|\n",
    "\n",
    "\n",
    "*Important note! This example just serves to illustrate the difference between `Borders` and `Buckets` and the whole dataset is used to compute $countInClass$ and $totalCount$. In reality, CatBoost us only the objects placed before the current object are used.*\n",
    "\n",
    "Let us see if it makes any difference in practice:"
   ]
  },
  {
   "cell_type": "code",
   "execution_count": null,
   "metadata": {
    "ExecuteTime": {
     "end_time": "2020-06-02T09:29:51.041941Z",
     "start_time": "2020-06-02T09:28:00.687934Z"
    }
   },
   "outputs": [],
   "source": [
    "model_params = score_catboost_model({'combinations_ctr': 'Borders',\n",
    "                                     'simple_ctr': 'Borders'})"
   ]
  },
  {
   "cell_type": "code",
   "execution_count": null,
   "metadata": {
    "ExecuteTime": {
     "end_time": "2020-06-02T09:32:52.375488Z",
     "start_time": "2020-06-02T09:29:51.043238Z"
    }
   },
   "outputs": [],
   "source": [
    "model_params = score_catboost_model({'combinations_ctr': 'Buckets',\n",
    "                                     'simple_ctr': 'Buckets'})"
   ]
  },
  {
   "cell_type": "markdown",
   "metadata": {},
   "source": [
    "An attentive reader may remember that by default CatBoost creates some features using `Borders` splits and also some features using `Counter` method. When we explicitly pass the `Borders` option, `Counter` method is not used.\n",
    "\n",
    "Generally, it is recommended to use `Borders` for the regression task and `Buckets` for the multiclassification task."
   ]
  },
  {
   "cell_type": "markdown",
   "metadata": {},
   "source": [
    "### Treatment of missing values and new categories\n",
    "\n",
    "1. What happens if there is a **new category in the test set** that never appeared in the training set? The answer is, that since $𝑐𝑜𝑢𝑛𝑡𝐼𝑛𝐶𝑙𝑎𝑠𝑠$ is equal to zero, the prior is used to compute the encoding: \n",
    "\n",
    "$$ctr_i=\\frac{prior}{totalCount + 1}$$\n",
    "\n",
    "2. Meanwhile, missing values in the categorical feature are replaced with `\"None\"` string. Then all the objects with the missing feature value are treated as a new category. "
   ]
  },
  {
   "cell_type": "markdown",
   "metadata": {},
   "source": [
    "### Number of target borders\n",
    "\n",
    "The number of borders or buckets is can be controlled with the `TargetBorderCount` parameter. By default we have only one border, let us see if having more borders helps:"
   ]
  },
  {
   "cell_type": "code",
   "execution_count": null,
   "metadata": {
    "ExecuteTime": {
     "end_time": "2020-06-02T09:56:56.326086Z",
     "start_time": "2020-06-02T09:52:48.437408Z"
    }
   },
   "outputs": [],
   "source": [
    "model_params = score_catboost_model({'combinations_ctr': 'Borders:TargetBorderCount=4',\n",
    "                                     'simple_ctr': 'Borders:TargetBorderCount=4'})"
   ]
  },
  {
   "cell_type": "markdown",
   "metadata": {},
   "source": [
    "### Default value of `simple_ctr` and `combinations_ctr`\n",
    "\n",
    "By default, CatBoost uses several encoding techniques to encode each categorical feature. \n",
    "\n",
    "\n",
    "* First it uses `Borders` method with one target border `TargetBorderCount`=1 (in our example for each categorical feature we just want to see if it makes the car more expensive). The obtained float encodings are further discretized into `CtrBorderCount`=15 different values. Three values of `Prior` parameter are used to create 3 three different encodings: `Prior=0/1:Prior=0.5/1:Prior=1/1`\n",
    "\n",
    "* Also for each categorical feature, we create an encoding with `Counter` method. The number of categorical encoding value borders `CtrBorderCount` is also equal to 15, and only one value of `Prior=0/1` is used.\n",
    "\n",
    "We can always check the parameters used by our model with `get_all_params()` method."
   ]
  },
  {
   "cell_type": "code",
   "execution_count": null,
   "metadata": {
    "ExecuteTime": {
     "end_time": "2020-06-21T22:37:43.722970Z",
     "start_time": "2020-06-21T22:35:53.624387Z"
    }
   },
   "outputs": [],
   "source": [
    "last_model_params = score_catboost_model({}, True)\n",
    "last_model_params['simple_ctr']"
   ]
  },
  {
   "cell_type": "code",
   "execution_count": null,
   "metadata": {
    "ExecuteTime": {
     "end_time": "2020-06-21T22:37:43.726060Z",
     "start_time": "2020-06-21T22:37:43.723876Z"
    }
   },
   "outputs": [],
   "source": [
    "last_model_params['combinations_ctr']"
   ]
  },
  {
   "cell_type": "markdown",
   "metadata": {},
   "source": [
    "## Individual features control via `per_feature_ctr` parameter\n",
    "\n",
    "The next thing I would like to talk about in this tutorial is using different encoding methods for different features with the parameter `per_feature_ctr`. It might be useful in cases when you know that one of your features is more important than the others. We can, for example, increase the number of target borders for model_name feature:"
   ]
  },
  {
   "cell_type": "code",
   "execution_count": null,
   "metadata": {
    "ExecuteTime": {
     "end_time": "2020-06-02T09:34:43.439120Z",
     "start_time": "2020-06-02T09:32:52.376412Z"
    },
    "scrolled": false
   },
   "outputs": [],
   "source": [
    "model_params = score_catboost_model({'per_feature_ctr': ['1:Borders:TargetBorderCount=10:Prior=0/1'] })"
   ]
  },
  {
   "cell_type": "markdown",
   "metadata": {},
   "source": [
    "## Other parameters"
   ]
  },
  {
   "cell_type": "markdown",
   "metadata": {},
   "source": [
    "### Counter Calculation Method \n",
    "\n",
    "The parameter determines whether to use validation dataset(provided through parameter `eval_set` of `fit` method) to estimate categories frequencies with `Counter`. By default, it is `Full` and the objects from validation dataset are used; Pass `SkipTest` value to ignore the objects from the validation set In our `score_catboost_model` function we don't give to CatBoost the validation dataset at all during training so to check this method effect we will use train/test split.  "
   ]
  },
  {
   "cell_type": "code",
   "execution_count": null,
   "metadata": {
    "ExecuteTime": {
     "end_time": "2020-06-02T09:35:32.588048Z",
     "start_time": "2020-06-02T09:34:43.439934Z"
    }
   },
   "outputs": [],
   "source": [
    "model = CatBoostRegressor(custom_metric= ['R2', 'RMSE'], learning_rate=0.1, n_estimators=4500, \n",
    "                          counter_calc_method='Full')\n",
    "model.fit(train_pool, eval_set=test_pool, verbose=False)\n",
    "r2_res = r2_score(df_test.price_usd.values, model.predict(test_pool))\n",
    "rmse_res = mean_squared_error(df_test.price_usd.values, model.predict(test_pool))\n",
    "\n",
    "print('Counter Calculation Method Full: R2={:.4f} RMSE={:.0f}'.format(r2_res, rmse_res))"
   ]
  },
  {
   "cell_type": "code",
   "execution_count": null,
   "metadata": {
    "ExecuteTime": {
     "end_time": "2020-06-02T09:36:20.162304Z",
     "start_time": "2020-06-02T09:35:32.588917Z"
    }
   },
   "outputs": [],
   "source": [
    "model = CatBoostRegressor(custom_metric= ['R2', 'RMSE'], learning_rate=0.1, n_estimators=4500, \n",
    "                          counter_calc_method='SkipTest')\n",
    "model.fit(train_pool, eval_set=test_pool, verbose=False)\n",
    "r2_res = r2_score(df_test.price_usd.values, model.predict(test_pool))\n",
    "rmse_res = mean_squared_error(df_test.price_usd.values, model.predict(test_pool))\n",
    "\n",
    "print('Counter Calculation Method SkipTest: R2={:.4f} RMSE={:.0f}'.format(r2_res, rmse_res))"
   ]
  },
  {
   "cell_type": "markdown",
   "metadata": {},
   "source": [
    "### Number of Borders for Target Quantization\n",
    "\n",
    "*The maximum number of borders to use in target quantization for categorical features that need it. Default for regression task is 1.*\n",
    "\n",
    "Let us try a rather big number of borders:"
   ]
  },
  {
   "cell_type": "code",
   "execution_count": null,
   "metadata": {
    "ExecuteTime": {
     "end_time": "2020-06-02T09:44:29.306618Z",
     "start_time": "2020-06-02T09:36:20.163175Z"
    }
   },
   "outputs": [],
   "source": [
    "model_params = score_catboost_model({'ctr_target_border_count': 10})"
   ]
  },
  {
   "cell_type": "markdown",
   "metadata": {},
   "source": [
    "It is worth noticing that this setting seems to have a huge impact on training time -- on my machine, it increased almost 5 times."
   ]
  },
  {
   "cell_type": "markdown",
   "metadata": {},
   "source": [
    "### Categorical Values Limit\n",
    "\n",
    "This parameter regulates the number of the most common categorical feature values that are used by the model. If we have $n$ unique categories and `ctr_leaf_count_limit`=$m$ we preserve the categorical feature value only for objects from $m$ most frequent categories. For the objects from the remaining $n-m$ categories, we replace categorical feature value with `None`. \n",
    "\n",
    "The default value of this parameter is `None` -- all the categorical features values are preserved."
   ]
  },
  {
   "cell_type": "code",
   "execution_count": null,
   "metadata": {
    "ExecuteTime": {
     "end_time": "2020-06-02T09:46:27.261876Z",
     "start_time": "2020-06-02T09:44:29.307713Z"
    },
    "colab": {},
    "colab_type": "code",
    "id": "IhNOKdh3c61x",
    "outputId": "870fff04-5d46-4298-a557-1db9f59a83db"
   },
   "outputs": [],
   "source": [
    "model_params = score_catboost_model({'ctr_leaf_count_limit' : 5})"
   ]
  },
  {
   "cell_type": "markdown",
   "metadata": {},
   "source": [
    "Oops! On our dataset, it ruins the model performance. \n",
    "### Store Simple Categorical Features\n",
    "With this setting on the previous parameter `ctr_leaf_count_limit` affects only the categorical features, that CatBoost creates by combining the initial features and the initial categorical features present in the dataset are not affected. When parameter `ctr_leaf_count_limit` is `None` parameter `store_all_simple_ctr` has no effect. "
   ]
  },
  {
   "cell_type": "code",
   "execution_count": null,
   "metadata": {
    "ExecuteTime": {
     "end_time": "2020-06-02T09:48:26.201578Z",
     "start_time": "2020-06-02T09:46:27.262742Z"
    },
    "colab": {},
    "colab_type": "code",
    "id": "IhNOKdh3c61x",
    "outputId": "870fff04-5d46-4298-a557-1db9f59a83db"
   },
   "outputs": [],
   "source": [
    "model_params = score_catboost_model({'store_all_simple_ctr' : True, 'ctr_leaf_count_limit' : 5})"
   ]
  },
  {
   "cell_type": "markdown",
   "metadata": {},
   "source": [
    "##  Internal feature importance\n",
    "\n",
    "It is quite common to use several encodings for a categorical feature. For instance, CatBoost creates 4 different encodings for each categorical feature by default (see \"Default value of simple_ctr and combinations_ctr\" section). When we call `get_feature_importances` method we get aggregated across all the encodings importance for the categorical feature. That is because in practice we usually just want to compare the overall usefulness of the different features present in our dataset. \n",
    "\n",
    "However, what if we want to know which encodings worked best for us? For that we would need to get **Internal Feature Importance.** Currently, it is available only in the command-line version of CatBoost library. You can find details about the installation [here](https://catboost.ai/docs/concepts/cli-installation.html) and an example of how to train a model with the command-line version in [this tutorial](https://github.com/catboost/catboost/blob/master/catboost/tutorials/cmdline_tutorial/cmdline_tutorial.md).\n",
    "\n",
    "To train a model with the command-line version we first need to create a column description file:"
   ]
  },
  {
   "cell_type": "code",
   "execution_count": null,
   "metadata": {
    "ExecuteTime": {
     "end_time": "2020-07-06T11:08:44.840368Z",
     "start_time": "2020-07-06T11:08:44.810729Z"
    }
   },
   "outputs": [],
   "source": [
    "descr = ['Categ' if i in categorical_features_names else 'Auxiliary' for i in df.columns]\n",
    "descr[14] = 'Target'\n",
    "pd.Series(descr).to_csv('train.cd', sep='\\t', header=None)"
   ]
  },
  {
   "cell_type": "markdown",
   "metadata": {},
   "source": [
    "Then train a model:\n",
    "\n",
    "`catboost fit --learn-set cars.csv  --loss-function RMSE --learning-rate 0.1 --iterations 4500 --delimiter=',' --has-header --column-description train.cd`\n",
    "\n",
    "And then create an Internal Feature Importance file: \n",
    "`catboost fstr -m model.bin  --cd train.cd --fstr-type InternalFeatureImportance -o feature_strength.tsv`\n",
    "\n",
    "The contents of this file in our case are the following: \n",
    "\n",
    "`9.318442186    transmission  \n",
    "7.675430604    {model_name} prior_num=1 prior_denom=1 targetborder=0 type=Borders  \n",
    "3.04782682    {model_name} prior_num=0 prior_denom=1 targetborder=0 type=Borders  \n",
    "2.951546528    {model_name} prior_num=0.5 prior_denom=1 targetborder=0 type=Borders  \n",
    "2.939078189    {body_type} prior_num=0 prior_denom=1 targetborder=0 type=Borders  \n",
    "2.666138982    {state, transmission} prior_num=0.5 prior_denom=1 targetborder=0 type=Borders  \n",
    "2.431465565    {body_type} prior_num=1 prior_denom=1 targetborder=0 type=Borders  \n",
    "2.059354431    {manufacturer_name} prior_num=0 prior_denom=1 targetborder=0 type=Counter  \n",
    "1.946443049    {state} prior_num=1 prior_denom=1 targetborder=0 type=Borders  \n",
    "1.932116622    {color} prior_num=1 prior_denom=1 targetborder=0 type=Borders  \n",
    "1.633469855    {color} prior_num=0.5 prior_denom=1 targetborder=0 type=Borders  \n",
    "1.561168441    {manufacturer_name} prior_num=0.5 prior_denom=1 targetborder=0 type=Borders  \n",
    "1.419944596    {manufacturer_name} prior_num=0 prior_denom=1 targetborder=0 type=Borders  \n",
    "1.3323198    {body_type} prior_num=0 prior_denom=1 targetborder=0 type=Counter  \n",
    "1.068973258    {color} prior_num=0 prior_denom=1 targetborder=0 type=Counter  \n",
    "1.038663366    {manufacturer_name} prior_num=1 prior_denom=1 targetborder=0 type=Borders  \n",
    "1.001434874    {manufacturer_name, body_type} prior_num=0 prior_denom=1 targetborder=0 type=Counter  \n",
    "0.9012036663    {body_type} prior_num=0.5 prior_denom=1 targetborder=0 type=Borders  \n",
    "0.8805961369    {manufacturer_name, body_type} prior_num=1 prior_denom=1 targetborder=0 type=Borders  \n",
    "0.8796937131    {drivetrain} prior_num=0 prior_denom=1 targetborder=0 type=Borders  \n",
    "...  \n",
    "...  \n",
    "1.476546485e-05    {engine_fuel, engine_type} prior_num=0 prior_denom=1 targetborder=0 type=Borders  \n",
    "7.417408934e-06    {engine_type, body_type, state, location_region} prior_num=0.5 prior_denom=1 targetborder=0 type=Borders\n",
    "`\n",
    "\n",
    "* We can see that the most important feature is transmission;\n",
    "* then we have the 3 `Borders` type encodings for `model_name` categorical feature with different priors; \n",
    "* then an encoding for `body_type` feature;\n",
    "* then we have a categorical feature created by CatBoost from the combination of `state` and `transmission` features\n",
    "\n",
    "An interesting observation is that for some features like `model_name` the most useful are the encodings of `Border` type, while for other features e.g. `manufacturer_name` the most useful encoding is obtained with `Counter` method. "
   ]
  },
  {
   "cell_type": "markdown",
   "metadata": {},
   "source": [
    "## `logging_level=Info`\n",
    "\n",
    "Another way of getting some insight into how your model works is training with `logging_level=Info` parameter. This setting allows us to see the feature splits chosen for each tree:"
   ]
  },
  {
   "cell_type": "code",
   "execution_count": null,
   "metadata": {
    "ExecuteTime": {
     "end_time": "2020-06-23T18:36:40.094269Z",
     "start_time": "2020-06-23T18:36:39.733817Z"
    },
    "scrolled": false
   },
   "outputs": [],
   "source": [
    "model = CatBoostRegressor(custom_metric= ['R2', 'RMSE'], learning_rate=0.3, n_estimators=5)\n",
    "model.fit(train_pool, eval_set=test_pool, logging_level='Info')"
   ]
  },
  {
   "cell_type": "markdown",
   "metadata": {},
   "source": [
    "For numeric features the format is the following:\n",
    "\n",
    "feature name, index of the chosen split, split score\n",
    "\n",
    "Example: `year_produced, bin=47 score 669154.1979`\n",
    "\n",
    "Format for categorical features is:\n",
    "\n",
    "feature name, prior, target border, encoding type, categorical feature border, split score\n",
    "\n",
    "Example: `{state} pr1 tb0 type0, border=12 score 901338.6173`\n",
    "\n",
    "For convenience, categorical features names are written in brackets \\{\\}"
   ]
  },
  {
   "cell_type": "markdown",
   "metadata": {},
   "source": [
    "## Parameter tuning for binary classification and multiclassification tasks.\n",
    "\n",
    "In our tutorial, we were working on the regression task, so I would like to make several notes on categorical parameter tuning on binary classification and multiclassification tasks.\n",
    "\n",
    "* For **binary classification** parameter tuning is very similar to regression task, except the fact, that it is usually useless to increase the `TargetBorderCount` parameter value (unless you pass probabilities as a target).\n",
    "\n",
    "* In **multiclassification** task we should keep in mind that usually, we do not have any natural order on classes so the use of `FloatTargetMeanValue` or `BinarizedTargetMeanValue` encodings is not recommended. If your training takes too long you can try to set `TargetBorderCount` to a lower value than the default n_classes - 1 if there is way to unite some of your classes. "
   ]
  },
  {
   "cell_type": "markdown",
   "metadata": {},
   "source": [
    "## Conclusion \n",
    "\n",
    "![flowers](https://sun6-16.userapi.com/KMIqz25YhrFemnEj8JrWyY6if2AjSxzdvPhpMw/zxkplY-AJZU.jpg)\n",
    "\n",
    "Congratulations to everyone who finished reading this tutorial :) As we saw the number of tunable parameters related to categorical features processing in CatBoost package is quite impressive. We learned how to control all of them, and I very much hope that this knowledge will help you to achieve the best results on your tasks involving categorical data! "
   ]
  },
  {
   "cell_type": "code",
   "execution_count": null,
   "metadata": {},
   "outputs": [],
   "source": []
  }
 ],
 "metadata": {
  "accelerator": "GPU",
  "colab": {
   "name": "CatBoost tutorial - Categorical features.ipynb",
   "provenance": []
  },
  "kernelspec": {
   "display_name": "Python 3 (ipykernel)",
   "language": "python",
   "name": "python3"
  },
  "language_info": {
   "codemirror_mode": {
    "name": "ipython",
    "version": 3
   },
   "file_extension": ".py",
   "mimetype": "text/x-python",
   "name": "python",
   "nbconvert_exporter": "python",
   "pygments_lexer": "ipython3",
   "version": "3.10.9"
  },
  "widgets": {
   "application/vnd.jupyter.widget-state+json": {
    "cd52d6b8b8dd4b79a23a44aada53f30d": {
     "model_module": "@jupyter-widgets/base",
     "model_name": "LayoutModel",
     "state": {
      "_model_module": "@jupyter-widgets/base",
      "_model_module_version": "1.2.0",
      "_model_name": "LayoutModel",
      "_view_count": null,
      "_view_module": "@jupyter-widgets/base",
      "_view_module_version": "1.2.0",
      "_view_name": "LayoutView",
      "align_content": null,
      "align_items": null,
      "align_self": "stretch",
      "border": null,
      "bottom": null,
      "display": null,
      "flex": null,
      "flex_flow": null,
      "grid_area": null,
      "grid_auto_columns": null,
      "grid_auto_flow": null,
      "grid_auto_rows": null,
      "grid_column": null,
      "grid_gap": null,
      "grid_row": null,
      "grid_template_areas": null,
      "grid_template_columns": null,
      "grid_template_rows": null,
      "height": "500px",
      "justify_content": null,
      "justify_items": null,
      "left": null,
      "margin": null,
      "max_height": null,
      "max_width": null,
      "min_height": null,
      "min_width": null,
      "object_fit": null,
      "object_position": null,
      "order": null,
      "overflow": null,
      "overflow_x": null,
      "overflow_y": null,
      "padding": null,
      "right": null,
      "top": null,
      "visibility": null,
      "width": null
     }
    },
    "f686c942b28a40359ec03f9c5097d7af": {
     "model_module": "@jupyter-widgets/base",
     "model_name": "DOMWidgetModel",
     "state": {
      "_dom_classes": [],
      "_model_module": "@jupyter-widgets/base",
      "_model_module_version": "1.2.0",
      "_model_name": "DOMWidgetModel",
      "_view_count": null,
      "_view_module": "catboost_module",
      "_view_module_version": "",
      "_view_name": "CatboostIpythonWidgetView",
      "data": {
       "catboost_info": {
        "content": {
         "data": {
          "iterations": [
           {
            "iteration": 0,
            "learn": [
             6003.852735,
             0.1398341119
            ],
            "passed_time": 0.1584595973,
            "remaining_time": 792.1395267,
            "test": [
             5877.861538,
             0.1392923323
            ]
           },
           {
            "iteration": 1,
            "learn": [
             5592.072555,
             0.2537785158
            ],
            "passed_time": 0.2279938304,
            "remaining_time": 569.7565822,
            "test": [
             5480.264731,
             0.2517959659
            ]
           },
           {
            "iteration": 2,
            "learn": [
             5217.566891,
             0.350381769
            ],
            "passed_time": 0.2949629847,
            "remaining_time": 491.3100115,
            "test": [
             5112.00733,
             0.3489716442
            ]
           },
           {
            "iteration": 3,
            "learn": [
             4875.074743,
             0.4328672718
            ],
            "passed_time": 0.3429977147,
            "remaining_time": 428.4041456,
            "test": [
             4779.439211,
             0.4309232355
            ]
           },
           {
            "iteration": 4,
            "learn": [
             4580.059868,
             0.4994304092
            ],
            "passed_time": 0.4012213058,
            "remaining_time": 400.8200845,
            "test": [
             4492.740606,
             0.4971486055
            ]
           },
           {
            "iteration": 5,
            "learn": [
             4310.470666,
             0.5566246531
            ],
            "passed_time": 0.4540615436,
            "remaining_time": 377.9305582,
            "test": [
             4233.26432,
             0.5535552281
            ]
           },
           {
            "iteration": 6,
            "learn": [
             4084.448833,
             0.6019028457
            ],
            "passed_time": 0.5102879782,
            "remaining_time": 363.981125,
            "test": [
             4020.621717,
             0.5972798153
            ]
           },
           {
            "iteration": 7,
            "learn": [
             3864.910829,
             0.6435479556
            ],
            "passed_time": 0.5631563564,
            "remaining_time": 351.4095664,
            "test": [
             3807.564182,
             0.638830195
            ]
           },
           {
            "iteration": 8,
            "learn": [
             3677.145017,
             0.6773410854
            ],
            "passed_time": 0.6140427596,
            "remaining_time": 340.5208237,
            "test": [
             3623.496485,
             0.6729059396
            ]
           },
           {
            "iteration": 9,
            "learn": [
             3512.658408,
             0.7055619111
            ],
            "passed_time": 0.6621443844,
            "remaining_time": 330.4100478,
            "test": [
             3464.731045,
             0.7009415872
            ]
           },
           {
            "iteration": 10,
            "learn": [
             3362.582988,
             0.7301837039
            ],
            "passed_time": 0.7138810337,
            "remaining_time": 323.7774979,
            "test": [
             3321.895708,
             0.7250910011
            ]
           },
           {
            "iteration": 11,
            "learn": [
             3237.854107,
             0.7498291491
            ],
            "passed_time": 0.7599290661,
            "remaining_time": 315.8771818,
            "test": [
             3200.254824,
             0.7448555705
            ]
           },
           {
            "iteration": 12,
            "learn": [
             3133.891915,
             0.7656363888
            ],
            "passed_time": 0.812423529,
            "remaining_time": 311.6581646,
            "test": [
             3104.569569,
             0.7598847399
            ]
           },
           {
            "iteration": 13,
            "learn": [
             3025.05527,
             0.7816321083
            ],
            "passed_time": 0.8674101986,
            "remaining_time": 308.9219465,
            "test": [
             3001.913707,
             0.7755015344
            ]
           },
           {
            "iteration": 14,
            "learn": [
             2934.39619,
             0.7945246857
            ],
            "passed_time": 0.9165701531,
            "remaining_time": 304.6068142,
            "test": [
             2913.367795,
             0.7885500439
            ]
           },
           {
            "iteration": 15,
            "learn": [
             2858.867463,
             0.8049660587
            ],
            "passed_time": 0.9779259025,
            "remaining_time": 304.6239186,
            "test": [
             2845.441848,
             0.7982951235
            ]
           },
           {
            "iteration": 16,
            "learn": [
             2791.685376,
             0.8140247735
            ],
            "passed_time": 1.031743457,
            "remaining_time": 302.4222144,
            "test": [
             2781.928703,
             0.807199143
            ]
           },
           {
            "iteration": 17,
            "learn": [
             2725.612079,
             0.8227238776
            ],
            "passed_time": 1.079705149,
            "remaining_time": 298.8383919,
            "test": [
             2715.36739,
             0.8163148001
            ]
           },
           {
            "iteration": 18,
            "learn": [
             2665.839523,
             0.8304139369
            ],
            "passed_time": 1.132356344,
            "remaining_time": 296.8561552,
            "test": [
             2665.438763,
             0.8230076939
            ]
           },
           {
            "iteration": 19,
            "learn": [
             2612.828483,
             0.8370914205
            ],
            "passed_time": 1.19088119,
            "remaining_time": 296.5294163,
            "test": [
             2619.252783,
             0.8290882987
            ]
           },
           {
            "iteration": 20,
            "learn": [
             2568.152888,
             0.8426147954
            ],
            "passed_time": 1.242539532,
            "remaining_time": 294.6002061,
            "test": [
             2577.879204,
             0.8344450787
            ]
           },
           {
            "iteration": 21,
            "learn": [
             2529.714309,
             0.8472908331
            ],
            "passed_time": 1.305170627,
            "remaining_time": 295.3245174,
            "test": [
             2543.529449,
             0.8388276606
            ]
           },
           {
            "iteration": 22,
            "learn": [
             2483.005635,
             0.8528780191
            ],
            "passed_time": 1.352525054,
            "remaining_time": 292.6746605,
            "test": [
             2498.954932,
             0.8444271468
            ]
           },
           {
            "iteration": 23,
            "learn": [
             2450.321069,
             0.8567257506
            ],
            "passed_time": 1.407365576,
            "remaining_time": 291.793796,
            "test": [
             2470.579847,
             0.8479400798
            ]
           },
           {
            "iteration": 24,
            "learn": [
             2417.759558,
             0.8605082987
            ],
            "passed_time": 1.458209529,
            "remaining_time": 290.1836963,
            "test": [
             2440.373612,
             0.8516356324
            ]
           },
           {
            "iteration": 25,
            "learn": [
             2392.754623,
             0.8633786787
            ],
            "passed_time": 1.513232398,
            "remaining_time": 289.492998,
            "test": [
             2418.175348,
             0.8543224771
            ]
           },
           {
            "iteration": 26,
            "learn": [
             2360.012738,
             0.8670920842
            ],
            "passed_time": 1.5656081,
            "remaining_time": 288.3618179,
            "test": [
             2387.676492,
             0.8579739736
            ]
           },
           {
            "iteration": 27,
            "learn": [
             2334.415661,
             0.8699595303
            ],
            "passed_time": 1.619305985,
            "remaining_time": 287.5424771,
            "test": [
             2366.402295,
             0.8604936022
            ]
           },
           {
            "iteration": 28,
            "learn": [
             2314.196268,
             0.8722024492
            ],
            "passed_time": 1.680042182,
            "remaining_time": 287.982403,
            "test": [
             2347.588113,
             0.8627030869
            ]
           },
           {
            "iteration": 29,
            "learn": [
             2291.091874,
             0.8747415125
            ],
            "passed_time": 1.730770396,
            "remaining_time": 286.7309623,
            "test": [
             2326.651075,
             0.86514114
            ]
           },
           {
            "iteration": 30,
            "learn": [
             2273.061953,
             0.8767052175
            ],
            "passed_time": 1.782186193,
            "remaining_time": 285.6671998,
            "test": [
             2310.40278,
             0.8670181514
            ]
           },
           {
            "iteration": 31,
            "learn": [
             2254.961924,
             0.8786609531
            ],
            "passed_time": 1.827223281,
            "remaining_time": 283.6764143,
            "test": [
             2293.271944,
             0.8689828691
            ]
           },
           {
            "iteration": 32,
            "learn": [
             2240.082317,
             0.8802570071
            ],
            "passed_time": 1.872906646,
            "remaining_time": 281.9008276,
            "test": [
             2279.853405,
             0.8705116149
            ]
           },
           {
            "iteration": 33,
            "learn": [
             2225.056005,
             0.881858074
            ],
            "passed_time": 1.912272509,
            "remaining_time": 279.304273,
            "test": [
             2268.16191,
             0.8718362887
            ]
           },
           {
            "iteration": 34,
            "learn": [
             2212.688982,
             0.8831677071
            ],
            "passed_time": 1.966593798,
            "remaining_time": 278.9753773,
            "test": [
             2256.34812,
             0.873167901
            ]
           },
           {
            "iteration": 35,
            "learn": [
             2203.247765,
             0.8841625923
            ],
            "passed_time": 2.01666228,
            "remaining_time": 278.0753211,
            "test": [
             2247.114448,
             0.874203849
            ]
           },
           {
            "iteration": 36,
            "learn": [
             2192.274602,
             0.8853135636
            ],
            "passed_time": 2.060998266,
            "remaining_time": 276.452281,
            "test": [
             2238.951838,
             0.8751160944
            ]
           },
           {
            "iteration": 37,
            "learn": [
             2185.205972,
             0.8860519465
            ],
            "passed_time": 2.10974645,
            "remaining_time": 275.4884707,
            "test": [
             2231.401892,
             0.8759569138
            ]
           },
           {
            "iteration": 38,
            "learn": [
             2174.825694,
             0.8871319391
            ],
            "passed_time": 2.145743513,
            "remaining_time": 272.9495787,
            "test": [
             2222.619592,
             0.8769314041
            ]
           },
           {
            "iteration": 39,
            "learn": [
             2162.768881,
             0.8883799076
            ],
            "passed_time": 2.19654559,
            "remaining_time": 272.3716532,
            "test": [
             2212.840864,
             0.8780119372
            ]
           },
           {
            "iteration": 40,
            "learn": [
             2151.623225,
             0.8895273937
            ],
            "passed_time": 2.252735668,
            "remaining_time": 272.4711263,
            "test": [
             2203.716641,
             0.8790158517
            ]
           },
           {
            "iteration": 41,
            "learn": [
             2144.693005,
             0.8902378959
            ],
            "passed_time": 2.311327103,
            "remaining_time": 272.8466614,
            "test": [
             2197.263063,
             0.8797234176
            ]
           },
           {
            "iteration": 42,
            "learn": [
             2135.018356,
             0.8912259297
            ],
            "passed_time": 2.36521264,
            "remaining_time": 272.659513,
            "test": [
             2187.99629,
             0.8807357911
            ]
           },
           {
            "iteration": 43,
            "learn": [
             2124.802939,
             0.8922643416
            ],
            "passed_time": 2.420852198,
            "remaining_time": 272.6759885,
            "test": [
             2179.229702,
             0.8816895821
            ]
           },
           {
            "iteration": 44,
            "learn": [
             2115.981479,
             0.8931570483
            ],
            "passed_time": 2.476047249,
            "remaining_time": 272.6403138,
            "test": [
             2169.702339,
             0.8827218022
            ]
           },
           {
            "iteration": 45,
            "learn": [
             2109.00037,
             0.8938608843
            ],
            "passed_time": 2.519331264,
            "remaining_time": 271.3210236,
            "test": [
             2161.01216,
             0.8836593755
            ]
           },
           {
            "iteration": 46,
            "learn": [
             2102.932996,
             0.8944707081
            ],
            "passed_time": 2.572942762,
            "remaining_time": 271.1443723,
            "test": [
             2155.587569,
             0.884242721
            ]
           },
           {
            "iteration": 47,
            "learn": [
             2093.44066,
             0.8954212459
            ],
            "passed_time": 2.620744138,
            "remaining_time": 270.3734369,
            "test": [
             2145.952662,
             0.8852752171
            ]
           },
           {
            "iteration": 48,
            "learn": [
             2086.933613,
             0.8960703604
            ],
            "passed_time": 2.676831345,
            "remaining_time": 270.4692242,
            "test": [
             2139.732687,
             0.8859393055
            ]
           },
           {
            "iteration": 49,
            "learn": [
             2076.832675,
             0.8970739825
            ],
            "passed_time": 2.730191389,
            "remaining_time": 270.2889475,
            "test": [
             2129.545716,
             0.8870227746
            ]
           },
           {
            "iteration": 50,
            "learn": [
             2069.8947,
             0.8977605138
            ],
            "passed_time": 2.783943943,
            "remaining_time": 270.1517367,
            "test": [
             2122.393859,
             0.8877803448
            ]
           },
           {
            "iteration": 51,
            "learn": [
             2062.183096,
             0.898520902
            ],
            "passed_time": 2.832393996,
            "remaining_time": 269.5131825,
            "test": [
             2116.163632,
             0.8884382131
            ]
           },
           {
            "iteration": 52,
            "learn": [
             2056.647805,
             0.8990649491
            ],
            "passed_time": 2.885692155,
            "remaining_time": 269.3494168,
            "test": [
             2111.743476,
             0.8889037777
            ]
           },
           {
            "iteration": 53,
            "learn": [
             2048.409897,
             0.8998719209
            ],
            "passed_time": 2.947036316,
            "remaining_time": 269.9266966,
            "test": [
             2104.382854,
             0.8896768945
            ]
           },
           {
            "iteration": 54,
            "learn": [
             2041.601681,
             0.9005363981
            ],
            "passed_time": 3.008568706,
            "remaining_time": 270.4976773,
            "test": [
             2099.133774,
             0.8902265783
            ]
           },
           {
            "iteration": 55,
            "learn": [
             2035.853452,
             0.9010956989
            ],
            "passed_time": 3.064531027,
            "remaining_time": 270.5543106,
            "test": [
             2094.922338,
             0.8906666074
            ]
           },
           {
            "iteration": 56,
            "learn": [
             2029.773842,
             0.9016855269
            ],
            "passed_time": 3.119978546,
            "remaining_time": 270.56235,
            "test": [
             2090.106298,
             0.891168725
            ]
           },
           {
            "iteration": 57,
            "learn": [
             2025.307321,
             0.9021177331
            ],
            "passed_time": 3.17138715,
            "remaining_time": 270.2240568,
            "test": [
             2085.143636,
             0.8916849204
            ]
           },
           {
            "iteration": 58,
            "learn": [
             2021.422502,
             0.9024928764
            ],
            "passed_time": 3.231687693,
            "remaining_time": 270.6401507,
            "test": [
             2082.255567,
             0.8919847605
            ]
           },
           {
            "iteration": 59,
            "learn": [
             2017.183205,
             0.9029014286
            ],
            "passed_time": 3.292970719,
            "remaining_time": 271.1212558,
            "test": [
             2078.492923,
             0.8923747757
            ]
           },
           {
            "iteration": 60,
            "learn": [
             2012.483124,
             0.903353385
            ],
            "passed_time": 3.352395111,
            "remaining_time": 271.4340894,
            "test": [
             2074.345486,
             0.8928038592
            ]
           },
           {
            "iteration": 61,
            "learn": [
             2006.798394,
             0.9038986158
            ],
            "passed_time": 3.40397107,
            "remaining_time": 271.1098249,
            "test": [
             2070.11952,
             0.8932401856
            ]
           },
           {
            "iteration": 62,
            "learn": [
             2002.853635,
             0.9042760571
            ],
            "passed_time": 3.461826933,
            "remaining_time": 271.2863423,
            "test": [
             2067.074198,
             0.8935540601
            ]
           },
           {
            "iteration": 63,
            "learn": [
             1993.855646,
             0.9051342208
            ],
            "passed_time": 3.514511048,
            "remaining_time": 271.0566646,
            "test": [
             2057.464346,
             0.8945414963
            ]
           },
           {
            "iteration": 64,
            "learn": [
             1986.127395,
             0.9058682014
            ],
            "passed_time": 3.561244241,
            "remaining_time": 270.3806205,
            "test": [
             2051.507224,
             0.8951512951
            ]
           },
           {
            "iteration": 65,
            "learn": [
             1980.218265,
             0.9064274904
            ],
            "passed_time": 3.611596283,
            "remaining_time": 269.9941827,
            "test": [
             2045.218871,
             0.8957930819
            ]
           },
           {
            "iteration": 66,
            "learn": [
             1977.774025,
             0.9066583462
            ],
            "passed_time": 3.673948711,
            "remaining_time": 270.5013282,
            "test": [
             2043.246234,
             0.8959940025
            ]
           },
           {
            "iteration": 67,
            "learn": [
             1973.915337,
             0.907022215
            ],
            "passed_time": 3.727910626,
            "remaining_time": 270.3831648,
            "test": [
             2040.811523,
             0.8962417198
            ]
           },
           {
            "iteration": 68,
            "learn": [
             1971.840793,
             0.9072175477
            ],
            "passed_time": 3.782303193,
            "remaining_time": 270.2976383,
            "test": [
             2040.166616,
             0.8963072857
            ]
           },
           {
            "iteration": 69,
            "learn": [
             1967.18383,
             0.907655285
            ],
            "passed_time": 3.837560592,
            "remaining_time": 270.2739102,
            "test": [
             2036.106678,
             0.8967195728
            ]
           },
           {
            "iteration": 70,
            "learn": [
             1967.069828,
             0.9076659878
            ],
            "passed_time": 3.861479562,
            "remaining_time": 268.0737009,
            "test": [
             2036.087935,
             0.8967214742
            ]
           },
           {
            "iteration": 71,
            "learn": [
             1961.779831,
             0.9081619436
            ],
            "passed_time": 3.913446185,
            "remaining_time": 267.85365,
            "test": [
             2030.761806,
             0.8972610926
            ]
           },
           {
            "iteration": 72,
            "learn": [
             1958.902517,
             0.9084311412
            ],
            "passed_time": 3.983869215,
            "remaining_time": 268.8838852,
            "test": [
             2029.190798,
             0.8974199899
            ]
           },
           {
            "iteration": 73,
            "learn": [
             1955.311673,
             0.9087665414
            ],
            "passed_time": 4.036993493,
            "remaining_time": 268.7328371,
            "test": [
             2025.491865,
             0.8977936272
            ]
           },
           {
            "iteration": 74,
            "learn": [
             1948.502849,
             0.9094008249
            ],
            "passed_time": 4.08008503,
            "remaining_time": 267.9255837,
            "test": [
             2020.862624,
             0.8982602766
            ]
           },
           {
            "iteration": 75,
            "learn": [
             1943.139804,
             0.9098988675
            ],
            "passed_time": 4.1390067,
            "remaining_time": 268.1640656,
            "test": [
             2016.177623,
             0.8987314597
            ]
           },
           {
            "iteration": 76,
            "learn": [
             1938.58179,
             0.9103210714
            ],
            "passed_time": 4.185942955,
            "remaining_time": 267.6285347,
            "test": [
             2012.0228,
             0.8991484065
            ]
           },
           {
            "iteration": 77,
            "learn": [
             1936.429188,
             0.9105201199
            ],
            "passed_time": 4.239172682,
            "remaining_time": 267.5026659,
            "test": [
             2010.000098,
             0.8993510783
            ]
           },
           {
            "iteration": 78,
            "learn": [
             1932.987001,
             0.9108379551
            ],
            "passed_time": 4.299438349,
            "remaining_time": 267.8169128,
            "test": [
             2006.422265,
             0.8997090729
            ]
           },
           {
            "iteration": 79,
            "learn": [
             1928.227127,
             0.9112765277
            ],
            "passed_time": 4.355435003,
            "remaining_time": 267.8592527,
            "test": [
             2004.184475,
             0.8999326598
            ]
           },
           {
            "iteration": 80,
            "learn": [
             1925.838938,
             0.911496167
            ],
            "passed_time": 4.408685444,
            "remaining_time": 267.7323914,
            "test": [
             2002.362702,
             0.9001144965
            ]
           },
           {
            "iteration": 81,
            "learn": [
             1921.176013,
             0.9119242268
            ],
            "passed_time": 4.467741191,
            "remaining_time": 267.9555022,
            "test": [
             1998.994464,
             0.9004502549
            ]
           },
           {
            "iteration": 82,
            "learn": [
             1918.53104,
             0.9121665759
            ],
            "passed_time": 4.523456393,
            "remaining_time": 267.9739167,
            "test": [
             1997.415833,
             0.9006074243
            ]
           },
           {
            "iteration": 83,
            "learn": [
             1914.805198,
             0.9125073947
            ],
            "passed_time": 4.571908083,
            "remaining_time": 267.5654778,
            "test": [
             1995.278202,
             0.90082005
            ]
           },
           {
            "iteration": 84,
            "learn": [
             1913.136308,
             0.9126598404
            ],
            "passed_time": 4.627947746,
            "remaining_time": 267.6042726,
            "test": [
             1994.587741,
             0.90088868
            ]
           },
           {
            "iteration": 85,
            "learn": [
             1909.344286,
             0.9130057307
            ],
            "passed_time": 4.684199767,
            "remaining_time": 267.652996,
            "test": [
             1991.721572,
             0.901173316
            ]
           },
           {
            "iteration": 86,
            "learn": [
             1908.330942,
             0.9130980469
            ],
            "passed_time": 4.739807357,
            "remaining_time": 267.6629143,
            "test": [
             1990.817041,
             0.9012630589
            ]
           },
           {
            "iteration": 87,
            "learn": [
             1903.777378,
             0.9135122742
            ],
            "passed_time": 4.789716118,
            "remaining_time": 267.3532452,
            "test": [
             1989.201666,
             0.9014232268
            ]
           },
           {
            "iteration": 88,
            "learn": [
             1901.66167,
             0.9137043988
            ],
            "passed_time": 4.837480014,
            "remaining_time": 266.9310601,
            "test": [
             1987.028133,
             0.9016385321
            ]
           },
           {
            "iteration": 89,
            "learn": [
             1901.575606,
             0.9137122095
            ],
            "passed_time": 4.861445915,
            "remaining_time": 265.2188827,
            "test": [
             1987.028075,
             0.9016385379
            ]
           },
           {
            "iteration": 90,
            "learn": [
             1898.74234,
             0.9139691482
            ],
            "passed_time": 4.915344737,
            "remaining_time": 265.1585419,
            "test": [
             1985.3985,
             0.9017998055
            ]
           },
           {
            "iteration": 91,
            "learn": [
             1896.344491,
             0.9141863011
            ],
            "passed_time": 4.985582202,
            "remaining_time": 265.9699723,
            "test": [
             1984.216767,
             0.9019166705
            ]
           },
           {
            "iteration": 92,
            "learn": [
             1892.738606,
             0.9145123391
            ],
            "passed_time": 5.038838765,
            "remaining_time": 265.8664712,
            "test": [
             1981.047674,
             0.9022297281
            ]
           },
           {
            "iteration": 93,
            "learn": [
             1888.1966,
             0.9149221364
            ],
            "passed_time": 5.082048991,
            "remaining_time": 265.2397059,
            "test": [
             1976.291156,
             0.9026986595
            ]
           },
           {
            "iteration": 94,
            "learn": [
             1884.732431,
             0.9152340252
            ],
            "passed_time": 5.136760994,
            "remaining_time": 265.2190808,
            "test": [
             1972.995219,
             0.9030229353
            ]
           },
           {
            "iteration": 95,
            "learn": [
             1881.904884,
             0.9154881727
            ],
            "passed_time": 5.191643312,
            "remaining_time": 265.2064458,
            "test": [
             1969.698426,
             0.9033467537
            ]
           },
           {
            "iteration": 96,
            "learn": [
             1881.075807,
             0.91556262
            ],
            "passed_time": 5.241381703,
            "remaining_time": 264.9329329,
            "test": [
             1969.138397,
             0.9034017073
            ]
           },
           {
            "iteration": 97,
            "learn": [
             1877.771035,
             0.9158590473
            ],
            "passed_time": 5.307610244,
            "remaining_time": 265.4888308,
            "test": [
             1966.654461,
             0.9036452581
            ]
           },
           {
            "iteration": 98,
            "learn": [
             1874.114551,
             0.9161864148
            ],
            "passed_time": 5.365246161,
            "remaining_time": 265.6067822,
            "test": [
             1963.251075,
             0.9039784622
            ]
           },
           {
            "iteration": 99,
            "learn": [
             1873.539905,
             0.9162378051
            ],
            "passed_time": 5.416442549,
            "remaining_time": 265.4056849,
            "test": [
             1962.854878,
             0.9040172139
            ]
           },
           {
            "iteration": 100,
            "learn": [
             1870.32828,
             0.9165247296
            ],
            "passed_time": 5.473310508,
            "remaining_time": 265.4826552,
            "test": [
             1960.754412,
             0.9042225278
            ]
           },
           {
            "iteration": 101,
            "learn": [
             1866.766624,
             0.9168423499
            ],
            "passed_time": 5.530765034,
            "remaining_time": 265.585168,
            "test": [
             1958.933356,
             0.9044003523
            ]
           },
           {
            "iteration": 102,
            "learn": [
             1864.880121,
             0.9170103386
            ],
            "passed_time": 5.594506259,
            "remaining_time": 265.9834675,
            "test": [
             1957.504593,
             0.9045397541
            ]
           },
           {
            "iteration": 103,
            "learn": [
             1862.922185,
             0.9171845087
            ],
            "passed_time": 5.653364677,
            "remaining_time": 266.143014,
            "test": [
             1956.67731,
             0.9046204242
            ]
           },
           {
            "iteration": 104,
            "learn": [
             1859.212052,
             0.9175140453
            ],
            "passed_time": 5.71530345,
            "remaining_time": 266.4420037,
            "test": [
             1952.596374,
             0.9050178653
            ]
           },
           {
            "iteration": 105,
            "learn": [
             1858.767007,
             0.9175535304
            ],
            "passed_time": 5.775211042,
            "remaining_time": 266.6404042,
            "test": [
             1952.628991,
             0.905014692
            ]
           },
           {
            "iteration": 106,
            "learn": [
             1855.844903,
             0.9178125491
            ],
            "passed_time": 5.837729503,
            "remaining_time": 266.9533688,
            "test": [
             1950.541871,
             0.9052176387
            ]
           },
           {
            "iteration": 107,
            "learn": [
             1854.902304,
             0.9178960153
            ],
            "passed_time": 5.89119785,
            "remaining_time": 266.8494434,
            "test": [
             1949.653907,
             0.9053039164
            ]
           },
           {
            "iteration": 108,
            "learn": [
             1852.027729,
             0.9181502942
            ],
            "passed_time": 5.94293402,
            "remaining_time": 266.6687183,
            "test": [
             1947.304262,
             0.9055320268
            ]
           },
           {
            "iteration": 109,
            "learn": [
             1845.968948,
             0.9186849495
            ],
            "passed_time": 6.015251048,
            "remaining_time": 267.4052512,
            "test": [
             1942.495101,
             0.9059980563
            ]
           },
           {
            "iteration": 110,
            "learn": [
             1843.988354,
             0.9188593465
            ],
            "passed_time": 6.068161264,
            "remaining_time": 267.2724362,
            "test": [
             1940.355329,
             0.9062050396
            ]
           },
           {
            "iteration": 111,
            "learn": [
             1841.866489,
             0.9190459751
            ],
            "passed_time": 6.126913481,
            "remaining_time": 267.3960098,
            "test": [
             1938.450724,
             0.9063890828
            ]
           },
           {
            "iteration": 112,
            "learn": [
             1838.99908,
             0.9192978366
            ],
            "passed_time": 6.174800274,
            "remaining_time": 267.0464508,
            "test": [
             1936.713951,
             0.9065567509
            ]
           },
           {
            "iteration": 113,
            "learn": [
             1838.164844,
             0.9193710388
            ],
            "passed_time": 6.229050146,
            "remaining_time": 266.9749036,
            "test": [
             1936.373737,
             0.9065895775
            ]
           },
           {
            "iteration": 114,
            "learn": [
             1835.62015,
             0.9195941244
            ],
            "passed_time": 6.280825259,
            "remaining_time": 266.7985338,
            "test": [
             1935.226722,
             0.9067002084
            ]
           },
           {
            "iteration": 115,
            "learn": [
             1834.36644,
             0.9197039196
            ],
            "passed_time": 6.333412176,
            "remaining_time": 266.658492,
            "test": [
             1934.408232,
             0.9067791127
            ]
           },
           {
            "iteration": 116,
            "learn": [
             1832.661647,
             0.9198530987
            ],
            "passed_time": 6.382356812,
            "remaining_time": 266.3679343,
            "test": [
             1933.395118,
             0.9068767328
            ]
           },
           {
            "iteration": 117,
            "learn": [
             1829.6129,
             0.9201195357
            ],
            "passed_time": 6.43300145,
            "remaining_time": 266.1518057,
            "test": [
             1930.845434,
             0.9071221854
            ]
           },
           {
            "iteration": 118,
            "learn": [
             1829.024496,
             0.9201709066
            ],
            "passed_time": 6.486462172,
            "remaining_time": 266.0539652,
            "test": [
             1930.450884,
             0.9071601389
            ]
           },
           {
            "iteration": 119,
            "learn": [
             1827.752013,
             0.9202819448
            ],
            "passed_time": 6.544689187,
            "remaining_time": 266.1506936,
            "test": [
             1929.793536,
             0.9072233549
            ]
           },
           {
            "iteration": 120,
            "learn": [
             1825.893252,
             0.9204440034
            ],
            "passed_time": 6.602082772,
            "remaining_time": 266.2112549,
            "test": [
             1928.432521,
             0.907354173
            ]
           },
           {
            "iteration": 121,
            "learn": [
             1825.040443,
             0.9205183015
            ],
            "passed_time": 6.656205744,
            "remaining_time": 266.1391116,
            "test": [
             1927.671882,
             0.9074272438
            ]
           },
           {
            "iteration": 122,
            "learn": [
             1823.127116,
             0.9206848675
            ],
            "passed_time": 6.716376849,
            "remaining_time": 266.3070723,
            "test": [
             1926.035021,
             0.9075843912
            ]
           },
           {
            "iteration": 123,
            "learn": [
             1820.984251,
             0.9208712085
            ],
            "passed_time": 6.775918267,
            "remaining_time": 266.4465925,
            "test": [
             1924.774797,
             0.9077052887
            ]
           },
           {
            "iteration": 124,
            "learn": [
             1817.183698,
             0.9212011612
            ],
            "passed_time": 6.832931819,
            "remaining_time": 266.484341,
            "test": [
             1921.295864,
             0.9080386232
            ]
           },
           {
            "iteration": 125,
            "learn": [
             1813.959604,
             0.921480527
            ],
            "passed_time": 6.889407345,
            "remaining_time": 266.499773,
            "test": [
             1918.822878,
             0.908275206
            ]
           },
           {
            "iteration": 126,
            "learn": [
             1812.088353,
             0.9216424423
            ],
            "passed_time": 6.942443459,
            "remaining_time": 266.3821022,
            "test": [
             1918.120456,
             0.908342349
            ]
           },
           {
            "iteration": 127,
            "learn": [
             1807.651775,
             0.9220256618
            ],
            "passed_time": 6.991211442,
            "remaining_time": 266.1029855,
            "test": [
             1914.956032,
             0.9086445244
            ]
           },
           {
            "iteration": 128,
            "learn": [
             1803.808597,
             0.9223568658
            ],
            "passed_time": 7.063085526,
            "remaining_time": 266.6999194,
            "test": [
             1912.599496,
             0.9088692293
            ]
           },
           {
            "iteration": 129,
            "learn": [
             1801.426626,
             0.9225617895
            ],
            "passed_time": 7.115293981,
            "remaining_time": 266.5498591,
            "test": [
             1910.397747,
             0.9090789246
            ]
           },
           {
            "iteration": 130,
            "learn": [
             1796.395782,
             0.922993709
            ],
            "passed_time": 7.177245795,
            "remaining_time": 266.7634334,
            "test": [
             1906.61052,
             0.9094390564
            ]
           },
           {
            "iteration": 131,
            "learn": [
             1795.402208,
             0.9230788687
            ],
            "passed_time": 7.223546782,
            "remaining_time": 266.3956495,
            "test": [
             1905.142237,
             0.9095784849
            ]
           },
           {
            "iteration": 132,
            "learn": [
             1792.090355,
             0.923362389
            ],
            "passed_time": 7.273878482,
            "remaining_time": 266.1801998,
            "test": [
             1902.415362,
             0.9098371445
            ]
           },
           {
            "iteration": 133,
            "learn": [
             1790.855875,
             0.9234679361
            ],
            "passed_time": 7.333042641,
            "remaining_time": 266.2879514,
            "test": [
             1902.483841,
             0.9098306534
            ]
           },
           {
            "iteration": 134,
            "learn": [
             1790.521371,
             0.9234965235
            ],
            "passed_time": 7.382464496,
            "remaining_time": 266.0421465,
            "test": [
             1902.406863,
             0.9098379501
            ]
           },
           {
            "iteration": 135,
            "learn": [
             1787.619576,
             0.9237442921
            ],
            "passed_time": 7.433134741,
            "remaining_time": 265.8438778,
            "test": [
             1899.960912,
             0.9100696463
            ]
           },
           {
            "iteration": 136,
            "learn": [
             1786.283239,
             0.9238582595
            ],
            "passed_time": 7.484076481,
            "remaining_time": 265.6574009,
            "test": [
             1899.151876,
             0.9101462177
            ]
           },
           {
            "iteration": 137,
            "learn": [
             1783.958456,
             0.924056322
            ],
            "passed_time": 7.53643001,
            "remaining_time": 265.5226283,
            "test": [
             1897.09687,
             0.9103405678
            ]
           },
           {
            "iteration": 138,
            "learn": [
             1780.954664,
             0.9243118515
            ],
            "passed_time": 7.579814386,
            "remaining_time": 265.0753793,
            "test": [
             1895.533022,
             0.9104883262
            ]
           },
           {
            "iteration": 139,
            "learn": [
             1778.217335,
             0.9245443381
            ],
            "passed_time": 7.627176258,
            "remaining_time": 264.7719758,
            "test": [
             1893.852366,
             0.910646985
            ]
           },
           {
            "iteration": 140,
            "learn": [
             1775.83159,
             0.9247466725
            ],
            "passed_time": 7.681738811,
            "remaining_time": 264.7203467,
            "test": [
             1891.654034,
             0.9108543017
            ]
           },
           {
            "iteration": 141,
            "learn": [
             1774.216294,
             0.9248835111
            ],
            "passed_time": 7.743510155,
            "remaining_time": 264.9152981,
            "test": [
             1890.54483,
             0.9109588154
            ]
           },
           {
            "iteration": 142,
            "learn": [
             1771.947565,
             0.9250754944
            ],
            "passed_time": 7.799369764,
            "remaining_time": 264.9058668,
            "test": [
             1889.065604,
             0.9110980985
            ]
           },
           {
            "iteration": 143,
            "learn": [
             1769.541783,
             0.925278807
            ],
            "passed_time": 7.854421234,
            "remaining_time": 264.8685383,
            "test": [
             1886.701458,
             0.9113204788
            ]
           },
           {
            "iteration": 144,
            "learn": [
             1767.941299,
             0.925413911
            ],
            "passed_time": 7.908055367,
            "remaining_time": 264.783509,
            "test": [
             1885.884038,
             0.9113973036
            ]
           },
           {
            "iteration": 145,
            "learn": [
             1766.037911,
             0.9255744252
            ],
            "passed_time": 7.959059565,
            "remaining_time": 264.6114735,
            "test": [
             1884.553195,
             0.9115223109
            ]
           },
           {
            "iteration": 146,
            "learn": [
             1764.010898,
             0.9257451747
            ],
            "passed_time": 8.007483713,
            "remaining_time": 264.3559079,
            "test": [
             1883.678647,
             0.9116044101
            ]
           },
           {
            "iteration": 147,
            "learn": [
             1762.545919,
             0.925868458
            ],
            "passed_time": 8.093732987,
            "remaining_time": 265.3431922,
            "test": [
             1882.972785,
             0.9116706457
            ]
           },
           {
            "iteration": 148,
            "learn": [
             1761.998269,
             0.9259145185
            ],
            "passed_time": 8.146545444,
            "remaining_time": 265.2274628,
            "test": [
             1882.849729,
             0.9116821903
            ]
           },
           {
            "iteration": 149,
            "learn": [
             1759.689818,
             0.9261085149
            ],
            "passed_time": 8.201986011,
            "remaining_time": 265.1975477,
            "test": [
             1881.707653,
             0.9117892994
            ]
           },
           {
            "iteration": 150,
            "learn": [
             1757.843345,
             0.9262635048
            ],
            "passed_time": 8.255487392,
            "remaining_time": 265.1050223,
            "test": [
             1880.89382,
             0.9118655846
            ]
           },
           {
            "iteration": 151,
            "learn": [
             1755.909686,
             0.9264256384
            ],
            "passed_time": 8.305364274,
            "remaining_time": 264.8974079,
            "test": [
             1879.084761,
             0.9120350398
            ]
           },
           {
            "iteration": 152,
            "learn": [
             1754.722747,
             0.9265250727
            ],
            "passed_time": 8.362445367,
            "remaining_time": 264.920083,
            "test": [
             1879.092958,
             0.9120342724
            ]
           },
           {
            "iteration": 153,
            "learn": [
             1751.517953,
             0.9267932141
            ],
            "passed_time": 8.411019532,
            "remaining_time": 264.6740302,
            "test": [
             1875.608664,
             0.9123601895
            ]
           },
           {
            "iteration": 154,
            "learn": [
             1748.858684,
             0.92701534
            ],
            "passed_time": 8.458953304,
            "remaining_time": 264.4105081,
            "test": [
             1873.243442,
             0.9125810852
            ]
           },
           {
            "iteration": 155,
            "learn": [
             1746.800856,
             0.9271869965
            ],
            "passed_time": 8.514009651,
            "remaining_time": 264.3709151,
            "test": [
             1871.680854,
             0.9127268674
            ]
           },
           {
            "iteration": 156,
            "learn": [
             1744.655416,
             0.9273657462
            ],
            "passed_time": 8.560962004,
            "remaining_time": 264.08114,
            "test": [
             1870.979937,
             0.9127922202
            ]
           },
           {
            "iteration": 157,
            "learn": [
             1742.73738,
             0.9275253634
            ],
            "passed_time": 8.61282657,
            "remaining_time": 263.9449763,
            "test": [
             1870.011824,
             0.9128824458
            ]
           },
           {
            "iteration": 158,
            "learn": [
             1741.118,
             0.9276599901
            ],
            "passed_time": 8.670370005,
            "remaining_time": 263.9827748,
            "test": [
             1868.328721,
             0.9130391954
            ]
           },
           {
            "iteration": 159,
            "learn": [
             1740.507228,
             0.9277107339
            ],
            "passed_time": 8.716982788,
            "remaining_time": 263.6887293,
            "test": [
             1867.631714,
             0.9131040673
            ]
           },
           {
            "iteration": 160,
            "learn": [
             1739.308565,
             0.9278102688
            ],
            "passed_time": 8.774073206,
            "remaining_time": 263.7126723,
            "test": [
             1867.080518,
             0.913155351
            ]
           },
           {
            "iteration": 161,
            "learn": [
             1737.684551,
             0.9279450148
            ],
            "passed_time": 8.829426108,
            "remaining_time": 263.6837254,
            "test": [
             1866.321977,
             0.9132259017
            ]
           },
           {
            "iteration": 162,
            "learn": [
             1736.521911,
             0.9280414028
            ],
            "passed_time": 8.874639415,
            "remaining_time": 263.3535635,
            "test": [
             1866.27047,
             0.9132306913
            ]
           },
           {
            "iteration": 163,
            "learn": [
             1732.794551,
             0.9283499825
            ],
            "passed_time": 8.926338446,
            "remaining_time": 263.2181264,
            "test": [
             1863.466735,
             0.9134912059
            ]
           },
           {
            "iteration": 164,
            "learn": [
             1732.312937,
             0.9283898059
            ],
            "passed_time": 8.978618389,
            "remaining_time": 263.1007267,
            "test": [
             1862.996154,
             0.9135348925
            ]
           },
           {
            "iteration": 165,
            "learn": [
             1729.262904,
             0.9286417479
            ],
            "passed_time": 9.027160314,
            "remaining_time": 262.8752588,
            "test": [
             1861.083008,
             0.9137123866
            ]
           },
           {
            "iteration": 166,
            "learn": [
             1727.369436,
             0.9287979307
            ],
            "passed_time": 9.085329758,
            "remaining_time": 262.9305313,
            "test": [
             1860.267809,
             0.9137879622
            ]
           },
           {
            "iteration": 167,
            "learn": [
             1724.393404,
             0.9290430631
            ],
            "passed_time": 9.136760975,
            "remaining_time": 262.790649,
            "test": [
             1858.567746,
             0.9139454652
            ]
           },
           {
            "iteration": 168,
            "learn": [
             1721.859789,
             0.929251421
            ],
            "passed_time": 9.184630979,
            "remaining_time": 262.5500134,
            "test": [
             1857.601767,
             0.9140348945
            ]
           },
           {
            "iteration": 169,
            "learn": [
             1720.352857,
             0.9293752019
            ],
            "passed_time": 9.23390954,
            "remaining_time": 262.3516652,
            "test": [
             1856.343134,
             0.9141513478
            ]
           },
           {
            "iteration": 170,
            "learn": [
             1717.462728,
             0.9296122966
            ],
            "passed_time": 9.285623451,
            "remaining_time": 262.2238342,
            "test": [
             1853.94929,
             0.9143726169
            ]
           },
           {
            "iteration": 171,
            "learn": [
             1716.200114,
             0.9297157514
            ],
            "passed_time": 9.353274706,
            "remaining_time": 262.5442458,
            "test": [
             1852.83382,
             0.9144756252
            ]
           },
           {
            "iteration": 172,
            "learn": [
             1713.206029,
             0.9299607735
            ],
            "passed_time": 9.40246337,
            "remaining_time": 262.3450329,
            "test": [
             1850.335359,
             0.9147061211
            ]
           },
           {
            "iteration": 173,
            "learn": [
             1712.233347,
             0.9300402812
            ],
            "passed_time": 9.45615733,
            "remaining_time": 262.2725016,
            "test": [
             1849.848262,
             0.914751022
            ]
           },
           {
            "iteration": 174,
            "learn": [
             1710.364873,
             0.9301928849
            ],
            "passed_time": 9.508065367,
            "remaining_time": 262.1509451,
            "test": [
             1849.414435,
             0.9147910026
            ]
           },
           {
            "iteration": 175,
            "learn": [
             1709.070206,
             0.9302985264
            ],
            "passed_time": 9.561554126,
            "remaining_time": 262.0735063,
            "test": [
             1848.528884,
             0.9148725839
            ]
           },
           {
            "iteration": 176,
            "learn": [
             1707.13041,
             0.9304566591
            ],
            "passed_time": 9.613301615,
            "remaining_time": 261.9488909,
            "test": [
             1847.818894,
             0.9149379635
            ]
           },
           {
            "iteration": 177,
            "learn": [
             1705.608834,
             0.9305805727
            ],
            "passed_time": 9.669041625,
            "remaining_time": 261.9332512,
            "test": [
             1847.298704,
             0.9149858494
            ]
           },
           {
            "iteration": 178,
            "learn": [
             1701.871872,
             0.9308844332
            ],
            "passed_time": 9.725067927,
            "remaining_time": 261.9248742,
            "test": [
             1843.786833,
             0.9153087803
            ]
           },
           {
            "iteration": 179,
            "learn": [
             1699.835818,
             0.9310497087
            ],
            "passed_time": 9.7789567,
            "remaining_time": 261.8587294,
            "test": [
             1842.487495,
             0.915428104
            ]
           },
           {
            "iteration": 180,
            "learn": [
             1698.797332,
             0.9311339309
            ],
            "passed_time": 9.831690532,
            "remaining_time": 261.7619706,
            "test": [
             1841.919949,
             0.9154801977
            ]
           },
           {
            "iteration": 181,
            "learn": [
             1697.241128,
             0.9312600443
            ],
            "passed_time": 9.877560405,
            "remaining_time": 261.4839892,
            "test": [
             1840.575525,
             0.9156035353
            ]
           },
           {
            "iteration": 182,
            "learn": [
             1695.884014,
             0.9313699294
            ],
            "passed_time": 9.926970865,
            "remaining_time": 261.3017413,
            "test": [
             1840.31813,
             0.9156271385
            ]
           },
           {
            "iteration": 183,
            "learn": [
             1693.695401,
             0.9315469553
            ],
            "passed_time": 9.975477549,
            "remaining_time": 261.0972819,
            "test": [
             1838.610238,
             0.9157836689
            ]
           },
           {
            "iteration": 184,
            "learn": [
             1692.058854,
             0.931679178
            ],
            "passed_time": 10.03374683,
            "remaining_time": 261.1485998,
            "test": [
             1837.87376,
             0.9158511231
            ]
           },
           {
            "iteration": 185,
            "learn": [
             1691.068917,
             0.9317590966
            ],
            "passed_time": 10.09508652,
            "remaining_time": 261.2782071,
            "test": [
             1837.19487,
             0.915913279
            ]
           },
           {
            "iteration": 186,
            "learn": [
             1689.326353,
             0.931899662
            ],
            "passed_time": 10.16005829,
            "remaining_time": 261.4992544,
            "test": [
             1835.382659,
             0.9160790837
            ]
           },
           {
            "iteration": 187,
            "learn": [
             1687.618508,
             0.9320372861
            ],
            "passed_time": 10.20854232,
            "remaining_time": 261.2952427,
            "test": [
             1834.826021,
             0.9161299793
            ]
           },
           {
            "iteration": 188,
            "learn": [
             1686.440003,
             0.9321321731
            ],
            "passed_time": 10.25329346,
            "remaining_time": 260.9978564,
            "test": [
             1834.666505,
             0.9161445616
            ]
           },
           {
            "iteration": 189,
            "learn": [
             1685.876694,
             0.9321775042
            ],
            "passed_time": 10.30497617,
            "remaining_time": 260.8786071,
            "test": [
             1834.631497,
             0.9161477618
            ]
           },
           {
            "iteration": 190,
            "learn": [
             1685.512979,
             0.9322067654
            ],
            "passed_time": 10.35850916,
            "remaining_time": 260.806652,
            "test": [
             1834.600288,
             0.9161506145
            ]
           },
           {
            "iteration": 191,
            "learn": [
             1684.13475,
             0.932317588
            ],
            "passed_time": 10.40840324,
            "remaining_time": 260.6437645,
            "test": [
             1833.821512,
             0.9162217865
            ]
           },
           {
            "iteration": 192,
            "learn": [
             1682.717663,
             0.9324314405
            ],
            "passed_time": 10.45383208,
            "remaining_time": 260.3708333,
            "test": [
             1833.893929,
             0.9162151696
            ]
           },
           {
            "iteration": 193,
            "learn": [
             1681.896754,
             0.9324973507
            ],
            "passed_time": 10.50433261,
            "remaining_time": 260.2258894,
            "test": [
             1833.438862,
             0.9162567456
            ]
           },
           {
            "iteration": 194,
            "learn": [
             1681.02274,
             0.9325674893
            ],
            "passed_time": 10.57196982,
            "remaining_time": 260.5041794,
            "test": [
             1832.924636,
             0.9163037141
            ]
           },
           {
            "iteration": 195,
            "learn": [
             1680.691823,
             0.9325940355
            ],
            "passed_time": 10.61880426,
            "remaining_time": 260.2690595,
            "test": [
             1832.900814,
             0.9163058896
            ]
           },
           {
            "iteration": 196,
            "learn": [
             1677.893034,
             0.9328183455
            ],
            "passed_time": 10.6753204,
            "remaining_time": 260.2718979,
            "test": [
             1830.597799,
             0.9165160785
            ]
           },
           {
            "iteration": 197,
            "learn": [
             1676.90112,
             0.9328977531
            ],
            "passed_time": 10.73385455,
            "remaining_time": 260.3230785,
            "test": [
             1830.205622,
             0.9165518449
            ]
           },
           {
            "iteration": 198,
            "learn": [
             1675.986751,
             0.9329709112
            ],
            "passed_time": 10.80488768,
            "remaining_time": 260.6747022,
            "test": [
             1829.222501,
             0.9166414716
            ]
           },
           {
            "iteration": 199,
            "learn": [
             1675.664224,
             0.9329967069
            ],
            "passed_time": 10.85877236,
            "remaining_time": 260.6105366,
            "test": [
             1829.084903,
             0.9166540119
            ]
           },
           {
            "iteration": 200,
            "learn": [
             1674.196657,
             0.9331140201
            ],
            "passed_time": 10.90613057,
            "remaining_time": 260.3906498,
            "test": [
             1828.315835,
             0.9167240855
            ]
           },
           {
            "iteration": 201,
            "learn": [
             1673.473286,
             0.9331718065
            ],
            "passed_time": 10.95681181,
            "remaining_time": 260.2514013,
            "test": [
             1828.091663,
             0.9167445053
            ]
           },
           {
            "iteration": 202,
            "learn": [
             1672.856537,
             0.9332210557
            ],
            "passed_time": 11.01199251,
            "remaining_time": 260.2193502,
            "test": [
             1827.538796,
             0.9167948554
            ]
           },
           {
            "iteration": 203,
            "learn": [
             1671.243401,
             0.9333497836
            ],
            "passed_time": 11.06218992,
            "remaining_time": 260.0699158,
            "test": [
             1826.074886,
             0.9169281014
            ]
           },
           {
            "iteration": 204,
            "learn": [
             1670.191422,
             0.9334336642
            ],
            "passed_time": 11.1365567,
            "remaining_time": 260.4867774,
            "test": [
             1825.377816,
             0.9169915116
            ]
           },
           {
            "iteration": 205,
            "learn": [
             1669.462965,
             0.9334917177
            ],
            "passed_time": 11.18541196,
            "remaining_time": 260.3051696,
            "test": [
             1825.064711,
             0.9170199858
            ]
           },
           {
            "iteration": 206,
            "learn": [
             1668.438492,
             0.9335733188
            ],
            "passed_time": 11.23584116,
            "remaining_time": 260.1612883,
            "test": [
             1824.449236,
             0.9170759439
            ]
           },
           {
            "iteration": 207,
            "learn": [
             1667.901452,
             0.933616075
            ],
            "passed_time": 11.28347182,
            "remaining_time": 259.9538314,
            "test": [
             1824.29571,
             0.9170898992
            ]
           },
           {
            "iteration": 208,
            "learn": [
             1667.096118,
             0.9336801655
            ],
            "passed_time": 11.33947121,
            "remaining_time": 259.9397444,
            "test": [
             1824.29845,
             0.9170896502
            ]
           },
           {
            "iteration": 209,
            "learn": [
             1666.819508,
             0.9337021717
            ],
            "passed_time": 11.38809556,
            "remaining_time": 259.7570369,
            "test": [
             1824.291894,
             0.9170902461
            ]
           },
           {
            "iteration": 210,
            "learn": [
             1662.389084,
             0.9340541439
            ],
            "passed_time": 11.44297754,
            "remaining_time": 259.7176276,
            "test": [
             1820.527197,
             0.9174320862
            ]
           },
           {
            "iteration": 211,
            "learn": [
             1661.201156,
             0.9341483589
            ],
            "passed_time": 11.50137776,
            "remaining_time": 259.7575317,
            "test": [
             1820.234425,
             0.9174586408
            ]
           },
           {
            "iteration": 212,
            "learn": [
             1660.253011,
             0.9342235082
            ],
            "passed_time": 11.55371796,
            "remaining_time": 259.6603187,
            "test": [
             1819.264652,
             0.917546569
            ]
           },
           {
            "iteration": 213,
            "learn": [
             1659.024034,
             0.9343208523
            ],
            "passed_time": 11.60839103,
            "remaining_time": 259.6156984,
            "test": [
             1818.207935,
             0.9176423271
            ]
           },
           {
            "iteration": 214,
            "learn": [
             1658.013259,
             0.9344008591
            ],
            "passed_time": 11.66111294,
            "remaining_time": 259.5275601,
            "test": [
             1817.677582,
             0.9176903659
            ]
           },
           {
            "iteration": 215,
            "learn": [
             1656.587696,
             0.9345136152
            ],
            "passed_time": 11.70760047,
            "remaining_time": 259.3016697,
            "test": [
             1816.505936,
             0.9177964427
            ]
           },
           {
            "iteration": 216,
            "learn": [
             1656.258395,
             0.9345396477
            ],
            "passed_time": 11.76369613,
            "remaining_time": 259.2892101,
            "test": [
             1816.434397,
             0.9178029173
            ]
           },
           {
            "iteration": 217,
            "learn": [
             1654.853539,
             0.9346506489
            ],
            "passed_time": 11.81723132,
            "remaining_time": 259.2201843,
            "test": [
             1815.227845,
             0.9179120786
            ]
           },
           {
            "iteration": 218,
            "learn": [
             1652.185903,
             0.9348611664
            ],
            "passed_time": 11.86798661,
            "remaining_time": 259.0906118,
            "test": [
             1813.677967,
             0.9180521954
            ]
           },
           {
            "iteration": 219,
            "learn": [
             1651.824318,
             0.9348896748
            ],
            "passed_time": 11.91375332,
            "remaining_time": 258.8533675,
            "test": [
             1813.593183,
             0.9180598568
            ]
           },
           {
            "iteration": 220,
            "learn": [
             1650.847345,
             0.9349666712
            ],
            "passed_time": 11.97026756,
            "remaining_time": 258.8502655,
            "test": [
             1813.09301,
             0.9181050474
            ]
           },
           {
            "iteration": 221,
            "learn": [
             1648.213137,
             0.9351740491
            ],
            "passed_time": 12.02603641,
            "remaining_time": 258.8306396,
            "test": [
             1811.47477,
             0.9182511695
            ]
           },
           {
            "iteration": 222,
            "learn": [
             1647.175361,
             0.9352556571
            ],
            "passed_time": 12.0854989,
            "remaining_time": 258.8898127,
            "test": [
             1810.92403,
             0.9183008699
            ]
           },
           {
            "iteration": 223,
            "learn": [
             1646.211737,
             0.9353313878
            ],
            "passed_time": 12.15738274,
            "remaining_time": 259.2127678,
            "test": [
             1810.70904,
             0.9183202671
            ]
           },
           {
            "iteration": 224,
            "learn": [
             1644.975402,
             0.935428486
            ],
            "passed_time": 12.20988939,
            "remaining_time": 259.1209859,
            "test": [
             1810.260056,
             0.9183607688
            ]
           },
           {
            "iteration": 225,
            "learn": [
             1643.679751,
             0.9355301644
            ],
            "passed_time": 12.26159491,
            "remaining_time": 259.0126287,
            "test": [
             1809.997875,
             0.9183844147
            ]
           },
           {
            "iteration": 226,
            "learn": [
             1643.428226,
             0.9355498938
            ],
            "passed_time": 12.30563412,
            "remaining_time": 258.7435755,
            "test": [
             1809.995541,
             0.9183846252
            ]
           },
           {
            "iteration": 227,
            "learn": [
             1643.203493,
             0.9355675193
            ],
            "passed_time": 12.34478721,
            "remaining_time": 258.3742306,
            "test": [
             1810.004729,
             0.9183837967
            ]
           },
           {
            "iteration": 228,
            "learn": [
             1641.913043,
             0.9356686806
            ],
            "passed_time": 12.39601051,
            "remaining_time": 258.2592409,
            "test": [
             1809.71143,
             0.9184102452
            ]
           },
           {
            "iteration": 229,
            "learn": [
             1640.792029,
             0.9357564948
            ],
            "passed_time": 12.44045716,
            "remaining_time": 258.0042636,
            "test": [
             1809.230752,
             0.9184535816
            ]
           },
           {
            "iteration": 230,
            "learn": [
             1639.948261,
             0.9358225516
            ],
            "passed_time": 12.48161957,
            "remaining_time": 257.6833062,
            "test": [
             1808.828027,
             0.9184898812
            ]
           },
           {
            "iteration": 231,
            "learn": [
             1638.601218,
             0.9359279381
            ],
            "passed_time": 12.53047022,
            "remaining_time": 257.5227672,
            "test": [
             1808.40044,
             0.9185284128
            ]
           },
           {
            "iteration": 232,
            "learn": [
             1637.587348,
             0.9360072016
            ],
            "passed_time": 12.58070885,
            "remaining_time": 257.3915842,
            "test": [
             1807.730441,
             0.9185887708
            ]
           },
           {
            "iteration": 233,
            "learn": [
             1636.234052,
             0.9361129247
            ],
            "passed_time": 12.63270673,
            "remaining_time": 257.2969243,
            "test": [
             1807.154461,
             0.9186406412
            ]
           },
           {
            "iteration": 234,
            "learn": [
             1635.156932,
             0.9361970098
            ],
            "passed_time": 12.68371168,
            "remaining_time": 257.1824943,
            "test": [
             1806.397002,
             0.9187088295
            ]
           },
           {
            "iteration": 235,
            "learn": [
             1634.158794,
             0.9362748797
            ],
            "passed_time": 12.73383144,
            "remaining_time": 257.050733,
            "test": [
             1805.049188,
             0.9188300925
            ]
           },
           {
            "iteration": 236,
            "learn": [
             1633.050749,
             0.9363612683
            ],
            "passed_time": 12.79267617,
            "remaining_time": 257.0950067,
            "test": [
             1804.783558,
             0.9188539806
            ]
           },
           {
            "iteration": 237,
            "learn": [
             1632.232525,
             0.9364250235
            ],
            "passed_time": 12.8441475,
            "remaining_time": 256.990884,
            "test": [
             1804.699786,
             0.9188615134
            ]
           },
           {
            "iteration": 238,
            "learn": [
             1631.796816,
             0.9364589604
            ],
            "passed_time": 12.89163599,
            "remaining_time": 256.8078617,
            "test": [
             1804.366213,
             0.9188915052
            ]
           },
           {
            "iteration": 239,
            "learn": [
             1630.583698,
             0.9365534012
            ],
            "passed_time": 12.94513344,
            "remaining_time": 256.7451466,
            "test": [
             1803.543589,
             0.9189654443
            ]
           },
           {
            "iteration": 240,
            "learn": [
             1630.239834,
             0.9365801581
            ],
            "passed_time": 12.99398898,
            "remaining_time": 256.5908446,
            "test": [
             1803.536252,
             0.9189661037
            ]
           },
           {
            "iteration": 241,
            "learn": [
             1629.440781,
             0.9366423127
            ],
            "passed_time": 13.05058344,
            "remaining_time": 256.5895702,
            "test": [
             1803.215645,
             0.9189949112
            ]
           },
           {
            "iteration": 242,
            "learn": [
             1627.081506,
             0.9368256517
            ],
            "passed_time": 13.10479607,
            "remaining_time": 256.5412135,
            "test": [
             1801.544533,
             0.9191449829
            ]
           },
           {
            "iteration": 243,
            "learn": [
             1625.854101,
             0.9369209281
            ],
            "passed_time": 13.19025842,
            "remaining_time": 257.1019222,
            "test": [
             1800.527924,
             0.9192362099
            ]
           },
           {
            "iteration": 244,
            "learn": [
             1623.925566,
             0.937070484
            ],
            "passed_time": 13.25685277,
            "remaining_time": 257.2911629,
            "test": [
             1799.597137,
             0.9193196904
            ]
           },
           {
            "iteration": 245,
            "learn": [
             1622.578787,
             0.9371748201
            ],
            "passed_time": 13.30595932,
            "remaining_time": 257.1403684,
            "test": [
             1798.277514,
             0.9194379708
            ]
           },
           {
            "iteration": 246,
            "learn": [
             1620.904112,
             0.9373044378
            ],
            "passed_time": 13.35722345,
            "remaining_time": 257.0319152,
            "test": [
             1796.641486,
             0.9195844908
            ]
           },
           {
            "iteration": 247,
            "learn": [
             1619.18806,
             0.9374371192
            ],
            "passed_time": 13.41534841,
            "remaining_time": 257.0553857,
            "test": [
             1796.35797,
             0.9196098684
            ]
           },
           {
            "iteration": 248,
            "learn": [
             1617.814,
             0.9375432571
            ],
            "passed_time": 13.45840232,
            "remaining_time": 256.7906402,
            "test": [
             1794.953378,
             0.9197355351
            ]
           },
           {
            "iteration": 249,
            "learn": [
             1616.36711,
             0.9376549234
            ],
            "passed_time": 13.50598951,
            "remaining_time": 256.6138007,
            "test": [
             1794.48006,
             0.91977786
            ]
           },
           {
            "iteration": 250,
            "learn": [
             1615.596528,
             0.9377143536
            ],
            "passed_time": 13.55777461,
            "remaining_time": 256.5174168,
            "test": [
             1793.994519,
             0.9198212663
            ]
           },
           {
            "iteration": 251,
            "learn": [
             1615.143396,
             0.9377492877
            ],
            "passed_time": 13.61043755,
            "remaining_time": 256.4379265,
            "test": [
             1793.899981,
             0.9198297165
            ]
           },
           {
            "iteration": 252,
            "learn": [
             1612.802392,
             0.9379296105
            ],
            "passed_time": 13.65027738,
            "remaining_time": 256.1180503,
            "test": [
             1792.138371,
             0.9199870936
            ]
           },
           {
            "iteration": 253,
            "learn": [
             1612.409146,
             0.9379598757
            ],
            "passed_time": 13.71178453,
            "remaining_time": 256.2052338,
            "test": [
             1791.931097,
             0.9200056007
            ]
           },
           {
            "iteration": 254,
            "learn": [
             1611.412076,
             0.9380365798
            ],
            "passed_time": 13.75798408,
            "remaining_time": 256.0064097,
            "test": [
             1791.917179,
             0.9200068433
            ]
           },
           {
            "iteration": 255,
            "learn": [
             1610.832082,
             0.9380811767
            ],
            "passed_time": 13.81900261,
            "remaining_time": 256.083392,
            "test": [
             1792.117701,
             0.9199889393
            ]
           },
           {
            "iteration": 256,
            "learn": [
             1609.560835,
             0.9381788691
            ],
            "passed_time": 13.86961036,
            "remaining_time": 255.967167,
            "test": [
             1790.804461,
             0.9201061584
            ]
           },
           {
            "iteration": 257,
            "learn": [
             1608.628532,
             0.9382504655
            ],
            "passed_time": 13.930901,
            "remaining_time": 256.0478005,
            "test": [
             1790.298833,
             0.9201512676
            ]
           },
           {
            "iteration": 258,
            "learn": [
             1607.453967,
             0.9383406073
            ],
            "passed_time": 13.98456037,
            "remaining_time": 255.9876476,
            "test": [
             1789.44844,
             0.9202271059
            ]
           },
           {
            "iteration": 259,
            "learn": [
             1605.68897,
             0.9384759379
            ],
            "passed_time": 14.03764343,
            "remaining_time": 255.9170379,
            "test": [
             1788.486019,
             0.9203128915
            ]
           },
           {
            "iteration": 260,
            "learn": [
             1604.837959,
             0.9385411358
            ],
            "passed_time": 14.09064236,
            "remaining_time": 255.8450351,
            "test": [
             1787.977391,
             0.9203582096
            ]
           },
           {
            "iteration": 261,
            "learn": [
             1603.811807,
             0.9386197058
            ],
            "passed_time": 14.13763747,
            "remaining_time": 255.6646044,
            "test": [
             1787.57248,
             0.9203942773
            ]
           },
           {
            "iteration": 262,
            "learn": [
             1603.108749,
             0.9386735081
            ],
            "passed_time": 14.21076905,
            "remaining_time": 255.9559429,
            "test": [
             1787.301668,
             0.9204183956
            ]
           },
           {
            "iteration": 263,
            "learn": [
             1602.52563,
             0.9387181141
            ],
            "passed_time": 14.25503773,
            "remaining_time": 255.7267375,
            "test": [
             1787.083326,
             0.9204378383
            ]
           },
           {
            "iteration": 264,
            "learn": [
             1601.628362,
             0.9387867195
            ],
            "passed_time": 14.30150406,
            "remaining_time": 255.5381951,
            "test": [
             1786.738174,
             0.9204685681
            ]
           },
           {
            "iteration": 265,
            "learn": [
             1601.213566,
             0.9388184219
            ],
            "passed_time": 14.35061147,
            "remaining_time": 255.3977245,
            "test": [
             1786.450798,
             0.9204941494
            ]
           },
           {
            "iteration": 266,
            "learn": [
             1599.826821,
             0.9389243497
            ],
            "passed_time": 14.40642094,
            "remaining_time": 255.3767427,
            "test": [
             1786.247422,
             0.9205122508
            ]
           },
           {
            "iteration": 267,
            "learn": [
             1598.417909,
             0.9390318767
            ],
            "passed_time": 14.46195971,
            "remaining_time": 255.3507214,
            "test": [
             1785.934271,
             0.9205401188
            ]
           },
           {
            "iteration": 268,
            "learn": [
             1597.95325,
             0.9390673183
            ],
            "passed_time": 14.51252913,
            "remaining_time": 255.2370829,
            "test": [
             1785.763089,
             0.9205553505
            ]
           },
           {
            "iteration": 269,
            "learn": [
             1595.709888,
             0.9392382847
            ],
            "passed_time": 14.5613273,
            "remaining_time": 255.0928819,
            "test": [
             1783.881354,
             0.9207226908
            ]
           },
           {
            "iteration": 270,
            "learn": [
             1594.298993,
             0.9393456857
            ],
            "passed_time": 14.61092979,
            "remaining_time": 254.9634207,
            "test": [
             1783.525924,
             0.9207542789
            ]
           },
           {
            "iteration": 271,
            "learn": [
             1593.160494,
             0.9394322821
            ],
            "passed_time": 14.66088764,
            "remaining_time": 254.8407234,
            "test": [
             1783.243119,
             0.9207794081
            ]
           },
           {
            "iteration": 272,
            "learn": [
             1591.684537,
             0.939544454
            ],
            "passed_time": 14.7066685,
            "remaining_time": 254.6462345,
            "test": [
             1782.346864,
             0.9208590203
            ]
           },
           {
            "iteration": 273,
            "learn": [
             1591.371281,
             0.939568248
            ],
            "passed_time": 14.74908408,
            "remaining_time": 254.394786,
            "test": [
             1782.418414,
             0.9208526662
            ]
           },
           {
            "iteration": 274,
            "learn": [
             1590.752117,
             0.9396152638
            ],
            "passed_time": 14.79803693,
            "remaining_time": 254.25718,
            "test": [
             1781.961044,
             0.9208932795
            ]
           },
           {
            "iteration": 275,
            "learn": [
             1590.177862,
             0.9396588533
            ],
            "passed_time": 14.85994559,
            "remaining_time": 254.3419673,
            "test": [
             1781.671195,
             0.920919012
            ]
           },
           {
            "iteration": 276,
            "learn": [
             1589.635143,
             0.9397000344
            ],
            "passed_time": 14.90612585,
            "remaining_time": 254.1575177,
            "test": [
             1781.204266,
             0.9209604567
            ]
           },
           {
            "iteration": 277,
            "learn": [
             1589.051956,
             0.9397442706
            ],
            "passed_time": 14.95314288,
            "remaining_time": 253.9882758,
            "test": [
             1780.77105,
             0.9209988993
            ]
           },
           {
            "iteration": 278,
            "learn": [
             1587.728408,
             0.9398446049
            ],
            "passed_time": 15.00498039,
            "remaining_time": 253.9014782,
            "test": [
             1779.368926,
             0.9211232562
            ]
           },
           {
            "iteration": 279,
            "learn": [
             1587.177936,
             0.9398863099
            ],
            "passed_time": 15.05413743,
            "remaining_time": 253.7697453,
            "test": [
             1779.493766,
             0.921112188
            ]
           },
           {
            "iteration": 280,
            "learn": [
             1586.823711,
             0.9399131391
            ],
            "passed_time": 15.10762444,
            "remaining_time": 253.7113157,
            "test": [
             1779.380341,
             0.9211222442
            ]
           },
           {
            "iteration": 281,
            "learn": [
             1584.807504,
             0.940065734
            ],
            "passed_time": 15.15448014,
            "remaining_time": 253.5419762,
            "test": [
             1778.292528,
             0.9212186577
            ]
           },
           {
            "iteration": 282,
            "learn": [
             1584.222167,
             0.9401099984
            ],
            "passed_time": 15.22519725,
            "remaining_time": 253.7712205,
            "test": [
             1778.20186,
             0.9212266909
            ]
           },
           {
            "iteration": 283,
            "learn": [
             1583.409202,
             0.9401714493
            ],
            "passed_time": 15.28819304,
            "remaining_time": 253.8701352,
            "test": [
             1778.053124,
             0.9212398682
            ]
           },
           {
            "iteration": 284,
            "learn": [
             1582.726614,
             0.9402230209
            ],
            "passed_time": 15.34230928,
            "remaining_time": 253.8210114,
            "test": [
             1778.002278,
             0.9212443727
            ]
           },
           {
            "iteration": 285,
            "learn": [
             1581.726329,
             0.9402985553
            ],
            "passed_time": 15.40017225,
            "remaining_time": 253.8336084,
            "test": [
             1777.774337,
             0.9212645644
            ]
           },
           {
            "iteration": 286,
            "learn": [
             1581.039731,
             0.9403503746
            ],
            "passed_time": 15.45237177,
            "remaining_time": 253.7527113,
            "test": [
             1777.725161,
             0.9212689203
            ]
           },
           {
            "iteration": 287,
            "learn": [
             1580.29479,
             0.9404065718
            ],
            "passed_time": 15.50562047,
            "remaining_time": 253.6891794,
            "test": [
             1777.754418,
             0.9212663288
            ]
           },
           {
            "iteration": 288,
            "learn": [
             1579.327698,
             0.9404794881
            ],
            "passed_time": 15.55710268,
            "remaining_time": 253.5969229,
            "test": [
             1777.480895,
             0.9212905546
            ]
           },
           {
            "iteration": 289,
            "learn": [
             1578.956031,
             0.9405074991
            ],
            "passed_time": 15.60699309,
            "remaining_time": 253.4790946,
            "test": [
             1777.439243,
             0.9212942434
            ]
           },
           {
            "iteration": 290,
            "learn": [
             1578.254437,
             0.9405603572
            ],
            "passed_time": 15.65591396,
            "remaining_time": 253.3460441,
            "test": [
             1777.588701,
             0.9212810067
            ]
           },
           {
            "iteration": 291,
            "learn": [
             1576.524276,
             0.9406906071
            ],
            "passed_time": 15.72144056,
            "remaining_time": 253.4813088,
            "test": [
             1776.412991,
             0.9213851029
            ]
           },
           {
            "iteration": 292,
            "learn": [
             1575.787973,
             0.9407459941
            ],
            "passed_time": 15.77885037,
            "remaining_time": 253.4848078,
            "test": [
             1775.869837,
             0.92143317
            ]
           },
           {
            "iteration": 293,
            "learn": [
             1574.870009,
             0.94081501
            ],
            "passed_time": 15.82380948,
            "remaining_time": 253.2885967,
            "test": [
             1775.857761,
             0.9214342385
            ]
           },
           {
            "iteration": 294,
            "learn": [
             1571.736868,
             0.9410502681
            ],
            "passed_time": 15.88901115,
            "remaining_time": 253.4162626,
            "test": [
             1773.624345,
             0.9216317314
            ]
           },
           {
            "iteration": 295,
            "learn": [
             1571.192176,
             0.9410911196
            ],
            "passed_time": 15.9449769,
            "remaining_time": 253.3958491,
            "test": [
             1773.179209,
             0.9216710635
            ]
           },
           {
            "iteration": 296,
            "learn": [
             1568.132051,
             0.9413203633
            ],
            "passed_time": 15.99551422,
            "remaining_time": 253.289237,
            "test": [
             1771.482815,
             0.9218208658
            ]
           },
           {
            "iteration": 297,
            "learn": [
             1567.732529,
             0.9413502598
            ],
            "passed_time": 16.0521301,
            "remaining_time": 253.2789118,
            "test": [
             1771.39404,
             0.9218287013
            ]
           },
           {
            "iteration": 298,
            "learn": [
             1566.722043,
             0.9414258411
            ],
            "passed_time": 16.10412488,
            "remaining_time": 253.1956223,
            "test": [
             1770.960841,
             0.9218669306
            ]
           },
           {
            "iteration": 299,
            "learn": [
             1565.621167,
             0.9415081279
            ],
            "passed_time": 16.15097794,
            "remaining_time": 253.0319877,
            "test": [
             1770.857991,
             0.9218760056
            ]
           },
           {
            "iteration": 300,
            "learn": [
             1564.105622,
             0.9416213151
            ],
            "passed_time": 16.2010797,
            "remaining_time": 252.9198455,
            "test": [
             1770.598067,
             0.9218989378
            ]
           },
           {
            "iteration": 301,
            "learn": [
             1563.343384,
             0.9416782008
            ],
            "passed_time": 16.28527698,
            "remaining_time": 253.3385141,
            "test": [
             1770.175621,
             0.9219362015
            ]
           },
           {
            "iteration": 302,
            "learn": [
             1560.999653,
             0.9418529393
            ],
            "passed_time": 16.33720898,
            "remaining_time": 253.2536982,
            "test": [
             1770.078296,
             0.9219447852
            ]
           },
           {
            "iteration": 303,
            "learn": [
             1560.264306,
             0.9419077096
            ],
            "passed_time": 16.39488275,
            "remaining_time": 253.2577941,
            "test": [
             1769.772752,
             0.9219717301
            ]
           },
           {
            "iteration": 304,
            "learn": [
             1559.885073,
             0.9419359456
            ],
            "passed_time": 16.45596903,
            "remaining_time": 253.3140151,
            "test": [
             1769.377721,
             0.9220065595
            ]
           },
           {
            "iteration": 305,
            "learn": [
             1559.10645,
             0.941993897
            ],
            "passed_time": 16.5136236,
            "remaining_time": 253.3168274,
            "test": [
             1768.86157,
             0.9220520563
            ]
           },
           {
            "iteration": 306,
            "learn": [
             1558.478528,
             0.9420406109
            ],
            "passed_time": 16.56447775,
            "remaining_time": 253.2152902,
            "test": [
             1768.589642,
             0.9220760205
            ]
           },
           {
            "iteration": 307,
            "learn": [
             1557.313475,
             0.9421272345
            ],
            "passed_time": 16.61476342,
            "remaining_time": 253.1054219,
            "test": [
             1768.635819,
             0.9220719513
            ]
           },
           {
            "iteration": 308,
            "learn": [
             1556.947154,
             0.9421544577
            ],
            "passed_time": 16.6665079,
            "remaining_time": 253.0180859,
            "test": [
             1768.788949,
             0.9220584565
            ]
           },
           {
            "iteration": 309,
            "learn": [
             1555.157068,
             0.942287396
            ],
            "passed_time": 16.71716299,
            "remaining_time": 252.9144981,
            "test": [
             1766.973241,
             0.9222183925
            ]
           },
           {
            "iteration": 310,
            "learn": [
             1553.456338,
             0.9424135567
            ],
            "passed_time": 16.76754908,
            "remaining_time": 252.807195,
            "test": [
             1766.358542,
             0.9222725008
            ]
           },
           {
            "iteration": 311,
            "learn": [
             1552.110792,
             0.942513272
            ],
            "passed_time": 16.82034494,
            "remaining_time": 252.7364649,
            "test": [
             1765.474759,
             0.922350262
            ]
           },
           {
            "iteration": 312,
            "learn": [
             1550.884649,
             0.9426040633
            ],
            "passed_time": 16.88261951,
            "remaining_time": 252.807788,
            "test": [
             1764.927422,
             0.9223984008
            ]
           },
           {
            "iteration": 313,
            "learn": [
             1548.831,
             0.9427559677
            ],
            "passed_time": 16.92657039,
            "remaining_time": 252.6048052,
            "test": [
             1763.659562,
             0.9225098532
            ]
           },
           {
            "iteration": 314,
            "learn": [
             1548.417802,
             0.9427865068
            ],
            "passed_time": 16.97434936,
            "remaining_time": 252.4597674,
            "test": [
             1763.267153,
             0.922544332
            ]
           },
           {
            "iteration": 315,
            "learn": [
             1547.518578,
             0.9428529395
            ],
            "passed_time": 17.02588789,
            "remaining_time": 252.3710723,
            "test": [
             1762.952167,
             0.9225720025
            ]
           },
           {
            "iteration": 316,
            "learn": [
             1545.690159,
             0.9429879001
            ],
            "passed_time": 17.07977237,
            "remaining_time": 252.3172682,
            "test": [
             1761.80153,
             0.9226730403
            ]
           },
           {
            "iteration": 317,
            "learn": [
             1544.664308,
             0.9430635511
            ],
            "passed_time": 17.12628589,
            "remaining_time": 252.1549387,
            "test": [
             1761.233116,
             0.9227229286
            ]
           },
           {
            "iteration": 318,
            "learn": [
             1543.973678,
             0.9431144531
            ],
            "passed_time": 17.17976129,
            "remaining_time": 252.0954941,
            "test": [
             1761.178189,
             0.9227277486
            ]
           },
           {
            "iteration": 319,
            "learn": [
             1543.404125,
             0.9431564142
            ],
            "passed_time": 17.23017222,
            "remaining_time": 251.9912687,
            "test": [
             1760.643263,
             0.9227746816
            ]
           },
           {
            "iteration": 320,
            "learn": [
             1542.479373,
             0.943224511
            ],
            "passed_time": 17.30585925,
            "remaining_time": 252.2558112,
            "test": [
             1760.56433,
             0.9227816057
            ]
           },
           {
            "iteration": 321,
            "learn": [
             1540.7551,
             0.9433513739
            ],
            "passed_time": 17.36212609,
            "remaining_time": 252.2361052,
            "test": [
             1758.923828,
             0.9229254436
            ]
           },
           {
            "iteration": 322,
            "learn": [
             1540.550615,
             0.9433664094
            ],
            "passed_time": 17.41227333,
            "remaining_time": 252.1275615,
            "test": [
             1758.703604,
             0.9229447425
            ]
           },
           {
            "iteration": 323,
            "learn": [
             1539.123389,
             0.943471296
            ],
            "passed_time": 17.46698298,
            "remaining_time": 252.0852235,
            "test": [
             1758.793395,
             0.9229368741
            ]
           },
           {
            "iteration": 324,
            "learn": [
             1537.523764,
             0.9435887365
            ],
            "passed_time": 17.51781651,
            "remaining_time": 251.9870529,
            "test": [
             1757.641378,
             0.9230377944
            ]
           },
           {
            "iteration": 325,
            "learn": [
             1537.205683,
             0.9436120746
            ],
            "passed_time": 17.5680053,
            "remaining_time": 251.8799288,
            "test": [
             1757.408237,
             0.9230582102
            ]
           },
           {
            "iteration": 326,
            "learn": [
             1535.892467,
             0.9437083765
            ],
            "passed_time": 17.62058499,
            "remaining_time": 251.80732,
            "test": [
             1756.49347,
             0.9231382889
            ]
           },
           {
            "iteration": 327,
            "learn": [
             1535.376779,
             0.9437461709
            ],
            "passed_time": 17.68033003,
            "remaining_time": 251.8368961,
            "test": [
             1756.02616,
             0.9231791812
            ]
           },
           {
            "iteration": 328,
            "learn": [
             1534.920417,
             0.9437796068
            ],
            "passed_time": 17.73538055,
            "remaining_time": 251.7992782,
            "test": [
             1755.721819,
             0.9232058068
            ]
           },
           {
            "iteration": 329,
            "learn": [
             1534.417518,
             0.9438164406
            ],
            "passed_time": 17.78992679,
            "remaining_time": 251.7544185,
            "test": [
             1755.871736,
             0.9231926917
            ]
           },
           {
            "iteration": 330,
            "learn": [
             1534.089288,
             0.9438404747
            ],
            "passed_time": 17.85013426,
            "remaining_time": 251.789356,
            "test": [
             1755.792892,
             0.9231995893
            ]
           },
           {
            "iteration": 331,
            "learn": [
             1533.50058,
             0.943883569
            ],
            "passed_time": 17.91138912,
            "remaining_time": 251.838447,
            "test": [
             1755.663888,
             0.9232108745
            ]
           },
           {
            "iteration": 332,
            "learn": [
             1532.965101,
             0.9439227524
            ],
            "passed_time": 17.9645316,
            "remaining_time": 251.77318,
            "test": [
             1755.443784,
             0.9232301271
            ]
           },
           {
            "iteration": 333,
            "learn": [
             1532.261166,
             0.9439742417
            ],
            "passed_time": 18.01651392,
            "remaining_time": 251.6917784,
            "test": [
             1755.017193,
             0.9232674343
            ]
           },
           {
            "iteration": 334,
            "learn": [
             1531.373174,
             0.9440391602
            ],
            "passed_time": 18.07197086,
            "remaining_time": 251.6589375,
            "test": [
             1754.850426,
             0.9232820164
            ]
           },
           {
            "iteration": 335,
            "learn": [
             1531.301307,
             0.9440444125
            ],
            "passed_time": 18.11969096,
            "remaining_time": 251.5185674,
            "test": [
             1754.816839,
             0.923284953
            ]
           },
           {
            "iteration": 336,
            "learn": [
             1530.662734,
             0.9440910713
            ],
            "passed_time": 18.17389223,
            "remaining_time": 251.4684257,
            "test": [
             1754.741088,
             0.923291576
            ]
           },
           {
            "iteration": 337,
            "learn": [
             1529.876825,
             0.9441484687
            ],
            "passed_time": 18.22603654,
            "remaining_time": 251.3898887,
            "test": [
             1754.279705,
             0.9233319094
            ]
           },
           {
            "iteration": 338,
            "learn": [
             1529.085363,
             0.9442062418
            ],
            "passed_time": 18.32287178,
            "remaining_time": 251.9259745,
            "test": [
             1753.733107,
             0.9233796784
            ]
           },
           {
            "iteration": 339,
            "learn": [
             1527.967106,
             0.9442878186
            ],
            "passed_time": 18.37802632,
            "remaining_time": 251.8870666,
            "test": [
             1753.182366,
             0.9234277944
            ]
           },
           {
            "iteration": 340,
            "learn": [
             1526.403944,
             0.9444017512
            ],
            "passed_time": 18.43690969,
            "remaining_time": 251.8990095,
            "test": [
             1752.619892,
             0.9234769199
            ]
           },
           {
            "iteration": 341,
            "learn": [
             1525.882606,
             0.9444397235
            ],
            "passed_time": 18.49100506,
            "remaining_time": 251.8453263,
            "test": [
             1752.393663,
             0.9234966739
            ]
           },
           {
            "iteration": 342,
            "learn": [
             1525.649717,
             0.9444566821
            ],
            "passed_time": 18.54507976,
            "remaining_time": 251.7913598,
            "test": [
             1752.311255,
             0.923503869
            ]
           },
           {
            "iteration": 343,
            "learn": [
             1524.183422,
             0.9445633957
            ],
            "passed_time": 18.59706633,
            "remaining_time": 251.7091303,
            "test": [
             1752.020381,
             0.9235292628
            ]
           },
           {
            "iteration": 344,
            "learn": [
             1523.407761,
             0.944619805
            ],
            "passed_time": 18.64737478,
            "remaining_time": 251.6044336,
            "test": [
             1751.840931,
             0.923544927
            ]
           },
           {
            "iteration": 345,
            "learn": [
             1522.541153,
             0.9446827944
            ],
            "passed_time": 18.70237252,
            "remaining_time": 251.5631263,
            "test": [
             1751.474917,
             0.9235768713
            ]
           },
           {
            "iteration": 346,
            "learn": [
             1522.22193,
             0.9447059881
            ],
            "passed_time": 18.7555181,
            "remaining_time": 251.4969041,
            "test": [
             1751.456505,
             0.9235784781
            ]
           },
           {
            "iteration": 347,
            "learn": [
             1521.141483,
             0.9447844537
            ],
            "passed_time": 18.80910188,
            "remaining_time": 251.4366147,
            "test": [
             1751.128799,
             0.923607073
            ]
           },
           {
            "iteration": 348,
            "learn": [
             1520.585154,
             0.9448248344
            ],
            "passed_time": 18.85594986,
            "remaining_time": 251.2865983,
            "test": [
             1750.937156,
             0.923623793
            ]
           },
           {
            "iteration": 349,
            "learn": [
             1520.276283,
             0.9448472472
            ],
            "passed_time": 18.91813512,
            "remaining_time": 251.3409381,
            "test": [
             1750.901878,
             0.9236268706
            ]
           },
           {
            "iteration": 350,
            "learn": [
             1519.128623,
             0.9449304856
            ],
            "passed_time": 18.97171777,
            "remaining_time": 251.2806721,
            "test": [
             1749.994099,
             0.9237060435
            ]
           },
           {
            "iteration": 351,
            "learn": [
             1518.785464,
             0.9449553624
            ],
            "passed_time": 19.02766686,
            "remaining_time": 251.251692,
            "test": [
             1749.914471,
             0.9237129863
            ]
           },
           {
            "iteration": 352,
            "learn": [
             1518.531529,
             0.9449737673
            ],
            "passed_time": 19.08642987,
            "remaining_time": 251.2596023,
            "test": [
             1749.804946,
             0.9237225355
            ]
           },
           {
            "iteration": 353,
            "learn": [
             1517.81576,
             0.945025629
            ],
            "passed_time": 19.1277777,
            "remaining_time": 251.0385741,
            "test": [
             1749.507583,
             0.9237484585
            ]
           },
           {
            "iteration": 354,
            "learn": [
             1517.105308,
             0.9450770812
            ],
            "passed_time": 19.18275514,
            "remaining_time": 250.9968948,
            "test": [
             1748.999291,
             0.9237927595
            ]
           },
           {
            "iteration": 355,
            "learn": [
             1515.424922,
             0.945198682
            ],
            "passed_time": 19.2369849,
            "remaining_time": 250.9453873,
            "test": [
             1747.399972,
             0.9239320665
            ]
           },
           {
            "iteration": 356,
            "learn": [
             1513.93185,
             0.9453066148
            ],
            "passed_time": 19.2862285,
            "remaining_time": 250.8290166,
            "test": [
             1746.965938,
             0.9239698506
            ]
           },
           {
            "iteration": 357,
            "learn": [
             1513.400371,
             0.9453450092
            ],
            "passed_time": 19.36069147,
            "remaining_time": 251.0400273,
            "test": [
             1746.567955,
             0.9240044882
            ]
           },
           {
            "iteration": 358,
            "learn": [
             1511.535306,
             0.9454796362
            ],
            "passed_time": 19.4125981,
            "remaining_time": 250.957849,
            "test": [
             1745.726318,
             0.924077712
            ]
           },
           {
            "iteration": 359,
            "learn": [
             1510.829122,
             0.9455305678
            ],
            "passed_time": 19.47536901,
            "remaining_time": 251.0158672,
            "test": [
             1745.633268,
             0.9240858053
            ]
           },
           {
            "iteration": 360,
            "learn": [
             1509.849557,
             0.9456011767
            ],
            "passed_time": 19.52483131,
            "remaining_time": 250.9021952,
            "test": [
             1744.986488,
             0.9241420493
            ]
           },
           {
            "iteration": 361,
            "learn": [
             1509.628029,
             0.9456171386
            ],
            "passed_time": 19.57269917,
            "remaining_time": 250.7684495,
            "test": [
             1745.058608,
             0.9241357788
            ]
           },
           {
            "iteration": 362,
            "learn": [
             1509.000639,
             0.9456623314
            ],
            "passed_time": 19.62404975,
            "remaining_time": 250.6796659,
            "test": [
             1744.846204,
             0.9241542456
            ]
           },
           {
            "iteration": 363,
            "learn": [
             1508.447328,
             0.9457021725
            ],
            "passed_time": 19.67324491,
            "remaining_time": 250.5636357,
            "test": [
             1744.878947,
             0.924151399
            ]
           },
           {
            "iteration": 364,
            "learn": [
             1507.907362,
             0.9457410386
            ],
            "passed_time": 19.72864028,
            "remaining_time": 250.5267061,
            "test": [
             1744.497128,
             0.9241845902
            ]
           },
           {
            "iteration": 365,
            "learn": [
             1507.298863,
             0.9457848209
            ],
            "passed_time": 19.78689488,
            "remaining_time": 250.5258767,
            "test": [
             1744.199307,
             0.9242104744
            ]
           },
           {
            "iteration": 366,
            "learn": [
             1506.777802,
             0.945822298
            ],
            "passed_time": 19.83719484,
            "remaining_time": 250.4243152,
            "test": [
             1744.017955,
             0.9242262339
            ]
           },
           {
            "iteration": 367,
            "learn": [
             1505.85374,
             0.9458887287
            ],
            "passed_time": 19.89777334,
            "remaining_time": 250.4524079,
            "test": [
             1743.793372,
             0.9242457479
            ]
           },
           {
            "iteration": 368,
            "learn": [
             1505.147183,
             0.9459394956
            ],
            "passed_time": 19.95421182,
            "remaining_time": 250.4280621,
            "test": [
             1743.10425,
             0.9243056101
            ]
           },
           {
            "iteration": 369,
            "learn": [
             1504.291736,
             0.9460009285
            ],
            "passed_time": 20.00900067,
            "remaining_time": 250.3829002,
            "test": [
             1742.889972,
             0.9243242191
            ]
           },
           {
            "iteration": 370,
            "learn": [
             1503.659599,
             0.9460463022
            ],
            "passed_time": 20.06820085,
            "remaining_time": 250.3927271,
            "test": [
             1742.484345,
             0.9243594393
            ]
           },
           {
            "iteration": 371,
            "learn": [
             1503.136447,
             0.9460838387
            ],
            "passed_time": 20.12055874,
            "remaining_time": 250.3170587,
            "test": [
             1742.376261,
             0.9243688228
            ]
           },
           {
            "iteration": 372,
            "learn": [
             1502.443258,
             0.9461335554
            ],
            "passed_time": 20.1802634,
            "remaining_time": 250.3326508,
            "test": [
             1742.136947,
             0.9243895972
            ]
           },
           {
            "iteration": 373,
            "learn": [
             1501.286076,
             0.9462164993
            ],
            "passed_time": 20.23044029,
            "remaining_time": 250.2299914,
            "test": [
             1742.28501,
             0.9243767445
            ]
           },
           {
            "iteration": 374,
            "learn": [
             1501.094649,
             0.9462302141
            ],
            "passed_time": 20.27729584,
            "remaining_time": 250.0866487,
            "test": [
             1742.181132,
             0.9243857618
            ]
           },
           {
            "iteration": 375,
            "learn": [
             1500.57352,
             0.9462675418
            ],
            "passed_time": 20.36910874,
            "remaining_time": 250.496699,
            "test": [
             1742.151035,
             0.9243883743
            ]
           },
           {
            "iteration": 376,
            "learn": [
             1499.898411,
             0.9463158794
            ],
            "passed_time": 20.42968887,
            "remaining_time": 250.5210918,
            "test": [
             1741.990631,
             0.9244022972
            ]
           },
           {
            "iteration": 377,
            "learn": [
             1499.008427,
             0.9463795688
            ],
            "passed_time": 20.49455574,
            "remaining_time": 250.5974514,
            "test": [
             1741.963439,
             0.9244046572
            ]
           },
           {
            "iteration": 378,
            "learn": [
             1498.538721,
             0.9464131669
            ],
            "passed_time": 20.54723673,
            "remaining_time": 250.524488,
            "test": [
             1741.81399,
             0.9244176279
            ]
           },
           {
            "iteration": 379,
            "learn": [
             1498.240047,
             0.9464345256
            ],
            "passed_time": 20.60002362,
            "remaining_time": 250.4529188,
            "test": [
             1741.753382,
             0.9244228877
            ]
           },
           {
            "iteration": 380,
            "learn": [
             1496.836795,
             0.9465348174
            ],
            "passed_time": 20.65554333,
            "remaining_time": 250.4145791,
            "test": [
             1740.909092,
             0.9244961397
            ]
           },
           {
            "iteration": 381,
            "learn": [
             1494.60049,
             0.9466944542
            ],
            "passed_time": 20.71707037,
            "remaining_time": 250.4487721,
            "test": [
             1739.749034,
             0.9245967305
            ]
           },
           {
            "iteration": 382,
            "learn": [
             1494.164108,
             0.9467255772
            ],
            "passed_time": 20.7761206,
            "remaining_time": 250.4526078,
            "test": [
             1739.439962,
             0.9246235194
            ]
           },
           {
            "iteration": 383,
            "learn": [
             1493.813394,
             0.9467505837
            ],
            "passed_time": 20.82952707,
            "remaining_time": 250.3882734,
            "test": [
             1739.252977,
             0.9246397241
            ]
           },
           {
            "iteration": 384,
            "learn": [
             1493.695535,
             0.9467589859
            ],
            "passed_time": 20.8909221,
            "remaining_time": 250.4197545,
            "test": [
             1739.230317,
             0.9246416877
            ]
           },
           {
            "iteration": 385,
            "learn": [
             1493.253694,
             0.9467904791
            ],
            "passed_time": 20.96255623,
            "remaining_time": 250.5731462,
            "test": [
             1738.720031,
             0.9246859011
            ]
           },
           {
            "iteration": 386,
            "learn": [
             1492.784745,
             0.9468238942
            ],
            "passed_time": 21.01506871,
            "remaining_time": 250.4974469,
            "test": [
             1738.449639,
             0.9247093238
            ]
           },
           {
            "iteration": 387,
            "learn": [
             1492.456229,
             0.9468472965
            ],
            "passed_time": 21.06656838,
            "remaining_time": 250.4098282,
            "test": [
             1738.117308,
             0.924738107
            ]
           },
           {
            "iteration": 388,
            "learn": [
             1492.150617,
             0.9468690625
            ],
            "passed_time": 21.1218619,
            "remaining_time": 250.3673656,
            "test": [
             1738.109572,
             0.9247387769
            ]
           },
           {
            "iteration": 389,
            "learn": [
             1490.686611,
             0.946973269
            ],
            "passed_time": 21.1752649,
            "remaining_time": 250.3024902,
            "test": [
             1737.37362,
             0.9248024978
            ]
           },
           {
            "iteration": 390,
            "learn": [
             1489.076918,
             0.9470877272
            ],
            "passed_time": 21.22494317,
            "remaining_time": 250.1937674,
            "test": [
             1736.233132,
             0.9249011912
            ]
           },
           {
            "iteration": 391,
            "learn": [
             1488.409047,
             0.9471351803
            ],
            "passed_time": 21.27950719,
            "remaining_time": 250.1427784,
            "test": [
             1735.889707,
             0.9249308973
            ]
           },
           {
            "iteration": 392,
            "learn": [
             1487.583228,
             0.9471938263
            ],
            "passed_time": 21.33486608,
            "remaining_time": 250.1010891,
            "test": [
             1735.260995,
             0.9249852651
            ]
           },
           {
            "iteration": 393,
            "learn": [
             1486.928986,
             0.9472402647
            ],
            "passed_time": 21.42026777,
            "remaining_time": 250.4105415,
            "test": [
             1735.235431,
             0.9249874753
            ]
           },
           {
            "iteration": 394,
            "learn": [
             1486.31919,
             0.9472835298
            ],
            "passed_time": 21.4866292,
            "remaining_time": 250.4960189,
            "test": [
             1735.152959,
             0.9249946055
            ]
           },
           {
            "iteration": 395,
            "learn": [
             1483.967204,
             0.9474502373
            ],
            "passed_time": 21.53735119,
            "remaining_time": 250.3989012,
            "test": [
             1734.244565,
             0.9250731192
            ]
           },
           {
            "iteration": 396,
            "learn": [
             1483.531228,
             0.9474811101
            ],
            "passed_time": 21.57905663,
            "remaining_time": 250.1974753,
            "test": [
             1734.036747,
             0.9250910754
            ]
           },
           {
            "iteration": 397,
            "learn": [
             1483.457867,
             0.947486304
            ],
            "passed_time": 21.63566077,
            "remaining_time": 250.1691228,
            "test": [
             1734.074665,
             0.9250877993
            ]
           },
           {
            "iteration": 398,
            "learn": [
             1482.252364,
             0.9475716178
            ],
            "passed_time": 21.68026212,
            "remaining_time": 250.0022206,
            "test": [
             1733.410479,
             0.9251451741
            ]
           },
           {
            "iteration": 399,
            "learn": [
             1481.679066,
             0.9476121659
            ],
            "passed_time": 21.74038102,
            "remaining_time": 250.0143817,
            "test": [
             1733.005384,
             0.9251801569
            ]
           },
           {
            "iteration": 400,
            "learn": [
             1481.181336,
             0.9476473565
            ],
            "passed_time": 21.7974729,
            "remaining_time": 249.991466,
            "test": [
             1733.016611,
             0.9251791875
            ]
           },
           {
            "iteration": 401,
            "learn": [
             1480.250342,
             0.9477131482
            ],
            "passed_time": 21.84890171,
            "remaining_time": 249.9036071,
            "test": [
             1732.707663,
             0.925205862
            ]
           },
           {
            "iteration": 402,
            "learn": [
             1479.712007,
             0.9477511725
            ],
            "passed_time": 21.90029814,
            "remaining_time": 249.8155597,
            "test": [
             1732.688273,
             0.925207536
            ]
           },
           {
            "iteration": 403,
            "learn": [
             1478.953674,
             0.9478047124
            ],
            "passed_time": 21.95736659,
            "remaining_time": 249.7922199,
            "test": [
             1732.550172,
             0.9252194579
            ]
           },
           {
            "iteration": 404,
            "learn": [
             1477.326876,
             0.9479194754
            ],
            "passed_time": 22.01326889,
            "remaining_time": 249.7554828,
            "test": [
             1731.668866,
             0.9252955167
            ]
           },
           {
            "iteration": 405,
            "learn": [
             1477.25638,
             0.9479244457
            ],
            "passed_time": 22.07430726,
            "remaining_time": 249.7767674,
            "test": [
             1731.67354,
             0.9252951134
            ]
           },
           {
            "iteration": 406,
            "learn": [
             1476.761491,
             0.947959331
            ],
            "passed_time": 22.12432926,
            "remaining_time": 249.6733275,
            "test": [
             1731.462813,
             0.9253132939
            ]
           },
           {
            "iteration": 407,
            "learn": [
             1475.882319,
             0.9480212761
            ],
            "passed_time": 22.16562281,
            "remaining_time": 249.4719116,
            "test": [
             1731.112058,
             0.9253435504
            ]
           },
           {
            "iteration": 408,
            "learn": [
             1475.126767,
             0.9480744817
            ],
            "passed_time": 22.20451443,
            "remaining_time": 249.2443173,
            "test": [
             1730.737846,
             0.9253758238
            ]
           },
           {
            "iteration": 409,
            "learn": [
             1474.809693,
             0.9480968017
            ],
            "passed_time": 22.25920763,
            "remaining_time": 249.1945439,
            "test": [
             1730.598739,
             0.9253878191
            ]
           },
           {
            "iteration": 410,
            "learn": [
             1474.601684,
             0.9481114417
            ],
            "passed_time": 22.30738187,
            "remaining_time": 249.0719596,
            "test": [
             1730.416261,
             0.9254035527
            ]
           },
           {
            "iteration": 411,
            "learn": [
             1474.486301,
             0.9481195616
            ],
            "passed_time": 22.36411277,
            "remaining_time": 249.0450228,
            "test": [
             1730.360711,
             0.925408342
            ]
           },
           {
            "iteration": 412,
            "learn": [
             1472.128822,
             0.9482853268
            ],
            "passed_time": 22.46821305,
            "remaining_time": 249.5440514,
            "test": [
             1728.762518,
             0.9255460668
            ]
           },
           {
            "iteration": 413,
            "learn": [
             1471.423261,
             0.9483348865
            ],
            "passed_time": 22.52042728,
            "remaining_time": 249.4654095,
            "test": [
             1728.754522,
             0.9255467556
            ]
           },
           {
            "iteration": 414,
            "learn": [
             1470.789924,
             0.9483793528
            ],
            "passed_time": 22.58324013,
            "remaining_time": 249.5039904,
            "test": [
             1728.461038,
             0.9255720327
            ]
           },
           {
            "iteration": 415,
            "learn": [
             1470.274643,
             0.9484155163
            ],
            "passed_time": 22.63973225,
            "remaining_time": 249.4724342,
            "test": [
             1728.222431,
             0.9255925803
            ]
           },
           {
            "iteration": 416,
            "learn": [
             1470.201166,
             0.9484206721
            ],
            "passed_time": 22.70067605,
            "remaining_time": 249.4896842,
            "test": [
             1728.214475,
             0.9255932653
            ]
           },
           {
            "iteration": 417,
            "learn": [
             1470.099357,
             0.9484278154
            ],
            "passed_time": 22.75874623,
            "remaining_time": 249.4750604,
            "test": [
             1728.193327,
             0.9255950863
            ]
           },
           {
            "iteration": 418,
            "learn": [
             1469.593605,
             0.9484632936
            ],
            "passed_time": 22.81194587,
            "remaining_time": 249.4069786,
            "test": [
             1728.09518,
             0.9256035373
            ]
           },
           {
            "iteration": 419,
            "learn": [
             1468.964382,
             0.9485074162
            ],
            "passed_time": 22.86669333,
            "remaining_time": 249.3558463,
            "test": [
             1727.716601,
             0.9256361302
            ]
           },
           {
            "iteration": 420,
            "learn": [
             1468.662533,
             0.9485285759
            ],
            "passed_time": 22.92020289,
            "remaining_time": 249.2912329,
            "test": [
             1727.646834,
             0.9256421359
            ]
           },
           {
            "iteration": 421,
            "learn": [
             1468.525849,
             0.948538156
            ],
            "passed_time": 22.97699989,
            "remaining_time": 249.2623353,
            "test": [
             1727.533641,
             0.9256518792
            ]
           },
           {
            "iteration": 422,
            "learn": [
             1468.132994,
             0.9485656861
            ],
            "passed_time": 23.03021651,
            "remaining_time": 249.194565,
            "test": [
             1727.564819,
             0.9256491955
            ]
           },
           {
            "iteration": 423,
            "learn": [
             1467.327636,
             0.9486221001
            ],
            "passed_time": 23.08633178,
            "remaining_time": 249.1581468,
            "test": [
             1727.183373,
             0.9256820253
            ]
           },
           {
            "iteration": 424,
            "learn": [
             1466.423131,
             0.9486854224
            ],
            "passed_time": 23.13482524,
            "remaining_time": 249.0395894,
            "test": [
             1727.144984,
             0.9256853288
            ]
           },
           {
            "iteration": 425,
            "learn": [
             1466.360299,
             0.9486898197
            ],
            "passed_time": 23.18979236,
            "remaining_time": 248.9908691,
            "test": [
             1727.070217,
             0.9256917628
            ]
           },
           {
            "iteration": 426,
            "learn": [
             1465.965223,
             0.9487174646
            ],
            "passed_time": 23.2372392,
            "remaining_time": 248.8615805,
            "test": [
             1727.05833,
             0.9256927857
            ]
           },
           {
            "iteration": 427,
            "learn": [
             1465.878634,
             0.9487235225
            ],
            "passed_time": 23.29345944,
            "remaining_time": 248.8263938,
            "test": [
             1727.040615,
             0.92569431
            ]
           },
           {
            "iteration": 428,
            "learn": [
             1465.04558,
             0.9487817865
            ],
            "passed_time": 23.34013759,
            "remaining_time": 248.689438,
            "test": [
             1726.868826,
             0.9257090917
            ]
           },
           {
            "iteration": 429,
            "learn": [
             1464.732479,
             0.9488036763
            ],
            "passed_time": 23.39470513,
            "remaining_time": 248.6367499,
            "test": [
             1726.697068,
             0.9257238692
            ]
           },
           {
            "iteration": 430,
            "learn": [
             1464.628783,
             0.9488109249
            ],
            "passed_time": 23.49278844,
            "remaining_time": 249.0453606,
            "test": [
             1726.498777,
             0.9257409278
            ]
           },
           {
            "iteration": 431,
            "learn": [
             1463.151849,
             0.9489141112
            ],
            "passed_time": 23.54326056,
            "remaining_time": 248.9481811,
            "test": [
             1726.061009,
             0.925778581
            ]
           },
           {
            "iteration": 432,
            "learn": [
             1463.072948,
             0.9489196207
            ],
            "passed_time": 23.59902883,
            "remaining_time": 248.9070778,
            "test": [
             1726.045946,
             0.9257798764
            ]
           },
           {
            "iteration": 433,
            "learn": [
             1462.983065,
             0.9489258966
            ],
            "passed_time": 23.64888463,
            "remaining_time": 248.8037033,
            "test": [
             1726.065575,
             0.9257781883
            ]
           },
           {
            "iteration": 434,
            "learn": [
             1462.455523,
             0.948962724
            ],
            "passed_time": 23.70838215,
            "remaining_time": 248.8017575,
            "test": [
             1726.252256,
             0.9257621326
            ]
           },
           {
            "iteration": 435,
            "learn": [
             1461.684535,
             0.9490165222
            ],
            "passed_time": 23.76179239,
            "remaining_time": 248.7358268,
            "test": [
             1726.244593,
             0.9257627917
            ]
           },
           {
            "iteration": 436,
            "learn": [
             1460.671991,
             0.9490871327
            ],
            "passed_time": 23.80957451,
            "remaining_time": 248.6111865,
            "test": [
             1725.592815,
             0.9258188406
            ]
           },
           {
            "iteration": 437,
            "learn": [
             1459.658223,
             0.9491577795
            ],
            "passed_time": 23.86502757,
            "remaining_time": 248.566794,
            "test": [
             1725.284408,
             0.9258453543
            ]
           },
           {
            "iteration": 438,
            "learn": [
             1458.892559,
             0.9492111041
            ],
            "passed_time": 23.92078072,
            "remaining_time": 248.5254689,
            "test": [
             1724.491034,
             0.9259135388
            ]
           },
           {
            "iteration": 439,
            "learn": [
             1458.090973,
             0.9492669005
            ],
            "passed_time": 23.98389696,
            "remaining_time": 248.5603867,
            "test": [
             1724.25707,
             0.9259336403
            ]
           },
           {
            "iteration": 440,
            "learn": [
             1457.733604,
             0.9492917662
            ],
            "passed_time": 24.03494598,
            "remaining_time": 248.4701105,
            "test": [
             1723.858647,
             0.9259678653
            ]
           },
           {
            "iteration": 441,
            "learn": [
             1456.987323,
             0.9493436727
            ],
            "passed_time": 24.08807765,
            "remaining_time": 248.4014886,
            "test": [
             1723.753509,
             0.9259768954
            ]
           },
           {
            "iteration": 442,
            "learn": [
             1456.662714,
             0.9493662421
            ],
            "passed_time": 24.13666205,
            "remaining_time": 248.2861602,
            "test": [
             1723.580997,
             0.9259917111
            ]
           },
           {
            "iteration": 443,
            "learn": [
             1456.241044,
             0.9493955524
            ],
            "passed_time": 24.1874134,
            "remaining_time": 248.1933681,
            "test": [
             1723.450668,
             0.9260029029
            ]
           },
           {
            "iteration": 444,
            "learn": [
             1455.467488,
             0.9494493004
            ],
            "passed_time": 24.2317237,
            "remaining_time": 248.0348347,
            "test": [
             1723.463456,
             0.9260018048
            ]
           },
           {
            "iteration": 445,
            "learn": [
             1454.953681,
             0.9494849847
            ],
            "passed_time": 24.28308283,
            "remaining_time": 247.9487874,
            "test": [
             1723.230447,
             0.9260218123
            ]
           },
           {
            "iteration": 446,
            "learn": [
             1453.245263,
             0.9496035454
            ],
            "passed_time": 24.33706226,
            "remaining_time": 247.8895849,
            "test": [
             1721.975128,
             0.9261295546
            ]
           },
           {
            "iteration": 447,
            "learn": [
             1452.656733,
             0.9496443558
            ],
            "passed_time": 24.39167045,
            "remaining_time": 247.8367944,
            "test": [
             1721.849958,
             0.9261402934
            ]
           },
           {
            "iteration": 448,
            "learn": [
             1452.599303,
             0.9496483373
            ],
            "passed_time": 24.46777999,
            "remaining_time": 248.0019303,
            "test": [
             1721.838752,
             0.9261412548
            ]
           },
           {
            "iteration": 449,
            "learn": [
             1451.378378,
             0.949732944
            ],
            "passed_time": 24.54852961,
            "remaining_time": 248.2129105,
            "test": [
             1720.664095,
             0.9262419949
            ]
           },
           {
            "iteration": 450,
            "learn": [
             1451.21208,
             0.9497444624
            ],
            "passed_time": 24.60999066,
            "remaining_time": 248.2280432,
            "test": [
             1720.58222,
             0.9262490141
            ]
           },
           {
            "iteration": 451,
            "learn": [
             1450.800809,
             0.9497729431
            ],
            "passed_time": 24.65830947,
            "remaining_time": 248.1106006,
            "test": [
             1720.576054,
             0.9262495426
            ]
           },
           {
            "iteration": 452,
            "learn": [
             1450.144365,
             0.9498183852
            ],
            "passed_time": 24.70956069,
            "remaining_time": 248.0228972,
            "test": [
             1720.648224,
             0.9262433556
            ]
           },
           {
            "iteration": 453,
            "learn": [
             1449.644034,
             0.9498530067
            ],
            "passed_time": 24.7685646,
            "remaining_time": 248.0129839,
            "test": [
             1720.314936,
             0.926271926
            ]
           },
           {
            "iteration": 454,
            "learn": [
             1449.118484,
             0.9498893605
            ],
            "passed_time": 24.817249,
            "remaining_time": 247.899773,
            "test": [
             1720.157837,
             0.926285391
            ]
           },
           {
            "iteration": 455,
            "learn": [
             1448.259127,
             0.9499487761
            ],
            "passed_time": 24.87291853,
            "remaining_time": 247.8564513,
            "test": [
             1720.03442,
             0.9262959683
            ]
           },
           {
            "iteration": 456,
            "learn": [
             1447.970218,
             0.9499687433
            ],
            "passed_time": 24.92569451,
            "remaining_time": 247.784311,
            "test": [
             1720.256956,
             0.9262768956
            ]
           },
           {
            "iteration": 457,
            "learn": [
             1447.148157,
             0.950025536
            ],
            "passed_time": 24.98039785,
            "remaining_time": 247.7313691,
            "test": [
             1720.484977,
             0.9262573502
            ]
           },
           {
            "iteration": 458,
            "learn": [
             1446.42799,
             0.9500752628
            ],
            "passed_time": 25.01966535,
            "remaining_time": 247.5257089,
            "test": [
             1720.522069,
             0.9262541706
            ]
           },
           {
            "iteration": 459,
            "learn": [
             1445.671958,
             0.9501274394
            ],
            "passed_time": 25.06513584,
            "remaining_time": 247.3819929,
            "test": [
             1720.390173,
             0.9262654769
            ]
           },
           {
            "iteration": 460,
            "learn": [
             1444.965871,
             0.9501761444
            ],
            "passed_time": 25.11808883,
            "remaining_time": 247.3123757,
            "test": [
             1720.433995,
             0.9262617206
            ]
           },
           {
            "iteration": 461,
            "learn": [
             1444.915932,
             0.9501795882
            ],
            "passed_time": 25.16748534,
            "remaining_time": 247.2078971,
            "test": [
             1720.454065,
             0.9262600001
            ]
           },
           {
            "iteration": 462,
            "learn": [
             1444.786847,
             0.9501884894
            ],
            "passed_time": 25.22135133,
            "remaining_time": 247.1474536,
            "test": [
             1720.497163,
             0.9262563056
            ]
           },
           {
            "iteration": 463,
            "learn": [
             1444.404942,
             0.9502148197
            ],
            "passed_time": 25.27014776,
            "remaining_time": 247.037479,
            "test": [
             1720.515174,
             0.9262547617
            ]
           },
           {
            "iteration": 464,
            "learn": [
             1443.834331,
             0.9502541471
            ],
            "passed_time": 25.32122504,
            "remaining_time": 246.9500119,
            "test": [
             1720.523421,
             0.9262540547
            ]
           },
           {
            "iteration": 465,
            "learn": [
             1443.626928,
             0.9502684378
            ],
            "passed_time": 25.38425373,
            "remaining_time": 246.9789837,
            "test": [
             1720.427775,
             0.9262622537
            ]
           },
           {
            "iteration": 466,
            "learn": [
             1443.361119,
             0.9502867498
            ],
            "passed_time": 25.43533994,
            "remaining_time": 246.8916402,
            "test": [
             1720.346298,
             0.9262692378
            ]
           },
           {
            "iteration": 467,
            "learn": [
             1442.949522,
             0.9503150988
            ],
            "passed_time": 25.52142914,
            "remaining_time": 247.1434121,
            "test": [
             1720.314575,
             0.9262719569
            ]
           },
           {
            "iteration": 468,
            "learn": [
             1442.696946,
             0.9503324911
            ],
            "passed_time": 25.59518955,
            "remaining_time": 247.2746351,
            "test": [
             1720.144028,
             0.9262865746
            ]
           },
           {
            "iteration": 469,
            "learn": [
             1442.637951,
             0.950336553
            ],
            "passed_time": 25.6514417,
            "remaining_time": 247.236236,
            "test": [
             1720.154512,
             0.926285676
            ]
           },
           {
            "iteration": 470,
            "learn": [
             1442.406098,
             0.950352515
            ],
            "passed_time": 25.70280192,
            "remaining_time": 247.1507216,
            "test": [
             1720.095906,
             0.9262906989
            ]
           },
           {
            "iteration": 471,
            "learn": [
             1442.361011,
             0.9503556188
            ],
            "passed_time": 25.75812578,
            "remaining_time": 247.1033762,
            "test": [
             1720.124628,
             0.9262882372
            ]
           },
           {
            "iteration": 472,
            "learn": [
             1441.558032,
             0.9504108786
            ],
            "passed_time": 25.81207173,
            "remaining_time": 247.0428091,
            "test": [
             1719.652703,
             0.9263286781
            ]
           },
           {
            "iteration": 473,
            "learn": [
             1441.070542,
             0.9504444119
            ],
            "passed_time": 25.86808568,
            "remaining_time": 247.0020164,
            "test": [
             1719.640663,
             0.9263297097
            ]
           },
           {
            "iteration": 474,
            "learn": [
             1440.104781,
             0.9505108109
            ],
            "passed_time": 25.92219945,
            "remaining_time": 246.9430579,
            "test": [
             1719.263347,
             0.926362035
            ]
           },
           {
            "iteration": 475,
            "learn": [
             1440.004421,
             0.9505177084
            ],
            "passed_time": 25.97856452,
            "remaining_time": 246.9055166,
            "test": [
             1719.234587,
             0.9263644986
            ]
           },
           {
            "iteration": 476,
            "learn": [
             1439.845096,
             0.9505286574
            ],
            "passed_time": 26.03921302,
            "remaining_time": 246.9085126,
            "test": [
             1719.234289,
             0.9263645241
            ]
           },
           {
            "iteration": 477,
            "learn": [
             1439.013947,
             0.9505857555
            ],
            "passed_time": 26.09055749,
            "remaining_time": 246.8232238,
            "test": [
             1718.936911,
             0.9263899956
            ]
           },
           {
            "iteration": 478,
            "learn": [
             1438.59065,
             0.9506148224
            ],
            "passed_time": 26.14094135,
            "remaining_time": 246.7290101,
            "test": [
             1718.84173,
             0.9263981472
            ]
           },
           {
            "iteration": 479,
            "learn": [
             1437.940283,
             0.950659465
            ],
            "passed_time": 26.19956138,
            "remaining_time": 246.7125364,
            "test": [
             1718.624252,
             0.9264167711
            ]
           },
           {
            "iteration": 480,
            "learn": [
             1436.241868,
             0.9507759527
            ],
            "passed_time": 26.25460162,
            "remaining_time": 246.6622552,
            "test": [
             1717.390972,
             0.9265223395
            ]
           },
           {
            "iteration": 481,
            "learn": [
             1435.468827,
             0.9508289271
            ],
            "passed_time": 26.30613401,
            "remaining_time": 246.5790735,
            "test": [
             1717.41505,
             0.9265202791
            ]
           },
           {
            "iteration": 482,
            "learn": [
             1435.343755,
             0.9508374953
            ],
            "passed_time": 26.35625705,
            "remaining_time": 246.4828429,
            "test": [
             1717.369727,
             0.9265241574
            ]
           },
           {
            "iteration": 483,
            "learn": [
             1435.005528,
             0.950860662
            ],
            "passed_time": 26.41433908,
            "remaining_time": 246.4610646,
            "test": [
             1717.124932,
             0.9265451024
            ]
           },
           {
            "iteration": 484,
            "learn": [
             1434.588297,
             0.9508892326
            ],
            "passed_time": 26.46825996,
            "remaining_time": 246.4003994,
            "test": [
             1717.209939,
             0.9265378294
            ]
           },
           {
            "iteration": 485,
            "learn": [
             1434.55046,
             0.9508918231
            ],
            "passed_time": 26.54889899,
            "remaining_time": 246.5879219,
            "test": [
             1717.222422,
             0.9265367614
            ]
           },
           {
            "iteration": 486,
            "learn": [
             1434.259761,
             0.9509117238
            ],
            "passed_time": 26.61313323,
            "remaining_time": 246.6223209,
            "test": [
             1717.153771,
             0.9265426351
            ]
           },
           {
            "iteration": 487,
            "learn": [
             1434.084815,
             0.9509236983
            ],
            "passed_time": 26.6649737,
            "remaining_time": 246.5417241,
            "test": [
             1717.168841,
             0.9265413458
            ]
           },
           {
            "iteration": 488,
            "learn": [
             1433.750541,
             0.9509465742
            ],
            "passed_time": 26.71871649,
            "remaining_time": 246.4787936,
            "test": [
             1717.168073,
             0.9265414115
            ]
           },
           {
            "iteration": 489,
            "learn": [
             1433.341689,
             0.9509745466
            ],
            "passed_time": 26.76994766,
            "remaining_time": 246.3927836,
            "test": [
             1717.128795,
             0.9265447719
            ]
           },
           {
            "iteration": 490,
            "learn": [
             1432.696365,
             0.9510186815
            ],
            "passed_time": 26.82668541,
            "remaining_time": 246.3574837,
            "test": [
             1717.269474,
             0.9265327356
            ]
           },
           {
            "iteration": 491,
            "learn": [
             1432.580075,
             0.9510266327
            ],
            "passed_time": 26.87783889,
            "remaining_time": 246.2709303,
            "test": [
             1717.330869,
             0.9265274823
            ]
           },
           {
            "iteration": 492,
            "learn": [
             1432.159753,
             0.9510553662
            ],
            "passed_time": 26.93347845,
            "remaining_time": 246.2255322,
            "test": [
             1717.081359,
             0.9265488303
            ]
           },
           {
            "iteration": 493,
            "learn": [
             1431.267869,
             0.9511163083
            ],
            "passed_time": 27.00226888,
            "remaining_time": 246.3000478,
            "test": [
             1716.537764,
             0.9265953294
            ]
           },
           {
            "iteration": 494,
            "learn": [
             1431.029216,
             0.9511326089
            ],
            "passed_time": 27.05530168,
            "remaining_time": 246.2305738,
            "test": [
             1716.661944,
             0.9265847083
            ]
           },
           {
            "iteration": 495,
            "learn": [
             1430.64669,
             0.9511587307
            ],
            "passed_time": 27.11095642,
            "remaining_time": 246.1849753,
            "test": [
             1716.546723,
             0.9265945632
            ]
           },
           {
            "iteration": 496,
            "learn": [
             1430.289993,
             0.9511830825
            ],
            "passed_time": 27.1649712,
            "remaining_time": 246.1244775,
            "test": [
             1716.455975,
             0.9266023244
            ]
           },
           {
            "iteration": 497,
            "learn": [
             1430.031155,
             0.9512007495
            ],
            "passed_time": 27.22441275,
            "remaining_time": 246.1130647,
            "test": [
             1716.444429,
             0.9266033118
            ]
           },
           {
            "iteration": 498,
            "learn": [
             1429.501039,
             0.9512369228
            ],
            "passed_time": 27.27996396,
            "remaining_time": 246.0663683,
            "test": [
             1716.465792,
             0.9266014848
            ]
           },
           {
            "iteration": 499,
            "learn": [
             1429.353018,
             0.9512470208
            ],
            "passed_time": 27.337976,
            "remaining_time": 246.041784,
            "test": [
             1716.478037,
             0.9266004376
            ]
           },
           {
            "iteration": 500,
            "learn": [
             1429.095741,
             0.9512645699
            ],
            "passed_time": 27.39336601,
            "remaining_time": 245.9935203,
            "test": [
             1716.442724,
             0.9266034576
            ]
           },
           {
            "iteration": 501,
            "learn": [
             1428.66281,
             0.9512940933
            ],
            "passed_time": 27.45038042,
            "remaining_time": 245.9597831,
            "test": [
             1716.505703,
             0.9265980714
            ]
           },
           {
            "iteration": 502,
            "learn": [
             1428.089487,
             0.9513331769
            ],
            "passed_time": 27.50577128,
            "remaining_time": 245.9114382,
            "test": [
             1716.229431,
             0.9266216977
            ]
           },
           {
            "iteration": 503,
            "learn": [
             1427.891113,
             0.9513466964
            ],
            "passed_time": 27.60328187,
            "remaining_time": 246.2388002,
            "test": [
             1716.256673,
             0.9266193682
            ]
           },
           {
            "iteration": 504,
            "learn": [
             1427.469709,
             0.9513754096
            ],
            "passed_time": 27.68597436,
            "remaining_time": 246.4325837,
            "test": [
             1715.905353,
             0.9266494073
            ]
           },
           {
            "iteration": 505,
            "learn": [
             1427.389254,
             0.9513808906
            ],
            "passed_time": 27.7370952,
            "remaining_time": 246.3448732,
            "test": [
             1715.88818,
             0.9266508755
            ]
           },
           {
            "iteration": 506,
            "learn": [
             1427.16991,
             0.9513958318
            ],
            "passed_time": 27.78362368,
            "remaining_time": 246.2166098,
            "test": [
             1715.825969,
             0.9266561941
            ]
           },
           {
            "iteration": 507,
            "learn": [
             1426.638056,
             0.9514320511
            ],
            "passed_time": 27.84189374,
            "remaining_time": 246.1924935,
            "test": [
             1715.874569,
             0.9266520391
            ]
           },
           {
            "iteration": 508,
            "learn": [
             1426.216869,
             0.9514607243
            ],
            "passed_time": 27.89443632,
            "remaining_time": 246.1177083,
            "test": [
             1715.811959,
             0.9266573918
            ]
           },
           {
            "iteration": 509,
            "learn": [
             1424.95047,
             0.9515468863
            ],
            "passed_time": 27.94404199,
            "remaining_time": 246.017154,
            "test": [
             1715.092956,
             0.9267188467
            ]
           },
           {
            "iteration": 510,
            "learn": [
             1424.530101,
             0.95157547
            ],
            "passed_time": 28.00444968,
            "remaining_time": 246.011692,
            "test": [
             1714.894779,
             0.9267357808
            ]
           },
           {
            "iteration": 511,
            "learn": [
             1424.026967,
             0.9516096703
            ],
            "passed_time": 28.05748051,
            "remaining_time": 245.9413526,
            "test": [
             1714.400479,
             0.92677801
            ]
           },
           {
            "iteration": 512,
            "learn": [
             1423.390169,
             0.9516529392
            ],
            "passed_time": 28.11845175,
            "remaining_time": 245.9405321,
            "test": [
             1714.09848,
             0.9268038044
            ]
           },
           {
            "iteration": 513,
            "learn": [
             1422.576574,
             0.9517081927
            ],
            "passed_time": 28.17496687,
            "remaining_time": 245.9005863,
            "test": [
             1713.860394,
             0.9268241368
            ]
           },
           {
            "iteration": 514,
            "learn": [
             1421.925776,
             0.9517523675
            ],
            "passed_time": 28.22373004,
            "remaining_time": 245.7930664,
            "test": [
             1713.332477,
             0.9268692103
            ]
           },
           {
            "iteration": 515,
            "learn": [
             1421.83824,
             0.9517583077
            ],
            "passed_time": 28.27298999,
            "remaining_time": 245.6900913,
            "test": [
             1713.309445,
             0.9268711764
            ]
           },
           {
            "iteration": 516,
            "learn": [
             1421.448373,
             0.9517847598
            ],
            "passed_time": 28.32714349,
            "remaining_time": 245.6297568,
            "test": [
             1713.285954,
             0.9268731817
            ]
           },
           {
            "iteration": 517,
            "learn": [
             1420.893457,
             0.9518223977
            ],
            "passed_time": 28.38205876,
            "remaining_time": 245.5760373,
            "test": [
             1713.141047,
             0.9268855511
            ]
           },
           {
            "iteration": 518,
            "learn": [
             1420.813818,
             0.9518277982
            ],
            "passed_time": 28.43170916,
            "remaining_time": 245.4768569,
            "test": [
             1713.091809,
             0.9268897538
            ]
           },
           {
            "iteration": 519,
            "learn": [
             1420.434335,
             0.9518535272
            ],
            "passed_time": 28.48444607,
            "remaining_time": 245.4044584,
            "test": [
             1712.877423,
             0.9269080515
            ]
           },
           {
            "iteration": 520,
            "learn": [
             1420.134071,
             0.9518738803
            ],
            "passed_time": 28.54259499,
            "remaining_time": 245.3786621,
            "test": [
             1712.638012,
             0.9269284824
            ]
           },
           {
            "iteration": 521,
            "learn": [
             1419.423116,
             0.9519220546
            ],
            "passed_time": 28.59096148,
            "remaining_time": 245.2688228,
            "test": [
             1712.147261,
             0.9269703532
            ]
           },
           {
            "iteration": 522,
            "learn": [
             1419.200429,
             0.9519371388
            ],
            "passed_time": 28.6953867,
            "remaining_time": 245.6390942,
            "test": [
             1711.972229,
             0.926985284
            ]
           },
           {
            "iteration": 523,
            "learn": [
             1419.081816,
             0.9519451724
            ],
            "passed_time": 28.75174816,
            "remaining_time": 245.5969938,
            "test": [
             1712.01916,
             0.9269812808
            ]
           },
           {
            "iteration": 524,
            "learn": [
             1418.833222,
             0.9519620074
            ],
            "passed_time": 28.80804232,
            "remaining_time": 245.5542655,
            "test": [
             1711.913524,
             0.9269902914
            ]
           },
           {
            "iteration": 525,
            "learn": [
             1418.359677,
             0.951994068
            ],
            "passed_time": 28.85769487,
            "remaining_time": 245.454994,
            "test": [
             1711.764127,
             0.9270030339
            ]
           },
           {
            "iteration": 526,
            "learn": [
             1417.679015,
             0.9520401325
            ],
            "passed_time": 28.90922906,
            "remaining_time": 245.3718816,
            "test": [
             1711.687823,
             0.9270095416
            ]
           },
           {
            "iteration": 527,
            "learn": [
             1417.111483,
             0.9520785238
            ],
            "passed_time": 28.96085333,
            "remaining_time": 245.2896517,
            "test": [
             1711.58069,
             0.9270186781
            ]
           },
           {
            "iteration": 528,
            "learn": [
             1416.674598,
             0.9521080669
            ],
            "passed_time": 29.01141173,
            "remaining_time": 245.198529,
            "test": [
             1711.566928,
             0.9270198517
            ]
           },
           {
            "iteration": 529,
            "learn": [
             1416.093371,
             0.9521473567
            ],
            "passed_time": 29.06624232,
            "remaining_time": 245.1435909,
            "test": [
             1711.489384,
             0.9270264644
            ]
           },
           {
            "iteration": 530,
            "learn": [
             1415.798108,
             0.9521673096
            ],
            "passed_time": 29.12189195,
            "remaining_time": 245.0955464,
            "test": [
             1711.286423,
             0.9270437708
            ]
           },
           {
            "iteration": 531,
            "learn": [
             1415.501603,
             0.9521873424
            ],
            "passed_time": 29.16971924,
            "remaining_time": 244.9817774,
            "test": [
             1711.261869,
             0.9270458644
            ]
           },
           {
            "iteration": 532,
            "learn": [
             1414.61618,
             0.9522471391
            ],
            "passed_time": 29.22990178,
            "remaining_time": 244.9718035,
            "test": [
             1711.349517,
             0.927038391
            ]
           },
           {
            "iteration": 533,
            "learn": [
             1414.390496,
             0.9522623746
            ],
            "passed_time": 29.28121487,
            "remaining_time": 244.8874637,
            "test": [
             1711.259605,
             0.9270460574
            ]
           },
           {
            "iteration": 534,
            "learn": [
             1414.122533,
             0.9522804611
            ],
            "passed_time": 29.33429789,
            "remaining_time": 244.8180188,
            "test": [
             1711.311567,
             0.9270416269
            ]
           },
           {
            "iteration": 535,
            "learn": [
             1413.379335,
             0.9523306064
            ],
            "passed_time": 29.3807591,
            "remaining_time": 244.6934863,
            "test": [
             1711.25769,
             0.9270462207
            ]
           },
           {
            "iteration": 536,
            "learn": [
             1412.773927,
             0.9523714351
            ],
            "passed_time": 29.43258134,
            "remaining_time": 244.6137998,
            "test": [
             1711.379593,
             0.9270358265
            ]
           },
           {
            "iteration": 537,
            "learn": [
             1412.205259,
             0.9524097702
            ],
            "passed_time": 29.47992941,
            "remaining_time": 244.4971098,
            "test": [
             1711.211981,
             0.927050118
            ]
           },
           {
            "iteration": 538,
            "learn": [
             1411.719728,
             0.9524424885
            ],
            "passed_time": 29.54126383,
            "remaining_time": 244.496434,
            "test": [
             1710.818067,
             0.9270836996
            ]
           },
           {
            "iteration": 539,
            "learn": [
             1411.424017,
             0.9524624101
            ],
            "passed_time": 29.59463871,
            "remaining_time": 244.4297938,
            "test": [
             1710.824941,
             0.9270831137
            ]
           },
           {
            "iteration": 540,
            "learn": [
             1411.233533,
             0.9524752405
            ],
            "passed_time": 29.64385655,
            "remaining_time": 244.3289396,
            "test": [
             1710.877762,
             0.9270786111
            ]
           },
           {
            "iteration": 541,
            "learn": [
             1410.466774,
             0.9525268692
            ],
            "passed_time": 29.74365089,
            "remaining_time": 244.6442724,
            "test": [
             1710.56946,
             0.9271048897
            ]
           },
           {
            "iteration": 542,
            "learn": [
             1410.354077,
             0.9525344552
            ],
            "passed_time": 29.79534347,
            "remaining_time": 244.563252,
            "test": [
             1710.570653,
             0.9271047881
            ]
           },
           {
            "iteration": 543,
            "learn": [
             1409.567118,
             0.9525874107
            ],
            "passed_time": 29.84652749,
            "remaining_time": 244.4781737,
            "test": [
             1710.485969,
             0.9271120055
            ]
           },
           {
            "iteration": 544,
            "learn": [
             1408.77479,
             0.9526406977
            ],
            "passed_time": 29.89799331,
            "remaining_time": 244.3955233,
            "test": [
             1710.079089,
             0.9271466776
            ]
           },
           {
            "iteration": 545,
            "learn": [
             1408.356807,
             0.9526687965
            ],
            "passed_time": 29.95082532,
            "remaining_time": 244.3241318,
            "test": [
             1709.891492,
             0.9271626608
            ]
           },
           {
            "iteration": 546,
            "learn": [
             1408.018712,
             0.9526915188
            ],
            "passed_time": 30.00183637,
            "remaining_time": 244.2379842,
            "test": [
             1709.894267,
             0.9271624245
            ]
           },
           {
            "iteration": 547,
            "learn": [
             1407.657154,
             0.9527158118
            ],
            "passed_time": 30.06651846,
            "remaining_time": 244.2630295,
            "test": [
             1709.693019,
             0.9271795689
            ]
           },
           {
            "iteration": 548,
            "learn": [
             1407.493605,
             0.9527267987
            ],
            "passed_time": 30.11389823,
            "remaining_time": 244.14747,
            "test": [
             1709.649217,
             0.9271833001
            ]
           },
           {
            "iteration": 549,
            "learn": [
             1407.145136,
             0.9527502037
            ],
            "passed_time": 30.17094344,
            "remaining_time": 244.1103606,
            "test": [
             1709.343672,
             0.9272093251
            ]
           },
           {
            "iteration": 550,
            "learn": [
             1406.455195,
             0.9527965266
            ],
            "passed_time": 30.22228648,
            "remaining_time": 244.0271371,
            "test": [
             1708.815555,
             0.9272542968
            ]
           },
           {
            "iteration": 551,
            "learn": [
             1406.36089,
             0.9528028566
            ],
            "passed_time": 30.26619254,
            "remaining_time": 243.8841022,
            "test": [
             1708.86146,
             0.9272503883
            ]
           },
           {
            "iteration": 552,
            "learn": [
             1406.092269,
             0.9528208846
            ],
            "passed_time": 30.31941907,
            "remaining_time": 243.8163772,
            "test": [
             1708.8002,
             0.9272556041
            ]
           },
           {
            "iteration": 553,
            "learn": [
             1405.29641,
             0.9528742769
            ],
            "passed_time": 30.37486583,
            "remaining_time": 243.7665225,
            "test": [
             1708.526944,
             0.9272788675
            ]
           },
           {
            "iteration": 554,
            "learn": [
             1405.185256,
             0.9528817316
            ],
            "passed_time": 30.42905358,
            "remaining_time": 243.7065643,
            "test": [
             1708.396165,
             0.9272899999
            ]
           },
           {
            "iteration": 555,
            "learn": [
             1404.920994,
             0.9528994522
            ],
            "passed_time": 30.48172483,
            "remaining_time": 243.6345056,
            "test": [
             1708.517485,
             0.9272796727
            ]
           },
           {
            "iteration": 556,
            "learn": [
             1404.359478,
             0.9529370948
            ],
            "passed_time": 30.54365745,
            "remaining_time": 243.6363914,
            "test": [
             1708.082784,
             0.9273166727
            ]
           },
           {
            "iteration": 557,
            "learn": [
             1403.607781,
             0.9529874631
            ],
            "passed_time": 30.5908041,
            "remaining_time": 243.5203438,
            "test": [
             1708.316474,
             0.9272967832
            ]
           },
           {
            "iteration": 558,
            "learn": [
             1403.420773,
             0.9529999896
            ],
            "passed_time": 30.64313181,
            "remaining_time": 243.4457037,
            "test": [
             1708.291146,
             0.927298939
            ]
           },
           {
            "iteration": 559,
            "learn": [
             1403.326405,
             0.95300631
            ],
            "passed_time": 30.71898768,
            "remaining_time": 243.5576881,
            "test": [
             1708.307462,
             0.9272975503
            ]
           },
           {
            "iteration": 560,
            "learn": [
             1402.938023,
             0.9530323182
            ],
            "passed_time": 30.78838279,
            "remaining_time": 243.617881,
            "test": [
             1708.033338,
             0.9273208808
            ]
           },
           {
            "iteration": 561,
            "learn": [
             1402.441453,
             0.9530655608
            ],
            "passed_time": 30.84610599,
            "remaining_time": 243.585442,
            "test": [
             1708.03429,
             0.9273207997
            ]
           },
           {
            "iteration": 562,
            "learn": [
             1402.02816,
             0.9530932194
            ],
            "passed_time": 30.89984165,
            "remaining_time": 243.5214874,
            "test": [
             1707.696479,
             0.9273495456
            ]
           },
           {
            "iteration": 563,
            "learn": [
             1401.73997,
             0.953112501
            ],
            "passed_time": 30.959614,
            "remaining_time": 243.5050491,
            "test": [
             1707.590039,
             0.9273586018
            ]
           },
           {
            "iteration": 564,
            "learn": [
             1401.059298,
             0.9531580262
            ],
            "passed_time": 31.01174465,
            "remaining_time": 243.4284735,
            "test": [
             1707.429293,
             0.9273722776
            ]
           },
           {
            "iteration": 565,
            "learn": [
             1400.730932,
             0.9531799804
            ],
            "passed_time": 31.07371384,
            "remaining_time": 243.4290586,
            "test": [
             1707.223052,
             0.927389822
            ]
           },
           {
            "iteration": 566,
            "learn": [
             1400.610413,
             0.9531880368
            ],
            "passed_time": 31.12050547,
            "remaining_time": 243.3107597,
            "test": [
             1707.187914,
             0.9273928108
            ]
           },
           {
            "iteration": 567,
            "learn": [
             1400.371967,
             0.9532039744
            ],
            "passed_time": 31.17204451,
            "remaining_time": 243.2297557,
            "test": [
             1707.031988,
             0.9274060734
            ]
           },
           {
            "iteration": 568,
            "learn": [
             1400.211215,
             0.9532147174
            ],
            "passed_time": 31.21752506,
            "remaining_time": 243.1016759,
            "test": [
             1706.977725,
             0.9274106885
            ]
           },
           {
            "iteration": 569,
            "learn": [
             1399.895606,
             0.953235806
            ],
            "passed_time": 31.25537487,
            "remaining_time": 242.9145801,
            "test": [
             1706.62685,
             0.9274405275
            ]
           },
           {
            "iteration": 570,
            "learn": [
             1399.05152,
             0.9532921832
            ],
            "passed_time": 31.30477396,
            "remaining_time": 242.81759,
            "test": [
             1706.61227,
             0.9274417672
            ]
           },
           {
            "iteration": 571,
            "learn": [
             1398.340021,
             0.9533396783
            ],
            "passed_time": 31.3532689,
            "remaining_time": 242.7137669,
            "test": [
             1706.371257,
             0.9274622595
            ]
           },
           {
            "iteration": 572,
            "learn": [
             1397.227028,
             0.9534139263
            ],
            "passed_time": 31.40775116,
            "remaining_time": 242.6563951,
            "test": [
             1705.59411,
             0.9275283174
            ]
           },
           {
            "iteration": 573,
            "learn": [
             1396.724604,
             0.9534474237
            ],
            "passed_time": 31.46591719,
            "remaining_time": 242.6274381,
            "test": [
             1705.583196,
             0.9275292449
            ]
           },
           {
            "iteration": 574,
            "learn": [
             1396.087075,
             0.9534899114
            ],
            "passed_time": 31.51707541,
            "remaining_time": 242.5444499,
            "test": [
             1705.662633,
             0.9275224942
            ]
           },
           {
            "iteration": 575,
            "learn": [
             1394.760492,
             0.9535782587
            ],
            "passed_time": 31.57355688,
            "remaining_time": 242.5024577,
            "test": [
             1705.728477,
             0.9275168984
            ]
           },
           {
            "iteration": 576,
            "learn": [
             1394.049848,
             0.9536255513
            ],
            "passed_time": 31.62298588,
            "remaining_time": 242.4063545,
            "test": [
             1705.546666,
             0.9275323492
            ]
           },
           {
            "iteration": 577,
            "learn": [
             1393.809497,
             0.9536415409
            ],
            "passed_time": 31.66223344,
            "remaining_time": 242.2325195,
            "test": [
             1705.52671,
             0.927534045
            ]
           },
           {
            "iteration": 578,
            "learn": [
             1393.618523,
             0.9536542437
            ],
            "passed_time": 31.71455714,
            "remaining_time": 242.1589933,
            "test": [
             1705.646099,
             0.9275238993
            ]
           },
           {
            "iteration": 579,
            "learn": [
             1393.530391,
             0.9536601053
            ],
            "passed_time": 31.87819331,
            "remaining_time": 242.9338179,
            "test": [
             1705.596148,
             0.9275281442
            ]
           },
           {
            "iteration": 580,
            "learn": [
             1393.004532,
             0.9536950721
            ],
            "passed_time": 31.9291973,
            "remaining_time": 242.8487485,
            "test": [
             1705.327268,
             0.9275509922
            ]
           },
           {
            "iteration": 581,
            "learn": [
             1392.487537,
             0.9537294366
            ],
            "passed_time": 31.98388247,
            "remaining_time": 242.7917401,
            "test": [
             1704.970002,
             0.9275813451
            ]
           },
           {
            "iteration": 582,
            "learn": [
             1392.271791,
             0.9537437734
            ],
            "passed_time": 32.04078897,
            "remaining_time": 242.7515692,
            "test": [
             1705.11314,
             0.9275691851
            ]
           },
           {
            "iteration": 583,
            "learn": [
             1391.798296,
             0.9537752305
            ],
            "passed_time": 32.10361189,
            "remaining_time": 242.756079,
            "test": [
             1704.96854,
             0.9275814693
            ]
           },
           {
            "iteration": 584,
            "learn": [
             1391.531001,
             0.9537929838
            ],
            "passed_time": 32.15721728,
            "remaining_time": 242.6907937,
            "test": [
             1704.954503,
             0.9275826618
            ]
           },
           {
            "iteration": 585,
            "learn": [
             1390.852149,
             0.9538380565
            ],
            "passed_time": 32.21544446,
            "remaining_time": 242.6603615,
            "test": [
             1705.023175,
             0.9275768281
            ]
           },
           {
            "iteration": 586,
            "learn": [
             1390.402479,
             0.9538679005
            ],
            "passed_time": 32.26828506,
            "remaining_time": 242.589339,
            "test": [
             1704.836595,
             0.9275926776
            ]
           },
           {
            "iteration": 587,
            "learn": [
             1389.980679,
             0.953895886
            ],
            "passed_time": 32.32118372,
            "remaining_time": 242.5188139,
            "test": [
             1704.682596,
             0.9276057582
            ]
           },
           {
            "iteration": 588,
            "learn": [
             1389.534685,
             0.9539254675
            ],
            "passed_time": 32.37472181,
            "remaining_time": 242.4531374,
            "test": [
             1704.498347,
             0.9276214068
            ]
           },
           {
            "iteration": 589,
            "learn": [
             1389.249782,
             0.9539443593
            ],
            "passed_time": 32.42154732,
            "remaining_time": 242.3373283,
            "test": [
             1704.362382,
             0.9276329533
            ]
           },
           {
            "iteration": 590,
            "learn": [
             1388.710739,
             0.9539800925
            ],
            "passed_time": 32.46814519,
            "remaining_time": 242.2200544,
            "test": [
             1704.317245,
             0.9276367863
            ]
           },
           {
            "iteration": 591,
            "learn": [
             1388.538333,
             0.9539915184
            ],
            "passed_time": 32.52597184,
            "remaining_time": 242.1866282,
            "test": [
             1704.216591,
             0.9276453333
            ]
           },
           {
            "iteration": 592,
            "learn": [
             1387.054484,
             0.9540897989
            ],
            "passed_time": 32.58872134,
            "remaining_time": 242.1897048,
            "test": [
             1703.355423,
             0.9277184388
            ]
           },
           {
            "iteration": 593,
            "learn": [
             1386.807651,
             0.9541061374
            ],
            "passed_time": 32.63887702,
            "remaining_time": 242.099145,
            "test": [
             1703.423216,
             0.9277126851
            ]
           },
           {
            "iteration": 594,
            "learn": [
             1386.103197,
             0.9541527508
            ],
            "passed_time": 32.68845966,
            "remaining_time": 242.0044787,
            "test": [
             1703.303108,
             0.9277228787
            ]
           },
           {
            "iteration": 595,
            "learn": [
             1385.281215,
             0.954207111
            ],
            "passed_time": 32.74640149,
            "remaining_time": 241.9717318,
            "test": [
             1703.238152,
             0.9277283912
            ]
           },
           {
            "iteration": 596,
            "learn": [
             1384.911194,
             0.9542315711
            ],
            "passed_time": 32.80174709,
            "remaining_time": 241.9197528,
            "test": [
             1703.191073,
             0.9277323864
            ]
           },
           {
            "iteration": 597,
            "learn": [
             1384.196608,
             0.9542787901
            ],
            "passed_time": 32.90209918,
            "remaining_time": 242.1990645,
            "test": [
             1702.838955,
             0.9277622646
            ]
           },
           {
            "iteration": 598,
            "learn": [
             1383.889742,
             0.9542990599
            ],
            "passed_time": 32.96673766,
            "remaining_time": 242.2147119,
            "test": [
             1702.811337,
             0.9277646078
            ]
           },
           {
            "iteration": 599,
            "learn": [
             1383.324011,
             0.9543364171
            ],
            "passed_time": 33.01678732,
            "remaining_time": 242.123107,
            "test": [
             1702.492503,
             0.9277916559
            ]
           },
           {
            "iteration": 600,
            "learn": [
             1382.788115,
             0.9543717902
            ],
            "passed_time": 33.08161925,
            "remaining_time": 242.1398388,
            "test": [
             1702.362822,
             0.9278026559
            ]
           },
           {
            "iteration": 601,
            "learn": [
             1381.938058,
             0.9544278721
            ],
            "passed_time": 33.13813961,
            "remaining_time": 242.0955781,
            "test": [
             1702.484308,
             0.9277923511
            ]
           },
           {
            "iteration": 602,
            "learn": [
             1381.392806,
             0.9544638265
            ],
            "passed_time": 33.18566861,
            "remaining_time": 241.9857129,
            "test": [
             1702.627172,
             0.927780232
            ]
           },
           {
            "iteration": 603,
            "learn": [
             1380.56425,
             0.9545184351
            ],
            "passed_time": 33.24014178,
            "remaining_time": 241.9265948,
            "test": [
             1702.096662,
             0.9278252299
            ]
           },
           {
            "iteration": 604,
            "learn": [
             1379.953092,
             0.9545586943
            ],
            "passed_time": 33.29857774,
            "remaining_time": 241.8962796,
            "test": [
             1702.022282,
             0.9278315377
            ]
           },
           {
            "iteration": 605,
            "learn": [
             1379.64818,
             0.9545787734
            ],
            "passed_time": 33.34632639,
            "remaining_time": 241.7883798,
            "test": [
             1701.991331,
             0.9278341624
            ]
           },
           {
            "iteration": 606,
            "learn": [
             1378.645421,
             0.9546447758
            ],
            "passed_time": 33.40338102,
            "remaining_time": 241.7480277,
            "test": [
             1701.397832,
             0.9278844834
            ]
           },
           {
            "iteration": 607,
            "learn": [
             1378.393316,
             0.9546613619
            ],
            "passed_time": 33.45663604,
            "remaining_time": 241.6801735,
            "test": [
             1701.265793,
             0.9278956762
            ]
           },
           {
            "iteration": 608,
            "learn": [
             1378.039904,
             0.954684608
            ],
            "passed_time": 33.50194328,
            "remaining_time": 241.5550623,
            "test": [
             1701.253372,
             0.927896729
            ]
           },
           {
            "iteration": 609,
            "learn": [
             1377.313534,
             0.9547323673
            ],
            "passed_time": 33.55970566,
            "remaining_time": 241.5198489,
            "test": [
             1701.396771,
             0.9278845733
            ]
           },
           {
            "iteration": 610,
            "learn": [
             1376.507654,
             0.9547853249
            ],
            "passed_time": 33.61843615,
            "remaining_time": 241.491516,
            "test": [
             1701.228471,
             0.9278988397
            ]
           },
           {
            "iteration": 611,
            "learn": [
             1375.672737,
             0.9548401579
            ],
            "passed_time": 33.6598563,
            "remaining_time": 241.3389697,
            "test": [
             1700.666973,
             0.9279464265
            ]
           },
           {
            "iteration": 612,
            "learn": [
             1375.117066,
             0.9548766331
            ],
            "passed_time": 33.71507018,
            "remaining_time": 241.2855023,
            "test": [
             1700.54375,
             0.9279568675
            ]
           },
           {
            "iteration": 613,
            "learn": [
             1374.782494,
             0.9548985879
            ],
            "passed_time": 33.77728696,
            "remaining_time": 241.2820531,
            "test": [
             1700.486191,
             0.9279617444
            ]
           },
           {
            "iteration": 614,
            "learn": [
             1374.123819,
             0.9549417948
            ],
            "passed_time": 33.8350081,
            "remaining_time": 241.2463585,
            "test": [
             1700.368193,
             0.9279717416
            ]
           },
           {
            "iteration": 615,
            "learn": [
             1373.89532,
             0.9549567787
            ],
            "passed_time": 33.91224677,
            "remaining_time": 241.3494965,
            "test": [
             1700.385627,
             0.9279702645
            ]
           },
           {
            "iteration": 616,
            "learn": [
             1373.287988,
             0.9549965928
            ],
            "passed_time": 33.9858618,
            "remaining_time": 241.4263084,
            "test": [
             1700.168662,
             0.927988645
            ]
           },
           {
            "iteration": 617,
            "learn": [
             1372.848308,
             0.9550254052
            ],
            "passed_time": 34.04009954,
            "remaining_time": 241.3652365,
            "test": [
             1700.130713,
             0.9279918597
            ]
           },
           {
            "iteration": 618,
            "learn": [
             1372.456977,
             0.9550510416
            ],
            "passed_time": 34.09919866,
            "remaining_time": 241.3385934,
            "test": [
             1700.135214,
             0.9279914784
            ]
           },
           {
            "iteration": 619,
            "learn": [
             1372.30214,
             0.9550611831
            ],
            "passed_time": 34.1493553,
            "remaining_time": 241.2486713,
            "test": [
             1700.205987,
             0.9279854831
            ]
           },
           {
            "iteration": 620,
            "learn": [
             1372.111986,
             0.9550736362
            ],
            "passed_time": 34.20107135,
            "remaining_time": 241.1698735,
            "test": [
             1700.201535,
             0.9279858602
            ]
           },
           {
            "iteration": 621,
            "learn": [
             1371.430074,
             0.9551182801
            ],
            "passed_time": 34.26105628,
            "remaining_time": 241.149364,
            "test": [
             1699.660629,
             0.9280316744
            ]
           },
           {
            "iteration": 622,
            "learn": [
             1370.821505,
             0.9551581036
            ],
            "passed_time": 34.31571164,
            "remaining_time": 241.0912839,
            "test": [
             1699.355001,
             0.9280575544
            ]
           },
           {
            "iteration": 623,
            "learn": [
             1370.494736,
             0.9551794794
            ],
            "passed_time": 34.36191795,
            "remaining_time": 240.973963,
            "test": [
             1699.295214,
             0.9280626165
            ]
           },
           {
            "iteration": 624,
            "learn": [
             1370.203166,
             0.9551985483
            ],
            "passed_time": 34.41769147,
            "remaining_time": 240.9238403,
            "test": [
             1699.260502,
             0.9280655554
            ]
           },
           {
            "iteration": 625,
            "learn": [
             1369.903427,
             0.9552181472
            ],
            "passed_time": 34.47128658,
            "remaining_time": 240.8584784,
            "test": [
             1699.158703,
             0.9280741741
            ]
           },
           {
            "iteration": 626,
            "learn": [
             1369.114234,
             0.9552697295
            ],
            "passed_time": 34.52227659,
            "remaining_time": 240.7749849,
            "test": [
             1698.704612,
             0.9281126125
            ]
           },
           {
            "iteration": 627,
            "learn": [
             1368.726283,
             0.9552950754
            ],
            "passed_time": 34.58202887,
            "remaining_time": 240.7525959,
            "test": [
             1698.810172,
             0.9281036779
            ]
           },
           {
            "iteration": 628,
            "learn": [
             1368.03915,
             0.9553399499
            ],
            "passed_time": 34.62689864,
            "remaining_time": 240.6266677,
            "test": [
             1698.771152,
             0.9281069806
            ]
           },
           {
            "iteration": 629,
            "learn": [
             1367.115896,
             0.9554002094
            ],
            "passed_time": 34.6736904,
            "remaining_time": 240.5143287,
            "test": [
             1698.391373,
             0.9281391219
            ]
           },
           {
            "iteration": 630,
            "learn": [
             1367.021322,
             0.9554063798
            ],
            "passed_time": 34.72219159,
            "remaining_time": 240.4140334,
            "test": [
             1698.424221,
             0.9281363422
            ]
           },
           {
            "iteration": 631,
            "learn": [
             1366.895251,
             0.9554146046
            ],
            "passed_time": 34.77493477,
            "remaining_time": 240.3432201,
            "test": [
             1698.411632,
             0.9281374076
            ]
           },
           {
            "iteration": 632,
            "learn": [
             1366.438013,
             0.955444428
            ],
            "passed_time": 34.83343261,
            "remaining_time": 240.3121646,
            "test": [
             1698.226083,
             0.9281531085
            ]
           },
           {
            "iteration": 633,
            "learn": [
             1365.577879,
             0.9555005033
            ],
            "passed_time": 34.89606807,
            "remaining_time": 240.3095161,
            "test": [
             1697.518447,
             0.9282129719
            ]
           },
           {
            "iteration": 634,
            "learn": [
             1365.486122,
             0.9555064831
            ],
            "passed_time": 34.99522394,
            "remaining_time": 240.5577205,
            "test": [
             1697.483306,
             0.9282159441
            ]
           },
           {
            "iteration": 635,
            "learn": [
             1365.040646,
             0.9555355095
            ],
            "passed_time": 35.05007136,
            "remaining_time": 240.5008041,
            "test": [
             1697.326636,
             0.9282291942
            ]
           },
           {
            "iteration": 636,
            "learn": [
             1364.045693,
             0.9556003046
            ],
            "passed_time": 35.10935679,
            "remaining_time": 240.4742915,
            "test": [
             1696.872208,
             0.9282676197
            ]
           },
           {
            "iteration": 637,
            "learn": [
             1363.705807,
             0.9556224284
            ],
            "passed_time": 35.16987283,
            "remaining_time": 240.4560898,
            "test": [
             1696.953544,
             0.9282607428
            ]
           },
           {
            "iteration": 638,
            "learn": [
             1363.272307,
             0.9556506378
            ],
            "passed_time": 35.22690365,
            "remaining_time": 240.41397,
            "test": [
             1696.940092,
             0.9282618801
            ]
           },
           {
            "iteration": 639,
            "learn": [
             1362.854931,
             0.9556777894
            ],
            "passed_time": 35.27982143,
            "remaining_time": 240.3437835,
            "test": [
             1697.399449,
             0.9282230363
            ]
           },
           {
            "iteration": 640,
            "learn": [
             1362.19263,
             0.9557208571
            ],
            "passed_time": 35.34184623,
            "remaining_time": 240.3355814,
            "test": [
             1696.921916,
             0.928263417
            ]
           },
           {
            "iteration": 641,
            "learn": [
             1361.283433,
             0.9557799457
            ],
            "passed_time": 35.39786603,
            "remaining_time": 240.2864488,
            "test": [
             1696.895612,
             0.9282656409
            ]
           },
           {
            "iteration": 642,
            "learn": [
             1360.674532,
             0.955819496
            ],
            "passed_time": 35.45229986,
            "remaining_time": 240.2265482,
            "test": [
             1696.522939,
             0.9282971462
            ]
           },
           {
            "iteration": 643,
            "learn": [
             1360.179759,
             0.9558516203
            ],
            "passed_time": 35.50622996,
            "remaining_time": 240.1632573,
            "test": [
             1696.53452,
             0.9282961671
            ]
           },
           {
            "iteration": 644,
            "learn": [
             1359.78243,
             0.9558774094
            ],
            "passed_time": 35.56328595,
            "remaining_time": 240.1211013,
            "test": [
             1696.362758,
             0.9283106855
            ]
           },
           {
            "iteration": 645,
            "learn": [
             1359.577073,
             0.9558907353
            ],
            "passed_time": 35.6277818,
            "remaining_time": 240.1290433,
            "test": [
             1696.445687,
             0.928303676
            ]
           },
           {
            "iteration": 646,
            "learn": [
             1359.461686,
             0.9558982221
            ],
            "passed_time": 35.68414796,
            "remaining_time": 240.0820651,
            "test": [
             1696.530511,
             0.9282965061
            ]
           },
           {
            "iteration": 647,
            "learn": [
             1358.746166,
             0.9559446337
            ],
            "passed_time": 35.73983624,
            "remaining_time": 240.0305051,
            "test": [
             1696.419641,
             0.9283058775
            ]
           },
           {
            "iteration": 648,
            "learn": [
             1358.326971,
             0.9559718131
            ],
            "passed_time": 35.7865407,
            "remaining_time": 239.9187035,
            "test": [
             1696.245129,
             0.9283206273
            ]
           },
           {
            "iteration": 649,
            "learn": [
             1357.991553,
             0.9559935546
            ],
            "passed_time": 35.8331248,
            "remaining_time": 239.8062968,
            "test": [
             1696.245015,
             0.9283206369
            ]
           },
           {
            "iteration": 650,
            "learn": [
             1357.895899,
             0.9559997538
            ],
            "passed_time": 35.88249803,
            "remaining_time": 239.7127249,
            "test": [
             1696.199177,
             0.9283245108
            ]
           },
           {
            "iteration": 651,
            "learn": [
             1357.339114,
             0.9560358297
            ],
            "passed_time": 35.92781286,
            "remaining_time": 239.5922244,
            "test": [
             1696.278785,
             0.9283177827
            ]
           },
           {
            "iteration": 652,
            "learn": [
             1357.216539,
             0.9560437697
            ],
            "passed_time": 36.01147303,
            "remaining_time": 239.7272178,
            "test": [
             1696.252646,
             0.928319992
            ]
           },
           {
            "iteration": 653,
            "learn": [
             1356.66164,
             0.9560797055
            ],
            "passed_time": 36.0813238,
            "remaining_time": 239.7697756,
            "test": [
             1696.324102,
             0.9283139527
            ]
           },
           {
            "iteration": 654,
            "learn": [
             1356.224669,
             0.9561079937
            ],
            "passed_time": 36.14283263,
            "remaining_time": 239.7566531,
            "test": [
             1695.988644,
             0.9283423026
            ]
           },
           {
            "iteration": 655,
            "learn": [
             1355.520751,
             0.9561535442
            ],
            "passed_time": 36.20110775,
            "remaining_time": 239.7219696,
            "test": [
             1695.72539,
             0.9283645465
            ]
           },
           {
            "iteration": 656,
            "learn": [
             1355.235681,
             0.9561719844
            ],
            "passed_time": 36.25441406,
            "remaining_time": 239.6543688,
            "test": [
             1695.662883,
             0.9283698275
            ]
           },
           {
            "iteration": 657,
            "learn": [
             1355.103689,
             0.9561805211
            ],
            "passed_time": 36.31574884,
            "remaining_time": 239.6397895,
            "test": [
             1695.522922,
             0.9283816518
            ]
           },
           {
            "iteration": 658,
            "learn": [
             1354.844938,
             0.9561972538
            ],
            "passed_time": 36.3672653,
            "remaining_time": 239.5603925,
            "test": [
             1695.601651,
             0.9283750007
            ]
           },
           {
            "iteration": 659,
            "learn": [
             1354.681883,
             0.9562077965
            ],
            "passed_time": 36.4188249,
            "remaining_time": 239.4813637,
            "test": [
             1695.49389,
             0.9283841045
            ]
           },
           {
            "iteration": 660,
            "learn": [
             1354.303039,
             0.9562322865
            ],
            "passed_time": 36.47241236,
            "remaining_time": 239.4157295,
            "test": [
             1695.259091,
             0.9284039384
            ]
           },
           {
            "iteration": 661,
            "learn": [
             1353.998542,
             0.9562519654
            ],
            "passed_time": 36.51727216,
            "remaining_time": 239.2929405,
            "test": [
             1695.213089,
             0.9284078239
            ]
           },
           {
            "iteration": 662,
            "learn": [
             1353.856572,
             0.9562611391
            ],
            "passed_time": 36.57530968,
            "remaining_time": 239.2565883,
            "test": [
             1695.13178,
             0.9284146914
            ]
           },
           {
            "iteration": 663,
            "learn": [
             1353.401641,
             0.956290529
            ],
            "passed_time": 36.63671284,
            "remaining_time": 239.2421489,
            "test": [
             1695.069833,
             0.9284199234
            ]
           },
           {
            "iteration": 664,
            "learn": [
             1352.006404,
             0.9563806037
            ],
            "passed_time": 36.69961835,
            "remaining_time": 239.2373617,
            "test": [
             1693.804495,
             0.9285267499
            ]
           },
           {
            "iteration": 665,
            "learn": [
             1351.478375,
             0.9564146683
            ],
            "passed_time": 36.75171237,
            "remaining_time": 239.1620441,
            "test": [
             1693.617839,
             0.9285425016
            ]
           },
           {
            "iteration": 666,
            "learn": [
             1350.35167,
             0.9564873107
            ],
            "passed_time": 36.80373562,
            "remaining_time": 239.0863365,
            "test": [
             1692.873707,
             0.928605281
            ]
           },
           {
            "iteration": 667,
            "learn": [
             1350.235511,
             0.9564947965
            ],
            "passed_time": 36.85770962,
            "remaining_time": 239.0233504,
            "test": [
             1692.812857,
             0.9286104134
            ]
           },
           {
            "iteration": 668,
            "learn": [
             1350.002749,
             0.9565097946
            ],
            "passed_time": 36.91132892,
            "remaining_time": 238.958095,
            "test": [
             1692.863268,
             0.9286061615
            ]
           },
           {
            "iteration": 669,
            "learn": [
             1348.601752,
             0.9566000137
            ],
            "passed_time": 36.96191901,
            "remaining_time": 238.8732975,
            "test": [
             1692.376215,
             0.928647237
            ]
           },
           {
            "iteration": 670,
            "learn": [
             1348.05152,
             0.956635421
            ],
            "passed_time": 37.01302997,
            "remaining_time": 238.7919624,
            "test": [
             1692.48504,
             0.9286380602
            ]
           },
           {
            "iteration": 671,
            "learn": [
             1347.588073,
             0.9566652325
            ],
            "passed_time": 37.13236249,
            "remaining_time": 239.1500965,
            "test": [
             1692.225591,
             0.9286599374
            ]
           },
           {
            "iteration": 672,
            "learn": [
             1347.121956,
             0.9566952055
            ],
            "passed_time": 37.19051888,
            "remaining_time": 239.1134847,
            "test": [
             1692.036274,
             0.9286758988
            ]
           },
           {
            "iteration": 673,
            "learn": [
             1346.601622,
             0.9567286525
            ],
            "passed_time": 37.24682053,
            "remaining_time": 239.0649045,
            "test": [
             1691.814652,
             0.9286945815
            ]
           },
           {
            "iteration": 674,
            "learn": [
             1346.023286,
             0.9567658127
            ],
            "passed_time": 37.29626336,
            "remaining_time": 238.9723541,
            "test": [
             1691.77319,
             0.9286980765
            ]
           },
           {
            "iteration": 675,
            "learn": [
             1345.55914,
             0.9567956242
            ],
            "passed_time": 37.34667114,
            "remaining_time": 238.8861035,
            "test": [
             1691.693709,
             0.928704776
            ]
           },
           {
            "iteration": 676,
            "learn": [
             1345.48062,
             0.9568006665
            ],
            "passed_time": 37.38065322,
            "remaining_time": 238.6950722,
            "test": [
             1691.720527,
             0.9287025156
            ]
           },
           {
            "iteration": 677,
            "learn": [
             1345.205591,
             0.9568183254
            ],
            "passed_time": 37.43441756,
            "remaining_time": 238.6306087,
            "test": [
             1691.471522,
             0.9287235026
            ]
           },
           {
            "iteration": 678,
            "learn": [
             1345.06832,
             0.9568271378
            ],
            "passed_time": 37.49411532,
            "remaining_time": 238.6039356,
            "test": [
             1691.541342,
             0.9287176182
            ]
           },
           {
            "iteration": 679,
            "learn": [
             1344.796138,
             0.9568446086
            ],
            "passed_time": 37.54522959,
            "remaining_time": 238.5226351,
            "test": [
             1691.61716,
             0.9287112281
            ]
           },
           {
            "iteration": 680,
            "learn": [
             1344.438006,
             0.9568675909
            ],
            "passed_time": 37.61281642,
            "remaining_time": 238.5458945,
            "test": [
             1691.700596,
             0.9287041956
            ]
           },
           {
            "iteration": 681,
            "learn": [
             1343.670979,
             0.9569167926
            ],
            "passed_time": 37.65910069,
            "remaining_time": 238.4340129,
            "test": [
             1691.356776,
             0.9287331728
            ]
           },
           {
            "iteration": 682,
            "learn": [
             1343.374293,
             0.9569358162
            ],
            "passed_time": 37.71889626,
            "remaining_time": 238.4077235,
            "test": [
             1691.278988,
             0.928739728
            ]
           },
           {
            "iteration": 683,
            "learn": [
             1343.321046,
             0.9569392301
            ],
            "passed_time": 37.77049527,
            "remaining_time": 238.3296163,
            "test": [
             1691.280049,
             0.9287396386
            ]
           },
           {
            "iteration": 684,
            "learn": [
             1342.961342,
             0.9569622879
            ],
            "passed_time": 37.82024048,
            "remaining_time": 238.239909,
            "test": [
             1691.170434,
             0.9287488753
            ]
           },
           {
            "iteration": 685,
            "learn": [
             1342.607898,
             0.9569849385
            ],
            "passed_time": 37.86999004,
            "remaining_time": 238.1503456,
            "test": [
             1691.166762,
             0.9287491847
            ]
           },
           {
            "iteration": 686,
            "learn": [
             1342.190173,
             0.9570117008
            ],
            "passed_time": 37.92147618,
            "remaining_time": 238.0718002,
            "test": [
             1691.092664,
             0.9287554282
            ]
           },
           {
            "iteration": 687,
            "learn": [
             1341.897505,
             0.9570304462
            ],
            "passed_time": 37.96552172,
            "remaining_time": 237.9467001,
            "test": [
             1690.930459,
             0.9287690947
            ]
           },
           {
            "iteration": 688,
            "learn": [
             1341.601515,
             0.9570494002
            ],
            "passed_time": 38.0143021,
            "remaining_time": 237.8514606,
            "test": [
             1690.95765,
             0.9287668039
            ]
           },
           {
            "iteration": 689,
            "learn": [
             1341.123734,
             0.9570799865
            ],
            "passed_time": 38.10467632,
            "remaining_time": 238.0161666,
            "test": [
             1690.586537,
             0.9287980674
            ]
           },
           {
            "iteration": 690,
            "learn": [
             1340.936432,
             0.9570919741
            ],
            "passed_time": 38.18583151,
            "remaining_time": 238.1226454,
            "test": [
             1690.611672,
             0.9287959502
            ]
           },
           {
            "iteration": 691,
            "learn": [
             1340.90016,
             0.9570942954
            ],
            "passed_time": 38.23611494,
            "remaining_time": 238.0363918,
            "test": [
             1690.574889,
             0.9287990486
            ]
           },
           {
            "iteration": 692,
            "learn": [
             1340.68209,
             0.9571082497
            ],
            "passed_time": 38.29050683,
            "remaining_time": 237.9757762,
            "test": [
             1690.651496,
             0.9287925956
            ]
           },
           {
            "iteration": 693,
            "learn": [
             1340.246245,
             0.9571361327
            ],
            "passed_time": 38.34423001,
            "remaining_time": 237.9110294,
            "test": [
             1690.426169,
             0.9288115751
            ]
           },
           {
            "iteration": 694,
            "learn": [
             1339.740334,
             0.9571684868
            ],
            "passed_time": 38.39826519,
            "remaining_time": 237.8482469,
            "test": [
             1690.321206,
             0.9288204154
            ]
           },
           {
            "iteration": 695,
            "learn": [
             1339.094067,
             0.9572097992
            ],
            "passed_time": 38.46165071,
            "remaining_time": 237.8433113,
            "test": [
             1690.211428,
             0.9288296606
            ]
           },
           {
            "iteration": 696,
            "learn": [
             1339.036501,
             0.9572134781
            ],
            "passed_time": 38.51776897,
            "remaining_time": 237.7933428,
            "test": [
             1690.200743,
             0.9288305605
            ]
           },
           {
            "iteration": 697,
            "learn": [
             1338.770954,
             0.9572304465
            ],
            "passed_time": 38.57374,
            "remaining_time": 237.7424491,
            "test": [
             1690.135045,
             0.9288360931
            ]
           },
           {
            "iteration": 698,
            "learn": [
             1338.684957,
             0.957235941
            ],
            "passed_time": 38.63858518,
            "remaining_time": 237.7461443,
            "test": [
             1690.132111,
             0.9288363401
            ]
           },
           {
            "iteration": 699,
            "learn": [
             1338.148329,
             0.9572702191
            ],
            "passed_time": 38.69294141,
            "remaining_time": 237.6852115,
            "test": [
             1690.112433,
             0.9288379972
            ]
           },
           {
            "iteration": 700,
            "learn": [
             1337.392721,
             0.9573184617
            ],
            "passed_time": 38.74315487,
            "remaining_time": 237.5988913,
            "test": [
             1690.04236,
             0.928843898
            ]
           },
           {
            "iteration": 701,
            "learn": [
             1337.184198,
             0.9573317703
            ],
            "passed_time": 38.80040442,
            "remaining_time": 237.5557524,
            "test": [
             1689.861989,
             0.9288590855
            ]
           },
           {
            "iteration": 702,
            "learn": [
             1337.035803,
             0.95734124
            ],
            "passed_time": 38.85849138,
            "remaining_time": 237.517692,
            "test": [
             1689.807718,
             0.9288636549
            ]
           },
           {
            "iteration": 703,
            "learn": [
             1336.504178,
             0.9573751568
            ],
            "passed_time": 38.90390762,
            "remaining_time": 237.4022545,
            "test": [
             1689.879796,
             0.9288575862
            ]
           },
           {
            "iteration": 704,
            "learn": [
             1335.755405,
             0.9574229043
            ],
            "passed_time": 38.95597349,
            "remaining_time": 237.3275264,
            "test": [
             1689.695115,
             0.9288731351
            ]
           },
           {
            "iteration": 705,
            "learn": [
             1335.501659,
             0.957439079
            ],
            "passed_time": 39.00011569,
            "remaining_time": 237.2046697,
            "test": [
             1689.739804,
             0.9288693728
            ]
           },
           {
            "iteration": 706,
            "learn": [
             1335.201416,
             0.9574582137
            ],
            "passed_time": 39.05242093,
            "remaining_time": 237.1316026,
            "test": [
             1689.948078,
             0.9288518368
            ]
           },
           {
            "iteration": 707,
            "learn": [
             1334.700363,
             0.9574901365
            ],
            "passed_time": 39.10131038,
            "remaining_time": 237.0378872,
            "test": [
             1689.717596,
             0.9288712425
            ]
           },
           {
            "iteration": 708,
            "learn": [
             1334.584807,
             0.957497497
            ],
            "passed_time": 39.22504953,
            "remaining_time": 237.3973026,
            "test": [
             1689.689265,
             0.9288736276
            ]
           },
           {
            "iteration": 709,
            "learn": [
             1334.221195,
             0.9575206538
            ],
            "passed_time": 39.27805461,
            "remaining_time": 237.3279637,
            "test": [
             1689.624533,
             0.9288790773
            ]
           },
           {
            "iteration": 710,
            "learn": [
             1334.116855,
             0.9575272975
            ],
            "passed_time": 39.33618041,
            "remaining_time": 237.2895608,
            "test": [
             1689.686463,
             0.9288738635
            ]
           },
           {
            "iteration": 711,
            "learn": [
             1333.789719,
             0.9575481242
            ],
            "passed_time": 39.38936557,
            "remaining_time": 237.2213477,
            "test": [
             1689.40546,
             0.9288975188
            ]
           },
           {
            "iteration": 712,
            "learn": [
             1333.385337,
             0.9575738617
            ],
            "passed_time": 39.44160421,
            "remaining_time": 237.1474856,
            "test": [
             1689.118568,
             0.9289216657
            ]
           },
           {
            "iteration": 713,
            "learn": [
             1333.214893,
             0.9575847075
            ],
            "passed_time": 39.49142192,
            "remaining_time": 237.0591517,
            "test": [
             1689.134639,
             0.9289203132
            ]
           },
           {
            "iteration": 714,
            "learn": [
             1333.016967,
             0.9575973003
            ],
            "passed_time": 39.54533444,
            "remaining_time": 236.9954658,
            "test": [
             1689.158462,
             0.9289183083
            ]
           },
           {
            "iteration": 715,
            "learn": [
             1332.429438,
             0.9576346702
            ],
            "passed_time": 39.60040926,
            "remaining_time": 236.9387616,
            "test": [
             1689.304162,
             0.9289060452
            ]
           },
           {
            "iteration": 716,
            "learn": [
             1332.205227,
             0.9576489268
            ],
            "passed_time": 39.66014701,
            "remaining_time": 236.9099158,
            "test": [
             1689.180052,
             0.9289164911
            ]
           },
           {
            "iteration": 717,
            "learn": [
             1331.81999,
             0.9576734168
            ],
            "passed_time": 39.71563836,
            "remaining_time": 236.8556594,
            "test": [
             1689.222442,
             0.9289129235
            ]
           },
           {
            "iteration": 718,
            "learn": [
             1331.534885,
             0.9576915367
            ],
            "passed_time": 39.76715767,
            "remaining_time": 236.7777497,
            "test": [
             1688.999231,
             0.9289317088
            ]
           },
           {
            "iteration": 719,
            "learn": [
             1331.195466,
             0.9577131035
            ],
            "passed_time": 39.8185737,
            "remaining_time": 236.6992992,
            "test": [
             1689.058163,
             0.9289267493
            ]
           },
           {
            "iteration": 720,
            "learn": [
             1330.972751,
             0.9577272519
            ],
            "passed_time": 39.8765446,
            "remaining_time": 236.6598257,
            "test": [
             1689.018363,
             0.9289300988
            ]
           },
           {
            "iteration": 721,
            "learn": [
             1330.59479,
             0.9577512572
            ],
            "passed_time": 39.93236706,
            "remaining_time": 236.607571,
            "test": [
             1688.746393,
             0.9289529847
            ]
           },
           {
            "iteration": 722,
            "learn": [
             1330.142466,
             0.9577799765
            ],
            "passed_time": 39.97964028,
            "remaining_time": 236.5047323,
            "test": [
             1688.627758,
             0.9289629665
            ]
           },
           {
            "iteration": 723,
            "learn": [
             1329.265087,
             0.9578356558
            ],
            "passed_time": 40.03661698,
            "remaining_time": 236.4593567,
            "test": [
             1688.381937,
             0.9289836473
            ]
           },
           {
            "iteration": 724,
            "learn": [
             1328.794118,
             0.9578655288
            ],
            "passed_time": 40.08634504,
            "remaining_time": 236.371207,
            "test": [
             1688.587318,
             0.9289663689
            ]
           },
           {
            "iteration": 725,
            "learn": [
             1328.175138,
             0.9579047739
            ],
            "passed_time": 40.13784815,
            "remaining_time": 236.2936129,
            "test": [
             1688.335611,
             0.9289875444
            ]
           },
           {
            "iteration": 726,
            "learn": [
             1327.97418,
             0.9579175113
            ],
            "passed_time": 40.25124091,
            "remaining_time": 236.579852,
            "test": [
             1688.226006,
             0.9289967642
            ]
           },
           {
            "iteration": 727,
            "learn": [
             1327.425411,
             0.9579522842
            ],
            "passed_time": 40.30290808,
            "remaining_time": 236.5027793,
            "test": [
             1688.055727,
             0.9290110866
            ]
           },
           {
            "iteration": 728,
            "learn": [
             1327.272204,
             0.9579619897
            ],
            "passed_time": 40.35583044,
            "remaining_time": 236.4331301,
            "test": [
             1688.010763,
             0.9290148683
            ]
           },
           {
            "iteration": 729,
            "learn": [
             1326.960591,
             0.9579817265
            ],
            "passed_time": 40.40669849,
            "remaining_time": 236.3515103,
            "test": [
             1687.866201,
             0.9290270262
            ]
           },
           {
            "iteration": 730,
            "learn": [
             1326.783428,
             0.9579929455
            ],
            "passed_time": 40.46486406,
            "remaining_time": 236.3125919,
            "test": [
             1687.927207,
             0.9290218957
            ]
           },
           {
            "iteration": 731,
            "learn": [
             1325.935415,
             0.9580466259
            ],
            "passed_time": 40.52011425,
            "remaining_time": 236.2566224,
            "test": [
             1687.94061,
             0.9290207685
            ]
           },
           {
            "iteration": 732,
            "learn": [
             1325.640577,
             0.9580652816
            ],
            "passed_time": 40.57123322,
            "remaining_time": 236.1766059,
            "test": [
             1687.756024,
             0.9290362916
            ]
           },
           {
            "iteration": 733,
            "learn": [
             1325.148534,
             0.9580964059
            ],
            "passed_time": 40.62077549,
            "remaining_time": 236.0875044,
            "test": [
             1687.944588,
             0.9290204339
            ]
           },
           {
            "iteration": 734,
            "learn": [
             1325.087672,
             0.958100255
            ],
            "passed_time": 40.68593853,
            "remaining_time": 236.0891535,
            "test": [
             1687.882165,
             0.9290256837
            ]
           },
           {
            "iteration": 735,
            "learn": [
             1325.009037,
             0.9581052277
            ],
            "passed_time": 40.73051814,
            "remaining_time": 235.9713714,
            "test": [
             1687.913005,
             0.9290230901
            ]
           },
           {
            "iteration": 736,
            "learn": [
             1324.129605,
             0.9581608219
            ],
            "passed_time": 40.78438178,
            "remaining_time": 235.9074892,
            "test": [
             1687.634042,
             0.9290465489
            ]
           },
           {
            "iteration": 737,
            "learn": [
             1323.32814,
             0.9582114551
            ],
            "passed_time": 40.83613658,
            "remaining_time": 235.8314554,
            "test": [
             1687.029226,
             0.9290973966
            ]
           },
           {
            "iteration": 738,
            "learn": [
             1322.884748,
             0.9582394536
            ],
            "passed_time": 40.88780221,
            "remaining_time": 235.7549732,
            "test": [
             1686.893681,
             0.9291087895
            ]
           },
           {
            "iteration": 739,
            "learn": [
             1322.708326,
             0.9582505914
            ],
            "passed_time": 40.94194212,
            "remaining_time": 235.6928019,
            "test": [
             1686.886692,
             0.9291093769
            ]
           },
           {
            "iteration": 740,
            "learn": [
             1322.629897,
             0.9582555422
            ],
            "passed_time": 40.9944068,
            "remaining_time": 235.6210237,
            "test": [
             1686.877513,
             0.9291101485
            ]
           },
           {
            "iteration": 741,
            "learn": [
             1322.215218,
             0.9582817141
            ],
            "passed_time": 41.05163861,
            "remaining_time": 235.5766539,
            "test": [
             1686.657819,
             0.9291286122
            ]
           },
           {
            "iteration": 742,
            "learn": [
             1321.517576,
             0.9583257262
            ],
            "passed_time": 41.10448467,
            "remaining_time": 235.5071215,
            "test": [
             1686.457153,
             0.9291454747
            ]
           },
           {
            "iteration": 743,
            "learn": [
             1321.374523,
             0.9583347481
            ],
            "passed_time": 41.16216526,
            "remaining_time": 235.4652895,
            "test": [
             1686.468233,
             0.9291445437
            ]
           },
           {
            "iteration": 744,
            "learn": [
             1320.705543,
             0.9583769257
            ],
            "passed_time": 41.21425519,
            "remaining_time": 235.3914843,
            "test": [
             1686.35297,
             0.9291542287
            ]
           },
           {
            "iteration": 745,
            "learn": [
             1320.546721,
             0.9583869359
            ],
            "passed_time": 41.32236757,
            "remaining_time": 235.6372006,
            "test": [
             1686.292175,
             0.9291593368
            ]
           },
           {
            "iteration": 746,
            "learn": [
             1320.169282,
             0.9584107202
            ],
            "passed_time": 41.37455859,
            "remaining_time": 235.5635846,
            "test": [
             1686.08479,
             0.92917676
            ]
           },
           {
            "iteration": 747,
            "learn": [
             1319.77211,
             0.9584357407
            ],
            "passed_time": 41.42168945,
            "remaining_time": 235.4612614,
            "test": [
             1686.039768,
             0.9291805423
            ]
           },
           {
            "iteration": 748,
            "learn": [
             1319.306101,
             0.958465088
            ],
            "passed_time": 41.47049673,
            "remaining_time": 235.3686003,
            "test": [
             1685.931325,
             0.9291896519
            ]
           },
           {
            "iteration": 749,
            "learn": [
             1318.209487,
             0.9585341073
            ],
            "passed_time": 41.53341524,
            "remaining_time": 235.3560197,
            "test": [
             1686.119374,
             0.9291738547
            ]
           },
           {
            "iteration": 750,
            "learn": [
             1317.94763,
             0.9585505798
            ],
            "passed_time": 41.57994671,
            "remaining_time": 235.2505906,
            "test": [
             1686.145971,
             0.9291716202
            ]
           },
           {
            "iteration": 751,
            "learn": [
             1317.876908,
             0.9585550281
            ],
            "passed_time": 41.63493657,
            "remaining_time": 235.1930992,
            "test": [
             1686.146143,
             0.9291716057
            ]
           },
           {
            "iteration": 752,
            "learn": [
             1317.685192,
             0.9585670854
            ],
            "passed_time": 41.69030224,
            "remaining_time": 235.1377339,
            "test": [
             1686.199621,
             0.9291671128
            ]
           },
           {
            "iteration": 753,
            "learn": [
             1317.257472,
             0.9585939793
            ],
            "passed_time": 41.73826177,
            "remaining_time": 235.0406624,
            "test": [
             1686.00607,
             0.9291833731
            ]
           },
           {
            "iteration": 754,
            "learn": [
             1317.026662,
             0.9586084884
            ],
            "passed_time": 41.79333263,
            "remaining_time": 234.9837047,
            "test": [
             1686.111409,
             0.9291745237
            ]
           },
           {
            "iteration": 755,
            "learn": [
             1316.317284,
             0.9586530651
            ],
            "passed_time": 41.84311512,
            "remaining_time": 234.8970642,
            "test": [
             1685.945807,
             0.9291884354
            ]
           },
           {
            "iteration": 756,
            "learn": [
             1316.056744,
             0.9586694311
            ],
            "passed_time": 41.89470815,
            "remaining_time": 234.8206693,
            "test": [
             1686.013898,
             0.9291827155
            ]
           },
           {
            "iteration": 757,
            "learn": [
             1315.688489,
             0.9586925578
            ],
            "passed_time": 41.9418939,
            "remaining_time": 234.7196754,
            "test": [
             1685.993333,
             0.9291844431
            ]
           },
           {
            "iteration": 758,
            "learn": [
             1315.624809,
             0.9586965563
            ],
            "passed_time": 41.99374257,
            "remaining_time": 234.6448778,
            "test": [
             1685.99695,
             0.9291841392
            ]
           },
           {
            "iteration": 759,
            "learn": [
             1315.481159,
             0.9587055755
            ],
            "passed_time": 42.04475369,
            "remaining_time": 234.565468,
            "test": [
             1686.025748,
             0.92918172
            ]
           },
           {
            "iteration": 760,
            "learn": [
             1315.22274,
             0.958721798
            ],
            "passed_time": 42.09347595,
            "remaining_time": 234.4733831,
            "test": [
             1686.079236,
             0.9291772267
            ]
           },
           {
            "iteration": 761,
            "learn": [
             1315.067066,
             0.9587315691
            ],
            "passed_time": 42.14462553,
            "remaining_time": 234.3949121,
            "test": [
             1686.215375,
             0.9291657893
            ]
           },
           {
            "iteration": 762,
            "learn": [
             1314.874805,
             0.958743635
            ],
            "passed_time": 42.19817158,
            "remaining_time": 234.3298204,
            "test": [
             1686.222877,
             0.929165159
            ]
           },
           {
            "iteration": 763,
            "learn": [
             1314.682887,
             0.9587556776
            ],
            "passed_time": 42.24998435,
            "remaining_time": 234.2551488,
            "test": [
             1686.381583,
             0.9291518246
            ]
           },
           {
            "iteration": 764,
            "learn": [
             1314.278834,
             0.9587810257
            ],
            "passed_time": 42.35608037,
            "remaining_time": 234.4810462,
            "test": [
             1686.359597,
             0.9291536719
            ]
           },
           {
            "iteration": 765,
            "learn": [
             1313.909869,
             0.9588041657
            ],
            "passed_time": 42.41176,
            "remaining_time": 234.4274045,
            "test": [
             1686.406916,
             0.9291496959
            ]
           },
           {
            "iteration": 766,
            "learn": [
             1313.383863,
             0.9588371434
            ],
            "passed_time": 42.46835818,
            "remaining_time": 234.3788268,
            "test": [
             1686.579721,
             0.9291351753
            ]
           },
           {
            "iteration": 767,
            "learn": [
             1313.115467,
             0.9588539654
            ],
            "passed_time": 42.51893813,
            "remaining_time": 234.2970653,
            "test": [
             1686.53545,
             0.9291388954
            ]
           },
           {
            "iteration": 768,
            "learn": [
             1312.873416,
             0.9588691332
            ],
            "passed_time": 42.57733598,
            "remaining_time": 234.2583986,
            "test": [
             1686.380369,
             0.9291519266
            ]
           },
           {
            "iteration": 769,
            "learn": [
             1312.696349,
             0.958880227
            ],
            "passed_time": 42.62922678,
            "remaining_time": 234.1839341,
            "test": [
             1686.287229,
             0.9291597523
            ]
           },
           {
            "iteration": 770,
            "learn": [
             1312.401081,
             0.9588987233
            ],
            "passed_time": 42.69217543,
            "remaining_time": 234.1701814,
            "test": [
             1686.116621,
             0.9291740859
            ]
           },
           {
            "iteration": 771,
            "learn": [
             1312.299994,
             0.9589050546
            ],
            "passed_time": 42.73484313,
            "remaining_time": 234.045229,
            "test": [
             1686.066695,
             0.9291782802
            ]
           },
           {
            "iteration": 772,
            "learn": [
             1312.023155,
             0.9589223914
            ],
            "passed_time": 42.79430436,
            "remaining_time": 234.0123215,
            "test": [
             1685.900552,
             0.9291922369
            ]
           },
           {
            "iteration": 773,
            "learn": [
             1311.565323,
             0.9589510546
            ],
            "passed_time": 42.84130483,
            "remaining_time": 233.9113104,
            "test": [
             1686.045988,
             0.9291800197
            ]
           },
           {
            "iteration": 774,
            "learn": [
             1310.92883,
             0.9589908864
            ],
            "passed_time": 42.89177996,
            "remaining_time": 233.8293811,
            "test": [
             1685.786379,
             0.9292018271
            ]
           },
           {
            "iteration": 775,
            "learn": [
             1310.81789,
             0.958997827
            ],
            "passed_time": 42.94373872,
            "remaining_time": 233.7556087,
            "test": [
             1685.781111,
             0.9292022695
            ]
           },
           {
            "iteration": 776,
            "learn": [
             1310.306193,
             0.9590298324
            ],
            "passed_time": 42.99275712,
            "remaining_time": 233.6659116,
            "test": [
             1685.660165,
             0.929212428
            ]
           },
           {
            "iteration": 777,
            "learn": [
             1309.965971,
             0.9590511055
            ],
            "passed_time": 43.04027911,
            "remaining_time": 233.5681984,
            "test": [
             1685.67208,
             0.9292114272
            ]
           },
           {
            "iteration": 778,
            "learn": [
             1309.790443,
             0.9590620786
            ],
            "passed_time": 43.09188327,
            "remaining_time": 233.4927334,
            "test": [
             1685.531963,
             0.9292231949
            ]
           },
           {
            "iteration": 779,
            "learn": [
             1309.50183,
             0.959080118
            ],
            "passed_time": 43.13964649,
            "remaining_time": 233.396549,
            "test": [
             1685.464428,
             0.9292288666
            ]
           },
           {
            "iteration": 780,
            "learn": [
             1309.28438,
             0.9590937068
            ],
            "passed_time": 43.19899003,
            "remaining_time": 233.363046,
            "test": [
             1685.354781,
             0.9292380742
            ]
           },
           {
            "iteration": 781,
            "learn": [
             1309.11589,
             0.9591042345
            ],
            "passed_time": 43.25939468,
            "remaining_time": 233.3352005,
            "test": [
             1685.212472,
             0.9292500237
            ]
           },
           {
            "iteration": 782,
            "learn": [
             1308.75895,
             0.9591265325
            ],
            "passed_time": 43.30981256,
            "remaining_time": 233.253486,
            "test": [
             1685.094646,
             0.9292599168
            ]
           },
           {
            "iteration": 783,
            "learn": [
             1308.04747,
             0.9591709605
            ],
            "passed_time": 43.4223863,
            "remaining_time": 233.5060977,
            "test": [
             1685.058367,
             0.9292629627
            ]
           },
           {
            "iteration": 784,
            "learn": [
             1307.752334,
             0.959189383
            ],
            "passed_time": 43.47621302,
            "remaining_time": 233.4423413,
            "test": [
             1685.089776,
             0.9292603256
            ]
           },
           {
            "iteration": 785,
            "learn": [
             1307.532689,
             0.9592030906
            ],
            "passed_time": 43.52507508,
            "remaining_time": 233.3519929,
            "test": [
             1685.15587,
             0.9292547763
            ]
           },
           {
            "iteration": 786,
            "learn": [
             1306.799926,
             0.9592488043
            ],
            "passed_time": 43.57372074,
            "remaining_time": 233.2605914,
            "test": [
             1684.96166,
             0.9292710818
            ]
           },
           {
            "iteration": 787,
            "learn": [
             1306.397865,
             0.9592738762
            ],
            "passed_time": 43.62618871,
            "remaining_time": 233.1897295,
            "test": [
             1684.973434,
             0.9292700933
            ]
           },
           {
            "iteration": 788,
            "learn": [
             1306.331368,
             0.9592780221
            ],
            "passed_time": 43.68464116,
            "remaining_time": 233.1508542,
            "test": [
             1684.8141,
             0.9292834693
            ]
           },
           {
            "iteration": 789,
            "learn": [
             1305.818819,
             0.959309971
            ],
            "passed_time": 43.73854565,
            "remaining_time": 233.0876926,
            "test": [
             1684.88724,
             0.9292773294
            ]
           },
           {
            "iteration": 790,
            "learn": [
             1305.422782,
             0.9593346487
            ],
            "passed_time": 43.79373305,
            "remaining_time": 233.0313811,
            "test": [
             1684.888162,
             0.929277252
            ]
           },
           {
            "iteration": 791,
            "learn": [
             1304.891265,
             0.9593677566
            ],
            "passed_time": 43.83967234,
            "remaining_time": 232.9259359,
            "test": [
             1684.704467,
             0.9292926722
            ]
           },
           {
            "iteration": 792,
            "learn": [
             1304.629996,
             0.959384026
            ],
            "passed_time": 43.89345555,
            "remaining_time": 232.8622541,
            "test": [
             1684.571028,
             0.9293038728
            ]
           },
           {
            "iteration": 793,
            "learn": [
             1304.333202,
             0.9594025035
            ],
            "passed_time": 43.94511074,
            "remaining_time": 232.7873247,
            "test": [
             1684.770368,
             0.9292871404
            ]
           },
           {
            "iteration": 794,
            "learn": [
             1304.155623,
             0.9594135572
            ],
            "passed_time": 43.99375871,
            "remaining_time": 232.6965476,
            "test": [
             1684.721813,
             0.9292912162
            ]
           },
           {
            "iteration": 795,
            "learn": [
             1303.680171,
             0.9594431447
            ],
            "passed_time": 44.04414341,
            "remaining_time": 232.6150489,
            "test": [
             1684.975727,
             0.9292699008
            ]
           },
           {
            "iteration": 796,
            "learn": [
             1303.205525,
             0.9594726713
            ],
            "passed_time": 44.09303364,
            "remaining_time": 232.525747,
            "test": [
             1685.0302,
             0.9292653275
            ]
           },
           {
            "iteration": 797,
            "learn": [
             1302.836748,
             0.9594956047
            ],
            "passed_time": 44.13207789,
            "remaining_time": 232.3847008,
            "test": [
             1684.963614,
             0.9292709177
            ]
           },
           {
            "iteration": 798,
            "learn": [
             1302.491878,
             0.9595170454
            ],
            "passed_time": 44.18360799,
            "remaining_time": 232.3095584,
            "test": [
             1685.067884,
             0.9292621637
            ]
           },
           {
            "iteration": 799,
            "learn": [
             1302.142303,
             0.9595387729
            ],
            "passed_time": 44.24155137,
            "remaining_time": 232.2681447,
            "test": [
             1685.325539,
             0.9292405297
            ]
           },
           {
            "iteration": 800,
            "learn": [
             1301.768,
             0.9595620308
            ],
            "passed_time": 44.28949126,
            "remaining_time": 232.1742494,
            "test": [
             1685.320387,
             0.9292409623
            ]
           },
           {
            "iteration": 801,
            "learn": [
             1301.706734,
             0.9595658371
            ],
            "passed_time": 44.33599792,
            "remaining_time": 232.0729667,
            "test": [
             1685.325766,
             0.9292405106
            ]
           },
           {
            "iteration": 802,
            "learn": [
             1301.440732,
             0.9595823607
            ],
            "passed_time": 44.40511438,
            "remaining_time": 232.0899938,
            "test": [
             1685.32458,
             0.9292406102
            ]
           },
           {
            "iteration": 803,
            "learn": [
             1300.444096,
             0.9596442402
            ],
            "passed_time": 44.49674514,
            "remaining_time": 232.2243067,
            "test": [
             1685.243522,
             0.9292474166
            ]
           },
           {
            "iteration": 804,
            "learn": [
             1300.209043,
             0.9596588274
            ],
            "passed_time": 44.5526423,
            "remaining_time": 232.171844,
            "test": [
             1685.162192,
             0.9292542455
            ]
           },
           {
            "iteration": 805,
            "learn": [
             1299.646472,
             0.9596937292
            ],
            "passed_time": 44.61214859,
            "remaining_time": 232.1381528,
            "test": [
             1684.595653,
             0.9293018058
            ]
           },
           {
            "iteration": 806,
            "learn": [
             1299.449469,
             0.9597059477
            ],
            "passed_time": 44.67619135,
            "remaining_time": 232.1279682,
            "test": [
             1684.367764,
             0.9293209325
            ]
           },
           {
            "iteration": 807,
            "learn": [
             1299.158072,
             0.9597240173
            ],
            "passed_time": 44.73384964,
            "remaining_time": 232.0845268,
            "test": [
             1684.182339,
             0.9293364931
            ]
           },
           {
            "iteration": 808,
            "learn": [
             1298.563146,
             0.9597608962
            ],
            "passed_time": 44.78928108,
            "remaining_time": 232.0295142,
            "test": [
             1683.894762,
             0.9293606229
            ]
           },
           {
            "iteration": 809,
            "learn": [
             1297.919104,
             0.9598008007
            ],
            "passed_time": 44.83756214,
            "remaining_time": 231.9375128,
            "test": [
             1684.031957,
             0.9293491118
            ]
           },
           {
            "iteration": 810,
            "learn": [
             1297.670385,
             0.9598162058
            ],
            "passed_time": 44.8965612,
            "remaining_time": 231.9009801,
            "test": [
             1683.940306,
             0.9293568016
            ]
           },
           {
            "iteration": 811,
            "learn": [
             1297.370989,
             0.959834746
            ],
            "passed_time": 44.95495643,
            "remaining_time": 231.8612777,
            "test": [
             1683.895373,
             0.9293605716
            ]
           },
           {
            "iteration": 812,
            "learn": [
             1297.325001,
             0.9598375934
            ],
            "passed_time": 45.00952267,
            "remaining_time": 231.8018098,
            "test": [
             1683.890021,
             0.9293610206
            ]
           },
           {
            "iteration": 813,
            "learn": [
             1297.004759,
             0.959857419
            ],
            "passed_time": 45.06498839,
            "remaining_time": 231.7469796,
            "test": [
             1683.939353,
             0.9293568816
            ]
           },
           {
            "iteration": 814,
            "learn": [
             1296.873767,
             0.959865527
            ],
            "passed_time": 45.12369663,
            "remaining_time": 231.708798,
            "test": [
             1683.971565,
             0.9293541789
            ]
           },
           {
            "iteration": 815,
            "learn": [
             1296.768528,
             0.9598720405
            ],
            "passed_time": 45.17508073,
            "remaining_time": 231.633012,
            "test": [
             1683.903907,
             0.9293598556
            ]
           },
           {
            "iteration": 816,
            "learn": [
             1296.480304,
             0.9598898764
            ],
            "passed_time": 45.22562592,
            "remaining_time": 231.5529905,
            "test": [
             1683.764488,
             0.9293715524
            ]
           },
           {
            "iteration": 817,
            "learn": [
             1296.164767,
             0.959909398
            ],
            "passed_time": 45.2892994,
            "remaining_time": 231.540159,
            "test": [
             1683.648478,
             0.9293812846
            ]
           },
           {
            "iteration": 818,
            "learn": [
             1296.020964,
             0.9599182932
            ],
            "passed_time": 45.34197457,
            "remaining_time": 231.471057,
            "test": [
             1683.428964,
             0.9293996979
            ]
           },
           {
            "iteration": 819,
            "learn": [
             1295.881853,
             0.9599268973
            ],
            "passed_time": 45.40299491,
            "remaining_time": 231.444535,
            "test": [
             1683.40036,
             0.9294020971
            ]
           },
           {
            "iteration": 820,
            "learn": [
             1295.219031,
             0.9599678803
            ],
            "passed_time": 45.50658849,
            "remaining_time": 231.6346325,
            "test": [
             1683.270397,
             0.9294129974
            ]
           },
           {
            "iteration": 821,
            "learn": [
             1294.944067,
             0.9599848754
            ],
            "passed_time": 45.57650198,
            "remaining_time": 231.6528288,
            "test": [
             1683.207583,
             0.9294182654
            ]
           },
           {
            "iteration": 822,
            "learn": [
             1294.590787,
             0.9600067058
            ],
            "passed_time": 45.63432696,
            "remaining_time": 231.6094577,
            "test": [
             1683.005074,
             0.9294352479
            ]
           },
           {
            "iteration": 823,
            "learn": [
             1294.505525,
             0.9600119736
            ],
            "passed_time": 45.68656936,
            "remaining_time": 231.5377593,
            "test": [
             1683.097591,
             0.9294274897
            ]
           },
           {
            "iteration": 824,
            "learn": [
             1294.384968,
             0.9600194214
            ],
            "passed_time": 45.73314112,
            "remaining_time": 231.4374111,
            "test": [
             1683.093888,
             0.9294278002
            ]
           },
           {
            "iteration": 825,
            "learn": [
             1294.280199,
             0.9600258933
            ],
            "passed_time": 45.7735698,
            "remaining_time": 231.3061505,
            "test": [
             1683.081799,
             0.929428814
            ]
           },
           {
            "iteration": 826,
            "learn": [
             1293.716871,
             0.9600606828
            ],
            "passed_time": 45.82471106,
            "remaining_time": 231.2291647,
            "test": [
             1683.336606,
             0.9294074444
            ]
           },
           {
            "iteration": 827,
            "learn": [
             1293.390587,
             0.9600808261
            ],
            "passed_time": 45.87473363,
            "remaining_time": 231.1466047,
            "test": [
             1683.395641,
             0.9294024929
            ]
           },
           {
            "iteration": 828,
            "learn": [
             1293.053813,
             0.9601016118
            ],
            "passed_time": 45.92953908,
            "remaining_time": 231.0881876,
            "test": [
             1683.522558,
             0.9293918473
            ]
           },
           {
            "iteration": 829,
            "learn": [
             1292.792108,
             0.9601177604
            ],
            "passed_time": 45.97945448,
            "remaining_time": 231.0052111,
            "test": [
             1683.709897,
             0.9293761322
            ]
           },
           {
            "iteration": 830,
            "learn": [
             1292.662417,
             0.9601257619
            ],
            "passed_time": 46.03174625,
            "remaining_time": 230.934236,
            "test": [
             1683.72882,
             0.9293745447
            ]
           },
           {
            "iteration": 831,
            "learn": [
             1292.307662,
             0.9601476449
            ],
            "passed_time": 46.08602481,
            "remaining_time": 230.8732589,
            "test": [
             1683.514876,
             0.9293924917
            ]
           },
           {
            "iteration": 832,
            "learn": [
             1292.191546,
             0.9601548062
            ],
            "passed_time": 46.13423384,
            "remaining_time": 230.7819357,
            "test": [
             1683.416549,
             0.9294007393
            ]
           },
           {
            "iteration": 833,
            "learn": [
             1291.462019,
             0.9601997839
            ],
            "passed_time": 46.18255232,
            "remaining_time": 230.6912625,
            "test": [
             1683.521449,
             0.9293919403
            ]
           },
           {
            "iteration": 834,
            "learn": [
             1291.316653,
             0.9602087432
            ],
            "passed_time": 46.23364594,
            "remaining_time": 230.6145334,
            "test": [
             1683.546153,
             0.9293898681
            ]
           },
           {
            "iteration": 835,
            "learn": [
             1290.67727,
             0.9602481379
            ],
            "passed_time": 46.293163,
            "remaining_time": 230.5798214,
            "test": [
             1683.314886,
             0.9294092661
            ]
           },
           {
            "iteration": 836,
            "learn": [
             1290.173297,
             0.9602791758
            ],
            "passed_time": 46.34985392,
            "remaining_time": 230.5309939,
            "test": [
             1683.169125,
             0.9294214907
            ]
           },
           {
            "iteration": 837,
            "learn": [
             1288.951481,
             0.9603543728
            ],
            "passed_time": 46.40825695,
            "remaining_time": 230.4906508,
            "test": [
             1682.352676,
             0.9294899446
            ]
           },
           {
            "iteration": 838,
            "learn": [
             1288.11987,
             0.9604055137
            ],
            "passed_time": 46.4573395,
            "remaining_time": 230.4040401,
            "test": [
             1682.048261,
             0.9295154593
            ]
           },
           {
            "iteration": 839,
            "learn": [
             1287.324706,
             0.9604543825
            ],
            "passed_time": 46.54933945,
            "remaining_time": 230.530062,
            "test": [
             1681.802241,
             0.9295360763
            ]
           },
           {
            "iteration": 840,
            "learn": [
             1287.208647,
             0.9604615127
            ],
            "passed_time": 46.6301272,
            "remaining_time": 230.6001178,
            "test": [
             1681.81779,
             0.9295347733
            ]
           },
           {
            "iteration": 841,
            "learn": [
             1287.089375,
             0.9604688395
            ],
            "passed_time": 46.68058779,
            "remaining_time": 230.5200523,
            "test": [
             1681.818288,
             0.9295347316
            ]
           },
           {
            "iteration": 842,
            "learn": [
             1286.749687,
             0.9604897029
            ],
            "passed_time": 46.74396418,
            "remaining_time": 230.5037474,
            "test": [
             1681.800943,
             0.9295361851
            ]
           },
           {
            "iteration": 843,
            "learn": [
             1286.026256,
             0.960534117
            ],
            "passed_time": 46.79064197,
            "remaining_time": 230.4051043,
            "test": [
             1681.178943,
             0.9295882963
            ]
           },
           {
            "iteration": 844,
            "learn": [
             1285.871716,
             0.9605436016
            ],
            "passed_time": 46.84196155,
            "remaining_time": 230.3294086,
            "test": [
             1681.182013,
             0.9295880391
            ]
           },
           {
            "iteration": 845,
            "learn": [
             1285.732519,
             0.9605521435
            ],
            "passed_time": 46.89883886,
            "remaining_time": 230.2810598,
            "test": [
             1681.155217,
             0.9295902837
            ]
           },
           {
            "iteration": 846,
            "learn": [
             1285.199513,
             0.9605848433
            ],
            "passed_time": 46.9486264,
            "remaining_time": 230.1979285,
            "test": [
             1681.008398,
             0.9296025812
            ]
           },
           {
            "iteration": 847,
            "learn": [
             1284.561002,
             0.9606239979
            ],
            "passed_time": 47.00537602,
            "remaining_time": 230.1489637,
            "test": [
             1680.760215,
             0.9296233666
            ]
           },
           {
            "iteration": 848,
            "learn": [
             1283.96384,
             0.9606605994
            ],
            "passed_time": 47.05644451,
            "remaining_time": 230.072204,
            "test": [
             1680.696964,
             0.9296286634
            ]
           },
           {
            "iteration": 849,
            "learn": [
             1283.813743,
             0.9606697964
            ],
            "passed_time": 47.10766808,
            "remaining_time": 229.9962618,
            "test": [
             1680.734451,
             0.9296255241
            ]
           },
           {
            "iteration": 850,
            "learn": [
             1283.611532,
             0.9606821851
            ],
            "passed_time": 47.1657798,
            "remaining_time": 229.9539605,
            "test": [
             1680.629166,
             0.9296343407
            ]
           },
           {
            "iteration": 851,
            "learn": [
             1283.196718,
             0.960707593
            ],
            "passed_time": 47.21438549,
            "remaining_time": 229.8653416,
            "test": [
             1680.547757,
             0.9296411575
            ]
           },
           {
            "iteration": 852,
            "learn": [
             1282.961315,
             0.9607220081
            ],
            "passed_time": 47.26202802,
            "remaining_time": 229.7721339,
            "test": [
             1680.638158,
             0.9296335877
            ]
           },
           {
            "iteration": 853,
            "learn": [
             1282.668173,
             0.9607399552
            ],
            "passed_time": 47.32642926,
            "remaining_time": 229.7603931,
            "test": [
             1680.458488,
             0.929648632
            ]
           },
           {
            "iteration": 854,
            "learn": [
             1282.621284,
             0.9607428255
            ],
            "passed_time": 47.38304536,
            "remaining_time": 229.7107871,
            "test": [
             1680.451104,
             0.9296492503
            ]
           },
           {
            "iteration": 855,
            "learn": [
             1282.23849,
             0.9607662544
            ],
            "passed_time": 47.44851418,
            "remaining_time": 229.7040219,
            "test": [
             1680.406026,
             0.9296530246
            ]
           },
           {
            "iteration": 856,
            "learn": [
             1281.89203,
             0.9607874534
            ],
            "passed_time": 47.49742463,
            "remaining_time": 229.6170714,
            "test": [
             1680.393859,
             0.9296540433
            ]
           },
           {
            "iteration": 857,
            "learn": [
             1281.695543,
             0.9607994734
            ],
            "passed_time": 47.63787886,
            "remaining_time": 229.9721378,
            "test": [
             1680.408543,
             0.9296528138
            ]
           },
           {
            "iteration": 858,
            "learn": [
             1281.000457,
             0.9608419801
            ],
            "passed_time": 47.72744779,
            "remaining_time": 230.0807466,
            "test": [
             1680.327765,
             0.9296595769
            ]
           },
           {
            "iteration": 859,
            "learn": [
             1280.694956,
             0.9608606552
            ],
            "passed_time": 47.78174509,
            "remaining_time": 230.0190985,
            "test": [
             1680.393392,
             0.9296540823
            ]
           },
           {
            "iteration": 860,
            "learn": [
             1280.454653,
             0.9608753416
            ],
            "passed_time": 47.83071885,
            "remaining_time": 229.9318761,
            "test": [
             1680.356147,
             0.9296572007
            ]
           },
           {
            "iteration": 861,
            "learn": [
             1280.000021,
             0.9609031195
            ],
            "passed_time": 47.88347724,
            "remaining_time": 229.8629104,
            "test": [
             1680.22076,
             0.9296685353
            ]
           },
           {
            "iteration": 862,
            "learn": [
             1279.515187,
             0.9609327318
            ],
            "passed_time": 47.942356,
            "remaining_time": 229.8233219,
            "test": [
             1680.157768,
             0.9296738087
            ]
           },
           {
            "iteration": 863,
            "learn": [
             1279.099396,
             0.9609581183
            ],
            "passed_time": 47.99306625,
            "remaining_time": 229.7445857,
            "test": [
             1680.279722,
             0.9296635991
            ]
           },
           {
            "iteration": 864,
            "learn": [
             1278.301726,
             0.9610067976
            ],
            "passed_time": 48.0449948,
            "remaining_time": 229.6717382,
            "test": [
             1679.819218,
             0.9297021472
            ]
           },
           {
            "iteration": 865,
            "learn": [
             1277.985945,
             0.9610260603
            ],
            "passed_time": 48.09832527,
            "remaining_time": 229.6056313,
            "test": [
             1679.819936,
             0.929702087
            ]
           },
           {
            "iteration": 866,
            "learn": [
             1277.602956,
             0.9610494164
            ],
            "passed_time": 48.14937119,
            "remaining_time": 229.5286633,
            "test": [
             1679.572114,
             0.9297228275
            ]
           },
           {
            "iteration": 867,
            "learn": [
             1277.172609,
             0.9610756521
            ],
            "passed_time": 48.20273811,
            "remaining_time": 229.462804,
            "test": [
             1679.37849,
             0.9297390299
            ]
           },
           {
            "iteration": 868,
            "learn": [
             1276.440663,
             0.9611202544
            ],
            "passed_time": 48.2553399,
            "remaining_time": 229.3933361,
            "test": [
             1679.047636,
             0.9297667114
            ]
           },
           {
            "iteration": 869,
            "learn": [
             1275.73124,
             0.9611634597
            ],
            "passed_time": 48.31346562,
            "remaining_time": 229.3501299,
            "test": [
             1679.385451,
             0.9297384475
            ]
           },
           {
            "iteration": 870,
            "learn": [
             1275.54776,
             0.9611746301
            ],
            "passed_time": 48.36969525,
            "remaining_time": 229.2979009,
            "test": [
             1679.383622,
             0.9297386005
            ]
           },
           {
            "iteration": 871,
            "learn": [
             1275.054372,
             0.96120466
            ],
            "passed_time": 48.41968281,
            "remaining_time": 229.2161131,
            "test": [
             1678.646363,
             0.9298002773
            ]
           },
           {
            "iteration": 872,
            "learn": [
             1274.611627,
             0.9612315976
            ],
            "passed_time": 48.47774545,
            "remaining_time": 229.1725721,
            "test": [
             1678.761743,
             0.9297906267
            ]
           },
           {
            "iteration": 873,
            "learn": [
             1274.116172,
             0.9612617311
            ],
            "passed_time": 48.53209254,
            "remaining_time": 229.1114574,
            "test": [
             1678.758119,
             0.9297909299
            ]
           },
           {
            "iteration": 874,
            "learn": [
             1273.961626,
             0.9612711282
            ],
            "passed_time": 48.57986732,
            "remaining_time": 229.0193745,
            "test": [
             1678.787289,
             0.9297884899
            ]
           },
           {
            "iteration": 875,
            "learn": [
             1273.618487,
             0.9612919884
            ],
            "passed_time": 48.63446296,
            "remaining_time": 228.9595037,
            "test": [
             1678.465458,
             0.929815407
            ]
           },
           {
            "iteration": 876,
            "learn": [
             1273.48686,
             0.9612999889
            ],
            "passed_time": 48.7634726,
            "remaining_time": 229.2494841,
            "test": [
             1678.524451,
             0.9298104734
            ]
           },
           {
            "iteration": 877,
            "learn": [
             1273.278635,
             0.9613126433
            ],
            "passed_time": 48.81674119,
            "remaining_time": 229.1829239,
            "test": [
             1678.292538,
             0.9298298675
            ]
           },
           {
            "iteration": 878,
            "learn": [
             1273.149655,
             0.9613204808
            ],
            "passed_time": 48.86328216,
            "remaining_time": 229.084853,
            "test": [
             1678.293552,
             0.9298297827
            ]
           },
           {
            "iteration": 879,
            "learn": [
             1272.774126,
             0.9613432953
            ],
            "passed_time": 48.92375512,
            "remaining_time": 229.0521263,
            "test": [
             1678.381166,
             0.9298224561
            ]
           },
           {
            "iteration": 880,
            "learn": [
             1272.605321,
             0.9613535485
            ],
            "passed_time": 48.97267288,
            "remaining_time": 228.9653117,
            "test": [
             1678.333722,
             0.9298264237
            ]
           },
           {
            "iteration": 881,
            "learn": [
             1272.567411,
             0.961355851
            ],
            "passed_time": 49.02922817,
            "remaining_time": 228.9142422,
            "test": [
             1678.333286,
             0.9298264601
            ]
           },
           {
            "iteration": 882,
            "learn": [
             1272.306826,
             0.9613716758
            ],
            "passed_time": 49.08649365,
            "remaining_time": 228.8664715,
            "test": [
             1678.40802,
             0.9298202105
            ]
           },
           {
            "iteration": 883,
            "learn": [
             1271.810636,
             0.9614017994
            ],
            "passed_time": 49.13660847,
            "remaining_time": 228.7853852,
            "test": [
             1678.387584,
             0.9298219195
            ]
           },
           {
            "iteration": 884,
            "learn": [
             1271.729113,
             0.9614067476
            ],
            "passed_time": 49.19054105,
            "remaining_time": 228.7221202,
            "test": [
             1678.369881,
             0.9298233999
            ]
           },
           {
            "iteration": 885,
            "learn": [
             1271.604816,
             0.9614142913
            ],
            "passed_time": 49.24410321,
            "remaining_time": 228.6571565,
            "test": [
             1678.383024,
             0.9298223008
            ]
           },
           {
            "iteration": 886,
            "learn": [
             1271.349674,
             0.9614297739
            ],
            "passed_time": 49.29906266,
            "remaining_time": 228.5986975,
            "test": [
             1678.454617,
             0.9298163137
            ]
           },
           {
            "iteration": 887,
            "learn": [
             1270.9252,
             0.961455525
            ],
            "passed_time": 49.35350637,
            "remaining_time": 228.5378583,
            "test": [
             1678.544227,
             0.9298088195
            ]
           },
           {
            "iteration": 888,
            "learn": [
             1270.730338,
             0.9614673436
            ],
            "passed_time": 49.40778504,
            "remaining_time": 228.4762703,
            "test": [
             1678.579721,
             0.929805851
            ]
           },
           {
            "iteration": 889,
            "learn": [
             1270.447291,
             0.9614845075
            ],
            "passed_time": 49.45780783,
            "remaining_time": 228.3950451,
            "test": [
             1678.516058,
             0.9298111753
            ]
           },
           {
            "iteration": 890,
            "learn": [
             1270.244982,
             0.9614967731
            ],
            "passed_time": 49.51383426,
            "remaining_time": 228.3415768,
            "test": [
             1678.452006,
             0.9298165321
            ]
           },
           {
            "iteration": 891,
            "learn": [
             1269.877415,
             0.9615190529
            ],
            "passed_time": 49.56221524,
            "remaining_time": 228.2528926,
            "test": [
             1678.369043,
             0.92982347
            ]
           },
           {
            "iteration": 892,
            "learn": [
             1269.665369,
             0.9615319031
            ],
            "passed_time": 49.60752853,
            "remaining_time": 228.15019,
            "test": [
             1678.34336,
             0.9298256177
            ]
           },
           {
            "iteration": 893,
            "learn": [
             1269.24278,
             0.9615575059
            ],
            "passed_time": 49.6571969,
            "remaining_time": 228.067618,
            "test": [
             1678.247715,
             0.9298336156
            ]
           },
           {
            "iteration": 894,
            "learn": [
             1269.011654,
             0.9615715052
            ],
            "passed_time": 49.70379446,
            "remaining_time": 227.9710349,
            "test": [
             1678.087196,
             0.9298470373
            ]
           },
           {
            "iteration": 895,
            "learn": [
             1268.974851,
             0.9615737341
            ],
            "passed_time": 49.82300656,
            "remaining_time": 228.207164,
            "test": [
             1678.06816,
             0.929848629
            ]
           },
           {
            "iteration": 896,
            "learn": [
             1268.845303,
             0.9615815795
            ],
            "passed_time": 49.90045988,
            "remaining_time": 228.2514904,
            "test": [
             1678.073137,
             0.9298482128
            ]
           },
           {
            "iteration": 897,
            "learn": [
             1268.491934,
             0.9616029753
            ],
            "passed_time": 49.95053172,
            "remaining_time": 228.170469,
            "test": [
             1678.309273,
             0.9298284681
            ]
           },
           {
            "iteration": 898,
            "learn": [
             1268.23266,
             0.96161867
            ],
            "passed_time": 50.00530105,
            "remaining_time": 228.1109451,
            "test": [
             1678.085676,
             0.9298471645
            ]
           },
           {
            "iteration": 899,
            "learn": [
             1267.808913,
             0.961644314
            ],
            "passed_time": 50.05043548,
            "remaining_time": 228.0075394,
            "test": [
             1677.959375,
             0.9298577241
            ]
           },
           {
            "iteration": 900,
            "learn": [
             1267.637763,
             0.9616546691
            ],
            "passed_time": 50.1094169,
            "remaining_time": 227.9672584,
            "test": [
             1677.935977,
             0.9298596803
            ]
           },
           {
            "iteration": 901,
            "learn": [
             1267.216898,
             0.9616801267
            ],
            "passed_time": 50.16271474,
            "remaining_time": 227.9011142,
            "test": [
             1677.956814,
             0.9298579382
            ]
           },
           {
            "iteration": 902,
            "learn": [
             1267.019312,
             0.9616920756
            ],
            "passed_time": 50.20795417,
            "remaining_time": 227.7984366,
            "test": [
             1677.986444,
             0.929855461
            ]
           },
           {
            "iteration": 903,
            "learn": [
             1266.729021,
             0.9617096273
            ],
            "passed_time": 50.26291551,
            "remaining_time": 227.7399357,
            "test": [
             1677.949877,
             0.9298585182
            ]
           },
           {
            "iteration": 904,
            "learn": [
             1266.346718,
             0.9617327361
            ],
            "passed_time": 50.31944422,
            "remaining_time": 227.6885349,
            "test": [
             1677.755032,
             0.9298748071
            ]
           },
           {
            "iteration": 905,
            "learn": [
             1266.064896,
             0.9617497667
            ],
            "passed_time": 50.37216721,
            "remaining_time": 227.6199256,
            "test": [
             1677.777697,
             0.9298729124
            ]
           },
           {
            "iteration": 906,
            "learn": [
             1265.603089,
             0.9617776658
            ],
            "passed_time": 50.4285518,
            "remaining_time": 227.5678749,
            "test": [
             1677.610715,
             0.9298868706
            ]
           },
           {
            "iteration": 907,
            "learn": [
             1265.36472,
             0.9617920624
            ],
            "passed_time": 50.48194072,
            "remaining_time": 227.5023143,
            "test": [
             1677.515477,
             0.929894831
            ]
           },
           {
            "iteration": 908,
            "learn": [
             1265.233108,
             0.96180001
            ],
            "passed_time": 50.5300305,
            "remaining_time": 227.4129315,
            "test": [
             1677.563797,
             0.9298907922
            ]
           },
           {
            "iteration": 909,
            "learn": [
             1264.733446,
             0.9618301757
            ],
            "passed_time": 50.58033144,
            "remaining_time": 227.3335776,
            "test": [
             1677.523572,
             0.9298941544
            ]
           },
           {
            "iteration": 910,
            "learn": [
             1264.090346,
             0.9618689836
            ],
            "passed_time": 50.63592355,
            "remaining_time": 227.2780366,
            "test": [
             1677.442957,
             0.9299008923
            ]
           },
           {
            "iteration": 911,
            "learn": [
             1264.046451,
             0.9618716316
            ],
            "passed_time": 50.69125557,
            "remaining_time": 227.2213298,
            "test": [
             1677.452251,
             0.9299001154
            ]
           },
           {
            "iteration": 912,
            "learn": [
             1263.92443,
             0.9618789925
            ],
            "passed_time": 50.75305865,
            "remaining_time": 227.1935933,
            "test": [
             1677.46278,
             0.9298992354
            ]
           },
           {
            "iteration": 913,
            "learn": [
             1263.703909,
             0.9618922936
            ],
            "passed_time": 50.84586485,
            "remaining_time": 227.3043805,
            "test": [
             1677.403974,
             0.9299041504
            ]
           },
           {
            "iteration": 914,
            "learn": [
             1262.990706,
             0.9619352955
            ],
            "passed_time": 50.92069536,
            "remaining_time": 227.3344705,
            "test": [
             1677.004193,
             0.9299375587
            ]
           },
           {
            "iteration": 915,
            "learn": [
             1262.834933,
             0.9619446845
            ],
            "passed_time": 50.97985582,
            "remaining_time": 227.2944663,
            "test": [
             1676.785535,
             0.9299558278
            ]
           },
           {
            "iteration": 916,
            "learn": [
             1262.519057,
             0.9619637198
            ],
            "passed_time": 51.02858216,
            "remaining_time": 227.2079618,
            "test": [
             1676.751119,
             0.9299587032
            ]
           },
           {
            "iteration": 917,
            "learn": [
             1262.161032,
             0.9619852894
            ],
            "passed_time": 51.07355955,
            "remaining_time": 227.1048694,
            "test": [
             1676.796639,
             0.9299549001
            ]
           },
           {
            "iteration": 918,
            "learn": [
             1261.636327,
             0.9620168897
            ],
            "passed_time": 51.12174756,
            "remaining_time": 227.0161608,
            "test": [
             1676.841588,
             0.9299511448
            ]
           },
           {
            "iteration": 919,
            "learn": [
             1261.506092,
             0.9620247311
            ],
            "passed_time": 51.17586077,
            "remaining_time": 226.9538173,
            "test": [
             1676.846263,
             0.9299507542
            ]
           },
           {
            "iteration": 920,
            "learn": [
             1260.693017,
             0.9620736676
            ],
            "passed_time": 51.23136662,
            "remaining_time": 226.8976596,
            "test": [
             1676.68592,
             0.92996415
            ]
           },
           {
            "iteration": 921,
            "learn": [
             1260.641439,
             0.9620767708
            ],
            "passed_time": 51.28636471,
            "remaining_time": 226.8392574,
            "test": [
             1676.636424,
             0.9299682849
            ]
           },
           {
            "iteration": 922,
            "learn": [
             1260.120968,
             0.9621080784
            ],
            "passed_time": 51.34509774,
            "remaining_time": 226.7973602,
            "test": [
             1676.828378,
             0.9299522484
            ]
           },
           {
            "iteration": 923,
            "learn": [
             1259.912647,
             0.9621206059
            ],
            "passed_time": 51.40191966,
            "remaining_time": 226.7469963,
            "test": [
             1676.745043,
             0.9299592107
            ]
           },
           {
            "iteration": 924,
            "learn": [
             1259.729244,
             0.9621316331
            ],
            "passed_time": 51.45487037,
            "remaining_time": 226.6795641,
            "test": [
             1676.80897,
             0.9299538699
            ]
           },
           {
            "iteration": 925,
            "learn": [
             1259.366144,
             0.96215346
            ],
            "passed_time": 51.5107303,
            "remaining_time": 226.6249625,
            "test": [
             1676.708354,
             0.9299622759
            ]
           },
           {
            "iteration": 926,
            "learn": [
             1259.31931,
             0.9621562749
            ],
            "passed_time": 51.5485504,
            "remaining_time": 226.4910958,
            "test": [
             1676.706495,
             0.9299624311
            ]
           },
           {
            "iteration": 927,
            "learn": [
             1258.983017,
             0.9621764841
            ],
            "passed_time": 51.60605283,
            "remaining_time": 226.4438008,
            "test": [
             1676.352329,
             0.9299920157
            ]
           },
           {
            "iteration": 928,
            "learn": [
             1258.847856,
             0.9621846049
            ],
            "passed_time": 51.66371013,
            "remaining_time": 226.3971625,
            "test": [
             1676.347399,
             0.9299924275
            ]
           },
           {
            "iteration": 929,
            "learn": [
             1258.660593,
             0.9621958547
            ],
            "passed_time": 51.7181284,
            "remaining_time": 226.3363254,
            "test": [
             1676.37922,
             0.9299897696
            ]
           },
           {
            "iteration": 930,
            "learn": [
             1258.340334,
             0.9622150904
            ],
            "passed_time": 51.77598243,
            "remaining_time": 226.2905183,
            "test": [
             1676.273064,
             0.9299986361
            ]
           },
           {
            "iteration": 931,
            "learn": [
             1257.545873,
             0.9622627867
            ],
            "passed_time": 51.82633668,
            "remaining_time": 226.2119502,
            "test": [
             1676.351168,
             0.9299921126
            ]
           },
           {
            "iteration": 932,
            "learn": [
             1257.50769,
             0.9622650784
            ],
            "passed_time": 51.92893339,
            "remaining_time": 226.3611705,
            "test": [
             1676.30153,
             0.9299962586
            ]
           },
           {
            "iteration": 933,
            "learn": [
             1257.44517,
             0.9622688305
            ],
            "passed_time": 52.01398733,
            "remaining_time": 226.4334823,
            "test": [
             1676.287788,
             0.9299974064
            ]
           },
           {
            "iteration": 934,
            "learn": [
             1257.060196,
             0.9622919301
            ],
            "passed_time": 52.06874484,
            "remaining_time": 226.3737409,
            "test": [
             1675.989111,
             0.9300223499
            ]
           },
           {
            "iteration": 935,
            "learn": [
             1256.350065,
             0.9623345217
            ],
            "passed_time": 52.1214879,
            "remaining_time": 226.3052637,
            "test": [
             1675.601088,
             0.9300547484
            ]
           },
           {
            "iteration": 936,
            "learn": [
             1256.13167,
             0.9623476156
            ],
            "passed_time": 52.17270352,
            "remaining_time": 226.2301968,
            "test": [
             1675.67236,
             0.930048798
            ]
           },
           {
            "iteration": 937,
            "learn": [
             1256.020956,
             0.9623542526
            ],
            "passed_time": 52.22252961,
            "remaining_time": 226.1491634,
            "test": [
             1675.702506,
             0.9300462811
            ]
           },
           {
            "iteration": 938,
            "learn": [
             1255.41733,
             0.9623904279
            ],
            "passed_time": 52.27451623,
            "remaining_time": 226.0775404,
            "test": [
             1675.505242,
             0.93006275
            ]
           },
           {
            "iteration": 939,
            "learn": [
             1255.121087,
             0.9624081754
            ],
            "passed_time": 52.33516076,
            "remaining_time": 226.0433539,
            "test": [
             1675.305332,
             0.9300794379
            ]
           },
           {
            "iteration": 940,
            "learn": [
             1254.929016,
             0.9624196799
            ],
            "passed_time": 52.40015911,
            "remaining_time": 226.0278914,
            "test": [
             1675.232614,
             0.9300855078
            ]
           },
           {
            "iteration": 941,
            "learn": [
             1254.82971,
             0.9624256273
            ],
            "passed_time": 52.45827355,
            "remaining_time": 225.9826689,
            "test": [
             1675.265503,
             0.9300827625
            ]
           },
           {
            "iteration": 942,
            "learn": [
             1254.440067,
             0.9624489585
            ],
            "passed_time": 52.50942141,
            "remaining_time": 225.9074471,
            "test": [
             1675.219524,
             0.9300866004
            ]
           },
           {
            "iteration": 943,
            "learn": [
             1254.197616,
             0.9624634723
            ],
            "passed_time": 52.5591053,
            "remaining_time": 225.8259863,
            "test": [
             1675.037294,
             0.9301018098
            ]
           },
           {
            "iteration": 944,
            "learn": [
             1254.08782,
             0.9624700442
            ],
            "passed_time": 52.60840715,
            "remaining_time": 225.7429534,
            "test": [
             1675.114616,
             0.9300953565
            ]
           },
           {
            "iteration": 945,
            "learn": [
             1254.002908,
             0.9624751262
            ],
            "passed_time": 52.66579263,
            "remaining_time": 225.6946335,
            "test": [
             1675.169457,
             0.9300907793
            ]
           },
           {
            "iteration": 946,
            "learn": [
             1253.093472,
             0.9625295345
            ],
            "passed_time": 52.71450336,
            "remaining_time": 225.609168,
            "test": [
             1674.962259,
             0.930108072
            ]
           },
           {
            "iteration": 947,
            "learn": [
             1253.032036,
             0.9625332086
            ],
            "passed_time": 52.76855187,
            "remaining_time": 225.5465951,
            "test": [
             1674.962163,
             0.93010808
            ]
           },
           {
            "iteration": 948,
            "learn": [
             1252.590103,
             0.9625596323
            ],
            "passed_time": 52.81979025,
            "remaining_time": 225.4720446,
            "test": [
             1674.967646,
             0.9301076225
            ]
           },
           {
            "iteration": 949,
            "learn": [
             1252.37017,
             0.9625727789
            ],
            "passed_time": 52.87341697,
            "remaining_time": 225.407725,
            "test": [
             1674.854907,
             0.9301170308
            ]
           },
           {
            "iteration": 950,
            "learn": [
             1252.222418,
             0.9625816096
            ],
            "passed_time": 52.94742355,
            "remaining_time": 225.4301976,
            "test": [
             1674.827919,
             0.9301192829
            ]
           },
           {
            "iteration": 951,
            "learn": [
             1251.997063,
             0.9625950763
            ],
            "passed_time": 53.06032978,
            "remaining_time": 225.6178729,
            "test": [
             1674.698834,
             0.9301300544
            ]
           },
           {
            "iteration": 952,
            "learn": [
             1251.915218,
             0.9625999666
            ],
            "passed_time": 53.11242314,
            "remaining_time": 225.5466699,
            "test": [
             1674.729477,
             0.9301274975
            ]
           },
           {
            "iteration": 953,
            "learn": [
             1251.533922,
             0.9626227449
            ],
            "passed_time": 53.16896563,
            "remaining_time": 225.4943763,
            "test": [
             1674.547217,
             0.930142705
            ]
           },
           {
            "iteration": 954,
            "learn": [
             1251.180004,
             0.9626438816
            ],
            "passed_time": 53.21815773,
            "remaining_time": 225.4109403,
            "test": [
             1674.595985,
             0.930138636
            ]
           },
           {
            "iteration": 955,
            "learn": [
             1250.960736,
             0.9626569737
            ],
            "passed_time": 53.27260027,
            "remaining_time": 225.3497861,
            "test": [
             1674.690696,
             0.9301307335
            ]
           },
           {
            "iteration": 956,
            "learn": [
             1250.439307,
             0.962688098
            ],
            "passed_time": 53.32227579,
            "remaining_time": 225.2685068,
            "test": [
             1674.669197,
             0.9301325273
            ]
           },
           {
            "iteration": 957,
            "learn": [
             1250.295787,
             0.9626966626
            ],
            "passed_time": 53.37794416,
            "remaining_time": 225.2125786,
            "test": [
             1674.652867,
             0.9301338899
            ]
           },
           {
            "iteration": 958,
            "learn": [
             1250.119824,
             0.9627071617
            ],
            "passed_time": 53.42936009,
            "remaining_time": 225.1387321,
            "test": [
             1674.481366,
             0.9301481991
            ]
           },
           {
            "iteration": 959,
            "learn": [
             1249.875599,
             0.9627217315
            ],
            "passed_time": 53.48239236,
            "remaining_time": 225.0717345,
            "test": [
             1674.34363,
             0.9301596901
            ]
           },
           {
            "iteration": 960,
            "learn": [
             1249.693461,
             0.9627325954
            ],
            "passed_time": 53.55056681,
            "remaining_time": 225.0684072,
            "test": [
             1674.377517,
             0.9301568631
            ]
           },
           {
            "iteration": 961,
            "learn": [
             1249.610888,
             0.9627375201
            ],
            "passed_time": 53.60189988,
            "remaining_time": 224.9942533,
            "test": [
             1674.329255,
             0.9301608893
            ]
           },
           {
            "iteration": 962,
            "learn": [
             1249.429148,
             0.962748358
            ],
            "passed_time": 53.65643755,
            "remaining_time": 224.9335809,
            "test": [
             1674.336102,
             0.9301603182
            ]
           },
           {
            "iteration": 963,
            "learn": [
             1249.354055,
             0.9627528357
            ],
            "passed_time": 53.70727574,
            "remaining_time": 224.8574324,
            "test": [
             1674.370819,
             0.9301574219
            ]
           },
           {
            "iteration": 964,
            "learn": [
             1249.199049,
             0.9627620776
            ],
            "passed_time": 53.76545649,
            "remaining_time": 224.8120383,
            "test": [
             1674.338478,
             0.9301601199
            ]
           },
           {
            "iteration": 965,
            "learn": [
             1249.0724,
             0.9627696278
            ],
            "passed_time": 53.81732522,
            "remaining_time": 224.7402587,
            "test": [
             1674.387827,
             0.930156003
            ]
           },
           {
            "iteration": 966,
            "learn": [
             1248.797487,
             0.9627860144
            ],
            "passed_time": 53.868034,
            "remaining_time": 224.6636826,
            "test": [
             1674.383375,
             0.9301563744
            ]
           },
           {
            "iteration": 967,
            "learn": [
             1248.673997,
             0.962793374
            ],
            "passed_time": 53.91881722,
            "remaining_time": 224.5874701,
            "test": [
             1674.341241,
             0.9301598895
            ]
           },
           {
            "iteration": 968,
            "learn": [
             1248.205309,
             0.9628212996
            ],
            "passed_time": 53.96669829,
            "remaining_time": 224.4992372,
            "test": [
             1674.108148,
             0.9301793336
            ]
           },
           {
            "iteration": 969,
            "learn": [
             1248.187249,
             0.9628223755
            ],
            "passed_time": 54.09494618,
            "remaining_time": 224.7449826,
            "test": [
             1674.106164,
             0.9301794991
            ]
           },
           {
            "iteration": 970,
            "learn": [
             1247.841772,
             0.9628429529
            ],
            "passed_time": 54.14828153,
            "remaining_time": 224.6791208,
            "test": [
             1674.102971,
             0.9301797654
            ]
           },
           {
            "iteration": 971,
            "learn": [
             1247.353609,
             0.9628720193
            ],
            "passed_time": 54.20411906,
            "remaining_time": 224.6236539,
            "test": [
             1674.012499,
             0.9301873117
            ]
           },
           {
            "iteration": 972,
            "learn": [
             1247.198588,
             0.9628812473
            ],
            "passed_time": 54.25755313,
            "remaining_time": 224.5582389,
            "test": [
             1673.971948,
             0.930190694
            ]
           },
           {
            "iteration": 973,
            "learn": [
             1247.023859,
             0.962891647
            ],
            "passed_time": 54.31360147,
            "remaining_time": 224.5036545,
            "test": [
             1673.869303,
             0.9301992548
            ]
           },
           {
            "iteration": 974,
            "learn": [
             1246.612303,
             0.9629161367
            ],
            "passed_time": 54.36637753,
            "remaining_time": 224.4355585,
            "test": [
             1673.875556,
             0.9301987333
            ]
           },
           {
            "iteration": 975,
            "learn": [
             1246.083091,
             0.9629476158
            ],
            "passed_time": 54.41763755,
            "remaining_time": 224.3612433,
            "test": [
             1673.764028,
             0.9302080345
            ]
           },
           {
            "iteration": 976,
            "learn": [
             1245.785771,
             0.9629652953
            ],
            "passed_time": 54.47180473,
            "remaining_time": 224.2989462,
            "test": [
             1673.997049,
             0.9301886003
            ]
           },
           {
            "iteration": 977,
            "learn": [
             1245.741878,
             0.962967905
            ],
            "passed_time": 54.50996684,
            "remaining_time": 224.1708452,
            "test": [
             1674.004971,
             0.9301879396
            ]
           },
           {
            "iteration": 978,
            "learn": [
             1245.626625,
             0.9629747569
            ],
            "passed_time": 54.55905043,
            "remaining_time": 224.0877853,
            "test": [
             1674.079684,
             0.9301817078
            ]
           },
           {
            "iteration": 979,
            "learn": [
             1245.446455,
             0.9629854669
            ],
            "passed_time": 54.60887892,
            "remaining_time": 224.0078502,
            "test": [
             1674.014275,
             0.9301871635
            ]
           },
           {
            "iteration": 980,
            "learn": [
             1245.214821,
             0.9629992339
            ],
            "passed_time": 54.65896581,
            "remaining_time": 223.9290353,
            "test": [
             1673.929025,
             0.9301942739
            ]
           },
           {
            "iteration": 981,
            "learn": [
             1244.901649,
             0.963017843
            ],
            "passed_time": 54.7029855,
            "remaining_time": 223.8254539,
            "test": [
             1673.639325,
             0.9302184338
            ]
           },
           {
            "iteration": 982,
            "learn": [
             1244.474178,
             0.9630432363
            ],
            "passed_time": 54.7601073,
            "remaining_time": 223.7755351,
            "test": [
             1673.194287,
             0.9302555402
            ]
           },
           {
            "iteration": 983,
            "learn": [
             1243.991982,
             0.96307187
            ],
            "passed_time": 54.82092998,
            "remaining_time": 223.7407061,
            "test": [
             1672.975638,
             0.930273767
            ]
           },
           {
            "iteration": 984,
            "learn": [
             1243.609386,
             0.9630945814
            ],
            "passed_time": 54.87485993,
            "remaining_time": 223.6777286,
            "test": [
             1672.876335,
             0.9302820443
            ]
           },
           {
            "iteration": 985,
            "learn": [
             1243.394104,
             0.9631073578
            ],
            "passed_time": 54.93148036,
            "remaining_time": 223.6257223,
            "test": [
             1672.741992,
             0.9302932414
            ]
           },
           {
            "iteration": 986,
            "learn": [
             1243.194803,
             0.9631191837
            ],
            "passed_time": 54.98519759,
            "remaining_time": 223.5619026,
            "test": [
             1672.670021,
             0.9302992397
            ]
           },
           {
            "iteration": 987,
            "learn": [
             1242.96695,
             0.9631327015
            ],
            "passed_time": 55.03721293,
            "remaining_time": 223.4911926,
            "test": [
             1672.797189,
             0.930288641
            ]
           },
           {
            "iteration": 988,
            "learn": [
             1242.870171,
             0.9631384423
            ],
            "passed_time": 55.16478176,
            "remaining_time": 223.7269359,
            "test": [
             1672.733725,
             0.9302939304
            ]
           },
           {
            "iteration": 989,
            "learn": [
             1242.711934,
             0.9631478278
            ],
            "passed_time": 55.22310027,
            "remaining_time": 223.6814465,
            "test": [
             1672.855642,
             0.930283769
            ]
           },
           {
            "iteration": 990,
            "learn": [
             1242.362584,
             0.9631685446
            ],
            "passed_time": 55.27420189,
            "remaining_time": 223.606736,
            "test": [
             1672.80664,
             0.9302878533
            ]
           },
           {
            "iteration": 991,
            "learn": [
             1242.18741,
             0.9631789304
            ],
            "passed_time": 55.31614743,
            "remaining_time": 223.4950795,
            "test": [
             1672.976844,
             0.9302736665
            ]
           },
           {
            "iteration": 992,
            "learn": [
             1241.925542,
             0.9631944534
            ],
            "passed_time": 55.36738359,
            "remaining_time": 223.4210534,
            "test": [
             1672.874243,
             0.9302822186
            ]
           },
           {
            "iteration": 993,
            "learn": [
             1241.420579,
             0.9632243774
            ],
            "passed_time": 55.41703601,
            "remaining_time": 223.3406904,
            "test": [
             1672.778406,
             0.9302902065
            ]
           },
           {
            "iteration": 994,
            "learn": [
             1241.379711,
             0.9632267987
            ],
            "passed_time": 55.45636162,
            "remaining_time": 223.2188224,
            "test": [
             1672.784377,
             0.9302897088
            ]
           },
           {
            "iteration": 995,
            "learn": [
             1241.205404,
             0.9632371249
            ],
            "passed_time": 55.5069596,
            "remaining_time": 223.142436,
            "test": [
             1672.766893,
             0.9302911661
            ]
           },
           {
            "iteration": 996,
            "learn": [
             1240.751779,
             0.9632639916
            ],
            "passed_time": 55.56244996,
            "remaining_time": 223.0857444,
            "test": [
             1672.789523,
             0.93028928
            ]
           },
           {
            "iteration": 997,
            "learn": [
             1240.685856,
             0.9632678951
            ],
            "passed_time": 55.61656279,
            "remaining_time": 223.0235313,
            "test": [
             1672.868774,
             0.9302826745
            ]
           },
           {
            "iteration": 998,
            "learn": [
             1240.493204,
             0.9632793016
            ],
            "passed_time": 55.67054422,
            "remaining_time": 222.9608082,
            "test": [
             1672.966087,
             0.9302745631
            ]
           },
           {
            "iteration": 999,
            "learn": [
             1240.319952,
             0.963289558
            ],
            "passed_time": 55.71940018,
            "remaining_time": 222.8776007,
            "test": [
             1672.829349,
             0.9302859606
            ]
           },
           {
            "iteration": 1000,
            "learn": [
             1239.878763,
             0.9633156696
            ],
            "passed_time": 55.78382931,
            "remaining_time": 222.8566767,
            "test": [
             1672.630319,
             0.9303025484
            ]
           },
           {
            "iteration": 1001,
            "learn": [
             1239.668013,
             0.9633281395
            ],
            "passed_time": 55.83390986,
            "remaining_time": 222.7784148,
            "test": [
             1672.501533,
             0.9303132809
            ]
           },
           {
            "iteration": 1002,
            "learn": [
             1239.56886,
             0.9633340056
            ],
            "passed_time": 55.89069076,
            "remaining_time": 222.7269102,
            "test": [
             1672.427649,
             0.9303194377
            ]
           },
           {
            "iteration": 1003,
            "learn": [
             1239.054914,
             0.9633644039
            ],
            "passed_time": 55.942135,
            "remaining_time": 222.6541548,
            "test": [
             1672.483963,
             0.930314745
            ]
           },
           {
            "iteration": 1004,
            "learn": [
             1238.687858,
             0.9633861065
            ],
            "passed_time": 56.00100365,
            "remaining_time": 222.6109548,
            "test": [
             1672.39801,
             0.9303219074
            ]
           },
           {
            "iteration": 1005,
            "learn": [
             1238.344858,
             0.9634063808
            ],
            "passed_time": 56.06054933,
            "remaining_time": 222.5704116,
            "test": [
             1672.299317,
             0.930330131
            ]
           },
           {
            "iteration": 1006,
            "learn": [
             1238.013344,
             0.963425971
            ],
            "passed_time": 56.15450469,
            "remaining_time": 222.6662733,
            "test": [
             1672.400585,
             0.9303216928
            ]
           },
           {
            "iteration": 1007,
            "learn": [
             1237.937011,
             0.963430481
            ],
            "passed_time": 56.23409599,
            "remaining_time": 222.7048722,
            "test": [
             1672.357031,
             0.930325322
            ]
           },
           {
            "iteration": 1008,
            "learn": [
             1237.861832,
             0.9634349225
            ],
            "passed_time": 56.29001205,
            "remaining_time": 222.6495918,
            "test": [
             1672.415953,
             0.9303204123
            ]
           },
           {
            "iteration": 1009,
            "learn": [
             1237.451656,
             0.9634591508
            ],
            "passed_time": 56.34845104,
            "remaining_time": 222.6042769,
            "test": [
             1672.399409,
             0.9303217908
            ]
           },
           {
            "iteration": 1010,
            "learn": [
             1237.310517,
             0.9634674858
            ],
            "passed_time": 56.40410527,
            "remaining_time": 222.5479485,
            "test": [
             1672.452616,
             0.9303173572
            ]
           },
           {
            "iteration": 1011,
            "learn": [
             1237.057538,
             0.963482423
            ],
            "passed_time": 56.45446308,
            "remaining_time": 222.4707498,
            "test": [
             1672.459444,
             0.9303167882
            ]
           },
           {
            "iteration": 1012,
            "learn": [
             1236.542176,
             0.9635128434
            ],
            "passed_time": 56.49941399,
            "remaining_time": 222.3723234,
            "test": [
             1672.163373,
             0.9303414577
            ]
           },
           {
            "iteration": 1013,
            "learn": [
             1235.758141,
             0.9635590984
            ],
            "passed_time": 56.55018285,
            "remaining_time": 222.2968726,
            "test": [
             1672.370227,
             0.9303242225
            ]
           },
           {
            "iteration": 1014,
            "learn": [
             1235.504388,
             0.9635740625
            ],
            "passed_time": 56.60887806,
            "remaining_time": 222.2525902,
            "test": [
             1672.487693,
             0.9303144342
            ]
           },
           {
            "iteration": 1015,
            "learn": [
             1235.342322,
             0.9635836182
            ],
            "passed_time": 56.6641316,
            "remaining_time": 222.1947837,
            "test": [
             1672.557493,
             0.9303086175
            ]
           },
           {
            "iteration": 1016,
            "learn": [
             1235.273257,
             0.96358769
            ],
            "passed_time": 56.712956,
            "remaining_time": 222.1118031,
            "test": [
             1672.562209,
             0.9303082245
            ]
           },
           {
            "iteration": 1017,
            "learn": [
             1235.024798,
             0.9636023362
            ],
            "passed_time": 56.75539627,
            "remaining_time": 222.0039174,
            "test": [
             1672.396138,
             0.9303220634
            ]
           },
           {
            "iteration": 1018,
            "learn": [
             1234.959328,
             0.9636061951
            ],
            "passed_time": 56.81560856,
            "remaining_time": 221.9655914,
            "test": [
             1672.358104,
             0.9303252326
            ]
           },
           {
            "iteration": 1019,
            "learn": [
             1234.770682,
             0.9636173129
            ],
            "passed_time": 56.86502105,
            "remaining_time": 221.8850821,
            "test": [
             1672.320184,
             0.9303283923
            ]
           },
           {
            "iteration": 1020,
            "learn": [
             1234.433624,
             0.9636371731
            ],
            "passed_time": 56.92221745,
            "remaining_time": 221.8349689,
            "test": [
             1672.001809,
             0.9303549178
            ]
           },
           {
            "iteration": 1021,
            "learn": [
             1234.214368,
             0.9636500892
            ],
            "passed_time": 56.97638402,
            "remaining_time": 221.7730486,
            "test": [
             1671.952753,
             0.9303590045
            ]
           },
           {
            "iteration": 1022,
            "learn": [
             1233.938972,
             0.9636663093
            ],
            "passed_time": 57.03381099,
            "remaining_time": 221.7238185,
            "test": [
             1671.842088,
             0.9303682231
            ]
           },
           {
            "iteration": 1023,
            "learn": [
             1233.653376,
             0.9636831262
            ],
            "passed_time": 57.08506041,
            "remaining_time": 221.6505861,
            "test": [
             1671.818113,
             0.9303702203
            ]
           },
           {
            "iteration": 1024,
            "learn": [
             1233.415747,
             0.9636971157
            ],
            "passed_time": 57.13635935,
            "remaining_time": 221.5775887,
            "test": [
             1671.724895,
             0.9303779849
            ]
           },
           {
            "iteration": 1025,
            "learn": [
             1233.242257,
             0.9637073276
            ],
            "passed_time": 57.25097248,
            "remaining_time": 221.7498681,
            "test": [
             1671.706183,
             0.9303795435
            ]
           },
           {
            "iteration": 1026,
            "learn": [
             1233.084737,
             0.9637165982
            ],
            "passed_time": 57.32027182,
            "remaining_time": 221.7462901,
            "test": [
             1671.658283,
             0.9303835332
            ]
           },
           {
            "iteration": 1027,
            "learn": [
             1232.922132,
             0.9637261669
            ],
            "passed_time": 57.37462486,
            "remaining_time": 221.6848346,
            "test": [
             1671.661192,
             0.9303832909
            ]
           },
           {
            "iteration": 1028,
            "learn": [
             1232.662429,
             0.9637414468
            ],
            "passed_time": 57.43014389,
            "remaining_time": 221.6278925,
            "test": [
             1671.689604,
             0.9303809244
            ]
           },
           {
            "iteration": 1029,
            "learn": [
             1232.449847,
             0.9637539518
            ],
            "passed_time": 57.48380477,
            "remaining_time": 221.5637912,
            "test": [
             1671.705914,
             0.9303795659
            ]
           },
           {
            "iteration": 1030,
            "learn": [
             1232.331034,
             0.96376094
            ],
            "passed_time": 57.53639206,
            "remaining_time": 221.4955772,
            "test": [
             1671.715013,
             0.930378808
            ]
           },
           {
            "iteration": 1031,
            "learn": [
             1231.964294,
             0.9637825061
            ],
            "passed_time": 57.59373065,
            "remaining_time": 221.445662,
            "test": [
             1671.651712,
             0.9303840804
            ]
           },
           {
            "iteration": 1032,
            "learn": [
             1231.945736,
             0.9637835973
            ],
            "passed_time": 57.64152736,
            "remaining_time": 221.3590891,
            "test": [
             1671.667482,
             0.930382767
            ]
           },
           {
            "iteration": 1033,
            "learn": [
             1231.707509,
             0.9637976026
            ],
            "passed_time": 57.69016795,
            "remaining_time": 221.2758279,
            "test": [
             1671.896178,
             0.9303637174
            ]
           },
           {
            "iteration": 1034,
            "learn": [
             1231.425691,
             0.9638141671
            ],
            "passed_time": 57.74423625,
            "remaining_time": 221.2134268,
            "test": [
             1671.479861,
             0.9303983932
            ]
           },
           {
            "iteration": 1035,
            "learn": [
             1231.028829,
             0.9638374872
            ],
            "passed_time": 57.80228775,
            "remaining_time": 221.1662825,
            "test": [
             1671.196035,
             0.9304220286
            ]
           },
           {
            "iteration": 1036,
            "learn": [
             1230.876348,
             0.9638464452
            ],
            "passed_time": 57.85472912,
            "remaining_time": 221.0976774,
            "test": [
             1671.184231,
             0.9304230115
            ]
           },
           {
            "iteration": 1037,
            "learn": [
             1230.779615,
             0.9638521274
            ],
            "passed_time": 57.90902218,
            "remaining_time": 221.0361714,
            "test": [
             1671.123059,
             0.930428105
            ]
           },
           {
            "iteration": 1038,
            "learn": [
             1230.369452,
             0.9638762163
            ],
            "passed_time": 57.95896922,
            "remaining_time": 220.9581108,
            "test": [
             1671.144355,
             0.9304263318
            ]
           },
           {
            "iteration": 1039,
            "learn": [
             1229.958214,
             0.9639003603
            ],
            "passed_time": 58.00834148,
            "remaining_time": 220.8779156,
            "test": [
             1671.229037,
             0.9304192806
            ]
           },
           {
            "iteration": 1040,
            "learn": [
             1229.76182,
             0.9639118878
            ],
            "passed_time": 58.05413562,
            "remaining_time": 220.7841719,
            "test": [
             1671.187644,
             0.9304227273
            ]
           },
           {
            "iteration": 1041,
            "learn": [
             1229.616826,
             0.9639203972
            ],
            "passed_time": 58.10268516,
            "remaining_time": 220.7009865,
            "test": [
             1671.136013,
             0.9304270264
            ]
           },
           {
            "iteration": 1042,
            "learn": [
             1229.40872,
             0.9639326087
            ],
            "passed_time": 58.15343118,
            "remaining_time": 220.6262005,
            "test": [
             1670.993109,
             0.9304389247
            ]
           },
           {
            "iteration": 1043,
            "learn": [
             1229.30409,
             0.9639387475
            ],
            "passed_time": 58.20865918,
            "remaining_time": 220.5684442,
            "test": [
             1671.02201,
             0.9304365185
            ]
           },
           {
            "iteration": 1044,
            "learn": [
             1228.900555,
             0.9639624188
            ],
            "passed_time": 58.32094692,
            "remaining_time": 220.726646,
            "test": [
             1670.875467,
             0.9304487189
            ]
           },
           {
            "iteration": 1045,
            "learn": [
             1228.668493,
             0.963976028
            ],
            "passed_time": 58.38402585,
            "remaining_time": 220.6983157,
            "test": [
             1670.851409,
             0.9304507217
            ]
           },
           {
            "iteration": 1046,
            "learn": [
             1228.316874,
             0.9639966436
            ],
            "passed_time": 58.44376028,
            "remaining_time": 220.6572917,
            "test": [
             1670.93223,
             0.9304439932
            ]
           },
           {
            "iteration": 1047,
            "learn": [
             1228.126653,
             0.964007794
            ],
            "passed_time": 58.48658904,
            "remaining_time": 220.5524808,
            "test": [
             1670.990552,
             0.9304391375
            ]
           },
           {
            "iteration": 1048,
            "learn": [
             1227.857702,
             0.9640235563
            ],
            "passed_time": 58.53740496,
            "remaining_time": 220.4778713,
            "test": [
             1670.924969,
             0.9304445977
            ]
           },
           {
            "iteration": 1049,
            "learn": [
             1227.770769,
             0.9640286504
            ],
            "passed_time": 58.59423724,
            "remaining_time": 220.4259401,
            "test": [
             1671.013807,
             0.9304372014
            ]
           },
           {
            "iteration": 1050,
            "learn": [
             1227.036416,
             0.9640716678
            ],
            "passed_time": 58.6443672,
            "remaining_time": 220.3488164,
            "test": [
             1671.092225,
             0.9304306723
            ]
           },
           {
            "iteration": 1051,
            "learn": [
             1226.85115,
             0.9640825164
            ],
            "passed_time": 58.70078524,
            "remaining_time": 220.2953423,
            "test": [
             1671.004958,
             0.9304379382
            ]
           },
           {
            "iteration": 1052,
            "learn": [
             1226.653868,
             0.9640940668
            ],
            "passed_time": 58.74528525,
            "remaining_time": 220.1971898,
            "test": [
             1671.144643,
             0.9304263078
            ]
           },
           {
            "iteration": 1053,
            "learn": [
             1226.539754,
             0.9641007471
            ],
            "passed_time": 58.7904427,
            "remaining_time": 220.1016005,
            "test": [
             1671.026838,
             0.9304361164
            ]
           },
           {
            "iteration": 1054,
            "learn": [
             1226.330796,
             0.9641129779
            ],
            "passed_time": 58.85100959,
            "remaining_time": 220.0637278,
            "test": [
             1671.037965,
             0.9304351901
            ]
           },
           {
            "iteration": 1055,
            "learn": [
             1226.204962,
             0.9641203422
            ],
            "passed_time": 58.90459531,
            "remaining_time": 219.9997386,
            "test": [
             1671.077896,
             0.9304318654
            ]
           },
           {
            "iteration": 1056,
            "learn": [
             1226.153434,
             0.9641233577
            ],
            "passed_time": 58.95942737,
            "remaining_time": 219.9404183,
            "test": [
             1671.038971,
             0.9304351063
            ]
           },
           {
            "iteration": 1057,
            "learn": [
             1225.869047,
             0.9641399978
            ],
            "passed_time": 59.01846174,
            "remaining_time": 219.8967639,
            "test": [
             1670.832014,
             0.9304523363
            ]
           },
           {
            "iteration": 1058,
            "learn": [
             1225.632463,
             0.9641538379
            ],
            "passed_time": 59.07397102,
            "remaining_time": 219.839962,
            "test": [
             1670.833655,
             0.9304521997
            ]
           },
           {
            "iteration": 1059,
            "learn": [
             1225.111021,
             0.9641843327
            ],
            "passed_time": 59.13027916,
            "remaining_time": 219.786132,
            "test": [
             1670.8278,
             0.9304526871
            ]
           },
           {
            "iteration": 1060,
            "learn": [
             1224.834491,
             0.9642004994
            ],
            "passed_time": 59.18975592,
            "remaining_time": 219.7440609,
            "test": [
             1670.852232,
             0.9304506532
            ]
           },
           {
            "iteration": 1061,
            "learn": [
             1224.62085,
             0.9642129869
            ],
            "passed_time": 59.24163099,
            "remaining_time": 219.6737691,
            "test": [
             1670.669355,
             0.9304658769
            ]
           },
           {
            "iteration": 1062,
            "learn": [
             1224.389768,
             0.9642264914
            ],
            "passed_time": 59.34558838,
            "remaining_time": 219.7964078,
            "test": [
             1670.59666,
             0.930471928
            ]
           },
           {
            "iteration": 1063,
            "learn": [
             1224.012833,
             0.9642485142
            ],
            "passed_time": 59.44436636,
            "remaining_time": 219.8994605,
            "test": [
             1670.436966,
             0.9304852199
            ]
           },
           {
            "iteration": 1064,
            "learn": [
             1223.688209,
             0.9642674752
            ],
            "passed_time": 59.50371238,
            "remaining_time": 219.8564396,
            "test": [
             1670.317134,
             0.9304951931
            ]
           },
           {
            "iteration": 1065,
            "learn": [
             1223.481386,
             0.9642795529
            ],
            "passed_time": 59.5647503,
            "remaining_time": 219.819632,
            "test": [
             1670.292977,
             0.9304972035
            ]
           },
           {
            "iteration": 1066,
            "learn": [
             1223.388753,
             0.9642849617
            ],
            "passed_time": 59.61526331,
            "remaining_time": 219.7439837,
            "test": [
             1670.313601,
             0.9304954871
            ]
           },
           {
            "iteration": 1067,
            "learn": [
             1223.369033,
             0.9642861131
            ],
            "passed_time": 59.66502996,
            "remaining_time": 219.6656346,
            "test": [
             1670.332373,
             0.9304939248
            ]
           },
           {
            "iteration": 1068,
            "learn": [
             1223.214261,
             0.964295149
            ],
            "passed_time": 59.72057738,
            "remaining_time": 219.6085965,
            "test": [
             1670.304797,
             0.9304962198
            ]
           },
           {
            "iteration": 1069,
            "learn": [
             1222.552223,
             0.9643337875
            ],
            "passed_time": 59.76830782,
            "remaining_time": 219.5228502,
            "test": [
             1669.830399,
             0.930535695
            ]
           },
           {
            "iteration": 1070,
            "learn": [
             1222.299433,
             0.9643485356
            ],
            "passed_time": 59.82706356,
            "remaining_time": 219.4776216,
            "test": [
             1669.829567,
             0.9305357641
            ]
           },
           {
            "iteration": 1071,
            "learn": [
             1221.930268,
             0.9643700676
            ],
            "passed_time": 59.87193236,
            "remaining_time": 219.3814835,
            "test": [
             1669.889887,
             0.9305307455
            ]
           },
           {
            "iteration": 1072,
            "learn": [
             1221.844464,
             0.9643750713
            ],
            "passed_time": 59.92051757,
            "remaining_time": 219.2990424,
            "test": [
             1669.898565,
             0.9305300234
            ]
           },
           {
            "iteration": 1073,
            "learn": [
             1221.75366,
             0.9643803662
            ],
            "passed_time": 59.97523204,
            "remaining_time": 219.2390698,
            "test": [
             1669.919753,
             0.9305282606
            ]
           },
           {
            "iteration": 1074,
            "learn": [
             1221.612187,
             0.9643886148
            ],
            "passed_time": 60.02794969,
            "remaining_time": 219.1718163,
            "test": [
             1669.918927,
             0.9305283293
            ]
           },
           {
            "iteration": 1075,
            "learn": [
             1221.143362,
             0.9644159432
            ],
            "passed_time": 60.08247616,
            "remaining_time": 219.1111863,
            "test": [
             1670.00904,
             0.9305208314
            ]
           },
           {
            "iteration": 1076,
            "learn": [
             1220.98204,
             0.9644253444
            ],
            "passed_time": 60.13205319,
            "remaining_time": 219.0325391,
            "test": [
             1669.984941,
             0.9305228366
            ]
           },
           {
            "iteration": 1077,
            "learn": [
             1220.755414,
             0.9644385491
            ],
            "passed_time": 60.18894967,
            "remaining_time": 218.9805757,
            "test": [
             1670.032657,
             0.9305188662
            ]
           },
           {
            "iteration": 1078,
            "learn": [
             1219.75349,
             0.9644968986
            ],
            "passed_time": 60.24298441,
            "remaining_time": 218.9182038,
            "test": [
             1669.624184,
             0.9305528508
            ]
           },
           {
            "iteration": 1079,
            "learn": [
             1219.678739,
             0.96450125
            ],
            "passed_time": 60.29827249,
            "remaining_time": 218.8603964,
            "test": [
             1669.624535,
             0.9305528216
            ]
           },
           {
            "iteration": 1080,
            "learn": [
             1219.266564,
             0.9645252387
            ],
            "passed_time": 60.37783515,
            "remaining_time": 218.8905975,
            "test": [
             1669.622858,
             0.9305529611
            ]
           },
           {
            "iteration": 1081,
            "learn": [
             1218.723927,
             0.9645568079
            ],
            "passed_time": 60.48801526,
            "remaining_time": 219.0314638,
            "test": [
             1669.242345,
             0.9305846119
            ]
           },
           {
            "iteration": 1082,
            "learn": [
             1218.585384,
             0.9645648657
            ],
            "passed_time": 60.53573102,
            "remaining_time": 218.945945,
            "test": [
             1669.266003,
             0.9305826443
            ]
           },
           {
            "iteration": 1083,
            "learn": [
             1218.26252,
             0.9645836403
            ],
            "passed_time": 60.588341,
            "remaining_time": 218.8781765,
            "test": [
             1669.242091,
             0.9305846331
            ]
           },
           {
            "iteration": 1084,
            "learn": [
             1217.857787,
             0.9646071685
            ],
            "passed_time": 60.64016606,
            "remaining_time": 218.8076038,
            "test": [
             1669.317558,
             0.9305783564
            ]
           },
           {
            "iteration": 1085,
            "learn": [
             1217.177309,
             0.964646709
            ],
            "passed_time": 60.69210333,
            "remaining_time": 218.73747,
            "test": [
             1668.837308,
             0.9306182948
            ]
           },
           {
            "iteration": 1086,
            "learn": [
             1216.779837,
             0.9646697946
            ],
            "passed_time": 60.74066865,
            "remaining_time": 218.6552313,
            "test": [
             1668.67609,
             0.9306316993
            ]
           },
           {
            "iteration": 1087,
            "learn": [
             1216.37296,
             0.9646934187
            ],
            "passed_time": 60.79958913,
            "remaining_time": 218.6102874,
            "test": [
             1668.824923,
             0.9306193246
            ]
           },
           {
            "iteration": 1088,
            "learn": [
             1215.936574,
             0.9647187473
            ],
            "passed_time": 60.85881055,
            "remaining_time": 218.5663986,
            "test": [
             1668.873905,
             0.9306152517
            ]
           },
           {
            "iteration": 1089,
            "learn": [
             1215.708113,
             0.964732004
            ],
            "passed_time": 60.89585405,
            "remaining_time": 218.442926,
            "test": [
             1668.749839,
             0.9306255676
            ]
           },
           {
            "iteration": 1090,
            "learn": [
             1215.605556,
             0.9647379541
            ],
            "passed_time": 60.95271271,
            "remaining_time": 218.3906086,
            "test": [
             1668.777386,
             0.9306232772
            ]
           },
           {
            "iteration": 1091,
            "learn": [
             1215.252535,
             0.9647584319
            ],
            "passed_time": 61.00297948,
            "remaining_time": 218.3146921,
            "test": [
             1668.867993,
             0.9306157433
            ]
           },
           {
            "iteration": 1092,
            "learn": [
             1214.844777,
             0.9647820774
            ],
            "passed_time": 61.05729529,
            "remaining_time": 218.2532961,
            "test": [
             1668.646714,
             0.9306341417
            ]
           },
           {
            "iteration": 1093,
            "learn": [
             1214.550305,
             0.9647991486
            ],
            "passed_time": 61.1019045,
            "remaining_time": 218.1572568,
            "test": [
             1668.471159,
             0.9306487366
            ]
           },
           {
            "iteration": 1094,
            "learn": [
             1214.361254,
             0.9648101061
            ],
            "passed_time": 61.15591679,
            "remaining_time": 218.0948448,
            "test": [
             1668.496365,
             0.9306466412
            ]
           },
           {
            "iteration": 1095,
            "learn": [
             1213.853711,
             0.9648395152
            ],
            "passed_time": 61.20241466,
            "remaining_time": 218.0056814,
            "test": [
             1668.575308,
             0.9306400783
            ]
           },
           {
            "iteration": 1096,
            "learn": [
             1213.374982,
             0.9648672435
            ],
            "passed_time": 61.25278253,
            "remaining_time": 217.9303648,
            "test": [
             1668.48194,
             0.9306478404
            ]
           },
           {
            "iteration": 1097,
            "learn": [
             1213.323415,
             0.9648702296
            ],
            "passed_time": 61.3060546,
            "remaining_time": 217.8654144,
            "test": [
             1668.388107,
             0.9306556407
            ]
           },
           {
            "iteration": 1098,
            "learn": [
             1213.071558,
             0.9648848123
            ],
            "passed_time": 61.35810591,
            "remaining_time": 217.7961521,
            "test": [
             1668.421284,
             0.9306528827
            ]
           },
           {
            "iteration": 1099,
            "learn": [
             1212.983419,
             0.9648899149
            ],
            "passed_time": 61.40434712,
            "remaining_time": 217.7063216,
            "test": [
             1668.40418,
             0.9306543046
            ]
           },
           {
            "iteration": 1100,
            "learn": [
             1212.608947,
             0.9649115899
            ],
            "passed_time": 61.55676756,
            "remaining_time": 217.9925856,
            "test": [
             1668.450569,
             0.9306504483
            ]
           },
           {
            "iteration": 1101,
            "learn": [
             1212.40696,
             0.9649232785
            ],
            "passed_time": 61.6357475,
            "remaining_time": 218.0182793,
            "test": [
             1668.541108,
             0.9306429215
            ]
           },
           {
            "iteration": 1102,
            "learn": [
             1211.644213,
             0.9649673994
            ],
            "passed_time": 61.6939487,
            "remaining_time": 217.97037,
            "test": [
             1668.540016,
             0.9306430123
            ]
           },
           {
            "iteration": 1103,
            "learn": [
             1211.492644,
             0.9649761636
            ],
            "passed_time": 61.75205346,
            "remaining_time": 217.9221017,
            "test": [
             1668.535671,
             0.9306433735
            ]
           },
           {
            "iteration": 1104,
            "learn": [
             1211.465375,
             0.9649777402
            ],
            "passed_time": 61.80455961,
            "remaining_time": 217.8540812,
            "test": [
             1668.548805,
             0.9306422817
            ]
           },
           {
            "iteration": 1105,
            "learn": [
             1210.519445,
             0.9650324106
            ],
            "passed_time": 61.86235428,
            "remaining_time": 217.8047085,
            "test": [
             1668.440603,
             0.9306512768
            ]
           },
           {
            "iteration": 1106,
            "learn": [
             1210.198743,
             0.9650509361
            ],
            "passed_time": 61.91370769,
            "remaining_time": 217.7326685,
            "test": [
             1668.364782,
             0.9306575796
            ]
           },
           {
            "iteration": 1107,
            "learn": [
             1210.101158,
             0.9650565721
            ],
            "passed_time": 61.96852996,
            "remaining_time": 217.6728507,
            "test": [
             1668.416829,
             0.9306532531
            ]
           },
           {
            "iteration": 1108,
            "learn": [
             1209.839644,
             0.9650716737
            ],
            "passed_time": 62.02707835,
            "remaining_time": 217.6261153,
            "test": [
             1668.452357,
             0.9306502996
            ]
           },
           {
            "iteration": 1109,
            "learn": [
             1209.580872,
             0.9650866137
            ],
            "passed_time": 62.08043416,
            "remaining_time": 217.5611612,
            "test": [
             1668.396658,
             0.9306549299
            ]
           },
           {
            "iteration": 1110,
            "learn": [
             1208.990738,
             0.9651206727
            ],
            "passed_time": 62.13223205,
            "remaining_time": 217.4907745,
            "test": [
             1668.559583,
             0.9306413857
            ]
           },
           {
            "iteration": 1111,
            "learn": [
             1208.411094,
             0.96515411
            ],
            "passed_time": 62.18298645,
            "remaining_time": 217.4167728,
            "test": [
             1668.524506,
             0.9306443018
            ]
           },
           {
            "iteration": 1112,
            "learn": [
             1208.244449,
             0.9651637202
            ],
            "passed_time": 62.23147248,
            "remaining_time": 217.3348909,
            "test": [
             1668.570754,
             0.9306404569
            ]
           },
           {
            "iteration": 1113,
            "learn": [
             1208.089102,
             0.9651726776
            ],
            "passed_time": 62.2870279,
            "remaining_time": 217.2777293,
            "test": [
             1668.609477,
             0.9306372376
            ]
           },
           {
            "iteration": 1114,
            "learn": [
             1207.773289,
             0.965190884
            ],
            "passed_time": 62.33903105,
            "remaining_time": 217.2081934,
            "test": [
             1668.531359,
             0.930643732
            ]
           },
           {
            "iteration": 1115,
            "learn": [
             1207.565609,
             0.965202854
            ],
            "passed_time": 62.39020073,
            "remaining_time": 217.1357882,
            "test": [
             1668.453599,
             0.9306501964
            ]
           },
           {
            "iteration": 1116,
            "learn": [
             1207.430936,
             0.965210615
            ],
            "passed_time": 62.44104734,
            "remaining_time": 217.062298,
            "test": [
             1668.486927,
             0.9306474259
            ]
           },
           {
            "iteration": 1117,
            "learn": [
             1207.146335,
             0.9652270134
            ],
            "passed_time": 62.49658507,
            "remaining_time": 217.0051371,
            "test": [
             1668.530513,
             0.9306438024
            ]
           },
           {
            "iteration": 1118,
            "learn": [
             1206.729047,
             0.96525105
            ],
            "passed_time": 62.54948507,
            "remaining_time": 216.9388307,
            "test": [
             1668.577534,
             0.9306398932
            ]
           },
           {
            "iteration": 1119,
            "learn": [
             1206.619771,
             0.9652573431
            ],
            "passed_time": 62.68704537,
            "remaining_time": 217.1658358,
            "test": [
             1668.675692,
             0.9306317325
            ]
           },
           {
            "iteration": 1120,
            "learn": [
             1206.44825,
             0.9652672197
            ],
            "passed_time": 62.74016787,
            "remaining_time": 217.10001,
            "test": [
             1668.674993,
             0.9306317906
            ]
           },
           {
            "iteration": 1121,
            "learn": [
             1206.372442,
             0.9652715845
            ],
            "passed_time": 62.78900322,
            "remaining_time": 217.019389,
            "test": [
             1668.687619,
             0.9306307408
            ]
           },
           {
            "iteration": 1122,
            "learn": [
             1205.929038,
             0.9652971088
            ],
            "passed_time": 62.8493755,
            "remaining_time": 216.9786543,
            "test": [
             1668.51179,
             0.9306453589
            ]
           },
           {
            "iteration": 1123,
            "learn": [
             1205.800006,
             0.9653045347
            ],
            "passed_time": 62.88968863,
            "remaining_time": 216.8687127,
            "test": [
             1668.532562,
             0.930643632
            ]
           },
           {
            "iteration": 1124,
            "learn": [
             1205.248991,
             0.965336237
            ],
            "passed_time": 62.9405954,
            "remaining_time": 216.7953842,
            "test": [
             1668.338366,
             0.9306597755
            ]
           },
           {
            "iteration": 1125,
            "learn": [
             1204.955127,
             0.9653531384
            ],
            "passed_time": 62.99719229,
            "remaining_time": 216.7416722,
            "test": [
             1668.354989,
             0.9306583937
            ]
           },
           {
            "iteration": 1126,
            "learn": [
             1204.723718,
             0.9653664449
            ],
            "passed_time": 63.04696284,
            "remaining_time": 216.6644961,
            "test": [
             1668.112835,
             0.9306785215
            ]
           },
           {
            "iteration": 1127,
            "learn": [
             1204.582249,
             0.9653745783
            ],
            "passed_time": 63.09790188,
            "remaining_time": 216.5913795,
            "test": [
             1668.115433,
             0.9306783056
            ]
           },
           {
            "iteration": 1128,
            "learn": [
             1204.552913,
             0.9653762648
            ],
            "passed_time": 63.13562911,
            "remaining_time": 216.4730029,
            "test": [
             1668.124661,
             0.9306775386
            ]
           },
           {
            "iteration": 1129,
            "learn": [
             1204.000694,
             0.9654080035
            ],
            "passed_time": 63.18916983,
            "remaining_time": 216.4089267,
            "test": [
             1668.293655,
             0.9306634921
            ]
           },
           {
            "iteration": 1130,
            "learn": [
             1203.958291,
             0.9654104401
            ],
            "passed_time": 63.23906203,
            "remaining_time": 216.3323882,
            "test": [
             1668.253495,
             0.9306668302
            ]
           },
           {
            "iteration": 1131,
            "learn": [
             1203.931447,
             0.9654119825
            ],
            "passed_time": 63.27212614,
            "remaining_time": 216.1983957,
            "test": [
             1668.266037,
             0.9306657877
            ]
           },
           {
            "iteration": 1132,
            "learn": [
             1203.729631,
             0.9654235776
            ],
            "passed_time": 63.32791058,
            "remaining_time": 216.1421273,
            "test": [
             1668.10632,
             0.930679063
            ]
           },
           {
            "iteration": 1133,
            "learn": [
             1203.651888,
             0.9654280437
            ],
            "passed_time": 63.38467921,
            "remaining_time": 216.089215,
            "test": [
             1668.111362,
             0.9306786439
            ]
           },
           {
            "iteration": 1134,
            "learn": [
             1203.520359,
             0.9654355989
            ],
            "passed_time": 63.43826955,
            "remaining_time": 216.025473,
            "test": [
             1668.14372,
             0.9306759545
            ]
           },
           {
            "iteration": 1135,
            "learn": [
             1203.22877,
             0.9654523454
            ],
            "passed_time": 63.48464524,
            "remaining_time": 215.9372088,
            "test": [
             1668.182918,
             0.9306726965
            ]
           },
           {
            "iteration": 1136,
            "learn": [
             1202.902828,
             0.9654710601
            ],
            "passed_time": 63.53819646,
            "remaining_time": 215.8733975,
            "test": [
             1668.200974,
             0.9306711957
            ]
           },
           {
            "iteration": 1137,
            "learn": [
             1202.700868,
             0.9654826535
            ],
            "passed_time": 63.58969909,
            "remaining_time": 215.8026519,
            "test": [
             1668.121282,
             0.9306778194
            ]
           },
           {
            "iteration": 1138,
            "learn": [
             1202.657028,
             0.9654851699
            ],
            "passed_time": 63.63548931,
            "remaining_time": 215.7125761,
            "test": [
             1668.151217,
             0.9306753313
            ]
           },
           {
            "iteration": 1139,
            "learn": [
             1202.467115,
             0.9654960696
            ],
            "passed_time": 63.76903869,
            "remaining_time": 215.9197275,
            "test": [
             1668.204284,
             0.9306709205
            ]
           },
           {
            "iteration": 1140,
            "learn": [
             1202.3724,
             0.9655015049
            ],
            "passed_time": 63.83020416,
            "remaining_time": 215.8814705,
            "test": [
             1668.187542,
             0.9306723121
            ]
           },
           {
            "iteration": 1141,
            "learn": [
             1202.110959,
             0.9655165058
            ],
            "passed_time": 63.88768086,
            "remaining_time": 215.8307117,
            "test": [
             1668.250218,
             0.9306671026
            ]
           },
           {
            "iteration": 1142,
            "learn": [
             1201.78212,
             0.9655353692
            ],
            "passed_time": 63.94167847,
            "remaining_time": 215.7682011,
            "test": [
             1668.217299,
             0.9306698388
            ]
           },
           {
            "iteration": 1143,
            "learn": [
             1201.378038,
             0.9655585418
            ],
            "passed_time": 63.98677722,
            "remaining_time": 215.6757106,
            "test": [
             1668.150547,
             0.930675387
            ]
           },
           {
            "iteration": 1144,
            "learn": [
             1201.069216,
             0.9655762463
            ],
            "passed_time": 64.04403876,
            "remaining_time": 215.6242528,
            "test": [
             1668.071925,
             0.9306819216
            ]
           },
           {
            "iteration": 1145,
            "learn": [
             1200.889021,
             0.9655865747
            ],
            "passed_time": 64.09147478,
            "remaining_time": 215.5397415,
            "test": [
             1668.047001,
             0.9306839931
            ]
           },
           {
            "iteration": 1146,
            "learn": [
             1200.707992,
             0.9655969493
            ],
            "passed_time": 64.14433395,
            "remaining_time": 215.4735124,
            "test": [
             1668.085481,
             0.930680795
            ]
           },
           {
            "iteration": 1147,
            "learn": [
             1200.563279,
             0.9656052415
            ],
            "passed_time": 64.19229216,
            "remaining_time": 215.3908618,
            "test": [
             1668.122399,
             0.9306777265
            ]
           },
           {
            "iteration": 1148,
            "learn": [
             1200.472059,
             0.965610468
            ],
            "passed_time": 64.25230423,
            "remaining_time": 215.3486715,
            "test": [
             1668.145056,
             0.9306758434
            ]
           },
           {
            "iteration": 1149,
            "learn": [
             1200.370273,
             0.9656162994
            ],
            "passed_time": 64.3003564,
            "remaining_time": 215.2664106,
            "test": [
             1668.240474,
             0.9306679125
            ]
           },
           {
            "iteration": 1150,
            "learn": [
             1200.329124,
             0.9656186567
            ],
            "passed_time": 64.3572584,
            "remaining_time": 215.2138033,
            "test": [
             1668.247715,
             0.9306673106
            ]
           },
           {
            "iteration": 1151,
            "learn": [
             1200.085406,
             0.9656326171
            ],
            "passed_time": 64.41102894,
            "remaining_time": 215.1507286,
            "test": [
             1668.209419,
             0.9306704938
            ]
           },
           {
            "iteration": 1152,
            "learn": [
             1200.05409,
             0.9656344107
            ],
            "passed_time": 64.45374745,
            "remaining_time": 215.0507948,
            "test": [
             1668.166687,
             0.9306740455
            ]
           },
           {
            "iteration": 1153,
            "learn": [
             1199.8634,
             0.9656453312
            ],
            "passed_time": 64.52038293,
            "remaining_time": 215.0306696,
            "test": [
             1668.151061,
             0.9306753443
            ]
           },
           {
            "iteration": 1154,
            "learn": [
             1199.705062,
             0.9656543978
            ],
            "passed_time": 64.57648619,
            "remaining_time": 214.9754021,
            "test": [
             1668.166793,
             0.9306740367
            ]
           },
           {
            "iteration": 1155,
            "learn": [
             1199.515285,
             0.9656652629
            ],
            "passed_time": 64.63509708,
            "remaining_time": 214.9284716,
            "test": [
             1668.115043,
             0.930678338
            ]
           },
           {
            "iteration": 1156,
            "learn": [
             1199.338819,
             0.9656753645
            ],
            "passed_time": 64.69019926,
            "remaining_time": 214.8698667,
            "test": [
             1668.026023,
             0.9306857366
            ]
           },
           {
            "iteration": 1157,
            "learn": [
             1198.770065,
             0.9657079118
            ],
            "passed_time": 64.79535274,
            "remaining_time": 214.9773275,
            "test": [
             1667.893055,
             0.9306967869
            ]
           },
           {
            "iteration": 1158,
            "learn": [
             1198.676388,
             0.9657132711
            ],
            "passed_time": 64.89544109,
            "remaining_time": 215.0676352,
            "test": [
             1667.845296,
             0.9307007558
            ]
           },
           {
            "iteration": 1159,
            "learn": [
             1198.616161,
             0.9657167164
            ],
            "passed_time": 64.94811316,
            "remaining_time": 215.0006505,
            "test": [
             1667.862877,
             0.9306992948
            ]
           },
           {
            "iteration": 1160,
            "learn": [
             1198.343462,
             0.9657323143
            ],
            "passed_time": 65.00171612,
            "remaining_time": 214.9367684,
            "test": [
             1667.957028,
             0.9306914706
            ]
           },
           {
            "iteration": 1161,
            "learn": [
             1198.178568,
             0.9657417443
            ],
            "passed_time": 65.04941968,
            "remaining_time": 214.8534189,
            "test": [
             1667.981997,
             0.9306893954
            ]
           },
           {
            "iteration": 1162,
            "learn": [
             1198.101856,
             0.9657461308
            ],
            "passed_time": 65.09603616,
            "remaining_time": 214.7665441,
            "test": [
             1667.990697,
             0.9306886724
            ]
           },
           {
            "iteration": 1163,
            "learn": [
             1197.910129,
             0.9657570929
            ],
            "passed_time": 65.14768816,
            "remaining_time": 214.6963332,
            "test": [
             1667.98135,
             0.9306894492
            ]
           },
           {
            "iteration": 1164,
            "learn": [
             1197.771538,
             0.9657650159
            ],
            "passed_time": 65.20401161,
            "remaining_time": 214.6415318,
            "test": [
             1667.901482,
             0.9306960867
            ]
           },
           {
            "iteration": 1165,
            "learn": [
             1197.744714,
             0.9657665492
            ],
            "passed_time": 65.2519361,
            "remaining_time": 214.5591106,
            "test": [
             1667.863971,
             0.9306992039
            ]
           },
           {
            "iteration": 1166,
            "learn": [
             1197.576678,
             0.965776154
            ],
            "passed_time": 65.31335002,
            "remaining_time": 214.5210545,
            "test": [
             1667.72416,
             0.9307108219
            ]
           },
           {
            "iteration": 1167,
            "learn": [
             1197.333094,
             0.9657900747
            ],
            "passed_time": 65.37299549,
            "remaining_time": 214.4771564,
            "test": [
             1667.728397,
             0.9307104698
            ]
           },
           {
            "iteration": 1168,
            "learn": [
             1197.038473,
             0.9658069083
            ],
            "passed_time": 65.42474931,
            "remaining_time": 214.4073692,
            "test": [
             1667.761996,
             0.9307076779
            ]
           },
           {
            "iteration": 1169,
            "learn": [
             1196.846628,
             0.9658178674
            ],
            "passed_time": 65.47397596,
            "remaining_time": 214.3293401,
            "test": [
             1667.722483,
             0.9307109612
            ]
           },
           {
            "iteration": 1170,
            "learn": [
             1196.433696,
             0.9658414502
            ],
            "passed_time": 65.53105438,
            "remaining_time": 214.2770344,
            "test": [
             1667.588416,
             0.930722101
            ]
           },
           {
            "iteration": 1171,
            "learn": [
             1196.132799,
             0.9658586294
            ],
            "passed_time": 65.58402885,
            "remaining_time": 214.2113161,
            "test": [
             1667.658006,
             0.9307163188
            ]
           },
           {
            "iteration": 1172,
            "learn": [
             1196.109924,
             0.9658599352
            ],
            "passed_time": 65.64470802,
            "remaining_time": 214.1707567,
            "test": [
             1667.626773,
             0.9307189139
            ]
           },
           {
            "iteration": 1173,
            "learn": [
             1195.949711,
             0.9658690804
            ],
            "passed_time": 65.7023411,
            "remaining_time": 214.120236,
            "test": [
             1667.515895,
             0.9307281264
            ]
           },
           {
            "iteration": 1174,
            "learn": [
             1195.580546,
             0.9658901482
            ],
            "passed_time": 65.75545263,
            "remaining_time": 214.0549841,
            "test": [
             1667.407015,
             0.9307371724
            ]
           },
           {
            "iteration": 1175,
            "learn": [
             1195.349633,
             0.9659033228
            ],
            "passed_time": 65.8807497,
            "remaining_time": 214.2244786,
            "test": [
             1667.540475,
             0.9307260842
            ]
           },
           {
            "iteration": 1176,
            "learn": [
             1194.911623,
             0.9659283062
            ],
            "passed_time": 65.96364353,
            "remaining_time": 214.2557427,
            "test": [
             1667.523051,
             0.9307275319
            ]
           },
           {
            "iteration": 1177,
            "learn": [
             1194.638456,
             0.9659438826
            ],
            "passed_time": 66.01612051,
            "remaining_time": 214.1881261,
            "test": [
             1667.442978,
             0.9307341845
            ]
           },
           {
            "iteration": 1178,
            "learn": [
             1194.464794,
             0.9659537832
            ],
            "passed_time": 66.05947974,
            "remaining_time": 214.0909856,
            "test": [
             1667.415423,
             0.9307364738
            ]
           },
           {
            "iteration": 1179,
            "learn": [
             1194.338181,
             0.9659610006
            ],
            "passed_time": 66.10798549,
            "remaining_time": 214.0105971,
            "test": [
             1667.443654,
             0.9307341284
            ]
           },
           {
            "iteration": 1180,
            "learn": [
             1194.249913,
             0.9659660317
            ],
            "passed_time": 66.15917529,
            "remaining_time": 213.9389419,
            "test": [
             1667.363492,
             0.9307407881
            ]
           },
           {
            "iteration": 1181,
            "learn": [
             1194.066141,
             0.9659765053
            ],
            "passed_time": 66.21039219,
            "remaining_time": 213.8674089,
            "test": [
             1667.256094,
             0.93074971
            ]
           },
           {
            "iteration": 1182,
            "learn": [
             1193.933881,
             0.965984042
            ],
            "passed_time": 66.26629829,
            "remaining_time": 213.8110402,
            "test": [
             1667.117439,
             0.9307612278
            ]
           },
           {
            "iteration": 1183,
            "learn": [
             1193.704109,
             0.9659971334
            ],
            "passed_time": 66.31941675,
            "remaining_time": 213.7456878,
            "test": [
             1667.051026,
             0.9307667442
            ]
           },
           {
            "iteration": 1184,
            "learn": [
             1193.602981,
             0.9660028945
            ],
            "passed_time": 66.37222311,
            "remaining_time": 213.6793512,
            "test": [
             1667.086727,
             0.9307637788
            ]
           },
           {
            "iteration": 1185,
            "learn": [
             1193.128145,
             0.9660299384
            ],
            "passed_time": 66.42554242,
            "remaining_time": 213.614687,
            "test": [
             1667.019499,
             0.9307693628
            ]
           },
           {
            "iteration": 1186,
            "learn": [
             1192.95008,
             0.9660400772
            ],
            "passed_time": 66.47276486,
            "remaining_time": 213.530457,
            "test": [
             1667.034892,
             0.9307680843
            ]
           },
           {
            "iteration": 1187,
            "learn": [
             1192.637402,
             0.966057877
            ],
            "passed_time": 66.51563186,
            "remaining_time": 213.4323137,
            "test": [
             1666.890206,
             0.9307801014
            ]
           },
           {
            "iteration": 1188,
            "learn": [
             1192.387319,
             0.9660721101
            ],
            "passed_time": 66.56970339,
            "remaining_time": 213.3701763,
            "test": [
             1666.850239,
             0.9307834207
            ]
           },
           {
            "iteration": 1189,
            "learn": [
             1192.368509,
             0.9660731805
            ],
            "passed_time": 66.61564923,
            "remaining_time": 213.2820366,
            "test": [
             1666.853196,
             0.9307831752
            ]
           },
           {
            "iteration": 1190,
            "learn": [
             1191.903573,
             0.9660996333
            ],
            "passed_time": 66.66281755,
            "remaining_time": 213.1978775,
            "test": [
             1666.786486,
             0.9307887154
            ]
           },
           {
            "iteration": 1191,
            "learn": [
             1191.734824,
             0.9661092317
            ],
            "passed_time": 66.71161939,
            "remaining_time": 213.1189988,
            "test": [
             1666.808348,
             0.9307868997
            ]
           },
           {
            "iteration": 1192,
            "learn": [
             1191.458632,
             0.9661249388
            ],
            "passed_time": 66.76202804,
            "remaining_time": 213.0452982,
            "test": [
             1666.615066,
             0.9308029506
            ]
           },
           {
            "iteration": 1193,
            "learn": [
             1191.22836,
             0.9661380315
            ],
            "passed_time": 66.81687619,
            "remaining_time": 212.9857879,
            "test": [
             1666.532652,
             0.9308097941
            ]
           },
           {
            "iteration": 1194,
            "learn": [
             1191.097073,
             0.966145495
            ],
            "passed_time": 66.91766322,
            "remaining_time": 213.0725595,
            "test": [
             1666.645838,
             0.9308003954
            ]
           },
           {
            "iteration": 1195,
            "learn": [
             1190.877495,
             0.966157976
            ],
            "passed_time": 67.01861034,
            "remaining_time": 213.1595265,
            "test": [
             1666.689336,
             0.9307967832
            ]
           },
           {
            "iteration": 1196,
            "learn": [
             1190.760341,
             0.9661646341
            ],
            "passed_time": 67.06798773,
            "remaining_time": 213.082337,
            "test": [
             1666.493361,
             0.9308130566
            ]
           },
           {
            "iteration": 1197,
            "learn": [
             1190.525253,
             0.9661779928
            ],
            "passed_time": 67.12141319,
            "remaining_time": 213.0180409,
            "test": [
             1666.539492,
             0.9308092261
            ]
           },
           {
            "iteration": 1198,
            "learn": [
             1190.165113,
             0.9661984524
            ],
            "passed_time": 67.1750865,
            "remaining_time": 212.9545486,
            "test": [
             1666.717109,
             0.9307944768
            ]
           },
           {
            "iteration": 1199,
            "learn": [
             1190.041297,
             0.966205485
            ],
            "passed_time": 67.23341015,
            "remaining_time": 212.9057988,
            "test": [
             1666.698166,
             0.9307960499
            ]
           },
           {
            "iteration": 1200,
            "learn": [
             1189.715728,
             0.9662239733
            ],
            "passed_time": 67.28698024,
            "remaining_time": 212.8419966,
            "test": [
             1666.851352,
             0.9307833283
            ]
           },
           {
            "iteration": 1201,
            "learn": [
             1189.449179,
             0.9662391062
            ],
            "passed_time": 67.3407218,
            "remaining_time": 212.7787532,
            "test": [
             1666.872181,
             0.9307815984
            ]
           },
           {
            "iteration": 1202,
            "learn": [
             1189.314127,
             0.9662467724
            ],
            "passed_time": 67.38038095,
            "remaining_time": 212.6710777,
            "test": [
             1666.850045,
             0.9307834369
            ]
           },
           {
            "iteration": 1203,
            "learn": [
             1189.073603,
             0.9662604233
            ],
            "passed_time": 67.43321607,
            "remaining_time": 212.6050567,
            "test": [
             1666.850831,
             0.9307833715
            ]
           },
           {
            "iteration": 1204,
            "learn": [
             1188.923774,
             0.9662689255
            ],
            "passed_time": 67.49835204,
            "remaining_time": 212.5777975,
            "test": [
             1666.832952,
             0.9307848564
            ]
           },
           {
            "iteration": 1205,
            "learn": [
             1188.421523,
             0.9662974183
            ],
            "passed_time": 67.55957859,
            "remaining_time": 212.5381768,
            "test": [
             1666.730456,
             0.9307933684
            ]
           },
           {
            "iteration": 1206,
            "learn": [
             1188.266241,
             0.966306225
            ],
            "passed_time": 67.61425607,
            "remaining_time": 212.4779397,
            "test": [
             1666.708995,
             0.9307951506
            ]
           },
           {
            "iteration": 1207,
            "learn": [
             1188.099873,
             0.9663156592
            ],
            "passed_time": 67.67497157,
            "remaining_time": 212.4366657,
            "test": [
             1666.522175,
             0.930810664
            ]
           },
           {
            "iteration": 1208,
            "learn": [
             1188.059491,
             0.966317949
            ],
            "passed_time": 67.73046683,
            "remaining_time": 212.3789907,
            "test": [
             1666.500236,
             0.9308124857
            ]
           },
           {
            "iteration": 1209,
            "learn": [
             1187.529057,
             0.9663480183
            ],
            "passed_time": 67.78429134,
            "remaining_time": 212.3160861,
            "test": [
             1666.56672,
             0.9308069652
            ]
           },
           {
            "iteration": 1210,
            "learn": [
             1187.259062,
             0.9663633188
            ],
            "passed_time": 67.83827981,
            "remaining_time": 212.2537095,
            "test": [
             1666.508609,
             0.9308117905
            ]
           },
           {
            "iteration": 1211,
            "learn": [
             1187.165153,
             0.9663686397
            ],
            "passed_time": 67.90238478,
            "remaining_time": 212.222965,
            "test": [
             1666.5427,
             0.9308089597
            ]
           },
           {
            "iteration": 1212,
            "learn": [
             1186.739286,
             0.9663927642
            ],
            "passed_time": 68.02487787,
            "remaining_time": 212.3744538,
            "test": [
             1666.539394,
             0.9308092342
            ]
           },
           {
            "iteration": 1213,
            "learn": [
             1186.718956,
             0.9663939157
            ],
            "passed_time": 68.09945732,
            "remaining_time": 212.3760671,
            "test": [
             1666.555502,
             0.9308078967
            ]
           },
           {
            "iteration": 1214,
            "learn": [
             1186.585107,
             0.9664014961
            ],
            "passed_time": 68.18611798,
            "remaining_time": 212.4151906,
            "test": [
             1666.58984,
             0.9308050453
            ]
           },
           {
            "iteration": 1215,
            "learn": [
             1186.241659,
             0.9664209429
            ],
            "passed_time": 68.23869821,
            "remaining_time": 212.3480543,
            "test": [
             1666.579819,
             0.9308058775
            ]
           },
           {
            "iteration": 1216,
            "learn": [
             1186.231195,
             0.9664215353
            ],
            "passed_time": 68.28100679,
            "remaining_time": 212.2490129,
            "test": [
             1666.584482,
             0.9308054902
            ]
           },
           {
            "iteration": 1217,
            "learn": [
             1185.967581,
             0.9664364578
            ],
            "passed_time": 68.32999943,
            "remaining_time": 212.1708192,
            "test": [
             1666.596871,
             0.9308044615
            ]
           },
           {
            "iteration": 1218,
            "learn": [
             1185.1856,
             0.9664807042
            ],
            "passed_time": 68.39250847,
            "remaining_time": 212.1345976,
            "test": [
             1666.56527,
             0.9308070856
            ]
           },
           {
            "iteration": 1219,
            "learn": [
             1184.951146,
             0.9664939645
            ],
            "passed_time": 68.45955857,
            "remaining_time": 212.1124028,
            "test": [
             1666.49157,
             0.9308132052
            ]
           },
           {
            "iteration": 1220,
            "learn": [
             1184.764838,
             0.9665044999
            ],
            "passed_time": 68.51691635,
            "remaining_time": 212.0601367,
            "test": [
             1666.338515,
             0.9308259132
            ]
           },
           {
            "iteration": 1221,
            "learn": [
             1184.424176,
             0.9665237594
            ],
            "passed_time": 68.57548588,
            "remaining_time": 212.0116086,
            "test": [
             1666.320068,
             0.9308274448
            ]
           },
           {
            "iteration": 1222,
            "learn": [
             1184.193932,
             0.9665367733
            ],
            "passed_time": 68.63074298,
            "remaining_time": 211.9528342,
            "test": [
             1666.340154,
             0.9308257771
            ]
           },
           {
            "iteration": 1223,
            "learn": [
             1184.062482,
             0.966544202
            ],
            "passed_time": 68.68692269,
            "remaining_time": 211.8969118,
            "test": [
             1666.347532,
             0.9308251646
            ]
           },
           {
            "iteration": 1224,
            "learn": [
             1183.494282,
             0.9665763033
            ],
            "passed_time": 68.74272726,
            "remaining_time": 211.839833,
            "test": [
             1666.376188,
             0.9308227854
            ]
           },
           {
            "iteration": 1225,
            "learn": [
             1183.354144,
             0.9665842183
            ],
            "passed_time": 68.7971152,
            "remaining_time": 211.7783954,
            "test": [
             1666.293398,
             0.930829659
            ]
           },
           {
            "iteration": 1226,
            "learn": [
             1183.142902,
             0.9665961474
            ],
            "passed_time": 68.8452359,
            "remaining_time": 211.6976977,
            "test": [
             1666.314047,
             0.9308279447
            ]
           },
           {
            "iteration": 1227,
            "learn": [
             1182.839841,
             0.9666132579
            ],
            "passed_time": 68.89812909,
            "remaining_time": 211.6317125,
            "test": [
             1666.433341,
             0.9308180401
            ]
           },
           {
            "iteration": 1228,
            "learn": [
             1182.437887,
             0.9666359452
            ],
            "passed_time": 68.96116527,
            "remaining_time": 211.5968708,
            "test": [
             1666.257971,
             0.9308326003
            ]
           },
           {
            "iteration": 1229,
            "learn": [
             1182.20971,
             0.9666488206
            ],
            "passed_time": 69.05809613,
            "remaining_time": 211.6658719,
            "test": [
             1666.173971,
             0.9308395739
            ]
           },
           {
            "iteration": 1230,
            "learn": [
             1182.094759,
             0.9666553059
            ],
            "passed_time": 69.16015455,
            "remaining_time": 211.7503026,
            "test": [
             1666.109054,
             0.930844963
            ]
           },
           {
            "iteration": 1231,
            "learn": [
             1181.678336,
             0.9666787949
            ],
            "passed_time": 69.21545904,
            "remaining_time": 211.6914364,
            "test": [
             1666.041882,
             0.930850539
            ]
           },
           {
            "iteration": 1232,
            "learn": [
             1181.33656,
             0.966698067
            ],
            "passed_time": 69.27030685,
            "remaining_time": 211.6311808,
            "test": [
             1665.959219,
             0.9308574008
            ]
           },
           {
            "iteration": 1233,
            "learn": [
             1181.278101,
             0.9667013629
            ],
            "passed_time": 69.32284243,
            "remaining_time": 211.5638773,
            "test": [
             1665.995297,
             0.9308544061
            ]
           },
           {
            "iteration": 1234,
            "learn": [
             1181.188153,
             0.9667064337
            ],
            "passed_time": 69.38104739,
            "remaining_time": 211.5138813,
            "test": [
             1665.994479,
             0.9308544739
            ]
           },
           {
            "iteration": 1235,
            "learn": [
             1181.018147,
             0.9667160167
            ],
            "passed_time": 69.43064311,
            "remaining_time": 211.4376543,
            "test": [
             1666.021801,
             0.930852206
            ]
           },
           {
            "iteration": 1236,
            "learn": [
             1180.672425,
             0.9667355005
            ],
            "passed_time": 69.47733305,
            "remaining_time": 211.3526308,
            "test": [
             1665.953809,
             0.9308578499
            ]
           },
           {
            "iteration": 1237,
            "learn": [
             1180.570226,
             0.966741259
            ],
            "passed_time": 69.52042169,
            "remaining_time": 211.2567257,
            "test": [
             1665.944807,
             0.9308585971
            ]
           },
           {
            "iteration": 1238,
            "learn": [
             1180.378936,
             0.966752036
            ],
            "passed_time": 69.58203009,
            "remaining_time": 211.2171228,
            "test": [
             1665.932245,
             0.9308596398
            ]
           },
           {
            "iteration": 1239,
            "learn": [
             1180.102341,
             0.9667676161
            ],
            "passed_time": 69.6350488,
            "remaining_time": 211.1514383,
            "test": [
             1665.857057,
             0.9308658806
            ]
           },
           {
            "iteration": 1240,
            "learn": [
             1179.899184,
             0.9667790571
            ],
            "passed_time": 69.6847524,
            "remaining_time": 211.0757327,
            "test": [
             1665.795798,
             0.9308709651
            ]
           },
           {
            "iteration": 1241,
            "learn": [
             1179.555711,
             0.9667983957
            ],
            "passed_time": 69.74724313,
            "remaining_time": 211.0387598,
            "test": [
             1665.606954,
             0.930886638
            ]
           },
           {
            "iteration": 1242,
            "learn": [
             1179.428198,
             0.9668055737
            ],
            "passed_time": 69.80386963,
            "remaining_time": 210.9840211,
            "test": [
             1665.714885,
             0.9308776806
            ]
           },
           {
            "iteration": 1243,
            "learn": [
             1179.252006,
             0.9668154906
            ],
            "passed_time": 69.85773163,
            "remaining_time": 210.9209325,
            "test": [
             1665.689716,
             0.9308797695
            ]
           },
           {
            "iteration": 1244,
            "learn": [
             1179.152744,
             0.9668210769
            ],
            "passed_time": 69.93404218,
            "remaining_time": 210.925565,
            "test": [
             1665.66877,
             0.9308815078
            ]
           },
           {
            "iteration": 1245,
            "learn": [
             1179.043728,
             0.9668272117
            ],
            "passed_time": 69.9876961,
            "remaining_time": 210.8618067,
            "test": [
             1665.683732,
             0.9308802661
            ]
           },
           {
            "iteration": 1246,
            "learn": [
             1178.978567,
             0.9668308782
            ],
            "passed_time": 70.04528433,
            "remaining_time": 210.8099055,
            "test": [
             1665.728155,
             0.9308765793
            ]
           },
           {
            "iteration": 1247,
            "learn": [
             1178.611346,
             0.9668515376
            ],
            "passed_time": 70.14483256,
            "remaining_time": 210.884144,
            "test": [
             1665.600299,
             0.9308871903
            ]
           },
           {
            "iteration": 1248,
            "learn": [
             1178.187759,
             0.9668753601
            ],
            "passed_time": 70.23578565,
            "remaining_time": 210.9322914,
            "test": [
             1665.505537,
             0.9308950542
            ]
           },
           {
            "iteration": 1249,
            "learn": [
             1178.124039,
             0.966878943
            ],
            "passed_time": 70.28523785,
            "remaining_time": 210.8557136,
            "test": [
             1665.529068,
             0.9308931015
            ]
           },
           {
            "iteration": 1250,
            "learn": [
             1178.108215,
             0.9668798327
            ],
            "passed_time": 70.3307063,
            "remaining_time": 210.7672406,
            "test": [
             1665.53161,
             0.9308928905
            ]
           },
           {
            "iteration": 1251,
            "learn": [
             1178.078867,
             0.9668814828
            ],
            "passed_time": 70.3847601,
            "remaining_time": 210.7045374,
            "test": [
             1665.515622,
             0.9308942173
            ]
           },
           {
            "iteration": 1252,
            "learn": [
             1177.655143,
             0.9669053022
            ],
            "passed_time": 70.43729566,
            "remaining_time": 210.6373079,
            "test": [
             1665.535538,
             0.9308925646
            ]
           },
           {
            "iteration": 1253,
            "learn": [
             1177.364883,
             0.9669216141
            ],
            "passed_time": 70.4958866,
            "remaining_time": 210.5881908,
            "test": [
             1665.421547,
             0.9309020238
            ]
           },
           {
            "iteration": 1254,
            "learn": [
             1176.908109,
             0.9669472755
            ],
            "passed_time": 70.55341129,
            "remaining_time": 210.5358767,
            "test": [
             1665.116532,
             0.9309273315
            ]
           },
           {
            "iteration": 1255,
            "learn": [
             1176.699275,
             0.9669590044
            ],
            "passed_time": 70.61459462,
            "remaining_time": 210.4944604,
            "test": [
             1665.107829,
             0.9309280535
            ]
           },
           {
            "iteration": 1256,
            "learn": [
             1176.594879,
             0.9669648669
            ],
            "passed_time": 70.66987927,
            "remaining_time": 210.435448,
            "test": [
             1665.112206,
             0.9309276904
            ]
           },
           {
            "iteration": 1257,
            "learn": [
             1176.503393,
             0.966970004
            ],
            "passed_time": 70.72329685,
            "remaining_time": 210.3708878,
            "test": [
             1665.079321,
             0.9309304187
            ]
           },
           {
            "iteration": 1258,
            "learn": [
             1176.164297,
             0.9669890413
            ],
            "passed_time": 70.78252429,
            "remaining_time": 210.3236087,
            "test": [
             1664.877331,
             0.9309471752
            ]
           },
           {
            "iteration": 1259,
            "learn": [
             1176.020302,
             0.9669971237
            ],
            "passed_time": 70.83830192,
            "remaining_time": 210.2660708,
            "test": [
             1664.830766,
             0.9309510378
            ]
           },
           {
            "iteration": 1260,
            "learn": [
             1175.695541,
             0.9670153488
            ],
            "passed_time": 70.89021032,
            "remaining_time": 210.197063,
            "test": [
             1664.735868,
             0.9309589094
            ]
           },
           {
            "iteration": 1261,
            "learn": [
             1175.507949,
             0.9670258739
            ],
            "passed_time": 70.94703541,
            "remaining_time": 210.1426453,
            "test": [
             1664.747943,
             0.9309579079
            ]
           },
           {
            "iteration": 1262,
            "learn": [
             1175.168403,
             0.9670449204
            ],
            "passed_time": 71.00458202,
            "remaining_time": 210.0903587,
            "test": [
             1664.695995,
             0.9309622167
            ]
           },
           {
            "iteration": 1263,
            "learn": [
             1175.141279,
             0.9670464416
            ],
            "passed_time": 71.0574911,
            "remaining_time": 210.0243566,
            "test": [
             1664.746158,
             0.9309580559
            ]
           },
           {
            "iteration": 1264,
            "learn": [
             1174.758932,
             0.9670678818
            ],
            "passed_time": 71.10964417,
            "remaining_time": 209.9561431,
            "test": [
             1664.634102,
             0.9309673502
            ]
           },
           {
            "iteration": 1265,
            "learn": [
             1174.343792,
             0.967091153
            ],
            "passed_time": 71.21098521,
            "remaining_time": 210.0330322,
            "test": [
             1664.580613,
             0.9309717865
            ]
           },
           {
            "iteration": 1266,
            "learn": [
             1174.110369,
             0.9671042342
            ],
            "passed_time": 71.36294815,
            "remaining_time": 210.2587888,
            "test": [
             1664.449835,
             0.9309826325
            ]
           },
           {
            "iteration": 1267,
            "learn": [
             1174.033238,
             0.9671085562
            ],
            "passed_time": 71.41618439,
            "remaining_time": 210.1933755,
            "test": [
             1664.431943,
             0.9309841163
            ]
           },
           {
            "iteration": 1268,
            "learn": [
             1173.938487,
             0.967113865
            ],
            "passed_time": 71.46709307,
            "remaining_time": 210.1211381,
            "test": [
             1664.439634,
             0.9309834785
            ]
           },
           {
            "iteration": 1269,
            "learn": [
             1173.472747,
             0.9671399538
            ],
            "passed_time": 71.53088224,
            "remaining_time": 210.0867644,
            "test": [
             1664.47468,
             0.930980572
            ]
           },
           {
            "iteration": 1270,
            "learn": [
             1173.301147,
             0.9671495635
            ],
            "passed_time": 71.57819213,
            "remaining_time": 210.0039956,
            "test": [
             1664.436531,
             0.9309837358
            ]
           },
           {
            "iteration": 1271,
            "learn": [
             1173.188992,
             0.9671558436
            ],
            "passed_time": 71.63387612,
            "remaining_time": 209.9458256,
            "test": [
             1664.4451,
             0.9309830252
            ]
           },
           {
            "iteration": 1272,
            "learn": [
             1173.153146,
             0.9671578506
            ],
            "passed_time": 71.68418585,
            "remaining_time": 209.8719251,
            "test": [
             1664.442852,
             0.9309832116
            ]
           },
           {
            "iteration": 1273,
            "learn": [
             1173.100736,
             0.9671607849
            ],
            "passed_time": 71.73986051,
            "remaining_time": 209.8137522,
            "test": [
             1664.422512,
             0.9309848984
            ]
           },
           {
            "iteration": 1274,
            "learn": [
             1172.83561,
             0.9671756269
            ],
            "passed_time": 71.79006629,
            "remaining_time": 209.7396054,
            "test": [
             1664.258572,
             0.9309984933
            ]
           },
           {
            "iteration": 1275,
            "learn": [
             1172.379232,
             0.9672011674
            ],
            "passed_time": 71.84179043,
            "remaining_time": 209.6699276,
            "test": [
             1664.064305,
             0.9310146012
            ]
           },
           {
            "iteration": 1276,
            "learn": [
             1172.051824,
             0.9672194841
            ],
            "passed_time": 71.8999164,
            "remaining_time": 209.6189419,
            "test": [
             1663.993123,
             0.931020503
            ]
           },
           {
            "iteration": 1277,
            "learn": [
             1172.037644,
             0.9672202773
            ],
            "passed_time": 71.95555791,
            "remaining_time": 209.5607094,
            "test": [
             1663.995176,
             0.9310203328
            ]
           },
           {
            "iteration": 1278,
            "learn": [
             1171.856851,
             0.9672303894
            ],
            "passed_time": 72.00342525,
            "remaining_time": 209.4798634,
            "test": [
             1663.884224,
             0.9310295313
            ]
           },
           {
            "iteration": 1279,
            "learn": [
             1171.742963,
             0.9672367586
            ],
            "passed_time": 72.05762608,
            "remaining_time": 209.4174758,
            "test": [
             1663.921839,
             0.9310264129
            ]
           },
           {
            "iteration": 1280,
            "learn": [
             1171.702865,
             0.9672390009
            ],
            "passed_time": 72.11201422,
            "remaining_time": 209.3556447,
            "test": [
             1663.922402,
             0.9310263662
            ]
           },
           {
            "iteration": 1281,
            "learn": [
             1171.454876,
             0.9672528671
            ],
            "passed_time": 72.16206095,
            "remaining_time": 209.2812345,
            "test": [
             1663.809978,
             0.9310356864
            ]
           },
           {
            "iteration": 1282,
            "learn": [
             1171.205263,
             0.9672668211
            ],
            "passed_time": 72.21560232,
            "remaining_time": 209.2169866,
            "test": [
             1663.864895,
             0.9310311337
            ]
           },
           {
            "iteration": 1283,
            "learn": [
             1171.159657,
             0.9672693703
            ],
            "passed_time": 72.26601076,
            "remaining_time": 209.1436885,
            "test": [
             1663.855723,
             0.9310318941
            ]
           },
           {
            "iteration": 1284,
            "learn": [
             1170.905076,
             0.9672835984
            ],
            "passed_time": 72.39653233,
            "remaining_time": 209.302037,
            "test": [
             1663.628283,
             0.931050748
            ]
           },
           {
            "iteration": 1285,
            "learn": [
             1170.756069,
             0.9672919247
            ],
            "passed_time": 72.46796466,
            "remaining_time": 209.2892852,
            "test": [
             1663.52708,
             0.9310591364
            ]
           },
           {
            "iteration": 1286,
            "learn": [
             1170.69403,
             0.967295391
            ],
            "passed_time": 72.52287172,
            "remaining_time": 209.2287667,
            "test": [
             1663.487243,
             0.9310624382
            ]
           },
           {
            "iteration": 1287,
            "learn": [
             1170.518673,
             0.9673051879
            ],
            "passed_time": 72.57514581,
            "remaining_time": 209.1606687,
            "test": [
             1663.386181,
             0.9310708144
            ]
           },
           {
            "iteration": 1288,
            "learn": [
             1170.275097,
             0.9673187936
            ],
            "passed_time": 72.63917151,
            "remaining_time": 209.1264278,
            "test": [
             1663.468117,
             0.9310640235
            ]
           },
           {
            "iteration": 1289,
            "learn": [
             1170.035619,
             0.9673321675
            ],
            "passed_time": 72.68844243,
            "remaining_time": 209.0497065,
            "test": [
             1663.479691,
             0.9310630642
            ]
           },
           {
            "iteration": 1290,
            "learn": [
             1169.744976,
             0.9673483953
            ],
            "passed_time": 72.74679169,
            "remaining_time": 208.9991095,
            "test": [
             1663.236609,
             0.9310832101
            ]
           },
           {
            "iteration": 1291,
            "learn": [
             1169.58456,
             0.9673573502
            ],
            "passed_time": 72.79970175,
            "remaining_time": 208.9328902,
            "test": [
             1663.081865,
             0.9310960333
            ]
           },
           {
            "iteration": 1292,
            "learn": [
             1169.43734,
             0.9673655674
            ],
            "passed_time": 72.84772693,
            "remaining_time": 208.8526866,
            "test": [
             1663.089296,
             0.9310954174
            ]
           },
           {
            "iteration": 1293,
            "learn": [
             1169.251794,
             0.9673759223
            ],
            "passed_time": 72.89675677,
            "remaining_time": 208.77541,
            "test": [
             1663.019189,
             0.9311012266
            ]
           },
           {
            "iteration": 1294,
            "learn": [
             1168.719536,
             0.9674056173
            ],
            "passed_time": 72.9538637,
            "remaining_time": 208.7212857,
            "test": [
             1663.101477,
             0.9310944081
            ]
           },
           {
            "iteration": 1295,
            "learn": [
             1168.485623,
             0.9674186632
            ],
            "passed_time": 73.00671562,
            "remaining_time": 208.6549959,
            "test": [
             1663.122816,
             0.9310926398
            ]
           },
           {
            "iteration": 1296,
            "learn": [
             1168.113261,
             0.9674394253
            ],
            "passed_time": 73.06037868,
            "remaining_time": 208.5910426,
            "test": [
             1663.174781,
             0.9310883337
            ]
           },
           {
            "iteration": 1297,
            "learn": [
             1167.829276,
             0.9674552552
            ],
            "passed_time": 73.11559352,
            "remaining_time": 208.531531,
            "test": [
             1663.308446,
             0.9310772567
            ]
           },
           {
            "iteration": 1298,
            "learn": [
             1167.640326,
             0.9674657856
            ],
            "passed_time": 73.16452285,
            "remaining_time": 208.4541178,
            "test": [
             1663.391443,
             0.9310703782
            ]
           },
           {
            "iteration": 1299,
            "learn": [
             1167.534346,
             0.9674716912
            ],
            "passed_time": 73.22380248,
            "remaining_time": 208.4062071,
            "test": [
             1663.344028,
             0.9310743079
            ]
           },
           {
            "iteration": 1300,
            "learn": [
             1167.385661,
             0.9674799756
            ],
            "passed_time": 73.27790136,
            "remaining_time": 208.3435489,
            "test": [
             1663.269959,
             0.9310804463
            ]
           },
           {
            "iteration": 1301,
            "learn": [
             1167.324923,
             0.9674833595
            ],
            "passed_time": 73.32710294,
            "remaining_time": 208.2669944,
            "test": [
             1663.283261,
             0.9310793439
            ]
           },
           {
            "iteration": 1302,
            "learn": [
             1167.067896,
             0.9674976773
            ],
            "passed_time": 73.43940921,
            "remaining_time": 208.3695287,
            "test": [
             1663.334376,
             0.9310751078
            ]
           },
           {
            "iteration": 1303,
            "learn": [
             1166.846744,
             0.9675099941
            ],
            "passed_time": 73.52052878,
            "remaining_time": 208.3833392,
            "test": [
             1663.352357,
             0.9310736176
            ]
           },
           {
            "iteration": 1304,
            "learn": [
             1166.72359,
             0.9675168519
            ],
            "passed_time": 73.58239371,
            "remaining_time": 208.3424864,
            "test": [
             1663.235482,
             0.9310833035
            ]
           },
           {
            "iteration": 1305,
            "learn": [
             1166.534967,
             0.9675273541
            ],
            "passed_time": 73.64167978,
            "remaining_time": 208.2943071,
            "test": [
             1663.209381,
             0.9310854665
            ]
           },
           {
            "iteration": 1306,
            "learn": [
             1166.413671,
             0.9675341068
            ],
            "passed_time": 73.68857686,
            "remaining_time": 208.2111051,
            "test": [
             1663.157527,
             0.9310897635
            ]
           },
           {
            "iteration": 1307,
            "learn": [
             1166.134698,
             0.9675496348
            ],
            "passed_time": 73.74148697,
            "remaining_time": 208.1449311,
            "test": [
             1663.319132,
             0.9310763711
            ]
           },
           {
            "iteration": 1308,
            "learn": [
             1165.91147,
             0.9675620573
            ],
            "passed_time": 73.7864465,
            "remaining_time": 208.0563591,
            "test": [
             1663.200398,
             0.9310862108
            ]
           },
           {
            "iteration": 1309,
            "learn": [
             1165.746399,
             0.9675712418
            ],
            "passed_time": 73.84250754,
            "remaining_time": 207.9991243,
            "test": [
             1663.19457,
             0.9310866938
            ]
           },
           {
            "iteration": 1310,
            "learn": [
             1165.401126,
             0.9675904486
            ],
            "passed_time": 73.89198296,
            "remaining_time": 207.9233601,
            "test": [
             1662.939866,
             0.9311077991
            ]
           },
           {
            "iteration": 1311,
            "learn": [
             1165.324534,
             0.9675947085
            ],
            "passed_time": 73.94856951,
            "remaining_time": 207.8676253,
            "test": [
             1663.058844,
             0.9310979408
            ]
           },
           {
            "iteration": 1312,
            "learn": [
             1165.162539,
             0.9676037173
            ],
            "passed_time": 74.01833909,
            "remaining_time": 207.848908,
            "test": [
             1663.005914,
             0.9311023266
            ]
           },
           {
            "iteration": 1313,
            "learn": [
             1164.859565,
             0.967620563
            ],
            "passed_time": 74.06695616,
            "remaining_time": 207.7707766,
            "test": [
             1662.99545,
             0.9311031937
            ]
           },
           {
            "iteration": 1314,
            "learn": [
             1164.718785,
             0.967628389
            ],
            "passed_time": 74.11800813,
            "remaining_time": 207.6995133,
            "test": [
             1662.890922,
             0.9311118544
            ]
           },
           {
            "iteration": 1315,
            "learn": [
             1164.543772,
             0.9676381167
            ],
            "passed_time": 74.16980173,
            "remaining_time": 207.6303568,
            "test": [
             1662.837079,
             0.9311163154
            ]
           },
           {
            "iteration": 1316,
            "learn": [
             1164.443191,
             0.9676437066
            ],
            "passed_time": 74.21697199,
            "remaining_time": 207.5482975,
            "test": [
             1662.86168,
             0.9311142772
            ]
           },
           {
            "iteration": 1317,
            "learn": [
             1164.158442,
             0.9676595293
            ],
            "passed_time": 74.26947411,
            "remaining_time": 207.4811864,
            "test": [
             1662.78559,
             0.9311205813
            ]
           },
           {
            "iteration": 1318,
            "learn": [
             1163.71322,
             0.9676842612
            ],
            "passed_time": 74.32088879,
            "remaining_time": 207.4110626,
            "test": [
             1663.023176,
             0.9311008963
            ]
           },
           {
            "iteration": 1319,
            "learn": [
             1163.530512,
             0.9676944078
            ],
            "passed_time": 74.35604526,
            "remaining_time": 207.2956413,
            "test": [
             1663.038239,
             0.9310996482
            ]
           },
           {
            "iteration": 1320,
            "learn": [
             1162.849226,
             0.9677322287
            ],
            "passed_time": 74.40428719,
            "remaining_time": 207.2167847,
            "test": [
             1663.228793,
             0.9310838578
            ]
           },
           {
            "iteration": 1321,
            "learn": [
             1162.664851,
             0.9677424604
            ],
            "passed_time": 74.51620873,
            "remaining_time": 207.3151405,
            "test": [
             1663.191221,
             0.9310869714
            ]
           },
           {
            "iteration": 1322,
            "learn": [
             1162.447525,
             0.9677545184
            ],
            "passed_time": 74.62082743,
            "remaining_time": 207.3928817,
            "test": [
             1663.288827,
             0.9310788826
            ]
           },
           {
            "iteration": 1323,
            "learn": [
             1162.188862,
             0.9677688671
            ],
            "passed_time": 74.69060328,
            "remaining_time": 207.3736085,
            "test": [
             1663.283249,
             0.9310793449
            ]
           },
           {
            "iteration": 1324,
            "learn": [
             1162.152529,
             0.9677708823
            ],
            "passed_time": 74.74753387,
            "remaining_time": 207.3186317,
            "test": [
             1663.306308,
             0.9310774339
            ]
           },
           {
            "iteration": 1325,
            "learn": [
             1162.091475,
             0.9677742685
            ],
            "passed_time": 74.79808373,
            "remaining_time": 207.2459726,
            "test": [
             1663.297522,
             0.9310781621
            ]
           },
           {
            "iteration": 1326,
            "learn": [
             1161.927828,
             0.967783344
            ],
            "passed_time": 74.84859523,
            "remaining_time": 207.1732406,
            "test": [
             1663.32755,
             0.9310756735
            ]
           },
           {
            "iteration": 1327,
            "learn": [
             1161.616989,
             0.9678005789
            ],
            "passed_time": 74.89848315,
            "remaining_time": 207.0988179,
            "test": [
             1663.29335,
             0.9310785078
            ]
           },
           {
            "iteration": 1328,
            "learn": [
             1161.459509,
             0.9678093088
            ],
            "passed_time": 74.9449426,
            "remaining_time": 207.0149618,
            "test": [
             1663.223762,
             0.9310842747
            ]
           },
           {
            "iteration": 1329,
            "learn": [
             1161.207423,
             0.9678232808
            ],
            "passed_time": 75.00373941,
            "remaining_time": 206.9652057,
            "test": [
             1663.269648,
             0.931080472
            ]
           },
           {
            "iteration": 1330,
            "learn": [
             1161.045442,
             0.9678322571
            ],
            "passed_time": 75.05502868,
            "remaining_time": 206.894741,
            "test": [
             1663.220825,
             0.9310845181
            ]
           },
           {
            "iteration": 1331,
            "learn": [
             1160.961932,
             0.9678368844
            ],
            "passed_time": 75.11206006,
            "remaining_time": 206.8401173,
            "test": [
             1663.133375,
             0.9310917649
            ]
           },
           {
            "iteration": 1332,
            "learn": [
             1160.876539,
             0.9678416156
            ],
            "passed_time": 75.1658645,
            "remaining_time": 206.776613,
            "test": [
             1663.103187,
             0.9310942664
            ]
           },
           {
            "iteration": 1333,
            "learn": [
             1160.723285,
             0.9678501059
            ],
            "passed_time": 75.23149139,
            "remaining_time": 206.7456128,
            "test": [
             1663.033858,
             0.9311000111
            ]
           },
           {
            "iteration": 1334,
            "learn": [
             1160.593922,
             0.9678572717
            ],
            "passed_time": 75.27900917,
            "remaining_time": 206.6648454,
            "test": [
             1663.038811,
             0.9310996007
            ]
           },
           {
            "iteration": 1335,
            "learn": [
             1160.338597,
             0.9678714126
            ],
            "passed_time": 75.33590412,
            "remaining_time": 206.6098448,
            "test": [
             1663.001022,
             0.9311027319
            ]
           },
           {
            "iteration": 1336,
            "learn": [
             1160.073556,
             0.9678860884
            ],
            "passed_time": 75.38906361,
            "remaining_time": 206.5446073,
            "test": [
             1662.94864,
             0.9311070722
            ]
           },
           {
            "iteration": 1337,
            "learn": [
             1159.97214,
             0.9678917031
            ],
            "passed_time": 75.44327416,
            "remaining_time": 206.4822646,
            "test": [
             1662.958642,
             0.9311062434
            ]
           },
           {
            "iteration": 1338,
            "learn": [
             1159.890562,
             0.9678962191
            ],
            "passed_time": 75.48921789,
            "remaining_time": 206.3973314,
            "test": [
             1663.000756,
             0.931102754
            ]
           },
           {
            "iteration": 1339,
            "learn": [
             1159.715372,
             0.9679059163
            ],
            "passed_time": 75.56239218,
            "remaining_time": 206.3868324,
            "test": [
             1663.00446,
             0.9311024471
            ]
           },
           {
            "iteration": 1340,
            "learn": [
             1159.633439,
             0.967910451
            ],
            "passed_time": 75.68491369,
            "remaining_time": 206.5108868,
            "test": [
             1662.993979,
             0.9311033155
            ]
           },
           {
            "iteration": 1341,
            "learn": [
             1159.541272,
             0.9679155517
            ],
            "passed_time": 75.73077718,
            "remaining_time": 206.4256207,
            "test": [
             1662.915213,
             0.9311098418
            ]
           },
           {
            "iteration": 1342,
            "learn": [
             1159.166634,
             0.9679362808
            ],
            "passed_time": 75.78769457,
            "remaining_time": 206.3705131,
            "test": [
             1662.800974,
             0.9311193067
            ]
           },
           {
            "iteration": 1343,
            "learn": [
             1158.889468,
             0.9679516123
            ],
            "passed_time": 75.83679131,
            "remaining_time": 206.2941288,
            "test": [
             1662.813805,
             0.9311182437
            ]
           },
           {
            "iteration": 1344,
            "learn": [
             1158.805685,
             0.9679562461
            ],
            "passed_time": 75.88689354,
            "remaining_time": 206.2205174,
            "test": [
             1662.792726,
             0.9311199901
            ]
           },
           {
            "iteration": 1345,
            "learn": [
             1158.646394,
             0.9679650551
            ],
            "passed_time": 75.94286853,
            "remaining_time": 206.1628838,
            "test": [
             1662.746422,
             0.9311238262
            ]
           },
           {
            "iteration": 1346,
            "learn": [
             1158.361103,
             0.9679808289
            ],
            "passed_time": 76.00209375,
            "remaining_time": 206.1140672,
            "test": [
             1662.698564,
             0.9311277911
            ]
           },
           {
            "iteration": 1347,
            "learn": [
             1158.105256,
             0.9679949715
            ],
            "passed_time": 76.04343654,
            "remaining_time": 206.016788,
            "test": [
             1662.358054,
             0.9311559973
            ]
           },
           {
            "iteration": 1348,
            "learn": [
             1157.98,
             0.9680018942
            ],
            "passed_time": 76.09970511,
            "remaining_time": 205.9599877,
            "test": [
             1662.369585,
             0.9311550422
            ]
           },
           {
            "iteration": 1349,
            "learn": [
             1157.744975,
             0.9680148816
            ],
            "passed_time": 76.15384501,
            "remaining_time": 205.8974328,
            "test": [
             1662.425638,
             0.9311503994
            ]
           },
           {
            "iteration": 1350,
            "learn": [
             1157.557839,
             0.9680252208
            ],
            "passed_time": 76.20329087,
            "remaining_time": 205.822212,
            "test": [
             1662.538063,
             0.9311410869
            ]
           },
           {
            "iteration": 1351,
            "learn": [
             1157.329826,
             0.9680378162
            ],
            "passed_time": 76.25427994,
            "remaining_time": 205.7511932,
            "test": [
             1662.481603,
             0.9311457637
            ]
           },
           {
            "iteration": 1352,
            "learn": [
             1156.712472,
             0.9680719062
            ],
            "passed_time": 76.30684645,
            "remaining_time": 205.684456,
            "test": [
             1662.406285,
             0.9311520025
            ]
           },
           {
            "iteration": 1353,
            "learn": [
             1156.680042,
             0.9680736965
            ],
            "passed_time": 76.36610792,
            "remaining_time": 205.6357677,
            "test": [
             1662.404337,
             0.9311521638
            ]
           },
           {
            "iteration": 1354,
            "learn": [
             1156.580203,
             0.9680792078
            ],
            "passed_time": 76.41505015,
            "remaining_time": 205.5593047,
            "test": [
             1662.435986,
             0.9311495423
            ]
           },
           {
            "iteration": 1355,
            "learn": [
             1156.441845,
             0.9680868444
            ],
            "passed_time": 76.47042328,
            "remaining_time": 205.500164,
            "test": [
             1662.445192,
             0.9311487798
            ]
           },
           {
            "iteration": 1356,
            "learn": [
             1156.358349,
             0.9680914526
            ],
            "passed_time": 76.52864625,
            "remaining_time": 205.4486797,
            "test": [
             1662.432359,
             0.9311498427
            ]
           },
           {
            "iteration": 1357,
            "learn": [
             1156.233226,
             0.9680983575
            ],
            "passed_time": 76.58303546,
            "remaining_time": 205.3869036,
            "test": [
             1662.486677,
             0.9311453435
            ]
           },
           {
            "iteration": 1358,
            "learn": [
             1156.074273,
             0.9681071282
            ],
            "passed_time": 76.66881638,
            "remaining_time": 205.4092424,
            "test": [
             1662.487598,
             0.9311452671
            ]
           },
           {
            "iteration": 1359,
            "learn": [
             1155.809135,
             0.9681217554
            ],
            "passed_time": 76.77492358,
            "remaining_time": 205.4858249,
            "test": [
             1662.525646,
             0.9311421155
            ]
           },
           {
            "iteration": 1360,
            "learn": [
             1155.702081,
             0.9681276604
            ],
            "passed_time": 76.83023747,
            "remaining_time": 205.4263293,
            "test": [
             1662.618009,
             0.9311344644
            ]
           },
           {
            "iteration": 1361,
            "learn": [
             1155.59785,
             0.9681334092
            ],
            "passed_time": 76.88701413,
            "remaining_time": 205.370747,
            "test": [
             1662.60927,
             0.9311351883
            ]
           },
           {
            "iteration": 1362,
            "learn": [
             1155.529147,
             0.9681371982
            ],
            "passed_time": 76.92901912,
            "remaining_time": 205.2757465,
            "test": [
             1662.588835,
             0.9311368811
            ]
           },
           {
            "iteration": 1363,
            "learn": [
             1155.190244,
             0.9681558854
            ],
            "passed_time": 76.98718052,
            "remaining_time": 205.2238918,
            "test": [
             1662.318785,
             0.9311592498
            ]
           },
           {
            "iteration": 1364,
            "learn": [
             1155.152326,
             0.9681579759
            ],
            "passed_time": 77.04658178,
            "remaining_time": 205.1753295,
            "test": [
             1662.334026,
             0.9311579874
            ]
           },
           {
            "iteration": 1365,
            "learn": [
             1154.799611,
             0.9681774182
            ],
            "passed_time": 77.09968083,
            "remaining_time": 205.1099854,
            "test": [
             1662.379882,
             0.9311541893
            ]
           },
           {
            "iteration": 1366,
            "learn": [
             1154.702297,
             0.9681827813
            ],
            "passed_time": 77.14862295,
            "remaining_time": 205.0336117,
            "test": [
             1662.423326,
             0.931150591
            ]
           },
           {
            "iteration": 1367,
            "learn": [
             1154.400522,
             0.9681994097
            ],
            "passed_time": 77.20136573,
            "remaining_time": 204.9673687,
            "test": [
             1662.645017,
             0.931132227
            ]
           },
           {
            "iteration": 1368,
            "learn": [
             1153.725542,
             0.9682365865
            ],
            "passed_time": 77.24816617,
            "remaining_time": 204.8853845,
            "test": [
             1662.797046,
             0.9311196321
            ]
           },
           {
            "iteration": 1369,
            "learn": [
             1153.637504,
             0.9682414339
            ],
            "passed_time": 77.30413129,
            "remaining_time": 204.8277347,
            "test": [
             1662.791496,
             0.931120092
            ]
           },
           {
            "iteration": 1370,
            "learn": [
             1153.565636,
             0.9682453907
            ],
            "passed_time": 77.36194631,
            "remaining_time": 204.7749841,
            "test": [
             1662.796085,
             0.9311197118
            ]
           },
           {
            "iteration": 1371,
            "learn": [
             1153.320769,
             0.9682588704
            ],
            "passed_time": 77.41710335,
            "remaining_time": 204.7151975,
            "test": [
             1662.754553,
             0.9311231526
            ]
           },
           {
            "iteration": 1372,
            "learn": [
             1153.063308,
             0.9682730402
            ],
            "passed_time": 77.47115733,
            "remaining_time": 204.6525037,
            "test": [
             1662.700282,
             0.9311276487
            ]
           },
           {
            "iteration": 1373,
            "learn": [
             1152.898362,
             0.9682821167
            ],
            "passed_time": 77.51879807,
            "remaining_time": 204.572898,
            "test": [
             1662.623305,
             0.9311340256
            ]
           },
           {
            "iteration": 1374,
            "learn": [
             1152.757801,
             0.9682898502
            ],
            "passed_time": 77.57497636,
            "remaining_time": 204.5158468,
            "test": [
             1662.605599,
             0.9311354924
            ]
           },
           {
            "iteration": 1375,
            "learn": [
             1152.388979,
             0.9683101382
            ],
            "passed_time": 77.63826076,
            "remaining_time": 204.4775123,
            "test": [
             1662.381844,
             0.9311540268
            ]
           },
           {
            "iteration": 1376,
            "learn": [
             1152.172464,
             0.9683220451
            ],
            "passed_time": 77.68671351,
            "remaining_time": 204.4001184,
            "test": [
             1662.591127,
             0.9311366912
            ]
           },
           {
            "iteration": 1377,
            "learn": [
             1152.00301,
             0.9683313623
            ],
            "passed_time": 77.81328168,
            "remaining_time": 204.5280887,
            "test": [
             1662.545274,
             0.9311404896
            ]
           },
           {
            "iteration": 1378,
            "learn": [
             1151.803253,
             0.968342344
            ],
            "passed_time": 77.90543624,
            "remaining_time": 204.565326,
            "test": [
             1662.530891,
             0.931141681
            ]
           },
           {
            "iteration": 1379,
            "learn": [
             1151.668151,
             0.9683497702
            ],
            "passed_time": 77.96201706,
            "remaining_time": 204.5090592,
            "test": [
             1662.534533,
             0.9311413793
            ]
           },
           {
            "iteration": 1380,
            "learn": [
             1151.340312,
             0.9683677871
            ],
            "passed_time": 78.01856675,
            "remaining_time": 204.4527104,
            "test": [
             1662.405759,
             0.931152046
            ]
           },
           {
            "iteration": 1381,
            "learn": [
             1151.197288,
             0.9683756455
            ],
            "passed_time": 78.0751104,
            "remaining_time": 204.3963455,
            "test": [
             1662.373984,
             0.9311546779
            ]
           },
           {
            "iteration": 1382,
            "learn": [
             1150.951049,
             0.9683891729
            ],
            "passed_time": 78.12328825,
            "remaining_time": 204.3181009,
            "test": [
             1662.311339,
             0.9311598665
            ]
           },
           {
            "iteration": 1383,
            "learn": [
             1150.822937,
             0.9683962097
            ],
            "passed_time": 78.17418487,
            "remaining_time": 204.2470032,
            "test": [
             1662.312072,
             0.9311598058
            ]
           },
           {
            "iteration": 1384,
            "learn": [
             1150.59748,
             0.9684085914
            ],
            "passed_time": 78.22293893,
            "remaining_time": 204.1703424,
            "test": [
             1662.096802,
             0.9311776343
            ]
           },
           {
            "iteration": 1385,
            "learn": [
             1150.259608,
             0.9684271423
            ],
            "passed_time": 78.27953459,
            "remaining_time": 204.1141688,
            "test": [
             1661.969882,
             0.9311881447
            ]
           },
           {
            "iteration": 1386,
            "learn": [
             1150.068179,
             0.9684376503
            ],
            "passed_time": 78.333535,
            "remaining_time": 204.0512343,
            "test": [
             1661.939003,
             0.9311907017
            ]
           },
           {
            "iteration": 1387,
            "learn": [
             1149.293469,
             0.9684801581
            ],
            "passed_time": 78.39086759,
            "remaining_time": 203.996984,
            "test": [
             1661.921824,
             0.9311921242
            ]
           },
           {
            "iteration": 1388,
            "learn": [
             1148.647242,
             0.9685155942
            ],
            "passed_time": 78.44215763,
            "remaining_time": 203.9270203,
            "test": [
             1661.899058,
             0.9311940093
            ]
           },
           {
            "iteration": 1389,
            "learn": [
             1148.545758,
             0.9685211573
            ],
            "passed_time": 78.49262187,
            "remaining_time": 203.8549388,
            "test": [
             1661.933204,
             0.9311911818
            ]
           },
           {
            "iteration": 1390,
            "learn": [
             1148.166257,
             0.9685419563
            ],
            "passed_time": 78.54362793,
            "remaining_time": 203.7842942,
            "test": [
             1661.712535,
             0.9312094533
            ]
           },
           {
            "iteration": 1391,
            "learn": [
             1147.846595,
             0.9685594703
            ],
            "passed_time": 78.59577625,
            "remaining_time": 203.7166384,
            "test": [
             1661.781615,
             0.9312037337
            ]
           },
           {
            "iteration": 1392,
            "learn": [
             1147.650907,
             0.9685701896
            ],
            "passed_time": 78.64452645,
            "remaining_time": 203.640206,
            "test": [
             1661.710643,
             0.93120961
            ]
           },
           {
            "iteration": 1393,
            "learn": [
             1147.403984,
             0.9685837127
            ],
            "passed_time": 78.70633417,
            "remaining_time": 203.5975904,
            "test": [
             1661.662932,
             0.9312135601
            ]
           },
           {
            "iteration": 1394,
            "learn": [
             1147.206708,
             0.9685945147
            ],
            "passed_time": 78.76203074,
            "remaining_time": 203.5391547,
            "test": [
             1661.630044,
             0.931216283
            ]
           },
           {
            "iteration": 1395,
            "learn": [
             1146.883325,
             0.9686122178
            ],
            "passed_time": 78.873194,
            "remaining_time": 203.6239192,
            "test": [
             1661.596223,
             0.9312190829
            ]
           },
           {
            "iteration": 1396,
            "learn": [
             1146.825701,
             0.9686153718
            ],
            "passed_time": 78.98091042,
            "remaining_time": 203.6995134,
            "test": [
             1661.594087,
             0.9312192598
            ]
           },
           {
            "iteration": 1397,
            "learn": [
             1146.668491,
             0.9686239758
            ],
            "passed_time": 79.0333439,
            "remaining_time": 203.6324068,
            "test": [
             1661.564028,
             0.9312217483
            ]
           },
           {
            "iteration": 1398,
            "learn": [
             1146.388341,
             0.9686393053
            ],
            "passed_time": 79.08743465,
            "remaining_time": 203.569587,
            "test": [
             1661.481949,
             0.9312285432
            ]
           },
           {
            "iteration": 1399,
            "learn": [
             1146.344281,
             0.9686417159
            ],
            "passed_time": 79.13883783,
            "remaining_time": 203.4998687,
            "test": [
             1661.50703,
             0.931226467
            ]
           },
           {
            "iteration": 1400,
            "learn": [
             1145.92733,
             0.9686645231
            ],
            "passed_time": 79.19437737,
            "remaining_time": 203.4408024,
            "test": [
             1661.341303,
             0.9312401859
            ]
           },
           {
            "iteration": 1401,
            "learn": [
             1145.60647,
             0.9686820686
            ],
            "passed_time": 79.24408091,
            "remaining_time": 203.366764,
            "test": [
             1661.381724,
             0.93123684
            ]
           },
           {
            "iteration": 1402,
            "learn": [
             1145.362304,
             0.9686954169
            ],
            "passed_time": 79.30350178,
            "remaining_time": 203.3176735,
            "test": [
             1661.246248,
             0.931248054
            ]
           },
           {
            "iteration": 1403,
            "learn": [
             1145.163954,
             0.9687062584
            ],
            "passed_time": 79.36225151,
            "remaining_time": 203.2668493,
            "test": [
             1661.303033,
             0.9312433537
            ]
           },
           {
            "iteration": 1404,
            "learn": [
             1145.086662,
             0.9687104825
            ],
            "passed_time": 79.41970608,
            "remaining_time": 203.2126999,
            "test": [
             1661.220469,
             0.9312501878
            ]
           },
           {
            "iteration": 1405,
            "learn": [
             1144.883909,
             0.968721562
            ],
            "passed_time": 79.47865489,
            "remaining_time": 203.1623653,
            "test": [
             1661.076556,
             0.9312620989
            ]
           },
           {
            "iteration": 1406,
            "learn": [
             1144.751255,
             0.9687288099
            ],
            "passed_time": 79.53408292,
            "remaining_time": 203.1030277,
            "test": [
             1661.053695,
             0.931263991
            ]
           },
           {
            "iteration": 1407,
            "learn": [
             1144.380009,
             0.9687490893
            ],
            "passed_time": 79.58728918,
            "remaining_time": 203.0380275,
            "test": [
             1661.052598,
             0.9312640818
            ]
           },
           {
            "iteration": 1408,
            "learn": [
             1144.236144,
             0.9687569461
            ],
            "passed_time": 79.63883924,
            "remaining_time": 202.9688231,
            "test": [
             1660.980372,
             0.9312700591
            ]
           },
           {
            "iteration": 1409,
            "learn": [
             1144.144577,
             0.9687619464
            ],
            "passed_time": 79.69508558,
            "remaining_time": 202.9116009,
            "test": [
             1660.986748,
             0.9312695315
            ]
           },
           {
            "iteration": 1410,
            "learn": [
             1144.018958,
             0.9687688054
            ],
            "passed_time": 79.76204764,
            "remaining_time": 202.8816364,
            "test": [
             1660.960115,
             0.9312717356
            ]
           },
           {
            "iteration": 1411,
            "learn": [
             1143.750236,
             0.9687834757
            ],
            "passed_time": 79.81376601,
            "remaining_time": 202.8128842,
            "test": [
             1660.944459,
             0.9312730313
            ]
           },
           {
            "iteration": 1412,
            "learn": [
             1143.637914,
             0.9687896066
            ],
            "passed_time": 79.87215679,
            "remaining_time": 202.7610944,
            "test": [
             1660.979375,
             0.9312701417
            ]
           },
           {
            "iteration": 1413,
            "learn": [
             1143.501859,
             0.9687970322
            ],
            "passed_time": 80.06076384,
            "remaining_time": 203.0395326,
            "test": [
             1661.003819,
             0.9312681187
            ]
           },
           {
            "iteration": 1414,
            "learn": [
             1143.411104,
             0.9688019849
            ],
            "passed_time": 80.14433819,
            "remaining_time": 203.0512031,
            "test": [
             1660.981979,
             0.9312699262
            ]
           },
           {
            "iteration": 1415,
            "learn": [
             1143.185781,
             0.9688142796
            ],
            "passed_time": 80.19824092,
            "remaining_time": 202.987638,
            "test": [
             1661.049122,
             0.9312643695
            ]
           },
           {
            "iteration": 1416,
            "learn": [
             1143.139726,
             0.9688167923
            ],
            "passed_time": 80.23559214,
            "remaining_time": 202.8822348,
            "test": [
             1661.109442,
             0.9312593772
            ]
           },
           {
            "iteration": 1417,
            "learn": [
             1143.002835,
             0.9688242601
            ],
            "passed_time": 80.29069892,
            "remaining_time": 202.8217797,
            "test": [
             1661.046275,
             0.9312646051
            ]
           },
           {
            "iteration": 1418,
            "learn": [
             1142.834668,
             0.9688334331
            ],
            "passed_time": 80.34907683,
            "remaining_time": 202.7695871,
            "test": [
             1660.922834,
             0.9312748209
            ]
           },
           {
            "iteration": 1419,
            "learn": [
             1142.752944,
             0.9688378904
            ],
            "passed_time": 80.39601785,
            "remaining_time": 202.688552,
            "test": [
             1660.872194,
             0.9312790115
            ]
           },
           {
            "iteration": 1420,
            "learn": [
             1142.622217,
             0.9688450196
            ],
            "passed_time": 80.45225637,
            "remaining_time": 202.6309821,
            "test": [
             1660.818453,
             0.9312834587
            ]
           },
           {
            "iteration": 1421,
            "learn": [
             1142.610005,
             0.9688456856
            ],
            "passed_time": 80.49955491,
            "remaining_time": 202.5509194,
            "test": [
             1660.821059,
             0.931283243
            ]
           },
           {
            "iteration": 1422,
            "learn": [
             1142.438808,
             0.9688550206
            ],
            "passed_time": 80.55081073,
            "remaining_time": 202.4808503,
            "test": [
             1660.848095,
             0.9312810058
            ]
           },
           {
            "iteration": 1423,
            "learn": [
             1142.215633,
             0.9688671877
            ],
            "passed_time": 80.60912338,
            "remaining_time": 202.4285289,
            "test": [
             1660.677915,
             0.9312950877
            ]
           },
           {
            "iteration": 1424,
            "learn": [
             1141.977045,
             0.9688801925
            ],
            "passed_time": 80.65921601,
            "remaining_time": 202.355577,
            "test": [
             1660.740736,
             0.9312898896
            ]
           },
           {
            "iteration": 1425,
            "learn": [
             1141.861328,
             0.9688864989
            ],
            "passed_time": 80.71579597,
            "remaining_time": 202.2989164,
            "test": [
             1660.855641,
             0.9312803813
            ]
           },
           {
            "iteration": 1426,
            "learn": [
             1141.569979,
             0.9689023743
            ],
            "passed_time": 80.77909088,
            "remaining_time": 202.2590692,
            "test": [
             1660.591518,
             0.9313022363
            ]
           },
           {
            "iteration": 1427,
            "learn": [
             1141.43955,
             0.96890948
            ],
            "passed_time": 80.83144406,
            "remaining_time": 202.1918195,
            "test": [
             1660.679655,
             0.9312949438
            ]
           },
           {
            "iteration": 1428,
            "learn": [
             1141.157973,
             0.9689248172
            ],
            "passed_time": 80.88575264,
            "remaining_time": 202.129477,
            "test": [
             1660.700368,
             0.9312932299
            ]
           },
           {
            "iteration": 1429,
            "learn": [
             1140.90297,
             0.9689387038
            ],
            "passed_time": 80.93753427,
            "remaining_time": 202.0608373,
            "test": [
             1660.798735,
             0.9312850903
            ]
           },
           {
            "iteration": 1430,
            "learn": [
             1140.371287,
             0.9689676474
            ],
            "passed_time": 80.9906637,
            "remaining_time": 201.9955826,
            "test": [
             1660.642983,
             0.9312979781
            ]
           },
           {
            "iteration": 1431,
            "learn": [
             1140.310382,
             0.9689709621
            ],
            "passed_time": 81.11532048,
            "remaining_time": 202.1085639,
            "test": [
             1660.62623,
             0.9312993642
            ]
           },
           {
            "iteration": 1432,
            "learn": [
             1140.208761,
             0.9689764923
            ],
            "passed_time": 81.21487688,
            "remaining_time": 202.158734,
            "test": [
             1660.576839,
             0.9313034508
            ]
           },
           {
            "iteration": 1433,
            "learn": [
             1139.799282,
             0.968998771
            ],
            "passed_time": 81.27064299,
            "remaining_time": 202.0997998,
            "test": [
             1660.658856,
             0.9312966647
            ]
           },
           {
            "iteration": 1434,
            "learn": [
             1139.324199,
             0.969024609
            ],
            "passed_time": 81.32354014,
            "remaining_time": 202.0337426,
            "test": [
             1660.621647,
             0.9312997434
            ]
           },
           {
            "iteration": 1435,
            "learn": [
             1139.12524,
             0.9690354265
            ],
            "passed_time": 81.37956959,
            "remaining_time": 201.9754777,
            "test": [
             1660.737035,
             0.9312901959
            ]
           },
           {
            "iteration": 1436,
            "learn": [
             1138.765809,
             0.969054964
            ],
            "passed_time": 81.43238335,
            "remaining_time": 201.9092428,
            "test": [
             1660.874659,
             0.9312788076
            ]
           },
           {
            "iteration": 1437,
            "learn": [
             1138.590049,
             0.9690645156
            ],
            "passed_time": 81.49169973,
            "remaining_time": 201.8591338,
            "test": [
             1660.863907,
             0.9312796973
            ]
           },
           {
            "iteration": 1438,
            "learn": [
             1138.474731,
             0.9690707817
            ],
            "passed_time": 81.54764341,
            "remaining_time": 201.8006659,
            "test": [
             1660.836552,
             0.9312819609
            ]
           },
           {
            "iteration": 1439,
            "learn": [
             1138.369324,
             0.9690765086
            ],
            "passed_time": 81.60565895,
            "remaining_time": 201.7473235,
            "test": [
             1660.89445,
             0.9312771698
            ]
           },
           {
            "iteration": 1440,
            "learn": [
             1138.042443,
             0.9690942653
            ],
            "passed_time": 81.66403264,
            "remaining_time": 201.6948592,
            "test": [
             1660.980938,
             0.9312700123
            ]
           },
           {
            "iteration": 1441,
            "learn": [
             1137.70867,
             0.9691123911
            ],
            "passed_time": 81.71670477,
            "remaining_time": 201.6283187,
            "test": [
             1660.910535,
             0.9312758387
            ]
           },
           {
            "iteration": 1442,
            "learn": [
             1137.207778,
             0.9691395826
            ],
            "passed_time": 81.77615379,
            "remaining_time": 201.5785024,
            "test": [
             1660.956853,
             0.9312720056
            ]
           },
           {
            "iteration": 1443,
            "learn": [
             1136.73852,
             0.9691650458
            ],
            "passed_time": 81.82282242,
            "remaining_time": 201.4971998,
            "test": [
             1660.959487,
             0.9312717876
            ]
           },
           {
            "iteration": 1444,
            "learn": [
             1136.686471,
             0.9691678695
            ],
            "passed_time": 81.87327701,
            "remaining_time": 201.4252594,
            "test": [
             1660.954645,
             0.9312721883
            ]
           },
           {
            "iteration": 1445,
            "learn": [
             1136.523612,
             0.9691767038
            ],
            "passed_time": 81.93554504,
            "remaining_time": 201.3823839,
            "test": [
             1660.88995,
             0.9312775422
            ]
           },
           {
            "iteration": 1446,
            "learn": [
             1136.355226,
             0.9691858366
            ],
            "passed_time": 81.98453102,
            "remaining_time": 201.3068685,
            "test": [
             1660.865639,
             0.931279554
            ]
           },
           {
            "iteration": 1447,
            "learn": [
             1136.183681,
             0.9691951394
            ],
            "passed_time": 82.04665252,
            "remaining_time": 201.2636117,
            "test": [
             1660.952554,
             0.9312723613
            ]
           },
           {
            "iteration": 1448,
            "learn": [
             1136.016701,
             0.9692041932
            ],
            "passed_time": 82.10176386,
            "remaining_time": 201.2031494,
            "test": [
             1661.109049,
             0.9312594097
            ]
           },
           {
            "iteration": 1449,
            "learn": [
             1135.911113,
             0.9692099177
            ],
            "passed_time": 82.225018,
            "remaining_time": 201.3095268,
            "test": [
             1661.08018,
             0.931261799
            ]
           },
           {
            "iteration": 1450,
            "learn": [
             1135.508439,
             0.9692317436
            ],
            "passed_time": 82.30063215,
            "remaining_time": 201.2990651,
            "test": [
             1661.096335,
             0.9312604619
            ]
           },
           {
            "iteration": 1451,
            "learn": [
             1135.426236,
             0.9692361983
            ],
            "passed_time": 82.40095529,
            "remaining_time": 201.3488907,
            "test": [
             1661.097742,
             0.9312603455
            ]
           },
           {
            "iteration": 1452,
            "learn": [
             1135.208895,
             0.9692479746
            ],
            "passed_time": 82.4524904,
            "remaining_time": 201.2794105,
            "test": [
             1660.947809,
             0.931272754
            ]
           },
           {
            "iteration": 1453,
            "learn": [
             1134.973995,
             0.9692606999
            ],
            "passed_time": 82.50563754,
            "remaining_time": 201.2138863,
            "test": [
             1660.974547,
             0.9312705413
            ]
           },
           {
            "iteration": 1454,
            "learn": [
             1134.912553,
             0.969264028
            ],
            "passed_time": 82.55610308,
            "remaining_time": 201.1418457,
            "test": [
             1661.072523,
             0.9312624327
            ]
           },
           {
            "iteration": 1455,
            "learn": [
             1134.797673,
             0.96927025
            ],
            "passed_time": 82.60804107,
            "remaining_time": 201.0734187,
            "test": [
             1661.193414,
             0.9312524271
            ]
           },
           {
            "iteration": 1456,
            "learn": [
             1134.650809,
             0.9692782035
            ],
            "passed_time": 82.66535742,
            "remaining_time": 201.0180929,
            "test": [
             1661.167761,
             0.9312545503
            ]
           },
           {
            "iteration": 1457,
            "learn": [
             1134.558164,
             0.9692832202
            ],
            "passed_time": 82.71721969,
            "remaining_time": 200.9495145,
            "test": [
             1661.157061,
             0.9312554359
            ]
           },
           {
            "iteration": 1458,
            "learn": [
             1134.470762,
             0.9692879527
            ],
            "passed_time": 82.77933526,
            "remaining_time": 200.9058438,
            "test": [
             1661.140119,
             0.9312568381
            ]
           },
           {
            "iteration": 1459,
            "learn": [
             1134.369652,
             0.9692934269
            ],
            "passed_time": 82.83473552,
            "remaining_time": 200.8458656,
            "test": [
             1661.162135,
             0.931255016
            ]
           },
           {
            "iteration": 1460,
            "learn": [
             1134.23774,
             0.9693005679
            ],
            "passed_time": 82.89139031,
            "remaining_time": 200.7889325,
            "test": [
             1661.140866,
             0.9312567763
            ]
           },
           {
            "iteration": 1461,
            "learn": [
             1134.134263,
             0.9693061692
            ],
            "passed_time": 82.95018529,
            "remaining_time": 200.7371789,
            "test": [
             1661.113769,
             0.9312590191
            ]
           },
           {
            "iteration": 1462,
            "learn": [
             1134.060446,
             0.9693101645
            ],
            "passed_time": 83.00718397,
            "remaining_time": 200.6810729,
            "test": [
             1661.073619,
             0.931262342
            ]
           },
           {
            "iteration": 1463,
            "learn": [
             1133.999111,
             0.9693134842
            ],
            "passed_time": 83.07072334,
            "remaining_time": 200.6407635,
            "test": [
             1661.057392,
             0.931263685
            ]
           },
           {
            "iteration": 1464,
            "learn": [
             1133.563808,
             0.9693370386
            ],
            "passed_time": 83.12569705,
            "remaining_time": 200.5797536,
            "test": [
             1660.675712,
             0.93129527
            ]
           },
           {
            "iteration": 1465,
            "learn": [
             1133.532026,
             0.969338758
            ],
            "passed_time": 83.17931701,
            "remaining_time": 200.5154886,
            "test": [
             1660.64699,
             0.9312976465
            ]
           },
           {
            "iteration": 1466,
            "learn": [
             1133.403621,
             0.9693457041
            ],
            "passed_time": 83.27842043,
            "remaining_time": 200.5607767,
            "test": [
             1660.722923,
             0.9312913635
            ]
           },
           {
            "iteration": 1467,
            "learn": [
             1133.11025,
             0.9693615712
            ],
            "passed_time": 83.40464242,
            "remaining_time": 200.6711151,
            "test": [
             1660.683893,
             0.9312945931
            ]
           },
           {
            "iteration": 1468,
            "learn": [
             1133.042345,
             0.9693652433
            ],
            "passed_time": 83.45599607,
            "remaining_time": 200.6011723,
            "test": [
             1660.594448,
             0.9313019939
            ]
           },
           {
            "iteration": 1469,
            "learn": [
             1132.675997,
             0.9693850505
            ],
            "passed_time": 83.50888875,
            "remaining_time": 200.5349505,
            "test": [
             1660.639797,
             0.9312982417
            ]
           },
           {
            "iteration": 1470,
            "learn": [
             1132.582816,
             0.9693900874
            ],
            "passed_time": 83.56430888,
            "remaining_time": 200.4748104,
            "test": [
             1660.597759,
             0.93130172
            ]
           },
           {
            "iteration": 1471,
            "learn": [
             1132.378847,
             0.9694011116
            ],
            "passed_time": 83.61335564,
            "remaining_time": 200.3994013,
            "test": [
             1660.615773,
             0.9313002295
            ]
           },
           {
            "iteration": 1472,
            "learn": [
             1132.219974,
             0.9694096971
            ],
            "passed_time": 83.67496212,
            "remaining_time": 200.3541014,
            "test": [
             1660.669766,
             0.931295762
            ]
           },
           {
            "iteration": 1473,
            "learn": [
             1132.097181,
             0.969416332
            ],
            "passed_time": 83.71831696,
            "remaining_time": 200.2651191,
            "test": [
             1660.707969,
             0.9312926009
            ]
           },
           {
            "iteration": 1474,
            "learn": [
             1131.95709,
             0.9694239006
            ],
            "passed_time": 83.77975695,
            "remaining_time": 200.2194191,
            "test": [
             1660.617868,
             0.9313000561
            ]
           },
           {
            "iteration": 1475,
            "learn": [
             1131.768026,
             0.9694341136
            ],
            "passed_time": 83.83162456,
            "remaining_time": 200.1508435,
            "test": [
             1660.595294,
             0.9313019239
            ]
           },
           {
            "iteration": 1476,
            "learn": [
             1131.644469,
             0.9694407871
            ],
            "passed_time": 83.87434971,
            "remaining_time": 200.0604834,
            "test": [
             1660.585221,
             0.9313027573
            ]
           },
           {
            "iteration": 1477,
            "learn": [
             1131.557654,
             0.9694454757
            ],
            "passed_time": 83.92358604,
            "remaining_time": 199.9857037,
            "test": [
             1660.55877,
             0.9313049458
            ]
           },
           {
            "iteration": 1478,
            "learn": [
             1131.393655,
             0.9694543317
            ],
            "passed_time": 83.97701901,
            "remaining_time": 199.9209492,
            "test": [
             1660.511753,
             0.9313088358
            ]
           },
           {
            "iteration": 1479,
            "learn": [
             1131.354349,
             0.9694564541
            ],
            "passed_time": 84.04282469,
            "remaining_time": 199.8856371,
            "test": [
             1660.519454,
             0.9313081986
            ]
           },
           {
            "iteration": 1480,
            "learn": [
             1131.298907,
             0.9694594476
            ],
            "passed_time": 84.10468039,
            "remaining_time": 199.8408982,
            "test": [
             1660.507351,
             0.9313092001
            ]
           },
           {
            "iteration": 1481,
            "learn": [
             1130.884198,
             0.9694818344
            ],
            "passed_time": 84.15782417,
            "remaining_time": 199.7754558,
            "test": [
             1660.622102,
             0.9312997058
            ]
           },
           {
            "iteration": 1482,
            "learn": [
             1130.837079,
             0.9694843775
            ],
            "passed_time": 84.21529836,
            "remaining_time": 199.7202996,
            "test": [
             1660.616358,
             0.931300181
            ]
           },
           {
            "iteration": 1483,
            "learn": [
             1130.433116,
             0.9695061755
            ],
            "passed_time": 84.27236461,
            "remaining_time": 199.6641738,
            "test": [
             1660.492034,
             0.9313104672
            ]
           },
           {
            "iteration": 1484,
            "learn": [
             1130.324855,
             0.969512016
            ],
            "passed_time": 84.41258424,
            "remaining_time": 199.8048711,
            "test": [
             1660.480609,
             0.9313114125
            ]
           },
           {
            "iteration": 1485,
            "learn": [
             1129.904389,
             0.969534694
            ],
            "passed_time": 84.50866807,
            "remaining_time": 199.8408207,
            "test": [
             1660.330582,
             0.9313238242
            ]
           },
           {
            "iteration": 1486,
            "learn": [
             1129.785217,
             0.9695411201
            ],
            "passed_time": 84.56796135,
            "remaining_time": 199.789676,
            "test": [
             1660.236525,
             0.9313316049
            ]
           },
           {
            "iteration": 1487,
            "learn": [
             1129.707889,
             0.9695452894
            ],
            "passed_time": 84.62114972,
            "remaining_time": 199.7241114,
            "test": [
             1660.292552,
             0.9313269702
            ]
           },
           {
            "iteration": 1488,
            "learn": [
             1129.701987,
             0.9695456077
            ],
            "passed_time": 84.6722062,
            "remaining_time": 199.6535366,
            "test": [
             1660.29192,
             0.9313270224
            ]
           },
           {
            "iteration": 1489,
            "learn": [
             1129.552856,
             0.9695536476
            ],
            "passed_time": 84.72993582,
            "remaining_time": 199.5987079,
            "test": [
             1660.270826,
             0.9313287675
            ]
           },
           {
            "iteration": 1490,
            "learn": [
             1129.398742,
             0.9695619552
            ],
            "passed_time": 84.79266287,
            "remaining_time": 199.5556365,
            "test": [
             1660.228649,
             0.9313322564
            ]
           },
           {
            "iteration": 1491,
            "learn": [
             1129.26598,
             0.9695691108
            ],
            "passed_time": 84.85098512,
            "remaining_time": 199.5021822,
            "test": [
             1660.213803,
             0.9313334845
            ]
           },
           {
            "iteration": 1492,
            "learn": [
             1129.16449,
             0.9695745803
            ],
            "passed_time": 84.89672714,
            "remaining_time": 199.4191708,
            "test": [
             1660.215269,
             0.9313333632
            ]
           },
           {
            "iteration": 1493,
            "learn": [
             1128.988024,
             0.9695840894
            ],
            "passed_time": 84.95056002,
            "remaining_time": 199.3551964,
            "test": [
             1660.253177,
             0.9313302274
            ]
           },
           {
            "iteration": 1494,
            "learn": [
             1128.801804,
             0.9695941224
            ],
            "passed_time": 85.00146534,
            "remaining_time": 199.2843719,
            "test": [
             1660.144223,
             0.93133924
            ]
           },
           {
            "iteration": 1495,
            "learn": [
             1128.656685,
             0.9696019399
            ],
            "passed_time": 85.06080859,
            "remaining_time": 199.2333378,
            "test": [
             1660.106708,
             0.9313423431
            ]
           },
           {
            "iteration": 1496,
            "learn": [
             1128.370095,
             0.9696173753
            ],
            "passed_time": 85.11646147,
            "remaining_time": 199.173657,
            "test": [
             1660.045353,
             0.931347418
            ]
           },
           {
            "iteration": 1497,
            "learn": [
             1127.973213,
             0.9696387446
            ],
            "passed_time": 85.16395808,
            "remaining_time": 199.094914,
            "test": [
             1659.936241,
             0.9313564425
            ]
           },
           {
            "iteration": 1498,
            "learn": [
             1127.655394,
             0.9696558514
            ],
            "passed_time": 85.21823092,
            "remaining_time": 199.032039,
            "test": [
             1659.819009,
             0.9313661379
            ]
           },
           {
            "iteration": 1499,
            "learn": [
             1127.488725,
             0.9696648206
            ],
            "passed_time": 85.26685897,
            "remaining_time": 198.9560043,
            "test": [
             1659.847491,
             0.9313637825
            ]
           },
           {
            "iteration": 1500,
            "learn": [
             1127.443941,
             0.9696672303
            ],
            "passed_time": 85.3244961,
            "remaining_time": 198.9010072,
            "test": [
             1659.845272,
             0.931363966
            ]
           },
           {
            "iteration": 1501,
            "learn": [
             1127.292583,
             0.969675374
            ],
            "passed_time": 85.38533071,
            "remaining_time": 198.8534533,
            "test": [
             1659.774048,
             0.9313698562
            ]
           },
           {
            "iteration": 1502,
            "learn": [
             1126.851298,
             0.9696991109
            ],
            "passed_time": 85.48730549,
            "remaining_time": 198.9016017,
            "test": [
             1659.871564,
             0.9313617916
            ]
           },
           {
            "iteration": 1503,
            "learn": [
             1126.736883,
             0.9697052638
            ],
            "passed_time": 85.59486001,
            "remaining_time": 198.9625203,
            "test": [
             1659.88369,
             0.9313607887
            ]
           },
           {
            "iteration": 1504,
            "learn": [
             1126.561412,
             0.9697146989
            ],
            "passed_time": 85.64153896,
            "remaining_time": 198.8818463,
            "test": [
             1659.846681,
             0.9313638494
            ]
           },
           {
            "iteration": 1505,
            "learn": [
             1126.432279,
             0.9697216415
            ],
            "passed_time": 85.69928671,
            "remaining_time": 198.8268976,
            "test": [
             1659.924866,
             0.9313573833
            ]
           },
           {
            "iteration": 1506,
            "learn": [
             1126.077787,
             0.9697406958
            ],
            "passed_time": 85.74797799,
            "remaining_time": 198.7509536,
            "test": [
             1659.740572,
             0.9313726246
            ]
           },
           {
            "iteration": 1507,
            "learn": [
             1125.973051,
             0.9697463244
            ],
            "passed_time": 85.80522557,
            "remaining_time": 198.6948592,
            "test": [
             1659.777004,
             0.9313696118
            ]
           },
           {
            "iteration": 1508,
            "learn": [
             1125.777888,
             0.9697568111
            ],
            "passed_time": 85.86336394,
            "remaining_time": 198.6408241,
            "test": [
             1659.654634,
             0.9313797312
            ]
           },
           {
            "iteration": 1509,
            "learn": [
             1125.649996,
             0.9697636822
            ],
            "passed_time": 85.91676936,
            "remaining_time": 198.5758444,
            "test": [
             1659.589265,
             0.9313851366
            ]
           },
           {
            "iteration": 1510,
            "learn": [
             1125.632124,
             0.9697646423
            ],
            "passed_time": 85.96337741,
            "remaining_time": 198.4951845,
            "test": [
             1659.575646,
             0.9313862627
            ]
           },
           {
            "iteration": 1511,
            "learn": [
             1125.267162,
             0.9697842455
            ],
            "passed_time": 86.01405448,
            "remaining_time": 198.4239564,
            "test": [
             1659.441703,
             0.9313973378
            ]
           },
           {
            "iteration": 1512,
            "learn": [
             1125.080165,
             0.9697942871
            ],
            "passed_time": 86.07621539,
            "remaining_time": 198.3792221,
            "test": [
             1659.430237,
             0.9313982859
            ]
           },
           {
            "iteration": 1513,
            "learn": [
             1124.840605,
             0.969807149
            ],
            "passed_time": 86.13128018,
            "remaining_time": 198.318126,
            "test": [
             1659.307128,
             0.9314084643
            ]
           },
           {
            "iteration": 1514,
            "learn": [
             1124.73637,
             0.9698127445
            ],
            "passed_time": 86.18573841,
            "remaining_time": 198.2556425,
            "test": [
             1659.308899,
             0.9314083178
            ]
           },
           {
            "iteration": 1515,
            "learn": [
             1124.580477,
             0.969821112
            ],
            "passed_time": 86.24555901,
            "remaining_time": 198.2054931,
            "test": [
             1659.191563,
             0.9314180182
            ]
           },
           {
            "iteration": 1516,
            "learn": [
             1124.419446,
             0.9698297542
            ],
            "passed_time": 86.30406622,
            "remaining_time": 198.1523155,
            "test": [
             1659.111577,
             0.9314246305
            ]
           },
           {
            "iteration": 1517,
            "learn": [
             1124.360559,
             0.9698329142
            ],
            "passed_time": 86.35257211,
            "remaining_time": 198.0761898,
            "test": [
             1659.211792,
             0.9314163459
            ]
           },
           {
            "iteration": 1518,
            "learn": [
             1124.150578,
             0.9698441809
            ],
            "passed_time": 86.40468394,
            "remaining_time": 198.0083639,
            "test": [
             1659.310178,
             0.9314082121
            ]
           },
           {
            "iteration": 1519,
            "learn": [
             1124.032172,
             0.9698505332
            ],
            "passed_time": 86.46032222,
            "remaining_time": 197.9486325,
            "test": [
             1659.281103,
             0.9314106158
            ]
           },
           {
            "iteration": 1520,
            "learn": [
             1123.481363,
             0.9698800742
            ],
            "passed_time": 86.54360836,
            "remaining_time": 197.9521456,
            "test": [
             1659.316365,
             0.9314077006
            ]
           },
           {
            "iteration": 1521,
            "learn": [
             1122.766307,
             0.9699184025
            ],
            "passed_time": 86.68336657,
            "remaining_time": 198.0845919,
            "test": [
             1659.148535,
             0.9314215753
            ]
           },
           {
            "iteration": 1522,
            "learn": [
             1122.737997,
             0.9699199194
            ],
            "passed_time": 86.7335595,
            "remaining_time": 198.0122038,
            "test": [
             1659.157357,
             0.931420846
            ]
           },
           {
            "iteration": 1523,
            "learn": [
             1122.461302,
             0.9699347439
            ],
            "passed_time": 86.77538062,
            "remaining_time": 197.92075,
            "test": [
             1659.223765,
             0.9314153561
            ]
           },
           {
            "iteration": 1524,
            "learn": [
             1122.338209,
             0.9699413377
            ],
            "passed_time": 86.83401806,
            "remaining_time": 197.8676805,
            "test": [
             1659.218033,
             0.9314158299
            ]
           },
           {
            "iteration": 1525,
            "learn": [
             1122.147171,
             0.9699515696
            ],
            "passed_time": 86.88949581,
            "remaining_time": 197.8074105,
            "test": [
             1659.211036,
             0.9314164084
            ]
           },
           {
            "iteration": 1526,
            "learn": [
             1121.862896,
             0.9699667921
            ],
            "passed_time": 86.9400182,
            "remaining_time": 197.7358764,
            "test": [
             1659.049505,
             0.9314297616
            ]
           },
           {
            "iteration": 1527,
            "learn": [
             1121.546951,
             0.9699837059
            ],
            "passed_time": 86.99477211,
            "remaining_time": 197.6739848,
            "test": [
             1658.993903,
             0.9314343576
            ]
           },
           {
            "iteration": 1528,
            "learn": [
             1121.344123,
             0.9699945617
            ],
            "passed_time": 87.05702573,
            "remaining_time": 197.6291277,
            "test": [
             1658.951021,
             0.9314379022
            ]
           },
           {
            "iteration": 1529,
            "learn": [
             1121.271764,
             0.9699984339
            ],
            "passed_time": 87.11547352,
            "remaining_time": 197.5756164,
            "test": [
             1658.980963,
             0.9314354272
            ]
           },
           {
            "iteration": 1530,
            "learn": [
             1121.014043,
             0.9700122239
            ],
            "passed_time": 87.17336137,
            "remaining_time": 197.5208299,
            "test": [
             1658.867216,
             0.9314448291
            ]
           },
           {
            "iteration": 1531,
            "learn": [
             1120.920094,
             0.9700172501
            ],
            "passed_time": 87.22935836,
            "remaining_time": 197.461759,
            "test": [
             1658.843247,
             0.9314468102
            ]
           },
           {
            "iteration": 1532,
            "learn": [
             1120.77753,
             0.9700248763
            ],
            "passed_time": 87.28368582,
            "remaining_time": 197.3989163,
            "test": [
             1658.892505,
             0.9314427389
            ]
           },
           {
            "iteration": 1533,
            "learn": [
             1120.556907,
             0.9700366763
            ],
            "passed_time": 87.3370073,
            "remaining_time": 197.3338118,
            "test": [
             1658.941895,
             0.9314386565
            ]
           },
           {
            "iteration": 1534,
            "learn": [
             1120.455872,
             0.9700420793
            ],
            "passed_time": 87.39732098,
            "remaining_time": 197.2845063,
            "test": [
             1658.932545,
             0.9314394294
            ]
           },
           {
            "iteration": 1535,
            "learn": [
             1120.36695,
             0.9700468342
            ],
            "passed_time": 87.45255844,
            "remaining_time": 197.2237386,
            "test": [
             1658.930126,
             0.9314396293
            ]
           },
           {
            "iteration": 1536,
            "learn": [
             1120.11736,
             0.9700601783
            ],
            "passed_time": 87.51737862,
            "remaining_time": 197.1845687,
            "test": [
             1658.896055,
             0.9314424454
            ]
           },
           {
            "iteration": 1537,
            "learn": [
             1119.392686,
             0.9700989056
            ],
            "passed_time": 87.5717631,
            "remaining_time": 197.1218751,
            "test": [
             1658.287718,
             0.9314927179
            ]
           },
           {
            "iteration": 1538,
            "learn": [
             1119.18409,
             0.9701100486
            ],
            "passed_time": 87.69242545,
            "remaining_time": 197.208242,
            "test": [
             1658.271799,
             0.9314940333
            ]
           },
           {
            "iteration": 1539,
            "learn": [
             1118.954034,
             0.9701223355
            ],
            "passed_time": 87.77701495,
            "remaining_time": 197.2132933,
            "test": [
             1658.1677,
             0.931502634
            ]
           },
           {
            "iteration": 1540,
            "learn": [
             1118.610185,
             0.9701406952
            ],
            "passed_time": 87.84126709,
            "remaining_time": 197.1725781,
            "test": [
             1658.178125,
             0.9315017727
            ]
           },
           {
            "iteration": 1541,
            "learn": [
             1118.454611,
             0.9701490002
            ],
            "passed_time": 87.89441539,
            "remaining_time": 197.1069315,
            "test": [
             1658.23706,
             0.9314969035
            ]
           },
           {
            "iteration": 1542,
            "learn": [
             1118.419034,
             0.9701508992
            ],
            "passed_time": 87.95009175,
            "remaining_time": 197.0469651,
            "test": [
             1658.224088,
             0.9314979752
            ]
           },
           {
            "iteration": 1543,
            "learn": [
             1118.148424,
             0.9701653419
            ],
            "passed_time": 88.00624796,
            "remaining_time": 196.9880783,
            "test": [
             1658.093047,
             0.9315088015
            ]
           },
           {
            "iteration": 1544,
            "learn": [
             1117.863157,
             0.970180563
            ],
            "passed_time": 88.06188411,
            "remaining_time": 196.9280321,
            "test": [
             1658.175486,
             0.9315019907
            ]
           },
           {
            "iteration": 1545,
            "learn": [
             1117.599449,
             0.9701946304
            ],
            "passed_time": 88.12548802,
            "remaining_time": 196.8857928,
            "test": [
             1658.055331,
             0.9315119174
            ]
           },
           {
            "iteration": 1546,
            "learn": [
             1117.375357,
             0.9702065819
            ],
            "passed_time": 88.17325996,
            "remaining_time": 196.8081879,
            "test": [
             1658.008314,
             0.9315158015
            ]
           },
           {
            "iteration": 1547,
            "learn": [
             1117.259811,
             0.9702127434
            ],
            "passed_time": 88.22773201,
            "remaining_time": 196.7455626,
            "test": [
             1658.027541,
             0.9315142132
            ]
           },
           {
            "iteration": 1548,
            "learn": [
             1116.749928,
             0.9702399251
            ],
            "passed_time": 88.28088061,
            "remaining_time": 196.6799993,
            "test": [
             1658.142867,
             0.9315046856
            ]
           },
           {
            "iteration": 1549,
            "learn": [
             1116.738866,
             0.9702405147
            ],
            "passed_time": 88.33239074,
            "remaining_time": 196.6108052,
            "test": [
             1658.127038,
             0.9315059934
            ]
           },
           {
            "iteration": 1550,
            "learn": [
             1116.668535,
             0.970244263
            ],
            "passed_time": 88.39536624,
            "remaining_time": 196.5671297,
            "test": [
             1658.117776,
             0.9315067586
            ]
           },
           {
            "iteration": 1551,
            "learn": [
             1116.525094,
             0.970251907
            ],
            "passed_time": 88.45019824,
            "remaining_time": 196.5053373,
            "test": [
             1658.178802,
             0.9315017168
            ]
           },
           {
            "iteration": 1552,
            "learn": [
             1116.145821,
             0.9702721139
            ],
            "passed_time": 88.51456067,
            "remaining_time": 196.4647074,
            "test": [
             1658.381701,
             0.9314849525
            ]
           },
           {
            "iteration": 1553,
            "learn": [
             1115.931552,
             0.9702835266
            ],
            "passed_time": 88.57569105,
            "remaining_time": 196.4168799,
            "test": [
             1658.40597,
             0.9314829472
            ]
           },
           {
            "iteration": 1554,
            "learn": [
             1115.773706,
             0.9702919327
            ],
            "passed_time": 88.62828771,
            "remaining_time": 196.3501294,
            "test": [
             1658.436984,
             0.9314803844
            ]
           },
           {
            "iteration": 1555,
            "learn": [
             1115.417134,
             0.9703109175
            ],
            "passed_time": 88.76027084,
            "remaining_time": 196.4591085,
            "test": [
             1658.481386,
             0.9314767154
            ]
           },
           {
            "iteration": 1556,
            "learn": [
             1114.961817,
             0.970335151
            ],
            "passed_time": 88.89884976,
            "remaining_time": 196.5823633,
            "test": [
             1658.398673,
             0.9314835501
            ]
           },
           {
            "iteration": 1557,
            "learn": [
             1114.621629,
             0.9703532504
            ],
            "passed_time": 88.95920229,
            "remaining_time": 196.532461,
            "test": [
             1658.324052,
             0.9314897159
            ]
           },
           {
            "iteration": 1558,
            "learn": [
             1114.537803,
             0.9703577094
            ],
            "passed_time": 89.01392131,
            "remaining_time": 196.4701111,
            "test": [
             1658.327564,
             0.9314894257
            ]
           },
           {
            "iteration": 1559,
            "learn": [
             1114.137338,
             0.9703790072
            ],
            "passed_time": 89.06832185,
            "remaining_time": 196.4070687,
            "test": [
             1658.456087,
             0.9314788059
            ]
           },
           {
            "iteration": 1560,
            "learn": [
             1114.079715,
             0.970382071
            ],
            "passed_time": 89.13739024,
            "remaining_time": 196.3763517,
            "test": [
             1658.396537,
             0.9314837266
            ]
           },
           {
            "iteration": 1561,
            "learn": [
             1113.745612,
             0.9703998327
            ],
            "passed_time": 89.18889065,
            "remaining_time": 196.3069181,
            "test": [
             1658.325898,
             0.9314895633
            ]
           },
           {
            "iteration": 1562,
            "learn": [
             1113.639102,
             0.9704054939
            ],
            "passed_time": 89.2423315,
            "remaining_time": 196.2417744,
            "test": [
             1658.314345,
             0.9314905179
            ]
           },
           {
            "iteration": 1563,
            "learn": [
             1113.455619,
             0.9704152451
            ],
            "passed_time": 89.3018209,
            "remaining_time": 196.1899339,
            "test": [
             1658.339425,
             0.9314884457
            ]
           },
           {
            "iteration": 1564,
            "learn": [
             1112.992985,
             0.9704398246
            ],
            "passed_time": 89.35435825,
            "remaining_time": 196.1228247,
            "test": [
             1658.300698,
             0.9314916455
            ]
           },
           {
            "iteration": 1565,
            "learn": [
             1112.684049,
             0.9704562324
            ],
            "passed_time": 89.40782675,
            "remaining_time": 196.0577759,
            "test": [
             1658.346816,
             0.931487835
            ]
           },
           {
            "iteration": 1566,
            "learn": [
             1112.613663,
             0.9704599701
            ],
            "passed_time": 89.45982294,
            "remaining_time": 195.9895164,
            "test": [
             1658.223456,
             0.9314980274
            ]
           },
           {
            "iteration": 1567,
            "learn": [
             1112.39451,
             0.970471606
            ],
            "passed_time": 89.51145723,
            "remaining_time": 195.9204855,
            "test": [
             1658.234395,
             0.9314971236
            ]
           },
           {
            "iteration": 1568,
            "learn": [
             1112.066895,
             0.9704889964
            ],
            "passed_time": 89.56243291,
            "remaining_time": 195.8500365,
            "test": [
             1658.290959,
             0.9314924502
            ]
           },
           {
            "iteration": 1569,
            "learn": [
             1111.915212,
             0.9704970464
            ],
            "passed_time": 89.61870503,
            "remaining_time": 195.7911836,
            "test": [
             1658.252259,
             0.9314956477
            ]
           },
           {
            "iteration": 1570,
            "learn": [
             1111.570011,
             0.9705153623
            ],
            "passed_time": 89.67062669,
            "remaining_time": 195.7228383,
            "test": [
             1658.318894,
             0.9314901421
            ]
           },
           {
            "iteration": 1571,
            "learn": [
             1111.278645,
             0.9705308173
            ],
            "passed_time": 89.72946843,
            "remaining_time": 195.6696042,
            "test": [
             1658.344326,
             0.9314880407
            ]
           },
           {
            "iteration": 1572,
            "learn": [
             1111.076707,
             0.9705415264
            ],
            "passed_time": 89.78317874,
            "remaining_time": 195.6051834,
            "test": [
             1658.425721,
             0.9314813151
            ]
           },
           {
            "iteration": 1573,
            "learn": [
             1110.909236,
             0.9705504063
            ],
            "passed_time": 89.90536755,
            "remaining_time": 195.689828,
            "test": [
             1658.315847,
             0.9314903938
            ]
           },
           {
            "iteration": 1574,
            "learn": [
             1110.705026,
             0.9705612322
            ],
            "passed_time": 90.01402851,
            "remaining_time": 195.7447922,
            "test": [
             1658.235118,
             0.9314970639
            ]
           },
           {
            "iteration": 1575,
            "learn": [
             1110.544511,
             0.9705697404
            ],
            "passed_time": 90.05861905,
            "remaining_time": 195.66035,
            "test": [
             1658.257589,
             0.9314952073
            ]
           },
           {
            "iteration": 1576,
            "learn": [
             1110.245195,
             0.9705856025
            ],
            "passed_time": 90.11440144,
            "remaining_time": 195.6002512,
            "test": [
             1658.226775,
             0.9314977532
            ]
           },
           {
            "iteration": 1577,
            "learn": [
             1110.178836,
             0.9705891185
            ],
            "passed_time": 90.16732617,
            "remaining_time": 195.5339608,
            "test": [
             1658.297137,
             0.9314919397
            ]
           },
           {
            "iteration": 1578,
            "learn": [
             1110.067788,
             0.970595002
            ],
            "passed_time": 90.22266936,
            "remaining_time": 195.4729271,
            "test": [
             1658.291403,
             0.9314924135
            ]
           },
           {
            "iteration": 1579,
            "learn": [
             1109.756647,
             0.9706114835
            ],
            "passed_time": 90.27858919,
            "remaining_time": 195.4131487,
            "test": [
             1658.261054,
             0.931494921
            ]
           },
           {
            "iteration": 1580,
            "learn": [
             1109.323931,
             0.9706343974
            ],
            "passed_time": 90.33259463,
            "remaining_time": 195.3492353,
            "test": [
             1658.111151,
             0.9315073059
            ]
           },
           {
            "iteration": 1581,
            "learn": [
             1109.209927,
             0.9706404328
            ],
            "passed_time": 90.39138514,
            "remaining_time": 195.2956728,
            "test": [
             1658.120773,
             0.9315065109
            ]
           },
           {
            "iteration": 1582,
            "learn": [
             1109.039151,
             0.9706494726
            ],
            "passed_time": 90.43360859,
            "remaining_time": 195.2063427,
            "test": [
             1658.12686,
             0.931506008
            ]
           },
           {
            "iteration": 1583,
            "learn": [
             1108.968267,
             0.9706532244
            ],
            "passed_time": 90.48094206,
            "remaining_time": 195.1280922,
            "test": [
             1658.102239,
             0.9315080422
            ]
           },
           {
            "iteration": 1584,
            "learn": [
             1108.861337,
             0.9706588835
            ],
            "passed_time": 90.52726181,
            "remaining_time": 195.0476966,
            "test": [
             1658.111535,
             0.9315072742
            ]
           },
           {
            "iteration": 1585,
            "learn": [
             1108.657517,
             0.9706696689
            ],
            "passed_time": 90.58070648,
            "remaining_time": 194.9826809,
            "test": [
             1658.039672,
             0.9315132111
            ]
           },
           {
            "iteration": 1586,
            "learn": [
             1108.305962,
             0.9706882672
            ],
            "passed_time": 90.62582776,
            "remaining_time": 194.8997795,
            "test": [
             1658.228839,
             0.9314975827
            ]
           },
           {
            "iteration": 1587,
            "learn": [
             1108.226491,
             0.9706924707
            ],
            "passed_time": 90.67690999,
            "remaining_time": 194.8297336,
            "test": [
             1658.216311,
             0.9314986178
            ]
           },
           {
            "iteration": 1588,
            "learn": [
             1108.191202,
             0.9706943371
            ],
            "passed_time": 90.7338762,
            "remaining_time": 194.7723422,
            "test": [
             1658.217063,
             0.9314985557
            ]
           },
           {
            "iteration": 1589,
            "learn": [
             1108.020414,
             0.9707033693
            ],
            "passed_time": 90.78942244,
            "remaining_time": 194.711906,
            "test": [
             1658.181409,
             0.9315015014
            ]
           },
           {
            "iteration": 1590,
            "learn": [
             1107.705603,
             0.9707200144
            ],
            "passed_time": 90.84625801,
            "remaining_time": 194.6542386,
            "test": [
             1658.055835,
             0.9315118758
            ]
           },
           {
            "iteration": 1591,
            "learn": [
             1107.60248,
             0.9707254659
            ],
            "passed_time": 90.9534064,
            "remaining_time": 194.704277,
            "test": [
             1658.070694,
             0.9315106482
            ]
           },
           {
            "iteration": 1592,
            "learn": [
             1107.35481,
             0.9707385565
            ],
            "passed_time": 91.07976705,
            "remaining_time": 194.795208,
            "test": [
             1658.022494,
             0.9315146301
            ]
           },
           {
            "iteration": 1593,
            "learn": [
             1107.276816,
             0.9707426783
            ],
            "passed_time": 91.14500357,
            "remaining_time": 194.7552586,
            "test": [
             1657.99465,
             0.9315169304
            ]
           },
           {
            "iteration": 1594,
            "learn": [
             1106.967255,
             0.9707590349
            ],
            "passed_time": 91.20215669,
            "remaining_time": 194.698021,
            "test": [
             1657.826752,
             0.9315307996
            ]
           },
           {
            "iteration": 1595,
            "learn": [
             1106.862476,
             0.9707645702
            ],
            "passed_time": 91.25318349,
            "remaining_time": 194.6277172,
            "test": [
             1657.824414,
             0.9315309927
            ]
           },
           {
            "iteration": 1596,
            "learn": [
             1106.585585,
             0.9707791954
            ],
            "passed_time": 91.30348282,
            "remaining_time": 194.5558873,
            "test": [
             1657.891259,
             0.9315254711
            ]
           },
           {
            "iteration": 1597,
            "learn": [
             1106.446675,
             0.9707865311
            ],
            "passed_time": 91.34484255,
            "remaining_time": 194.4650528,
            "test": [
             1657.981171,
             0.9315180438
            ]
           },
           {
            "iteration": 1598,
            "learn": [
             1106.353066,
             0.970791474
            ],
            "passed_time": 91.39709891,
            "remaining_time": 194.3974568,
            "test": [
             1657.916488,
             0.9315233871
            ]
           },
           {
            "iteration": 1599,
            "learn": [
             1106.148419,
             0.9708022786
            ],
            "passed_time": 91.45026428,
            "remaining_time": 194.3318116,
            "test": [
             1658.009216,
             0.9315157271
            ]
           },
           {
            "iteration": 1600,
            "learn": [
             1105.795273,
             0.9708209189
            ],
            "passed_time": 91.50028412,
            "remaining_time": 194.2595039,
            "test": [
             1657.964256,
             0.9315194411
            ]
           },
           {
            "iteration": 1601,
            "learn": [
             1105.700941,
             0.970825897
            ],
            "passed_time": 91.55528824,
            "remaining_time": 194.1977961,
            "test": [
             1657.999331,
             0.9315165437
            ]
           },
           {
            "iteration": 1602,
            "learn": [
             1105.61335,
             0.970830519
            ],
            "passed_time": 91.60464155,
            "remaining_time": 194.1241219,
            "test": [
             1657.994987,
             0.9315169025
            ]
           },
           {
            "iteration": 1603,
            "learn": [
             1105.474231,
             0.9708378593
            ],
            "passed_time": 91.66022865,
            "remaining_time": 194.0636761,
            "test": [
             1658.009217,
             0.931515727
            ]
           },
           {
            "iteration": 1604,
            "learn": [
             1105.395363,
             0.9708420203
            ],
            "passed_time": 91.71192117,
            "remaining_time": 193.9949984,
            "test": [
             1658.016922,
             0.9315150904
            ]
           },
           {
            "iteration": 1605,
            "learn": [
             1105.237581,
             0.9708503435
            ],
            "passed_time": 91.76551413,
            "remaining_time": 193.930358,
            "test": [
             1657.977892,
             0.9315183147
            ]
           },
           {
            "iteration": 1606,
            "learn": [
             1105.119127,
             0.9708565914
            ],
            "passed_time": 91.81916048,
            "remaining_time": 193.8658441,
            "test": [
             1657.96626,
             0.9315192756
            ]
           },
           {
            "iteration": 1607,
            "learn": [
             1104.966827,
             0.9708646236
            ],
            "passed_time": 91.88349485,
            "remaining_time": 193.8238896,
            "test": [
             1657.867354,
             0.9315274458
            ]
           },
           {
            "iteration": 1608,
            "learn": [
             1104.697187,
             0.9708788414
            ],
            "passed_time": 91.93627808,
            "remaining_time": 193.7575631,
            "test": [
             1657.743989,
             0.9315376357
            ]
           },
           {
            "iteration": 1609,
            "learn": [
             1104.44387,
             0.9708921954
            ],
            "passed_time": 91.98680107,
            "remaining_time": 193.6864942,
            "test": [
             1657.819761,
             0.931531377
            ]
           },
           {
            "iteration": 1610,
            "learn": [
             1104.294,
             0.9709000945
            ],
            "passed_time": 92.11696383,
            "remaining_time": 193.782986,
            "test": [
             1657.704421,
             0.9315409039
            ]
           },
           {
            "iteration": 1611,
            "learn": [
             1104.199784,
             0.9709050598
            ],
            "passed_time": 92.2087353,
            "remaining_time": 193.7985082,
            "test": [
             1657.690815,
             0.9315420277
            ]
           },
           {
            "iteration": 1612,
            "learn": [
             1104.068449,
             0.9709119806
            ],
            "passed_time": 92.2605273,
            "remaining_time": 193.7299479,
            "test": [
             1657.625877,
             0.9315473911
            ]
           },
           {
            "iteration": 1613,
            "learn": [
             1103.591346,
             0.9709371148
            ],
            "passed_time": 92.30547954,
            "remaining_time": 193.6470593,
            "test": [
             1657.722858,
             0.9315393811
            ]
           },
           {
            "iteration": 1614,
            "learn": [
             1103.52642,
             0.9709405344
            ],
            "passed_time": 92.36129449,
            "remaining_time": 193.5869857,
            "test": [
             1657.72408,
             0.9315392802
            ]
           },
           {
            "iteration": 1615,
            "learn": [
             1103.268789,
             0.9709541013
            ],
            "passed_time": 92.41323794,
            "remaining_time": 193.5188101,
            "test": [
             1657.583751,
             0.9315508703
            ]
           },
           {
            "iteration": 1616,
            "learn": [
             1103.19638,
             0.9709579138
            ],
            "passed_time": 92.46440282,
            "remaining_time": 193.4490258,
            "test": [
             1657.58752,
             0.931550559
            ]
           },
           {
            "iteration": 1617,
            "learn": [
             1103.011713,
             0.9709676359
            ],
            "passed_time": 92.5184552,
            "remaining_time": 193.3853001,
            "test": [
             1657.615625,
             0.9315482379
            ]
           },
           {
            "iteration": 1618,
            "learn": [
             1102.784041,
             0.9709796198
            ],
            "passed_time": 92.57621589,
            "remaining_time": 193.3293304,
            "test": [
             1657.514033,
             0.9315566281
            ]
           },
           {
            "iteration": 1619,
            "learn": [
             1102.688818,
             0.9709846312
            ],
            "passed_time": 92.62378307,
            "remaining_time": 193.2520906,
            "test": [
             1657.482443,
             0.931559237
            ]
           },
           {
            "iteration": 1620,
            "learn": [
             1102.573505,
             0.9709906995
            ],
            "passed_time": 92.67467591,
            "remaining_time": 193.1818198,
            "test": [
             1657.41732,
             0.931564615
            ]
           },
           {
            "iteration": 1621,
            "learn": [
             1102.297588,
             0.9710052167
            ],
            "passed_time": 92.72876989,
            "remaining_time": 193.1182396,
            "test": [
             1657.365656,
             0.9315688814
            ]
           },
           {
            "iteration": 1622,
            "learn": [
             1102.068166,
             0.9710172848
            ],
            "passed_time": 92.77928308,
            "remaining_time": 193.0472206,
            "test": [
             1657.446027,
             0.9315622443
            ]
           },
           {
            "iteration": 1623,
            "learn": [
             1101.953694,
             0.9710233054
            ],
            "passed_time": 92.83572403,
            "remaining_time": 192.9885495,
            "test": [
             1657.451127,
             0.9315618231
            ]
           },
           {
            "iteration": 1624,
            "learn": [
             1101.551748,
             0.9710444405
            ],
            "passed_time": 92.88062528,
            "remaining_time": 192.905914,
            "test": [
             1657.319585,
             0.9315726858
            ]
           },
           {
            "iteration": 1625,
            "learn": [
             1101.509921,
             0.9710466394
            ],
            "passed_time": 92.94251892,
            "remaining_time": 192.8585848,
            "test": [
             1657.300554,
             0.9315742573
            ]
           },
           {
            "iteration": 1626,
            "learn": [
             1101.444674,
             0.9710500694
            ],
            "passed_time": 92.99756586,
            "remaining_time": 192.7970434,
            "test": [
             1657.246718,
             0.9315787027
            ]
           },
           {
            "iteration": 1627,
            "learn": [
             1101.200723,
             0.9710628918
            ],
            "passed_time": 93.04949739,
            "remaining_time": 192.7290572,
            "test": [
             1657.201009,
             0.9315824769
            ]
           },
           {
            "iteration": 1628,
            "learn": [
             1100.852426,
             0.9710811938
            ],
            "passed_time": 93.13391889,
            "remaining_time": 192.7283245,
            "test": [
             1657.141667,
             0.9315873767
            ]
           },
           {
            "iteration": 1629,
            "learn": [
             1100.655169,
             0.9710915566
            ],
            "passed_time": 93.26411148,
            "remaining_time": 192.8221201,
            "test": [
             1657.200246,
             0.9315825399
            ]
           },
           {
            "iteration": 1630,
            "learn": [
             1100.463434,
             0.9711016274
            ],
            "passed_time": 93.31999711,
            "remaining_time": 192.7621522,
            "test": [
             1657.082201,
             0.9315922865
            ]
           },
           {
            "iteration": 1631,
            "learn": [
             1100.38949,
             0.9711055109
            ],
            "passed_time": 93.38118528,
            "remaining_time": 192.7131324,
            "test": [
             1657.112207,
             0.9315898091
            ]
           },
           {
            "iteration": 1632,
            "learn": [
             1099.890771,
             0.9711316961
            ],
            "passed_time": 93.43434411,
            "remaining_time": 192.6475423,
            "test": [
             1657.491499,
             0.9315584891
            ]
           },
           {
            "iteration": 1633,
            "learn": [
             1099.818388,
             0.9711354955
            ],
            "passed_time": 93.48271149,
            "remaining_time": 192.5720972,
            "test": [
             1657.529275,
             0.9315553693
            ]
           },
           {
            "iteration": 1634,
            "learn": [
             1099.526857,
             0.9711507958
            ],
            "passed_time": 93.53124656,
            "remaining_time": 192.4970304,
            "test": [
             1657.721214,
             0.9315395169
            ]
           },
           {
            "iteration": 1635,
            "learn": [
             1099.393601,
             0.9711577881
            ],
            "passed_time": 93.59165931,
            "remaining_time": 192.4464193,
            "test": [
             1657.710054,
             0.9315404386
            ]
           },
           {
            "iteration": 1636,
            "learn": [
             1099.229877,
             0.971166378
            ],
            "passed_time": 93.64009132,
            "remaining_time": 192.3711833,
            "test": [
             1657.743879,
             0.9315376448
            ]
           },
           {
            "iteration": 1637,
            "learn": [
             1099.032313,
             0.9711767416
            ],
            "passed_time": 93.69092736,
            "remaining_time": 192.3009144,
            "test": [
             1657.780448,
             0.9315346243
            ]
           },
           {
            "iteration": 1638,
            "learn": [
             1098.85401,
             0.9711860931
            ],
            "passed_time": 93.74557972,
            "remaining_time": 192.2384951,
            "test": [
             1657.85201,
             0.9315287132
            ]
           },
           {
            "iteration": 1639,
            "learn": [
             1098.514427,
             0.9712038993
            ],
            "passed_time": 93.79975413,
            "remaining_time": 192.175106,
            "test": [
             1657.731234,
             0.9315386893
            ]
           },
           {
            "iteration": 1640,
            "learn": [
             1098.123423,
             0.971224395
            ],
            "passed_time": 93.85520796,
            "remaining_time": 192.1143471,
            "test": [
             1657.672565,
             0.9315435351
            ]
           },
           {
            "iteration": 1641,
            "learn": [
             1098.054591,
             0.9712280022
            ],
            "passed_time": 93.92002374,
            "remaining_time": 192.0727404,
            "test": [
             1657.747009,
             0.9315373863
            ]
           },
           {
            "iteration": 1642,
            "learn": [
             1097.997422,
             0.9712309982
            ],
            "passed_time": 93.97321926,
            "remaining_time": 192.0073628,
            "test": [
             1657.739925,
             0.9315379714
            ]
           },
           {
            "iteration": 1643,
            "learn": [
             1097.936682,
             0.971234181
            ],
            "passed_time": 94.02900582,
            "remaining_time": 191.9472893,
            "test": [
             1657.712408,
             0.9315402442
            ]
           },
           {
            "iteration": 1644,
            "learn": [
             1097.671376,
             0.9712480813
            ],
            "passed_time": 94.08109056,
            "remaining_time": 191.879671,
            "test": [
             1657.783603,
             0.9315343637
            ]
           },
           {
            "iteration": 1645,
            "learn": [
             1097.517869,
             0.9712561225
            ],
            "passed_time": 94.14384769,
            "remaining_time": 191.8338184,
            "test": [
             1657.76807,
             0.9315356467
            ]
           },
           {
            "iteration": 1646,
            "learn": [
             1097.368927,
             0.9712639235
            ],
            "passed_time": 94.23144595,
            "remaining_time": 191.8385175,
            "test": [
             1657.820338,
             0.9315313294
            ]
           },
           {
            "iteration": 1647,
            "learn": [
             1097.187068,
             0.9712734472
            ],
            "passed_time": 94.35119067,
            "remaining_time": 191.9084898,
            "test": [
             1657.915854,
             0.9315234395
            ]
           },
           {
            "iteration": 1648,
            "learn": [
             1096.887,
             0.9712891578
            ],
            "passed_time": 94.42292126,
            "remaining_time": 191.8806605,
            "test": [
             1657.853186,
             0.9315286161
            ]
           },
           {
            "iteration": 1649,
            "learn": [
             1096.773371,
             0.9712951059
            ],
            "passed_time": 94.47481619,
            "remaining_time": 191.8125056,
            "test": [
             1657.749116,
             0.9315372123
            ]
           },
           {
            "iteration": 1650,
            "learn": [
             1096.595865,
             0.9713043966
            ],
            "passed_time": 94.52682759,
            "remaining_time": 191.7446067,
            "test": [
             1657.721808,
             0.9315394678
            ]
           },
           {
            "iteration": 1651,
            "learn": [
             1096.507094,
             0.9713090423
            ],
            "passed_time": 94.59182597,
            "remaining_time": 191.7030468,
            "test": [
             1657.715625,
             0.9315399785
            ]
           },
           {
            "iteration": 1652,
            "learn": [
             1096.469107,
             0.9713110302
            ],
            "passed_time": 94.65799679,
            "remaining_time": 191.6638326,
            "test": [
             1657.706508,
             0.9315407316
            ]
           },
           {
            "iteration": 1653,
            "learn": [
             1096.335453,
             0.9713180239
            ],
            "passed_time": 94.71293998,
            "remaining_time": 191.6018725,
            "test": [
             1657.657666,
             0.9315447656
            ]
           },
           {
            "iteration": 1654,
            "learn": [
             1096.074725,
             0.9713316644
            ],
            "passed_time": 94.7617682,
            "remaining_time": 191.5275617,
            "test": [
             1657.649911,
             0.9315454061
            ]
           },
           {
            "iteration": 1655,
            "learn": [
             1096.054376,
             0.9713327289
            ],
            "passed_time": 94.81429103,
            "remaining_time": 191.4607423,
            "test": [
             1657.63817,
             0.9315463758
            ]
           },
           {
            "iteration": 1656,
            "learn": [
             1095.926013,
             0.9713394431
            ],
            "passed_time": 94.85334444,
            "remaining_time": 191.3667655,
            "test": [
             1657.746088,
             0.9315374623
            ]
           },
           {
            "iteration": 1657,
            "learn": [
             1095.73776,
             0.9713492887
            ],
            "passed_time": 94.90670072,
            "remaining_time": 191.301685,
            "test": [
             1657.802702,
             0.9315327861
            ]
           },
           {
            "iteration": 1658,
            "learn": [
             1095.550298,
             0.9713590911
            ],
            "passed_time": 94.96867496,
            "remaining_time": 191.2539741,
            "test": [
             1657.728145,
             0.9315389444
            ]
           },
           {
            "iteration": 1659,
            "learn": [
             1095.442229,
             0.9713647413
            ],
            "passed_time": 95.0238329,
            "remaining_time": 191.1925313,
            "test": [
             1657.705207,
             0.931540839
            ]
           },
           {
            "iteration": 1660,
            "learn": [
             1095.36289,
             0.971368889
            ],
            "passed_time": 95.07400019,
            "remaining_time": 191.1210636,
            "test": [
             1657.689675,
             0.9315421219
            ]
           },
           {
            "iteration": 1661,
            "learn": [
             1095.111457,
             0.9713820317
            ],
            "passed_time": 95.12726869,
            "remaining_time": 191.0558501,
            "test": [
             1657.633537,
             0.9315467585
            ]
           },
           {
            "iteration": 1662,
            "learn": [
             1094.713565,
             0.9714028237
            ],
            "passed_time": 95.18653456,
            "remaining_time": 191.0026854,
            "test": [
             1657.477873,
             0.9315596144
            ]
           },
           {
            "iteration": 1663,
            "learn": [
             1094.42507,
             0.9714178944
            ],
            "passed_time": 95.23977127,
            "remaining_time": 190.9374261,
            "test": [
             1657.390224,
             0.9315668526
            ]
           },
           {
            "iteration": 1664,
            "learn": [
             1094.321798,
             0.9714232883
            ],
            "passed_time": 95.38375127,
            "remaining_time": 191.0539402,
            "test": [
             1657.383891,
             0.9315673755
            ]
           },
           {
            "iteration": 1665,
            "learn": [
             1094.075488,
             0.9714361509
            ],
            "passed_time": 95.49967577,
            "remaining_time": 191.113997,
            "test": [
             1657.45516,
             0.93156149
            ]
           },
           {
            "iteration": 1666,
            "learn": [
             1094.018259,
             0.9714391391
            ],
            "passed_time": 95.56818854,
            "remaining_time": 191.0790476,
            "test": [
             1657.450728,
             0.9315618561
            ]
           },
           {
            "iteration": 1667,
            "learn": [
             1093.897464,
             0.9714454458
            ],
            "passed_time": 95.61633788,
            "remaining_time": 191.00338,
            "test": [
             1657.364254,
             0.9315689971
            ]
           },
           {
            "iteration": 1668,
            "learn": [
             1093.775184,
             0.9714518293
            ],
            "passed_time": 95.67190172,
            "remaining_time": 190.9425432,
            "test": [
             1657.370907,
             0.9315684477
            ]
           },
           {
            "iteration": 1669,
            "learn": [
             1093.571173,
             0.9714624779
            ],
            "passed_time": 95.72177325,
            "remaining_time": 190.8703622,
            "test": [
             1657.281914,
             0.9315757964
            ]
           },
           {
            "iteration": 1670,
            "learn": [
             1093.429591,
             0.9714698668
            ],
            "passed_time": 95.77226225,
            "remaining_time": 190.7994381,
            "test": [
             1657.262656,
             0.9315773866
            ]
           },
           {
            "iteration": 1671,
            "learn": [
             1093.061497,
             0.9714890725
            ],
            "passed_time": 95.82986825,
            "remaining_time": 190.7427043,
            "test": [
             1657.051607,
             0.9315948125
            ]
           },
           {
            "iteration": 1672,
            "learn": [
             1092.913034,
             0.9714968168
            ],
            "passed_time": 95.89470367,
            "remaining_time": 190.7003462,
            "test": [
             1656.997474,
             0.9315992818
            ]
           },
           {
            "iteration": 1673,
            "learn": [
             1092.798406,
             0.9715027955
            ],
            "passed_time": 95.95959668,
            "remaining_time": 190.6580756,
            "test": [
             1657.003768,
             0.9315987622
            ]
           },
           {
            "iteration": 1674,
            "learn": [
             1092.746733,
             0.9715054904
            ],
            "passed_time": 96.00961838,
            "remaining_time": 190.5862574,
            "test": [
             1657.000636,
             0.9315990207
            ]
           },
           {
            "iteration": 1675,
            "learn": [
             1092.684876,
             0.9715087163
            ],
            "passed_time": 96.06698797,
            "remaining_time": 190.5290382,
            "test": [
             1656.999097,
             0.9315991478
            ]
           },
           {
            "iteration": 1676,
            "learn": [
             1092.604315,
             0.9715129173
            ],
            "passed_time": 96.11433971,
            "remaining_time": 190.4519683,
            "test": [
             1657.019778,
             0.9315974403
            ]
           },
           {
            "iteration": 1677,
            "learn": [
             1092.250488,
             0.9715313648
            ],
            "passed_time": 96.18054889,
            "remaining_time": 190.4122666,
            "test": [
             1657.01714,
             0.9315976582
            ]
           },
           {
            "iteration": 1678,
            "learn": [
             1091.952014,
             0.9715469216
            ],
            "passed_time": 96.23025114,
            "remaining_time": 190.3398833,
            "test": [
             1656.98296,
             0.9316004801
            ]
           },
           {
            "iteration": 1679,
            "learn": [
             1091.742781,
             0.9715578246
            ],
            "passed_time": 96.27998627,
            "remaining_time": 190.2675919,
            "test": [
             1657.055328,
             0.9315945053
            ]
           },
           {
            "iteration": 1680,
            "learn": [
             1091.505088,
             0.971570208
            ],
            "passed_time": 96.33586493,
            "remaining_time": 190.2074573,
            "test": [
             1656.946752,
             0.9316034693
            ]
           },
           {
            "iteration": 1681,
            "learn": [
             1091.45505,
             0.9715728145
            ],
            "passed_time": 96.38345734,
            "remaining_time": 190.1309818,
            "test": [
             1656.967816,
             0.9316017303
            ]
           },
           {
            "iteration": 1682,
            "learn": [
             1091.232781,
             0.9715843915
            ],
            "passed_time": 96.47997459,
            "remaining_time": 190.150966,
            "test": [
             1656.946029,
             0.931603529
            ]
           },
           {
            "iteration": 1683,
            "learn": [
             1091.00494,
             0.9715962562
            ],
            "passed_time": 96.59872297,
            "remaining_time": 190.2145875,
            "test": [
             1656.860174,
             0.9316106168
            ]
           },
           {
            "iteration": 1684,
            "learn": [
             1090.798147,
             0.9716070226
            ],
            "passed_time": 96.6594783,
            "remaining_time": 190.1638994,
            "test": [
             1656.759684,
             0.9316189123
            ]
           },
           {
            "iteration": 1685,
            "learn": [
             1090.758969,
             0.9716090622
            ],
            "passed_time": 96.71940327,
            "remaining_time": 190.1115673,
            "test": [
             1656.71099,
             0.9316229318
            ]
           },
           {
            "iteration": 1686,
            "learn": [
             1090.554472,
             0.9716197067
            ],
            "passed_time": 96.77700191,
            "remaining_time": 190.0546576,
            "test": [
             1656.708974,
             0.9316230982
            ]
           },
           {
            "iteration": 1687,
            "learn": [
             1090.49741,
             0.9716226765
            ],
            "passed_time": 96.82245394,
            "remaining_time": 189.9739144,
            "test": [
             1656.743143,
             0.9316202777
            ]
           },
           {
            "iteration": 1688,
            "learn": [
             1090.3389,
             0.9716309256
            ],
            "passed_time": 96.87994496,
            "remaining_time": 189.9168134,
            "test": [
             1656.746981,
             0.9316199609
            ]
           },
           {
            "iteration": 1689,
            "learn": [
             1090.282075,
             0.9716338825
            ],
            "passed_time": 96.93340937,
            "remaining_time": 189.8518255,
            "test": [
             1656.733123,
             0.9316211048
            ]
           },
           {
            "iteration": 1690,
            "learn": [
             1090.044426,
             0.9716462471
            ],
            "passed_time": 96.98510344,
            "remaining_time": 189.7833869,
            "test": [
             1656.710711,
             0.9316229548
            ]
           },
           {
            "iteration": 1691,
            "learn": [
             1089.850828,
             0.9716563178
            ],
            "passed_time": 97.04014058,
            "remaining_time": 189.7215042,
            "test": [
             1656.737993,
             0.9316207028
            ]
           },
           {
            "iteration": 1692,
            "learn": [
             1089.62943,
             0.9716678324
            ],
            "passed_time": 97.09705961,
            "remaining_time": 189.6633055,
            "test": [
             1656.829726,
             0.9316131303
            ]
           },
           {
            "iteration": 1693,
            "learn": [
             1089.577127,
             0.9716705522
            ],
            "passed_time": 97.1500123,
            "remaining_time": 189.5973676,
            "test": [
             1656.831672,
             0.9316129697
            ]
           },
           {
            "iteration": 1694,
            "learn": [
             1089.459305,
             0.9716766788
            ],
            "passed_time": 97.20787012,
            "remaining_time": 189.5410093,
            "test": [
             1656.883306,
             0.9316087071
            ]
           },
           {
            "iteration": 1695,
            "learn": [
             1089.221527,
             0.9716890407
            ],
            "passed_time": 97.26292737,
            "remaining_time": 189.4791934,
            "test": [
             1656.919586,
             0.9316057121
            ]
           },
           {
            "iteration": 1696,
            "learn": [
             1089.075491,
             0.9716966317
            ],
            "passed_time": 97.31576177,
            "remaining_time": 189.413059,
            "test": [
             1656.752141,
             0.931619535
            ]
           },
           {
            "iteration": 1697,
            "learn": [
             1088.757844,
             0.9717131396
            ],
            "passed_time": 97.37136945,
            "remaining_time": 189.3523333,
            "test": [
             1656.694236,
             0.9316243148
            ]
           },
           {
            "iteration": 1698,
            "learn": [
             1088.354895,
             0.9717340737
            ],
            "passed_time": 97.41956898,
            "remaining_time": 189.2772203,
            "test": [
             1656.762033,
             0.9316187184
            ]
           },
           {
            "iteration": 1699,
            "learn": [
             1088.072253,
             0.9717487529
            ],
            "passed_time": 97.47784745,
            "remaining_time": 189.2217039,
            "test": [
             1656.589872,
             0.9316329292
            ]
           },
           {
            "iteration": 1700,
            "learn": [
             1088.03612,
             0.9717506292
            ],
            "passed_time": 97.54877492,
            "remaining_time": 189.1907163,
            "test": [
             1656.540776,
             0.9316369815
            ]
           },
           {
            "iteration": 1701,
            "learn": [
             1087.989755,
             0.9717530368
            ],
            "passed_time": 97.67116607,
            "remaining_time": 189.2594041,
            "test": [
             1656.555848,
             0.9316357374
            ]
           },
           {
            "iteration": 1702,
            "learn": [
             1087.778021,
             0.97176403
            ],
            "passed_time": 97.74479843,
            "remaining_time": 189.2334706,
            "test": [
             1656.435354,
             0.9316456824
            ]
           },
           {
            "iteration": 1703,
            "learn": [
             1087.605225,
             0.971773
            ],
            "passed_time": 97.83147198,
            "remaining_time": 189.2327064,
            "test": [
             1656.398696,
             0.9316487078
            ]
           },
           {
            "iteration": 1704,
            "learn": [
             1087.512932,
             0.9717777904
            ],
            "passed_time": 97.88554132,
            "remaining_time": 189.1688321,
            "test": [
             1656.303897,
             0.9316565314
            ]
           },
           {
            "iteration": 1705,
            "learn": [
             1087.400547,
             0.9717836231
            ],
            "passed_time": 97.93853452,
            "remaining_time": 189.1028914,
            "test": [
             1656.272762,
             0.9316591008
            ]
           },
           {
            "iteration": 1706,
            "learn": [
             1087.358756,
             0.9717857919
            ],
            "passed_time": 97.99606099,
            "remaining_time": 189.0457111,
            "test": [
             1656.282408,
             0.9316583048
            ]
           },
           {
            "iteration": 1707,
            "learn": [
             1087.272818,
             0.9717902515
            ],
            "passed_time": 98.05086857,
            "remaining_time": 188.98329,
            "test": [
             1656.282376,
             0.9316583074
            ]
           },
           {
            "iteration": 1708,
            "learn": [
             1087.091316,
             0.971799669
            ],
            "passed_time": 98.10256584,
            "remaining_time": 188.9148883,
            "test": [
             1656.236795,
             0.9316620689
            ]
           },
           {
            "iteration": 1709,
            "learn": [
             1086.904982,
             0.9718093356
            ],
            "passed_time": 98.15497636,
            "remaining_time": 188.8478785,
            "test": [
             1656.135259,
             0.9316704476
            ]
           },
           {
            "iteration": 1710,
            "learn": [
             1086.829181,
             0.9718132675
            ],
            "passed_time": 98.21599355,
            "remaining_time": 188.79743,
            "test": [
             1656.126065,
             0.9316712062
            ]
           },
           {
            "iteration": 1711,
            "learn": [
             1086.712866,
             0.9718193004
            ],
            "passed_time": 98.26155248,
            "remaining_time": 188.7172807,
            "test": [
             1656.126885,
             0.9316711385
            ]
           },
           {
            "iteration": 1712,
            "learn": [
             1086.543634,
             0.9718280768
            ],
            "passed_time": 98.31075728,
            "remaining_time": 188.6441676,
            "test": [
             1656.056854,
             0.9316769172
            ]
           },
           {
            "iteration": 1713,
            "learn": [
             1086.401409,
             0.9718354515
            ],
            "passed_time": 98.38121818,
            "remaining_time": 188.6118337,
            "test": [
             1656.068424,
             0.9316759625
            ]
           },
           {
            "iteration": 1714,
            "learn": [
             1086.275873,
             0.9718419601
            ],
            "passed_time": 98.43222873,
            "remaining_time": 188.5421991,
            "test": [
             1656.049469,
             0.9316775266
            ]
           },
           {
            "iteration": 1715,
            "learn": [
             1086.123149,
             0.9718498772
            ],
            "passed_time": 98.48627654,
            "remaining_time": 188.4783987,
            "test": [
             1655.964868,
             0.931684507
            ]
           },
           {
            "iteration": 1716,
            "learn": [
             1085.977566,
             0.9718574232
            ],
            "passed_time": 98.54351294,
            "remaining_time": 188.4207064,
            "test": [
             1655.917551,
             0.931688411
            ]
           },
           {
            "iteration": 1717,
            "learn": [
             1085.807418,
             0.9718662411
            ],
            "passed_time": 98.59607832,
            "remaining_time": 188.3540914,
            "test": [
             1655.936836,
             0.9316868198
            ]
           },
           {
            "iteration": 1718,
            "learn": [
             1085.708608,
             0.9718713612
            ],
            "passed_time": 98.7267372,
            "remaining_time": 188.4365473,
            "test": [
             1655.978126,
             0.9316834131
            ]
           },
           {
            "iteration": 1719,
            "learn": [
             1085.650473,
             0.9718743735
            ],
            "passed_time": 98.82108009,
            "remaining_time": 188.4495016,
            "test": [
             1655.939549,
             0.931686596
            ]
           },
           {
            "iteration": 1720,
            "learn": [
             1085.266464,
             0.9718942668
            ],
            "passed_time": 98.88087168,
            "remaining_time": 188.396501,
            "test": [
             1655.846359,
             0.9316942846
            ]
           },
           {
            "iteration": 1721,
            "learn": [
             1084.949104,
             0.9719107021
            ],
            "passed_time": 98.9394238,
            "remaining_time": 188.3411331,
            "test": [
             1655.798616,
             0.9316982235
            ]
           },
           {
            "iteration": 1722,
            "learn": [
             1084.85589,
             0.9719155285
            ],
            "passed_time": 98.99499625,
            "remaining_time": 188.2800944,
            "test": [
             1655.780357,
             0.9316997298
            ]
           },
           {
            "iteration": 1723,
            "learn": [
             1084.832198,
             0.9719167551
            ],
            "passed_time": 99.0431386,
            "remaining_time": 188.2049432,
            "test": [
             1655.794103,
             0.9316985958
            ]
           },
           {
            "iteration": 1724,
            "learn": [
             1084.635022,
             0.9719269629
            ],
            "passed_time": 99.09862306,
            "remaining_time": 188.1437626,
            "test": [
             1655.747556,
             0.9317024358
            ]
           },
           {
            "iteration": 1725,
            "learn": [
             1084.345324,
             0.9719419571
            ],
            "passed_time": 99.15041529,
            "remaining_time": 188.075585,
            "test": [
             1655.653825,
             0.9317101682
            ]
           },
           {
            "iteration": 1726,
            "learn": [
             1084.251925,
             0.9719467904
            ],
            "passed_time": 99.20843792,
            "remaining_time": 188.0192341,
            "test": [
             1655.575347,
             0.931716642
            ]
           },
           {
            "iteration": 1727,
            "learn": [
             1084.033851,
             0.9719580738
            ],
            "passed_time": 99.25442948,
            "remaining_time": 187.9401003,
            "test": [
             1655.466717,
             0.9317256024
            ]
           },
           {
            "iteration": 1728,
            "learn": [
             1083.960645,
             0.9719618611
            ],
            "passed_time": 99.30657928,
            "remaining_time": 187.8726552,
            "test": [
             1655.552767,
             0.9317185046
            ]
           },
           {
            "iteration": 1729,
            "learn": [
             1083.845584,
             0.9719678132
            ],
            "passed_time": 99.36239249,
            "remaining_time": 187.8121523,
            "test": [
             1655.462569,
             0.9317259446
            ]
           },
           {
            "iteration": 1730,
            "learn": [
             1083.754116,
             0.9719725444
            ],
            "passed_time": 99.41180228,
            "remaining_time": 187.7395619,
            "test": [
             1655.500583,
             0.931722809
            ]
           },
           {
            "iteration": 1731,
            "learn": [
             1083.382187,
             0.9719917783
            ],
            "passed_time": 99.46421343,
            "remaining_time": 187.6726614,
            "test": [
             1655.489577,
             0.9317237169
            ]
           },
           {
            "iteration": 1732,
            "learn": [
             1083.246528,
             0.9719987922
            ],
            "passed_time": 99.51794193,
            "remaining_time": 187.608261,
            "test": [
             1655.50596,
             0.9317223655
            ]
           },
           {
            "iteration": 1733,
            "learn": [
             1083.214478,
             0.9720004491
            ],
            "passed_time": 99.56783602,
            "remaining_time": 187.5366508,
            "test": [
             1655.513146,
             0.9317217727
            ]
           },
           {
            "iteration": 1734,
            "learn": [
             1082.948358,
             0.9720142051
            ],
            "passed_time": 99.62338845,
            "remaining_time": 187.4757137,
            "test": [
             1655.545883,
             0.9317190724
            ]
           },
           {
            "iteration": 1735,
            "learn": [
             1082.672084,
             0.9720284823
            ],
            "passed_time": 99.67800996,
            "remaining_time": 187.4130326,
            "test": [
             1655.397364,
             0.9317313228
            ]
           },
           {
            "iteration": 1736,
            "learn": [
             1082.485621,
             0.9720381163
            ],
            "passed_time": 99.80897005,
            "remaining_time": 187.4937647,
            "test": [
             1655.36655,
             0.9317338643
            ]
           },
           {
            "iteration": 1737,
            "learn": [
             1082.463722,
             0.9720392476
            ],
            "passed_time": 99.90442009,
            "remaining_time": 187.5076055,
            "test": [
             1655.350658,
             0.9317351751
            ]
           },
           {
            "iteration": 1738,
            "learn": [
             1082.387066,
             0.9720432076
            ],
            "passed_time": 99.95748176,
            "remaining_time": 187.4418333,
            "test": [
             1655.34237,
             0.9317358586
            ]
           },
           {
            "iteration": 1739,
            "learn": [
             1082.304793,
             0.9720474575
            ],
            "passed_time": 100.0260286,
            "remaining_time": 187.4050881,
            "test": [
             1655.327784,
             0.9317370617
            ]
           },
           {
            "iteration": 1740,
            "learn": [
             1082.132927,
             0.9720563343
            ],
            "passed_time": 100.0893075,
            "remaining_time": 187.3584453,
            "test": [
             1655.223003,
             0.9317457034
            ]
           },
           {
            "iteration": 1741,
            "learn": [
             1081.979407,
             0.9720642624
            ],
            "passed_time": 100.1415766,
            "remaining_time": 187.2911921,
            "test": [
             1655.400122,
             0.9317310954
            ]
           },
           {
            "iteration": 1742,
            "learn": [
             1081.840315,
             0.9720714443
            ],
            "passed_time": 100.2030506,
            "remaining_time": 187.2411565,
            "test": [
             1655.407319,
             0.9317305018
            ]
           },
           {
            "iteration": 1743,
            "learn": [
             1081.605181,
             0.9720835834
            ],
            "passed_time": 100.2575108,
            "remaining_time": 187.1780132,
            "test": [
             1655.524154,
             0.9317208648
            ]
           },
           {
            "iteration": 1744,
            "learn": [
             1081.532148,
             0.9720873532
            ],
            "passed_time": 100.3117123,
            "remaining_time": 187.1143975,
            "test": [
             1655.520208,
             0.9317211903
            ]
           },
           {
            "iteration": 1745,
            "learn": [
             1081.363346,
             0.9720960656
            ],
            "passed_time": 100.3612723,
            "remaining_time": 187.0421421,
            "test": [
             1655.453508,
             0.931726692
            ]
           },
           {
            "iteration": 1746,
            "learn": [
             1081.285796,
             0.9721000677
            ],
            "passed_time": 100.4161093,
            "remaining_time": 186.9797387,
            "test": [
             1655.451859,
             0.931726828
            ]
           },
           {
            "iteration": 1747,
            "learn": [
             1081.113135,
             0.9721089772
            ],
            "passed_time": 100.4683448,
            "remaining_time": 186.9125042,
            "test": [
             1655.50521,
             0.9317224274
            ]
           },
           {
            "iteration": 1748,
            "learn": [
             1081.022647,
             0.9721136459
            ],
            "passed_time": 100.5275663,
            "remaining_time": 186.8582722,
            "test": [
             1655.536047,
             0.9317198837
            ]
           },
           {
            "iteration": 1749,
            "learn": [
             1080.9043,
             0.9721197514
            ],
            "passed_time": 100.5798459,
            "remaining_time": 186.7911423,
            "test": [
             1655.550079,
             0.9317187263
            ]
           },
           {
            "iteration": 1750,
            "learn": [
             1080.716793,
             0.9721294235
            ],
            "passed_time": 100.6337399,
            "remaining_time": 186.727025,
            "test": [
             1655.418811,
             0.9317295538
            ]
           },
           {
            "iteration": 1751,
            "learn": [
             1080.493307,
             0.9721409492
            ],
            "passed_time": 100.6861796,
            "remaining_time": 186.6602233,
            "test": [
             1655.447817,
             0.9317271614
            ]
           },
           {
            "iteration": 1752,
            "learn": [
             1080.440861,
             0.9721436536
            ],
            "passed_time": 100.7278564,
            "remaining_time": 186.5735024,
            "test": [
             1655.462225,
             0.9317259729
            ]
           },
           {
            "iteration": 1753,
            "learn": [
             1080.323605,
             0.9721496996
            ],
            "passed_time": 100.7781422,
            "remaining_time": 186.5027649,
            "test": [
             1655.47625,
             0.9317248161
            ]
           },
           {
            "iteration": 1754,
            "learn": [
             1080.173845,
             0.9721574205
            ],
            "passed_time": 100.8851514,
            "remaining_time": 186.5369324,
            "test": [
             1655.522944,
             0.9317209645
            ]
           },
           {
            "iteration": 1755,
            "learn": [
             1080.10695,
             0.972160869
            ],
            "passed_time": 101.0208601,
            "remaining_time": 186.623958,
            "test": [
             1655.519662,
             0.9317212353
            ]
           },
           {
            "iteration": 1756,
            "learn": [
             1079.962191,
             0.9721683307
            ],
            "passed_time": 101.0749279,
            "remaining_time": 186.5600404,
            "test": [
             1655.443807,
             0.9317274922
            ]
           },
           {
            "iteration": 1757,
            "learn": [
             1079.827317,
             0.9721752819
            ],
            "passed_time": 101.1268435,
            "remaining_time": 186.4921654,
            "test": [
             1655.31324,
             0.9317382612
            ]
           },
           {
            "iteration": 1758,
            "learn": [
             1079.673178,
             0.9721832249
            ],
            "passed_time": 101.1753112,
            "remaining_time": 186.4179555,
            "test": [
             1655.364154,
             0.931734062
            ]
           },
           {
            "iteration": 1759,
            "learn": [
             1079.520466,
             0.9721910934
            ],
            "passed_time": 101.2403584,
            "remaining_time": 186.3742962,
            "test": [
             1655.344339,
             0.9317356962
            ]
           },
           {
            "iteration": 1760,
            "learn": [
             1079.416224,
             0.9721964638
            ],
            "passed_time": 101.2904365,
            "remaining_time": 186.30308,
            "test": [
             1655.424869,
             0.9317290542
            ]
           },
           {
            "iteration": 1761,
            "learn": [
             1078.96284,
             0.9722198153
            ],
            "passed_time": 101.3427845,
            "remaining_time": 186.2360592,
            "test": [
             1655.40813,
             0.9317304348
            ]
           },
           {
            "iteration": 1762,
            "learn": [
             1078.660765,
             0.9722353683
            ],
            "passed_time": 101.3888922,
            "remaining_time": 186.1575972,
            "test": [
             1655.556505,
             0.9317181962
            ]
           },
           {
            "iteration": 1763,
            "learn": [
             1078.509392,
             0.9722431604
            ],
            "passed_time": 101.4339569,
            "remaining_time": 186.0772588,
            "test": [
             1655.61397,
             0.9317134559
            ]
           },
           {
            "iteration": 1764,
            "learn": [
             1078.422792,
             0.9722476177
            ],
            "passed_time": 101.4871827,
            "remaining_time": 186.0119184,
            "test": [
             1655.605283,
             0.9317141726
            ]
           },
           {
            "iteration": 1765,
            "learn": [
             1078.334327,
             0.9722521707
            ],
            "passed_time": 101.5377831,
            "remaining_time": 185.9417841,
            "test": [
             1655.591251,
             0.9317153301
            ]
           },
           {
            "iteration": 1766,
            "learn": [
             1078.130555,
             0.9722626567
            ],
            "passed_time": 101.5860348,
            "remaining_time": 185.8673744,
            "test": [
             1655.587935,
             0.9317156036
            ]
           },
           {
            "iteration": 1767,
            "learn": [
             1078.094779,
             0.9722644975
            ],
            "passed_time": 101.6294898,
            "remaining_time": 185.7842256,
            "test": [
             1655.586637,
             0.9317157107
            ]
           },
           {
            "iteration": 1768,
            "learn": [
             1078.002947,
             0.9722692223
            ],
            "passed_time": 101.6783179,
            "remaining_time": 185.7109357,
            "test": [
             1655.547487,
             0.9317189401
            ]
           },
           {
            "iteration": 1769,
            "learn": [
             1077.872236,
             0.9722759468
            ],
            "passed_time": 101.7105006,
            "remaining_time": 185.6072977,
            "test": [
             1655.555561,
             0.9317182741
            ]
           },
           {
            "iteration": 1770,
            "learn": [
             1077.446488,
             0.9722978439
            ],
            "passed_time": 101.7603838,
            "remaining_time": 185.5360132,
            "test": [
             1655.565759,
             0.9317174329
            ]
           },
           {
            "iteration": 1771,
            "learn": [
             1077.361204,
             0.9723022291
            ],
            "passed_time": 101.8033217,
            "remaining_time": 185.4521007,
            "test": [
             1655.595652,
             0.931714967
            ]
           },
           {
            "iteration": 1772,
            "learn": [
             1077.247564,
             0.972308072
            ],
            "passed_time": 101.862601,
            "remaining_time": 185.3979771,
            "test": [
             1655.523869,
             0.9317208883
            ]
           },
           {
            "iteration": 1773,
            "learn": [
             1077.229773,
             0.9723089866
            ],
            "passed_time": 101.9417215,
            "remaining_time": 185.3799287,
            "test": [
             1655.529315,
             0.9317204391
            ]
           },
           {
            "iteration": 1774,
            "learn": [
             1077.137282,
             0.9723137415
            ],
            "passed_time": 102.1397338,
            "remaining_time": 185.5778261,
            "test": [
             1655.609515,
             0.9317138234
            ]
           },
           {
            "iteration": 1775,
            "learn": [
             1076.960827,
             0.9723228118
            ],
            "passed_time": 102.1894737,
            "remaining_time": 185.5061167,
            "test": [
             1655.634133,
             0.9317117927
            ]
           },
           {
            "iteration": 1776,
            "learn": [
             1076.774048,
             0.9723324112
            ],
            "passed_time": 102.252249,
            "remaining_time": 185.4580746,
            "test": [
             1655.588833,
             0.9317155295
            ]
           },
           {
            "iteration": 1777,
            "learn": [
             1076.518366,
             0.9723455491
            ],
            "passed_time": 102.3043202,
            "remaining_time": 185.3906186,
            "test": [
             1655.701603,
             0.9317062269
            ]
           },
           {
            "iteration": 1778,
            "learn": [
             1076.391067,
             0.972352089
            ],
            "passed_time": 102.3528203,
            "remaining_time": 185.3167141,
            "test": [
             1655.599425,
             0.9317146558
            ]
           },
           {
            "iteration": 1779,
            "learn": [
             1076.235353,
             0.9723600877
            ],
            "passed_time": 102.4062394,
            "remaining_time": 185.2517364,
            "test": [
             1655.529267,
             0.931720443
            ]
           },
           {
            "iteration": 1780,
            "learn": [
             1076.094054,
             0.9723673449
            ],
            "passed_time": 102.458973,
            "remaining_time": 185.185533,
            "test": [
             1655.467214,
             0.9317255615
            ]
           },
           {
            "iteration": 1781,
            "learn": [
             1075.941541,
             0.972375177
            ],
            "passed_time": 102.5105367,
            "remaining_time": 185.1172318,
            "test": [
             1655.390922,
             0.9317318541
            ]
           },
           {
            "iteration": 1782,
            "learn": [
             1075.701631,
             0.972387495
            ],
            "passed_time": 102.5633595,
            "remaining_time": 185.0512212,
            "test": [
             1655.367467,
             0.9317337887
            ]
           },
           {
            "iteration": 1783,
            "learn": [
             1075.638195,
             0.9723907516
            ],
            "passed_time": 102.6060559,
            "remaining_time": 184.9669706,
            "test": [
             1655.3941,
             0.9317315921
            ]
           },
           {
            "iteration": 1784,
            "learn": [
             1075.458392,
             0.9723999811
            ],
            "passed_time": 102.6554438,
            "remaining_time": 184.8948189,
            "test": [
             1655.553655,
             0.9317184313
            ]
           },
           {
            "iteration": 1785,
            "learn": [
             1075.255347,
             0.9724104018
            ],
            "passed_time": 102.7065906,
            "remaining_time": 184.8258579,
            "test": [
             1655.6315,
             0.9317120099
            ]
           },
           {
            "iteration": 1786,
            "learn": [
             1075.087053,
             0.9724190376
            ],
            "passed_time": 102.7568651,
            "remaining_time": 184.7553484,
            "test": [
             1655.59521,
             0.9317150035
            ]
           },
           {
            "iteration": 1787,
            "learn": [
             1075.00778,
             0.9724231048
            ],
            "passed_time": 102.7979114,
            "remaining_time": 184.6682838,
            "test": [
             1655.582924,
             0.931716017
            ]
           },
           {
            "iteration": 1788,
            "learn": [
             1074.871959,
             0.9724300728
            ],
            "passed_time": 102.850059,
            "remaining_time": 184.6011959,
            "test": [
             1655.598526,
             0.9317147299
            ]
           },
           {
            "iteration": 1789,
            "learn": [
             1074.80978,
             0.9724332624
            ],
            "passed_time": 102.9019701,
            "remaining_time": 184.5337005,
            "test": [
             1655.579161,
             0.9317163273
            ]
           },
           {
            "iteration": 1790,
            "learn": [
             1074.648316,
             0.9724415442
            ],
            "passed_time": 102.9495518,
            "remaining_time": 184.4584654,
            "test": [
             1655.464655,
             0.9317257725
            ]
           },
           {
            "iteration": 1791,
            "learn": [
             1074.616639,
             0.9724431689
            ],
            "passed_time": 102.9944609,
            "remaining_time": 184.3784768,
            "test": [
             1655.465844,
             0.9317256744
            ]
           },
           {
            "iteration": 1792,
            "learn": [
             1074.351663,
             0.9724567569
            ],
            "passed_time": 103.0455429,
            "remaining_time": 184.3095684,
            "test": [
             1655.339911,
             0.9317360614
            ]
           },
           {
            "iteration": 1793,
            "learn": [
             1074.318634,
             0.9724584505
            ],
            "passed_time": 103.179942,
            "remaining_time": 184.3895731,
            "test": [
             1655.357232,
             0.9317346329
            ]
           },
           {
            "iteration": 1794,
            "learn": [
             1074.263454,
             0.9724612796
            ],
            "passed_time": 103.2895569,
            "remaining_time": 184.4250862,
            "test": [
             1655.385461,
             0.9317323045
            ]
           },
           {
            "iteration": 1795,
            "learn": [
             1073.96093,
             0.9724767879
            ],
            "passed_time": 103.3418931,
            "remaining_time": 184.3582546,
            "test": [
             1655.448642,
             0.9317270933
            ]
           },
           {
            "iteration": 1796,
            "learn": [
             1073.909025,
             0.9724794482
            ],
            "passed_time": 103.3948336,
            "remaining_time": 184.2925164,
            "test": [
             1655.442726,
             0.9317275813
            ]
           },
           {
            "iteration": 1797,
            "learn": [
             1073.846551,
             0.9724826501
            ],
            "passed_time": 103.4524352,
            "remaining_time": 184.2350932,
            "test": [
             1655.426989,
             0.9317288793
            ]
           },
           {
            "iteration": 1798,
            "learn": [
             1073.829193,
             0.9724835396
            ],
            "passed_time": 103.5010672,
            "remaining_time": 184.1617099,
            "test": [
             1655.430938,
             0.9317285536
            ]
           },
           {
            "iteration": 1799,
            "learn": [
             1073.690584,
             0.9724906428
            ],
            "passed_time": 103.5557161,
            "remaining_time": 184.0990508,
            "test": [
             1655.412483,
             0.9317300758
            ]
           },
           {
            "iteration": 1800,
            "learn": [
             1073.649161,
             0.9724927654
            ],
            "passed_time": 103.6080382,
            "remaining_time": 184.0322678,
            "test": [
             1655.416846,
             0.9317297159
            ]
           },
           {
            "iteration": 1801,
            "learn": [
             1073.337136,
             0.9725087515
            ],
            "passed_time": 103.6595466,
            "remaining_time": 183.9640566,
            "test": [
             1655.21096,
             0.9317466965
            ]
           },
           {
            "iteration": 1802,
            "learn": [
             1073.136101,
             0.9725190487
            ],
            "passed_time": 103.7170411,
            "remaining_time": 183.9064783,
            "test": [
             1655.223473,
             0.9317456646
            ]
           },
           {
            "iteration": 1803,
            "learn": [
             1073.056569,
             0.9725231218
            ],
            "passed_time": 103.7831201,
            "remaining_time": 183.8641085,
            "test": [
             1655.252394,
             0.9317432795
            ]
           },
           {
            "iteration": 1804,
            "learn": [
             1072.90767,
             0.9725307468
            ],
            "passed_time": 103.8417857,
            "remaining_time": 183.8085902,
            "test": [
             1655.132151,
             0.9317531958
            ]
           },
           {
            "iteration": 1805,
            "learn": [
             1072.77097,
             0.972537746
            ],
            "passed_time": 103.8971722,
            "remaining_time": 183.7472691,
            "test": [
             1655.164773,
             0.9317505056
            ]
           },
           {
            "iteration": 1806,
            "learn": [
             1072.330987,
             0.972560268
            ],
            "passed_time": 103.9498521,
            "remaining_time": 183.6811719,
            "test": [
             1655.251652,
             0.9317433407
            ]
           },
           {
            "iteration": 1807,
            "learn": [
             1071.891791,
             0.9725827405
            ],
            "passed_time": 104.001777,
            "remaining_time": 183.6137567,
            "test": [
             1655.242925,
             0.9317440604
            ]
           },
           {
            "iteration": 1808,
            "learn": [
             1071.85697,
             0.9725845217
            ],
            "passed_time": 104.0594328,
            "remaining_time": 183.5564676,
            "test": [
             1655.27459,
             0.9317414489
            ]
           },
           {
            "iteration": 1809,
            "learn": [
             1071.664814,
             0.9725943507
            ],
            "passed_time": 104.1143761,
            "remaining_time": 183.4943977,
            "test": [
             1655.274631,
             0.9317414454
            ]
           },
           {
            "iteration": 1810,
            "learn": [
             1071.51762,
             0.9726018785
            ],
            "passed_time": 104.1604206,
            "remaining_time": 183.4166656,
            "test": [
             1655.234056,
             0.9317447918
            ]
           },
           {
            "iteration": 1811,
            "learn": [
             1071.416176,
             0.972607066
            ],
            "passed_time": 104.306048,
            "remaining_time": 183.5141727,
            "test": [
             1655.18991,
             0.9317484326
            ]
           },
           {
            "iteration": 1812,
            "learn": [
             1071.29668,
             0.972613176
            ],
            "passed_time": 104.4062861,
            "remaining_time": 183.5316237,
            "test": [
             1655.153733,
             0.931751416
            ]
           },
           {
            "iteration": 1813,
            "learn": [
             1071.181997,
             0.9726190392
            ],
            "passed_time": 104.4718421,
            "remaining_time": 183.4880314,
            "test": [
             1655.060401,
             0.9317591127
            ]
           },
           {
            "iteration": 1814,
            "learn": [
             1070.600577,
             0.972648755
            ],
            "passed_time": 104.5286586,
            "remaining_time": 183.4290786,
            "test": [
             1655.079131,
             0.9317575682
            ]
           },
           {
            "iteration": 1815,
            "learn": [
             1070.528908,
             0.9726524168
            ],
            "passed_time": 104.5845891,
            "remaining_time": 183.3685748,
            "test": [
             1655.076166,
             0.9317578127
            ]
           },
           {
            "iteration": 1816,
            "learn": [
             1070.425335,
             0.9726577083
            ],
            "passed_time": 104.6417448,
            "remaining_time": 183.3102223,
            "test": [
             1655.098551,
             0.9317559667
            ]
           },
           {
            "iteration": 1817,
            "learn": [
             1070.254975,
             0.9726664107
            ],
            "passed_time": 104.6919415,
            "remaining_time": 183.2396908,
            "test": [
             1655.140226,
             0.9317525299
            ]
           },
           {
            "iteration": 1818,
            "learn": [
             1070.132709,
             0.9726726556
            ],
            "passed_time": 104.7518107,
            "remaining_time": 183.1860966,
            "test": [
             1655.192876,
             0.9317481879
            ]
           },
           {
            "iteration": 1819,
            "learn": [
             1069.926956,
             0.9726831629
            ],
            "passed_time": 104.8064423,
            "remaining_time": 183.1233442,
            "test": [
             1655.080971,
             0.9317574164
            ]
           },
           {
            "iteration": 1820,
            "learn": [
             1069.703308,
             0.9726945819
            ],
            "passed_time": 104.8608941,
            "remaining_time": 183.0602869,
            "test": [
             1655.089691,
             0.9317566974
            ]
           },
           {
            "iteration": 1821,
            "learn": [
             1069.425341,
             0.9727087709
            ],
            "passed_time": 104.9384313,
            "remaining_time": 183.0375052,
            "test": [
             1655.039009,
             0.9317608768
            ]
           },
           {
            "iteration": 1822,
            "learn": [
             1069.235617,
             0.9727184534
            ],
            "passed_time": 104.9901906,
            "remaining_time": 182.9697398,
            "test": [
             1655.062931,
             0.9317589041
            ]
           },
           {
            "iteration": 1823,
            "learn": [
             1069.156272,
             0.9727225022
            ],
            "passed_time": 105.0446167,
            "remaining_time": 182.9066351,
            "test": [
             1655.058721,
             0.9317592513
            ]
           },
           {
            "iteration": 1824,
            "learn": [
             1068.890636,
             0.9727360549
            ],
            "passed_time": 105.0991409,
            "remaining_time": 182.843711,
            "test": [
             1655.015039,
             0.9317628534
            ]
           },
           {
            "iteration": 1825,
            "learn": [
             1068.677653,
             0.9727469189
            ],
            "passed_time": 105.1492412,
            "remaining_time": 182.773106,
            "test": [
             1655.062527,
             0.9317589374
            ]
           },
           {
            "iteration": 1826,
            "learn": [
             1068.376279,
             0.9727622878
            ],
            "passed_time": 105.1918531,
            "remaining_time": 182.6895183,
            "test": [
             1655.189168,
             0.9317484938
            ]
           },
           {
            "iteration": 1827,
            "learn": [
             1068.212191,
             0.9727706538
            ],
            "passed_time": 105.2376027,
            "remaining_time": 182.61142,
            "test": [
             1655.105245,
             0.9317554147
            ]
           },
           {
            "iteration": 1828,
            "learn": [
             1067.924947,
             0.9727852959
            ],
            "passed_time": 105.3174648,
            "remaining_time": 182.5924991,
            "test": [
             1655.083318,
             0.9317572229
            ]
           },
           {
            "iteration": 1829,
            "learn": [
             1067.889886,
             0.9727870828
            ],
            "passed_time": 105.429582,
            "remaining_time": 182.6293853,
            "test": [
             1655.091673,
             0.9317565339
            ]
           },
           {
            "iteration": 1830,
            "learn": [
             1067.775412,
             0.9727929168
            ],
            "passed_time": 105.5221364,
            "remaining_time": 182.6322503,
            "test": [
             1655.007536,
             0.931763472
            ]
           },
           {
            "iteration": 1831,
            "learn": [
             1067.642012,
             0.9727997144
            ],
            "passed_time": 105.5735386,
            "remaining_time": 182.5638484,
            "test": [
             1655.058476,
             0.9317592715
            ]
           },
           {
            "iteration": 1832,
            "learn": [
             1067.332147,
             0.972815501
            ],
            "passed_time": 105.6328457,
            "remaining_time": 182.5091229,
            "test": [
             1654.938982,
             0.931769125
            ]
           },
           {
            "iteration": 1833,
            "learn": [
             1067.189711,
             0.9728227561
            ],
            "passed_time": 105.6787746,
            "remaining_time": 182.431298,
            "test": [
             1654.825792,
             0.931778458
            ]
           },
           {
            "iteration": 1834,
            "learn": [
             1067.128376,
             0.9728258799
            ],
            "passed_time": 105.7258842,
            "remaining_time": 182.3555442,
            "test": [
             1654.83436,
             0.9317777515
            ]
           },
           {
            "iteration": 1835,
            "learn": [
             1067.057131,
             0.9728295083
            ],
            "passed_time": 105.7792692,
            "remaining_time": 182.2906361,
            "test": [
             1654.783488,
             0.931781946
            ]
           },
           {
            "iteration": 1836,
            "learn": [
             1066.685054,
             0.9728484534
            ],
            "passed_time": 105.83258,
            "remaining_time": 182.2256128,
            "test": [
             1654.951929,
             0.9317680574
            ]
           },
           {
            "iteration": 1837,
            "learn": [
             1066.578577,
             0.9728538737
            ],
            "passed_time": 105.8873345,
            "remaining_time": 182.1630859,
            "test": [
             1654.98371,
             0.9317654368
            ]
           },
           {
            "iteration": 1838,
            "learn": [
             1066.410006,
             0.9728624538
            ],
            "passed_time": 105.9402547,
            "remaining_time": 182.0974144,
            "test": [
             1655.033404,
             0.9317613389
            ]
           },
           {
            "iteration": 1839,
            "learn": [
             1066.368939,
             0.9728645439
            ],
            "passed_time": 105.9903345,
            "remaining_time": 182.0268789,
            "test": [
             1654.990026,
             0.9317649159
            ]
           },
           {
            "iteration": 1840,
            "learn": [
             1066.34346,
             0.9728658405
            ],
            "passed_time": 106.0357075,
            "remaining_time": 181.948289,
            "test": [
             1654.948876,
             0.9317683091
            ]
           },
           {
            "iteration": 1841,
            "learn": [
             1066.258705,
             0.9728701537
            ],
            "passed_time": 106.0958313,
            "remaining_time": 181.8950245,
            "test": [
             1654.831291,
             0.9317780046
            ]
           },
           {
            "iteration": 1842,
            "learn": [
             1066.110986,
             0.9728776703
            ],
            "passed_time": 106.1598282,
            "remaining_time": 181.8483872,
            "test": [
             1654.862039,
             0.9317754694
            ]
           },
           {
            "iteration": 1843,
            "learn": [
             1066.060881,
             0.9728802196
            ],
            "passed_time": 106.2146801,
            "remaining_time": 181.7860794,
            "test": [
             1654.854441,
             0.9317760958
            ]
           },
           {
            "iteration": 1844,
            "learn": [
             1065.674308,
             0.9728998843
            ],
            "passed_time": 106.276464,
            "remaining_time": 181.7356335,
            "test": [
             1654.936397,
             0.9317693381
            ]
           },
           {
            "iteration": 1845,
            "learn": [
             1065.573005,
             0.9729050364
            ],
            "passed_time": 106.3228593,
            "remaining_time": 181.6588832,
            "test": [
             1654.967613,
             0.9317667641
            ]
           },
           {
            "iteration": 1846,
            "learn": [
             1065.299605,
             0.9729189384
            ],
            "passed_time": 106.3809142,
            "remaining_time": 181.6020696,
            "test": [
             1654.920954,
             0.9317706115
            ]
           },
           {
            "iteration": 1847,
            "learn": [
             1064.881681,
             0.9729401824
            ],
            "passed_time": 106.5223308,
            "remaining_time": 181.6874387,
            "test": [
             1654.590276,
             0.9317978753
            ]
           },
           {
            "iteration": 1848,
            "learn": [
             1064.614432,
             0.9729537628
            ],
            "passed_time": 106.5994432,
            "remaining_time": 181.6629775,
            "test": [
             1654.546245,
             0.9318015052
            ]
           },
           {
            "iteration": 1849,
            "learn": [
             1064.385784,
             0.9729653791
            ],
            "passed_time": 106.6569192,
            "remaining_time": 181.6050247,
            "test": [
             1654.410528,
             0.9318126929
            ]
           },
           {
            "iteration": 1850,
            "learn": [
             1064.298263,
             0.9729698248
            ],
            "passed_time": 106.705818,
            "remaining_time": 181.5324801,
            "test": [
             1654.442102,
             0.9318100902
            ]
           },
           {
            "iteration": 1851,
            "learn": [
             1064.213194,
             0.9729741457
            ],
            "passed_time": 106.7556727,
            "remaining_time": 181.4615862,
            "test": [
             1654.396879,
             0.931813818
            ]
           },
           {
            "iteration": 1852,
            "learn": [
             1063.940164,
             0.9729880112
            ],
            "passed_time": 106.8144237,
            "remaining_time": 181.4058237,
            "test": [
             1654.378965,
             0.9318152946
            ]
           },
           {
            "iteration": 1853,
            "learn": [
             1063.725781,
             0.9729988959
            ],
            "passed_time": 106.8781882,
            "remaining_time": 181.3585653,
            "test": [
             1654.272015,
             0.9318241102
            ]
           },
           {
            "iteration": 1854,
            "learn": [
             1063.631096,
             0.9730037025
            ],
            "passed_time": 106.9356083,
            "remaining_time": 181.3005326,
            "test": [
             1654.252192,
             0.931825744
            ]
           },
           {
            "iteration": 1855,
            "learn": [
             1063.425465,
             0.9730141399
            ],
            "passed_time": 106.9868331,
            "remaining_time": 181.2320061,
            "test": [
             1654.213159,
             0.9318289612
            ]
           },
           {
            "iteration": 1856,
            "learn": [
             1063.304421,
             0.9730202828
            ],
            "passed_time": 107.0327499,
            "remaining_time": 181.1545142,
            "test": [
             1654.239698,
             0.9318267738
            ]
           },
           {
            "iteration": 1857,
            "learn": [
             1063.087662,
             0.9730312816
            ],
            "passed_time": 107.0946737,
            "remaining_time": 181.1041252,
            "test": [
             1654.223613,
             0.9318280996
            ]
           },
           {
            "iteration": 1858,
            "learn": [
             1063.040721,
             0.9730336632
            ],
            "passed_time": 107.1518535,
            "remaining_time": 181.0457084,
            "test": [
             1654.240085,
             0.9318267419
            ]
           },
           {
            "iteration": 1859,
            "learn": [
             1062.953854,
             0.9730380701
            ],
            "passed_time": 107.2056491,
            "remaining_time": 180.9815797,
            "test": [
             1654.223493,
             0.9318281095
            ]
           },
           {
            "iteration": 1860,
            "learn": [
             1062.863869,
             0.9730426349
            ],
            "passed_time": 107.2560646,
            "remaining_time": 180.9117607,
            "test": [
             1654.253465,
             0.9318256391
            ]
           },
           {
            "iteration": 1861,
            "learn": [
             1062.68868,
             0.9730515208
            ],
            "passed_time": 107.3226971,
            "remaining_time": 180.869293,
            "test": [
             1654.315524,
             0.9318205239
            ]
           },
           {
            "iteration": 1862,
            "learn": [
             1062.423869,
             0.9730649496
            ],
            "passed_time": 107.3781175,
            "remaining_time": 180.8079198,
            "test": [
             1654.383899,
             0.9318148879
            ]
           },
           {
            "iteration": 1863,
            "learn": [
             1062.247844,
             0.9730738742
            ],
            "passed_time": 107.4373476,
            "remaining_time": 180.7529625,
            "test": [
             1654.371023,
             0.9318159493
            ]
           },
           {
            "iteration": 1864,
            "learn": [
             1062.133346,
             0.9730796786
            ],
            "passed_time": 107.4870821,
            "remaining_time": 180.6820388,
            "test": [
             1654.328667,
             0.9318194406
            ]
           },
           {
            "iteration": 1865,
            "learn": [
             1062.00951,
             0.9730859556
            ],
            "passed_time": 107.6217317,
            "remaining_time": 180.7537552,
            "test": [
             1654.37547,
             0.9318155827
            ]
           },
           {
            "iteration": 1866,
            "learn": [
             1061.744877,
             0.9730993668
            ],
            "passed_time": 107.7086067,
            "remaining_time": 180.7450803,
            "test": [
             1654.302847,
             0.9318215688
            ]
           },
           {
            "iteration": 1867,
            "learn": [
             1061.704256,
             0.9731014252
            ],
            "passed_time": 107.7666104,
            "remaining_time": 180.6879142,
            "test": [
             1654.300679,
             0.9318217475
            ]
           },
           {
            "iteration": 1868,
            "learn": [
             1061.543505,
             0.9731095699
            ],
            "passed_time": 107.814529,
            "remaining_time": 180.6138525,
            "test": [
             1654.293644,
             0.9318223274
            ]
           },
           {
            "iteration": 1869,
            "learn": [
             1061.264908,
             0.9731236826
            ],
            "passed_time": 107.868477,
            "remaining_time": 180.5499106,
            "test": [
             1654.270416,
             0.931824242
            ]
           },
           {
            "iteration": 1870,
            "learn": [
             1061.180802,
             0.9731279424
            ],
            "passed_time": 107.9234334,
            "remaining_time": 180.487666,
            "test": [
             1654.307467,
             0.9318211881
            ]
           },
           {
            "iteration": 1871,
            "learn": [
             1060.876409,
             0.9731433563
            ],
            "passed_time": 107.9719474,
            "remaining_time": 180.4146642,
            "test": [
             1654.38416,
             0.9318148664
            ]
           },
           {
            "iteration": 1872,
            "learn": [
             1060.78942,
             0.9731477605
            ],
            "passed_time": 108.0188582,
            "remaining_time": 180.3390121,
            "test": [
             1654.434127,
             0.9318107476
            ]
           },
           {
            "iteration": 1873,
            "learn": [
             1060.769212,
             0.9731487835
            ],
            "passed_time": 108.0723013,
            "remaining_time": 180.274287,
            "test": [
             1654.438524,
             0.9318103851
            ]
           },
           {
            "iteration": 1874,
            "learn": [
             1060.579451,
             0.9731583895
            ],
            "passed_time": 108.1304475,
            "remaining_time": 180.2174124,
            "test": [
             1654.347963,
             0.9318178501
            ]
           },
           {
            "iteration": 1875,
            "learn": [
             1060.513915,
             0.9731617066
            ],
            "passed_time": 108.1858026,
            "remaining_time": 180.1558888,
            "test": [
             1654.375938,
             0.9318155441
            ]
           },
           {
            "iteration": 1876,
            "learn": [
             1060.329846,
             0.9731710223
            ],
            "passed_time": 108.2429418,
            "remaining_time": 180.09734,
            "test": [
             1654.440662,
             0.9318102089
            ]
           },
           {
            "iteration": 1877,
            "learn": [
             1060.209669,
             0.9731771034
            ],
            "passed_time": 108.3009254,
            "remaining_time": 180.0401965,
            "test": [
             1654.505954,
             0.9318048266
            ]
           },
           {
            "iteration": 1878,
            "learn": [
             1060.09102,
             0.9731831067
            ],
            "passed_time": 108.3616982,
            "remaining_time": 179.9876849,
            "test": [
             1654.35843,
             0.9318169873
            ]
           },
           {
            "iteration": 1879,
            "learn": [
             1060.081123,
             0.9731836074
            ],
            "passed_time": 108.4134438,
            "remaining_time": 179.9201834,
            "test": [
             1654.36475,
             0.9318164663
            ]
           },
           {
            "iteration": 1880,
            "learn": [
             1059.942271,
             0.9731906319
            ],
            "passed_time": 108.4675133,
            "remaining_time": 179.8565519,
            "test": [
             1654.354859,
             0.9318172816
            ]
           },
           {
            "iteration": 1881,
            "learn": [
             1059.874514,
             0.9731940594
            ],
            "passed_time": 108.5191893,
            "remaining_time": 179.7889651,
            "test": [
             1654.301011,
             0.9318217202
            ]
           },
           {
            "iteration": 1882,
            "learn": [
             1059.675981,
             0.9732041009
            ],
            "passed_time": 108.5738194,
            "remaining_time": 179.7262852,
            "test": [
             1654.271913,
             0.9318241186
            ]
           },
           {
            "iteration": 1883,
            "learn": [
             1059.56464,
             0.9732097315
            ],
            "passed_time": 108.7190343,
            "remaining_time": 179.8134347,
            "test": [
             1654.272028,
             0.9318241091
            ]
           },
           {
            "iteration": 1884,
            "learn": [
             1059.367815,
             0.9732196837
            ],
            "passed_time": 108.852213,
            "remaining_time": 179.8804475,
            "test": [
             1654.286525,
             0.9318229142
            ]
           },
           {
            "iteration": 1885,
            "learn": [
             1059.159742,
             0.9732302026
            ],
            "passed_time": 108.9417622,
            "remaining_time": 179.8752107,
            "test": [
             1654.326381,
             0.931819629
            ]
           },
           {
            "iteration": 1886,
            "learn": [
             1059.143884,
             0.9732310042
            ],
            "passed_time": 108.9932202,
            "remaining_time": 179.8070454,
            "test": [
             1654.2956,
             0.9318221662
            ]
           },
           {
            "iteration": 1887,
            "learn": [
             1059.117782,
             0.9732323236
            ],
            "passed_time": 109.0490057,
            "remaining_time": 179.7460306,
            "test": [
             1654.307402,
             0.9318211934
            ]
           },
           {
            "iteration": 1888,
            "learn": [
             1059.060082,
             0.9732352401
            ],
            "passed_time": 109.0987646,
            "remaining_time": 179.6750963,
            "test": [
             1654.343281,
             0.931818236
            ]
           },
           {
            "iteration": 1889,
            "learn": [
             1059.023055,
             0.9732371116
            ],
            "passed_time": 109.155784,
            "remaining_time": 179.6161314,
            "test": [
             1654.362504,
             0.9318166515
            ]
           },
           {
            "iteration": 1890,
            "learn": [
             1058.934293,
             0.9732415977
            ],
            "passed_time": 109.2158097,
            "remaining_time": 179.5621113,
            "test": [
             1654.29079,
             0.9318225626
            ]
           },
           {
            "iteration": 1891,
            "learn": [
             1058.53424,
             0.9732618119
            ],
            "passed_time": 109.2692217,
            "remaining_time": 179.4972204,
            "test": [
             1654.198284,
             0.9318301872
            ]
           },
           {
            "iteration": 1892,
            "learn": [
             1058.433055,
             0.9732669234
            ],
            "passed_time": 109.330212,
            "remaining_time": 179.44478,
            "test": [
             1654.206803,
             0.9318294851
            ]
           },
           {
            "iteration": 1893,
            "learn": [
             1058.396568,
             0.9732687665
            ],
            "passed_time": 109.3820066,
            "remaining_time": 179.3772505,
            "test": [
             1654.183184,
             0.9318314318
            ]
           },
           {
            "iteration": 1894,
            "learn": [
             1058.342945,
             0.9732714751
            ],
            "passed_time": 109.4289239,
            "remaining_time": 179.301746,
            "test": [
             1654.172239,
             0.9318323339
            ]
           },
           {
            "iteration": 1895,
            "learn": [
             1058.160593,
             0.9732806849
            ],
            "passed_time": 109.4777131,
            "remaining_time": 179.2293363,
            "test": [
             1654.18783,
             0.9318310488
            ]
           },
           {
            "iteration": 1896,
            "learn": [
             1057.958272,
             0.9732909015
            ],
            "passed_time": 109.5361807,
            "remaining_time": 179.1727827,
            "test": [
             1654.169375,
             0.9318325699
            ]
           },
           {
            "iteration": 1897,
            "learn": [
             1057.888008,
             0.9732944491
            ],
            "passed_time": 109.5917563,
            "remaining_time": 179.1115006,
            "test": [
             1654.175636,
             0.9318320539
            ]
           },
           {
            "iteration": 1898,
            "learn": [
             1057.828535,
             0.9732974517
            ],
            "passed_time": 109.6430796,
            "remaining_time": 179.0432806,
            "test": [
             1654.189058,
             0.9318309477
            ]
           },
           {
            "iteration": 1899,
            "learn": [
             1057.746889,
             0.9733015735
            ],
            "passed_time": 109.7032506,
            "remaining_time": 178.9895141,
            "test": [
             1654.18631,
             0.9318311741
            ]
           },
           {
            "iteration": 1900,
            "learn": [
             1057.572743,
             0.973310364
            ],
            "passed_time": 109.7614552,
            "remaining_time": 178.9325354,
            "test": [
             1654.159696,
             0.9318333676
            ]
           },
           {
            "iteration": 1901,
            "learn": [
             1057.245788,
             0.9733268639
            ],
            "passed_time": 109.9121479,
            "remaining_time": 179.0262009,
            "test": [
             1654.099231,
             0.931838351
            ]
           },
           {
            "iteration": 1902,
            "learn": [
             1057.026341,
             0.9733379356
            ],
            "passed_time": 110.0031597,
            "remaining_time": 179.0224832,
            "test": [
             1654.013028,
             0.9318454552
            ]
           },
           {
            "iteration": 1903,
            "learn": [
             1056.747018,
             0.9733520248
            ],
            "passed_time": 110.0544599,
            "remaining_time": 178.9541008,
            "test": [
             1653.885085,
             0.9318559987
            ]
           },
           {
            "iteration": 1904,
            "learn": [
             1056.604266,
             0.9733592239
            ],
            "passed_time": 110.1040563,
            "remaining_time": 178.8829682,
            "test": [
             1653.908536,
             0.9318540662
            ]
           },
           {
            "iteration": 1905,
            "learn": [
             1056.552739,
             0.9733618222
            ],
            "passed_time": 110.1591071,
            "remaining_time": 178.8207121,
            "test": [
             1653.870249,
             0.9318572213
            ]
           },
           {
            "iteration": 1906,
            "learn": [
             1056.441482,
             0.973367432
            ],
            "passed_time": 110.2077045,
            "remaining_time": 178.7479969,
            "test": [
             1653.951718,
             0.9318505078
            ]
           },
           {
            "iteration": 1907,
            "learn": [
             1056.410776,
             0.9733689802
            ],
            "passed_time": 110.2605342,
            "remaining_time": 178.6821655,
            "test": [
             1653.928793,
             0.9318523969
            ]
           },
           {
            "iteration": 1908,
            "learn": [
             1056.339094,
             0.9733725941
            ],
            "passed_time": 110.3109535,
            "remaining_time": 178.6124449,
            "test": [
             1653.912051,
             0.9318537766
            ]
           },
           {
            "iteration": 1909,
            "learn": [
             1056.284883,
             0.973375327
            ],
            "passed_time": 110.3668699,
            "remaining_time": 178.5516377,
            "test": [
             1653.854914,
             0.931858485
            ]
           },
           {
            "iteration": 1910,
            "learn": [
             1056.275166,
             0.9733758169
            ],
            "passed_time": 110.4171635,
            "remaining_time": 178.4817467,
            "test": [
             1653.858223,
             0.9318582123
            ]
           },
           {
            "iteration": 1911,
            "learn": [
             1056.073627,
             0.9733859758
            ],
            "passed_time": 110.4733639,
            "remaining_time": 178.4214162,
            "test": [
             1653.902521,
             0.931854562
            ]
           },
           {
            "iteration": 1912,
            "learn": [
             1055.998178,
             0.9733897784
            ],
            "passed_time": 110.5268021,
            "remaining_time": 178.3566325,
            "test": [
             1653.841676,
             0.9318595758
            ]
           },
           {
            "iteration": 1913,
            "learn": [
             1055.793944,
             0.9734000705
            ],
            "passed_time": 110.5798891,
            "remaining_time": 178.2912945,
            "test": [
             1653.906916,
             0.9318541998
            ]
           },
           {
            "iteration": 1914,
            "learn": [
             1055.663377,
             0.9734066491
            ],
            "passed_time": 110.6226803,
            "remaining_time": 178.2093832,
            "test": [
             1653.937308,
             0.9318516953
            ]
           },
           {
            "iteration": 1915,
            "learn": [
             1055.487189,
             0.9734155251
            ],
            "passed_time": 110.6755212,
            "remaining_time": 178.1436887,
            "test": [
             1653.840337,
             0.9318596861
            ]
           },
           {
            "iteration": 1916,
            "learn": [
             1055.189631,
             0.9734305121
            ],
            "passed_time": 110.7307689,
            "remaining_time": 178.0818782,
            "test": [
             1653.831471,
             0.9318604167
            ]
           },
           {
            "iteration": 1917,
            "learn": [
             1055.154882,
             0.9734322621
            ],
            "passed_time": 110.780325,
            "remaining_time": 178.010929,
            "test": [
             1653.778084,
             0.9318648159
            ]
           },
           {
            "iteration": 1918,
            "learn": [
             1055.110521,
             0.973434496
            ],
            "passed_time": 110.835748,
            "remaining_time": 177.9494214,
            "test": [
             1653.800337,
             0.9318629823
            ]
           },
           {
            "iteration": 1919,
            "learn": [
             1055.088827,
             0.9734355883
            ],
            "passed_time": 110.881878,
            "remaining_time": 177.8730127,
            "test": [
             1653.761213,
             0.9318662061
            ]
           },
           {
            "iteration": 1920,
            "learn": [
             1054.776898,
             0.9734512932
            ],
            "passed_time": 111.0289948,
            "remaining_time": 177.9584981,
            "test": [
             1653.810534,
             0.931862142
            ]
           },
           {
            "iteration": 1921,
            "learn": [
             1054.42276,
             0.9734691175
            ],
            "passed_time": 111.1102003,
            "remaining_time": 177.9381877,
            "test": [
             1653.574732,
             0.9318815709
            ]
           },
           {
            "iteration": 1922,
            "learn": [
             1054.258489,
             0.9734773834
            ],
            "passed_time": 111.159745,
            "remaining_time": 177.8671531,
            "test": [
             1653.662194,
             0.9318743648
            ]
           },
           {
            "iteration": 1923,
            "learn": [
             1053.914481,
             0.9734946894
            ],
            "passed_time": 111.2222435,
            "remaining_time": 177.8168508,
            "test": [
             1653.527612,
             0.931885453
            ]
           },
           {
            "iteration": 1924,
            "learn": [
             1053.747699,
             0.9735030777
            ],
            "passed_time": 111.2722391,
            "remaining_time": 177.7465638,
            "test": [
             1653.440061,
             0.931892666
            ]
           },
           {
            "iteration": 1925,
            "learn": [
             1053.662552,
             0.9735073597
            ],
            "passed_time": 111.3365348,
            "remaining_time": 177.6991214,
            "test": [
             1653.454071,
             0.9318915117
            ]
           },
           {
            "iteration": 1926,
            "learn": [
             1053.301957,
             0.9735254897
            ],
            "passed_time": 111.3829519,
            "remaining_time": 177.6231506,
            "test": [
             1653.338754,
             0.9319010116
            ]
           },
           {
            "iteration": 1927,
            "learn": [
             1053.022796,
             0.9735395212
            ],
            "passed_time": 111.4379766,
            "remaining_time": 177.5609254,
            "test": [
             1653.346915,
             0.9319003393
            ]
           },
           {
            "iteration": 1928,
            "learn": [
             1052.725012,
             0.9735544845
            ],
            "passed_time": 111.4854963,
            "remaining_time": 177.4867595,
            "test": [
             1653.214375,
             0.9319112573
            ]
           },
           {
            "iteration": 1929,
            "learn": [
             1052.544162,
             0.97356357
            ],
            "passed_time": 111.5391783,
            "remaining_time": 177.4224236,
            "test": [
             1653.23871,
             0.9319092527
            ]
           },
           {
            "iteration": 1930,
            "learn": [
             1052.390191,
             0.9735713039
            ],
            "passed_time": 111.5952421,
            "remaining_time": 177.361884,
            "test": [
             1653.129115,
             0.9319182801
            ]
           },
           {
            "iteration": 1931,
            "learn": [
             1052.356735,
             0.9735729843
            ],
            "passed_time": 111.6476463,
            "remaining_time": 177.2955378,
            "test": [
             1653.173819,
             0.9319145979
            ]
           },
           {
            "iteration": 1932,
            "learn": [
             1052.274111,
             0.9735771339
            ],
            "passed_time": 111.6959877,
            "remaining_time": 177.2227596,
            "test": [
             1653.200589,
             0.9319123928
            ]
           },
           {
            "iteration": 1933,
            "learn": [
             1052.173259,
             0.9735821985
            ],
            "passed_time": 111.7434755,
            "remaining_time": 177.1486535,
            "test": [
             1653.175111,
             0.9319144914
            ]
           },
           {
            "iteration": 1934,
            "learn": [
             1052.104409,
             0.9735856557
            ],
            "passed_time": 111.7953798,
            "remaining_time": 177.0815706,
            "test": [
             1653.137822,
             0.9319175629
            ]
           },
           {
            "iteration": 1935,
            "learn": [
             1052.056659,
             0.9735880533
            ],
            "passed_time": 111.851378,
            "remaining_time": 177.0209826,
            "test": [
             1653.152336,
             0.9319163674
            ]
           },
           {
            "iteration": 1936,
            "learn": [
             1051.843823,
             0.9735987387
            ],
            "passed_time": 111.9014367,
            "remaining_time": 176.951007,
            "test": [
             1653.16908,
             0.9319149882
            ]
           },
           {
            "iteration": 1937,
            "learn": [
             1051.723406,
             0.9736047833
            ],
            "passed_time": 111.9588763,
            "remaining_time": 176.8927138,
            "test": [
             1653.222872,
             0.9319105574
            ]
           },
           {
            "iteration": 1938,
            "learn": [
             1051.609678,
             0.9736104915
            ],
            "passed_time": 112.0693265,
            "remaining_time": 176.9181065,
            "test": [
             1653.185978,
             0.9319135963
            ]
           }
          ],
          "meta": {
           "iteration_count": 5000,
           "launch_mode": "Train",
           "learn_metrics": [
            {
             "best_value": "Min",
             "name": "RMSE"
            },
            {
             "best_value": "Max",
             "name": "R2"
            }
           ],
           "learn_sets": [
            "learn"
           ],
           "name": "experiment",
           "parameters": "",
           "test_metrics": [
            {
             "best_value": "Min",
             "name": "RMSE"
            },
            {
             "best_value": "Max",
             "name": "R2"
            }
           ],
           "test_sets": [
            "test"
           ]
          }
         },
         "passed_iterations": 1938,
         "total_iterations": 5000
        },
        "name": "catboost_info",
        "path": "catboost_info"
       }
      },
      "layout": "IPY_MODEL_cd52d6b8b8dd4b79a23a44aada53f30d"
     }
    }
   }
  }
 },
 "nbformat": 4,
 "nbformat_minor": 4
}
